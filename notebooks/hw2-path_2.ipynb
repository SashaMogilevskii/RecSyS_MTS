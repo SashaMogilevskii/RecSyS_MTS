{
 "metadata": {
  "kernelspec": {
   "language": "python",
   "display_name": "Python 3",
   "name": "python3"
  },
  "language_info": {
   "name": "python",
   "version": "3.7.12",
   "mimetype": "text/x-python",
   "codemirror_mode": {
    "name": "ipython",
    "version": 3
   },
   "pygments_lexer": "ipython3",
   "nbconvert_exporter": "python",
   "file_extension": ".py"
  }
 },
 "nbformat_minor": 4,
 "nbformat": 4,
 "cells": [
  {
   "cell_type": "code",
   "source": "import sys\nimport warnings\n\nimport pandas as pd\nimport numpy as np\n\nwarnings.simplefilter(action='ignore', category=FutureWarning)\npd.options.mode.chained_assignment = None",
   "metadata": {
    "execution": {
     "iopub.status.busy": "2022-12-03T13:50:57.227112Z",
     "iopub.execute_input": "2022-12-03T13:50:57.229259Z",
     "iopub.status.idle": "2022-12-03T13:50:57.236249Z",
     "shell.execute_reply.started": "2022-12-03T13:50:57.229178Z",
     "shell.execute_reply": "2022-12-03T13:50:57.234867Z"
    },
    "trusted": true
   },
   "execution_count": 21,
   "outputs": []
  },
  {
   "cell_type": "code",
   "source": "# If the library is not installed - unlock the field (for download from google disk)\n!{sys.executable} -m pip install gdown",
   "metadata": {
    "collapsed": false,
    "jupyter": {
     "outputs_hidden": false
    },
    "execution": {
     "iopub.status.busy": "2022-12-03T13:50:57.238623Z",
     "iopub.execute_input": "2022-12-03T13:50:57.240307Z",
     "iopub.status.idle": "2022-12-03T13:51:10.592934Z",
     "shell.execute_reply.started": "2022-12-03T13:50:57.240194Z",
     "shell.execute_reply": "2022-12-03T13:51:10.591483Z"
    },
    "trusted": true
   },
   "execution_count": 22,
   "outputs": [
    {
     "name": "stdout",
     "text": "Requirement already satisfied: gdown in /opt/conda/lib/python3.7/site-packages (4.5.4)\nRequirement already satisfied: tqdm in /opt/conda/lib/python3.7/site-packages (from gdown) (4.64.0)\nRequirement already satisfied: six in /opt/conda/lib/python3.7/site-packages (from gdown) (1.15.0)\nRequirement already satisfied: filelock in /opt/conda/lib/python3.7/site-packages (from gdown) (3.7.1)\nRequirement already satisfied: requests[socks] in /opt/conda/lib/python3.7/site-packages (from gdown) (2.28.1)\nRequirement already satisfied: beautifulsoup4 in /opt/conda/lib/python3.7/site-packages (from gdown) (4.11.1)\nRequirement already satisfied: soupsieve>1.2 in /opt/conda/lib/python3.7/site-packages (from beautifulsoup4->gdown) (2.3.1)\nRequirement already satisfied: charset-normalizer<3,>=2 in /opt/conda/lib/python3.7/site-packages (from requests[socks]->gdown) (2.1.0)\nRequirement already satisfied: urllib3<1.27,>=1.21.1 in /opt/conda/lib/python3.7/site-packages (from requests[socks]->gdown) (1.26.12)\nRequirement already satisfied: idna<4,>=2.5 in /opt/conda/lib/python3.7/site-packages (from requests[socks]->gdown) (3.3)\nRequirement already satisfied: certifi>=2017.4.17 in /opt/conda/lib/python3.7/site-packages (from requests[socks]->gdown) (2022.9.24)\nRequirement already satisfied: PySocks!=1.5.7,>=1.5.6 in /opt/conda/lib/python3.7/site-packages (from requests[socks]->gdown) (1.7.1)\n\u001B[33mWARNING: Running pip as the 'root' user can result in broken permissions and conflicting behaviour with the system package manager. It is recommended to use a virtual environment instead: https://pip.pypa.io/warnings/venv\u001B[0m\u001B[33m\n\u001B[0m",
     "output_type": "stream"
    }
   ]
  },
  {
   "cell_type": "code",
   "source": "# Download lides_data.zip\n!gdown --id 18tjWtz1dDj0tW7o1NUNmDeyiLyGYQOtt",
   "metadata": {
    "collapsed": false,
    "jupyter": {
     "outputs_hidden": false
    },
    "execution": {
     "iopub.status.busy": "2022-12-03T13:51:10.595527Z",
     "iopub.execute_input": "2022-12-03T13:51:10.596060Z",
     "iopub.status.idle": "2022-12-03T13:51:14.792383Z",
     "shell.execute_reply.started": "2022-12-03T13:51:10.596007Z",
     "shell.execute_reply": "2022-12-03T13:51:14.790426Z"
    },
    "trusted": true
   },
   "execution_count": 23,
   "outputs": [
    {
     "name": "stdout",
     "text": "/opt/conda/lib/python3.7/site-packages/gdown/cli.py:125: FutureWarning: Option `--id` was deprecated in version 4.3.1 and will be removed in 5.0. You don't need to pass it anymore to use a file ID.\n  category=FutureWarning,\nDownloading...\nFrom: https://drive.google.com/uc?id=18tjWtz1dDj0tW7o1NUNmDeyiLyGYQOtt\nTo: /kaggle/working/hidden_task.zip\n100%|██████████████████████████████████████| 35.6k/35.6k [00:00<00:00, 31.0MB/s]\n",
     "output_type": "stream"
    }
   ]
  },
  {
   "cell_type": "code",
   "source": "!unzip hidden_task.zip",
   "metadata": {
    "collapsed": false,
    "jupyter": {
     "outputs_hidden": false
    },
    "execution": {
     "iopub.status.busy": "2022-12-03T13:51:14.795458Z",
     "iopub.execute_input": "2022-12-03T13:51:14.797193Z",
     "iopub.status.idle": "2022-12-03T13:51:16.098326Z",
     "shell.execute_reply.started": "2022-12-03T13:51:14.797114Z",
     "shell.execute_reply": "2022-12-03T13:51:16.096925Z"
    },
    "trusted": true
   },
   "execution_count": 24,
   "outputs": [
    {
     "name": "stdout",
     "text": "Archive:  hidden_task.zip\n  inflating: hostid_url.tsv          \n  inflating: qid_query.tsv           \n  inflating: qid_url_rating.tsv      \n",
     "output_type": "stream"
    }
   ]
  },
  {
   "cell_type": "markdown",
   "source": "# PFound\n",
   "metadata": {}
  },
  {
   "cell_type": "markdown",
   "source": "### 1.Стандартное решение от Yandex",
   "metadata": {}
  },
  {
   "cell_type": "markdown",
   "source": "Исходные данные - Yandex Cup 2022 Analytics\nЗадача - написать функцию, которая принимает на вход dataframe (после join), а на выходе дает средний pFound по всем query.\nЗапрещается использовать циклы for для расчет метрики (как полностью, так и ее частей).\nУсложнение, если задача показалась легкой - попробуйте обойтись без groupby (не уверен, что это возможно, но вдруг вы справитесь)",
   "metadata": {}
  },
  {
   "cell_type": "code",
   "source": "# считываем данные\nqid_query = pd.read_csv(\"qid_query.tsv\", sep=\"\\t\", names=[\"qid\", \"query\"])\nqid_url_rating = pd.read_csv(\"qid_url_rating.tsv\", sep=\"\\t\", names=[\"qid\", \"url\", \"rating\"])\nhostid_url = pd.read_csv(\"hostid_url.tsv\", sep=\"\\t\", names=[\"hostid\", \"url\"])\n\n# делаем join двух таблиц, чтобы было просто брать url с максимальным рейтингом\nqid_url_rating_hostid = pd.merge(qid_url_rating, hostid_url, on=\"url\")",
   "metadata": {
    "execution": {
     "iopub.status.busy": "2022-12-03T13:51:16.102222Z",
     "iopub.execute_input": "2022-12-03T13:51:16.102741Z",
     "iopub.status.idle": "2022-12-03T13:51:16.139741Z",
     "shell.execute_reply.started": "2022-12-03T13:51:16.102695Z",
     "shell.execute_reply": "2022-12-03T13:51:16.138680Z"
    },
    "trusted": true
   },
   "execution_count": 25,
   "outputs": []
  },
  {
   "cell_type": "code",
   "source": "qid_url_rating_hostid.head()",
   "metadata": {
    "execution": {
     "iopub.status.busy": "2022-12-03T13:51:16.141273Z",
     "iopub.execute_input": "2022-12-03T13:51:16.141819Z",
     "iopub.status.idle": "2022-12-03T13:51:16.156902Z",
     "shell.execute_reply.started": "2022-12-03T13:51:16.141786Z",
     "shell.execute_reply": "2022-12-03T13:51:16.155537Z"
    },
    "trusted": true
   },
   "execution_count": 26,
   "outputs": [
    {
     "execution_count": 26,
     "output_type": "execute_result",
     "data": {
      "text/plain": "      qid                                                url  rating  hostid\n0  402111  http://24-job.com/board/job_australia/232-1-2-...    0.07       7\n1  402111  http://24-job.com/board/job_australia/232-1-2-...    0.07       7\n2  402111           http://802351.info/5964-v-avstralii.html    0.00      13\n3  402111                 http://auscommunity.com/blog/jobs/    0.00      53\n4  402111  http://auscommunity.com/tag/%D1%84%D0%BE%D1%82...    0.00      53",
      "text/html": "<div>\n<style scoped>\n    .dataframe tbody tr th:only-of-type {\n        vertical-align: middle;\n    }\n\n    .dataframe tbody tr th {\n        vertical-align: top;\n    }\n\n    .dataframe thead th {\n        text-align: right;\n    }\n</style>\n<table border=\"1\" class=\"dataframe\">\n  <thead>\n    <tr style=\"text-align: right;\">\n      <th></th>\n      <th>qid</th>\n      <th>url</th>\n      <th>rating</th>\n      <th>hostid</th>\n    </tr>\n  </thead>\n  <tbody>\n    <tr>\n      <th>0</th>\n      <td>402111</td>\n      <td>http://24-job.com/board/job_australia/232-1-2-...</td>\n      <td>0.07</td>\n      <td>7</td>\n    </tr>\n    <tr>\n      <th>1</th>\n      <td>402111</td>\n      <td>http://24-job.com/board/job_australia/232-1-2-...</td>\n      <td>0.07</td>\n      <td>7</td>\n    </tr>\n    <tr>\n      <th>2</th>\n      <td>402111</td>\n      <td>http://802351.info/5964-v-avstralii.html</td>\n      <td>0.00</td>\n      <td>13</td>\n    </tr>\n    <tr>\n      <th>3</th>\n      <td>402111</td>\n      <td>http://auscommunity.com/blog/jobs/</td>\n      <td>0.00</td>\n      <td>53</td>\n    </tr>\n    <tr>\n      <th>4</th>\n      <td>402111</td>\n      <td>http://auscommunity.com/tag/%D1%84%D0%BE%D1%82...</td>\n      <td>0.00</td>\n      <td>53</td>\n    </tr>\n  </tbody>\n</table>\n</div>"
     },
     "metadata": {}
    }
   ]
  },
  {
   "cell_type": "code",
   "source": "def plook(ind, rels):\n    if ind == 0:\n        return 1\n    return plook(ind-1, rels)*(1-rels[ind-1])*(1-0.15)\n\n\ndef pfound(group):\n    max_by_host = group.groupby(\"hostid\")[\"rating\"].max() # максимальный рейтинг хоста\n    top10 = max_by_host.sort_values(ascending=False)[:10] # берем топ10 урлов с наивысшим рейтингом\n    pfound = 0\n    for ind, val in enumerate(top10):\n        pfound += val*plook(ind, top10.values)\n    return pfound",
   "metadata": {
    "execution": {
     "iopub.status.busy": "2022-12-03T13:51:16.162010Z",
     "iopub.execute_input": "2022-12-03T13:51:16.162515Z",
     "iopub.status.idle": "2022-12-03T13:51:16.172173Z",
     "shell.execute_reply.started": "2022-12-03T13:51:16.162477Z",
     "shell.execute_reply": "2022-12-03T13:51:16.170462Z"
    },
    "trusted": true
   },
   "execution_count": 27,
   "outputs": []
  },
  {
   "cell_type": "code",
   "source": "%%time\nqid_pfound = qid_url_rating_hostid.groupby('qid').apply(pfound)\n\n# группируем по qid и вычисляем pfound\n\npfound_mean = qid_pfound.mean()\nprint(f'Mean_Pfound (Yandex Solutinon): {pfound_mean}')\n\n",
   "metadata": {
    "execution": {
     "iopub.status.busy": "2022-12-03T13:51:16.174357Z",
     "iopub.execute_input": "2022-12-03T13:51:16.176099Z",
     "iopub.status.idle": "2022-12-03T13:51:16.231402Z",
     "shell.execute_reply.started": "2022-12-03T13:51:16.176037Z",
     "shell.execute_reply": "2022-12-03T13:51:16.229724Z"
    },
    "trusted": true
   },
   "execution_count": 28,
   "outputs": [
    {
     "name": "stdout",
     "text": "Mean_Pfound (Yandex Solutinon): 0.5822199638393889\nCPU times: user 23.6 ms, sys: 3.94 ms, total: 27.5 ms\nWall time: 33.8 ms\n",
     "output_type": "stream"
    }
   ]
  },
  {
   "cell_type": "markdown",
   "source": "### 2. Решение без цикла for\n",
   "metadata": {}
  },
  {
   "cell_type": "code",
   "source": "#Посмотрим наши данные\ndf = qid_url_rating_hostid[['qid', 'hostid', 'rating']]\ndf.head()",
   "metadata": {
    "execution": {
     "iopub.status.busy": "2022-12-03T13:51:16.233373Z",
     "iopub.execute_input": "2022-12-03T13:51:16.233738Z",
     "iopub.status.idle": "2022-12-03T13:51:16.250187Z",
     "shell.execute_reply.started": "2022-12-03T13:51:16.233706Z",
     "shell.execute_reply": "2022-12-03T13:51:16.248698Z"
    },
    "trusted": true
   },
   "execution_count": 29,
   "outputs": [
    {
     "execution_count": 29,
     "output_type": "execute_result",
     "data": {
      "text/plain": "      qid  hostid  rating\n0  402111       7    0.07\n1  402111       7    0.07\n2  402111      13    0.00\n3  402111      53    0.00\n4  402111      53    0.00",
      "text/html": "<div>\n<style scoped>\n    .dataframe tbody tr th:only-of-type {\n        vertical-align: middle;\n    }\n\n    .dataframe tbody tr th {\n        vertical-align: top;\n    }\n\n    .dataframe thead th {\n        text-align: right;\n    }\n</style>\n<table border=\"1\" class=\"dataframe\">\n  <thead>\n    <tr style=\"text-align: right;\">\n      <th></th>\n      <th>qid</th>\n      <th>hostid</th>\n      <th>rating</th>\n    </tr>\n  </thead>\n  <tbody>\n    <tr>\n      <th>0</th>\n      <td>402111</td>\n      <td>7</td>\n      <td>0.07</td>\n    </tr>\n    <tr>\n      <th>1</th>\n      <td>402111</td>\n      <td>7</td>\n      <td>0.07</td>\n    </tr>\n    <tr>\n      <th>2</th>\n      <td>402111</td>\n      <td>13</td>\n      <td>0.00</td>\n    </tr>\n    <tr>\n      <th>3</th>\n      <td>402111</td>\n      <td>53</td>\n      <td>0.00</td>\n    </tr>\n    <tr>\n      <th>4</th>\n      <td>402111</td>\n      <td>53</td>\n      <td>0.00</td>\n    </tr>\n  </tbody>\n</table>\n</div>"
     },
     "metadata": {}
    }
   ]
  },
  {
   "cell_type": "markdown",
   "source": "Получается, у нас есть юзер, и есть его запросы. нам нужны только 10 записей по пользователю которые были с максимальными рейтингами.\nВсе последующие записи можно не использовать.",
   "metadata": {}
  },
  {
   "cell_type": "code",
   "source": "df_sort = df.sort_values(by=['qid', 'rating'], ascending=False)",
   "metadata": {
    "execution": {
     "iopub.status.busy": "2022-12-03T13:51:16.252017Z",
     "iopub.execute_input": "2022-12-03T13:51:16.252392Z",
     "iopub.status.idle": "2022-12-03T13:51:16.269450Z",
     "shell.execute_reply.started": "2022-12-03T13:51:16.252360Z",
     "shell.execute_reply": "2022-12-03T13:51:16.267698Z"
    },
    "trusted": true
   },
   "execution_count": 30,
   "outputs": []
  },
  {
   "cell_type": "code",
   "source": "df_top10 = df_sort.groupby(['qid']).head(10)",
   "metadata": {
    "execution": {
     "iopub.status.busy": "2022-12-03T13:51:16.271063Z",
     "iopub.execute_input": "2022-12-03T13:51:16.271522Z",
     "iopub.status.idle": "2022-12-03T13:51:16.280915Z",
     "shell.execute_reply.started": "2022-12-03T13:51:16.271488Z",
     "shell.execute_reply": "2022-12-03T13:51:16.279175Z"
    },
    "trusted": true
   },
   "execution_count": 31,
   "outputs": []
  },
  {
   "cell_type": "code",
   "source": "df_top10.head(15)",
   "metadata": {
    "execution": {
     "iopub.status.busy": "2022-12-03T13:51:16.283029Z",
     "iopub.execute_input": "2022-12-03T13:51:16.283615Z",
     "iopub.status.idle": "2022-12-03T13:51:16.303477Z",
     "shell.execute_reply.started": "2022-12-03T13:51:16.283551Z",
     "shell.execute_reply": "2022-12-03T13:51:16.301622Z"
    },
    "trusted": true
   },
   "execution_count": 32,
   "outputs": [
    {
     "execution_count": 32,
     "output_type": "execute_result",
     "data": {
      "text/plain": "        qid  hostid  rating\n561  692308    1035    0.61\n549  692308     551    0.41\n569  692308    1155    0.41\n537  692308      33    0.14\n538  692308      70    0.14\n541  692308     259    0.14\n542  692308     259    0.14\n547  692308     392    0.14\n548  692308     393    0.14\n552  692308     617    0.14\n527  692059     906    0.41\n511  692059      16    0.14\n513  692059     121    0.14\n515  692059     150    0.14\n517  692059     322    0.14",
      "text/html": "<div>\n<style scoped>\n    .dataframe tbody tr th:only-of-type {\n        vertical-align: middle;\n    }\n\n    .dataframe tbody tr th {\n        vertical-align: top;\n    }\n\n    .dataframe thead th {\n        text-align: right;\n    }\n</style>\n<table border=\"1\" class=\"dataframe\">\n  <thead>\n    <tr style=\"text-align: right;\">\n      <th></th>\n      <th>qid</th>\n      <th>hostid</th>\n      <th>rating</th>\n    </tr>\n  </thead>\n  <tbody>\n    <tr>\n      <th>561</th>\n      <td>692308</td>\n      <td>1035</td>\n      <td>0.61</td>\n    </tr>\n    <tr>\n      <th>549</th>\n      <td>692308</td>\n      <td>551</td>\n      <td>0.41</td>\n    </tr>\n    <tr>\n      <th>569</th>\n      <td>692308</td>\n      <td>1155</td>\n      <td>0.41</td>\n    </tr>\n    <tr>\n      <th>537</th>\n      <td>692308</td>\n      <td>33</td>\n      <td>0.14</td>\n    </tr>\n    <tr>\n      <th>538</th>\n      <td>692308</td>\n      <td>70</td>\n      <td>0.14</td>\n    </tr>\n    <tr>\n      <th>541</th>\n      <td>692308</td>\n      <td>259</td>\n      <td>0.14</td>\n    </tr>\n    <tr>\n      <th>542</th>\n      <td>692308</td>\n      <td>259</td>\n      <td>0.14</td>\n    </tr>\n    <tr>\n      <th>547</th>\n      <td>692308</td>\n      <td>392</td>\n      <td>0.14</td>\n    </tr>\n    <tr>\n      <th>548</th>\n      <td>692308</td>\n      <td>393</td>\n      <td>0.14</td>\n    </tr>\n    <tr>\n      <th>552</th>\n      <td>692308</td>\n      <td>617</td>\n      <td>0.14</td>\n    </tr>\n    <tr>\n      <th>527</th>\n      <td>692059</td>\n      <td>906</td>\n      <td>0.41</td>\n    </tr>\n    <tr>\n      <th>511</th>\n      <td>692059</td>\n      <td>16</td>\n      <td>0.14</td>\n    </tr>\n    <tr>\n      <th>513</th>\n      <td>692059</td>\n      <td>121</td>\n      <td>0.14</td>\n    </tr>\n    <tr>\n      <th>515</th>\n      <td>692059</td>\n      <td>150</td>\n      <td>0.14</td>\n    </tr>\n    <tr>\n      <th>517</th>\n      <td>692059</td>\n      <td>322</td>\n      <td>0.14</td>\n    </tr>\n  </tbody>\n</table>\n</div>"
     },
     "metadata": {}
    }
   ]
  },
  {
   "cell_type": "code",
   "source": "# Создаем ранг внутри юзера\ndf_top10['rank'] = df_top10.groupby(['qid']).cumcount()",
   "metadata": {
    "execution": {
     "iopub.status.busy": "2022-12-03T13:51:16.304823Z",
     "iopub.execute_input": "2022-12-03T13:51:16.305398Z",
     "iopub.status.idle": "2022-12-03T13:51:16.318218Z",
     "shell.execute_reply.started": "2022-12-03T13:51:16.305351Z",
     "shell.execute_reply": "2022-12-03T13:51:16.316986Z"
    },
    "trusted": true
   },
   "execution_count": 33,
   "outputs": []
  },
  {
   "cell_type": "code",
   "source": "df_top10.head(15)",
   "metadata": {
    "execution": {
     "iopub.status.busy": "2022-12-03T13:51:16.324148Z",
     "iopub.execute_input": "2022-12-03T13:51:16.324562Z",
     "iopub.status.idle": "2022-12-03T13:51:16.341051Z",
     "shell.execute_reply.started": "2022-12-03T13:51:16.324530Z",
     "shell.execute_reply": "2022-12-03T13:51:16.339601Z"
    },
    "trusted": true
   },
   "execution_count": 34,
   "outputs": [
    {
     "execution_count": 34,
     "output_type": "execute_result",
     "data": {
      "text/plain": "        qid  hostid  rating  rank\n561  692308    1035    0.61     0\n549  692308     551    0.41     1\n569  692308    1155    0.41     2\n537  692308      33    0.14     3\n538  692308      70    0.14     4\n541  692308     259    0.14     5\n542  692308     259    0.14     6\n547  692308     392    0.14     7\n548  692308     393    0.14     8\n552  692308     617    0.14     9\n527  692059     906    0.41     0\n511  692059      16    0.14     1\n513  692059     121    0.14     2\n515  692059     150    0.14     3\n517  692059     322    0.14     4",
      "text/html": "<div>\n<style scoped>\n    .dataframe tbody tr th:only-of-type {\n        vertical-align: middle;\n    }\n\n    .dataframe tbody tr th {\n        vertical-align: top;\n    }\n\n    .dataframe thead th {\n        text-align: right;\n    }\n</style>\n<table border=\"1\" class=\"dataframe\">\n  <thead>\n    <tr style=\"text-align: right;\">\n      <th></th>\n      <th>qid</th>\n      <th>hostid</th>\n      <th>rating</th>\n      <th>rank</th>\n    </tr>\n  </thead>\n  <tbody>\n    <tr>\n      <th>561</th>\n      <td>692308</td>\n      <td>1035</td>\n      <td>0.61</td>\n      <td>0</td>\n    </tr>\n    <tr>\n      <th>549</th>\n      <td>692308</td>\n      <td>551</td>\n      <td>0.41</td>\n      <td>1</td>\n    </tr>\n    <tr>\n      <th>569</th>\n      <td>692308</td>\n      <td>1155</td>\n      <td>0.41</td>\n      <td>2</td>\n    </tr>\n    <tr>\n      <th>537</th>\n      <td>692308</td>\n      <td>33</td>\n      <td>0.14</td>\n      <td>3</td>\n    </tr>\n    <tr>\n      <th>538</th>\n      <td>692308</td>\n      <td>70</td>\n      <td>0.14</td>\n      <td>4</td>\n    </tr>\n    <tr>\n      <th>541</th>\n      <td>692308</td>\n      <td>259</td>\n      <td>0.14</td>\n      <td>5</td>\n    </tr>\n    <tr>\n      <th>542</th>\n      <td>692308</td>\n      <td>259</td>\n      <td>0.14</td>\n      <td>6</td>\n    </tr>\n    <tr>\n      <th>547</th>\n      <td>692308</td>\n      <td>392</td>\n      <td>0.14</td>\n      <td>7</td>\n    </tr>\n    <tr>\n      <th>548</th>\n      <td>692308</td>\n      <td>393</td>\n      <td>0.14</td>\n      <td>8</td>\n    </tr>\n    <tr>\n      <th>552</th>\n      <td>692308</td>\n      <td>617</td>\n      <td>0.14</td>\n      <td>9</td>\n    </tr>\n    <tr>\n      <th>527</th>\n      <td>692059</td>\n      <td>906</td>\n      <td>0.41</td>\n      <td>0</td>\n    </tr>\n    <tr>\n      <th>511</th>\n      <td>692059</td>\n      <td>16</td>\n      <td>0.14</td>\n      <td>1</td>\n    </tr>\n    <tr>\n      <th>513</th>\n      <td>692059</td>\n      <td>121</td>\n      <td>0.14</td>\n      <td>2</td>\n    </tr>\n    <tr>\n      <th>515</th>\n      <td>692059</td>\n      <td>150</td>\n      <td>0.14</td>\n      <td>3</td>\n    </tr>\n    <tr>\n      <th>517</th>\n      <td>692059</td>\n      <td>322</td>\n      <td>0.14</td>\n      <td>4</td>\n    </tr>\n  </tbody>\n</table>\n</div>"
     },
     "metadata": {}
    }
   ]
  },
  {
   "cell_type": "markdown",
   "source": "Создадим коэффициенты pBreak, 1 - rels[ ind - 1 ]\nКоэфф pBreak зависит от позиции в рейтинге для User, для первого итема 1,для всех остальных - 0.85\nКоэфф 1 - rels[ ind - 1 ] зависит от рейтинга, который был у товара",
   "metadata": {}
  },
  {
   "cell_type": "code",
   "source": "df_top10['pBreak'] = np.where(df_top10['rank'] == 0, 1, 0.85)",
   "metadata": {
    "execution": {
     "iopub.status.busy": "2022-12-03T13:51:16.343379Z",
     "iopub.execute_input": "2022-12-03T13:51:16.344003Z",
     "iopub.status.idle": "2022-12-03T13:51:16.353771Z",
     "shell.execute_reply.started": "2022-12-03T13:51:16.343962Z",
     "shell.execute_reply": "2022-12-03T13:51:16.352217Z"
    },
    "trusted": true
   },
   "execution_count": 35,
   "outputs": []
  },
  {
   "cell_type": "code",
   "source": "df_top10.head()",
   "metadata": {
    "execution": {
     "iopub.status.busy": "2022-12-03T13:51:16.356197Z",
     "iopub.execute_input": "2022-12-03T13:51:16.356770Z",
     "iopub.status.idle": "2022-12-03T13:51:16.374441Z",
     "shell.execute_reply.started": "2022-12-03T13:51:16.356728Z",
     "shell.execute_reply": "2022-12-03T13:51:16.372722Z"
    },
    "trusted": true
   },
   "execution_count": 36,
   "outputs": [
    {
     "execution_count": 36,
     "output_type": "execute_result",
     "data": {
      "text/plain": "        qid  hostid  rating  rank  pBreak\n561  692308    1035    0.61     0    1.00\n549  692308     551    0.41     1    0.85\n569  692308    1155    0.41     2    0.85\n537  692308      33    0.14     3    0.85\n538  692308      70    0.14     4    0.85",
      "text/html": "<div>\n<style scoped>\n    .dataframe tbody tr th:only-of-type {\n        vertical-align: middle;\n    }\n\n    .dataframe tbody tr th {\n        vertical-align: top;\n    }\n\n    .dataframe thead th {\n        text-align: right;\n    }\n</style>\n<table border=\"1\" class=\"dataframe\">\n  <thead>\n    <tr style=\"text-align: right;\">\n      <th></th>\n      <th>qid</th>\n      <th>hostid</th>\n      <th>rating</th>\n      <th>rank</th>\n      <th>pBreak</th>\n    </tr>\n  </thead>\n  <tbody>\n    <tr>\n      <th>561</th>\n      <td>692308</td>\n      <td>1035</td>\n      <td>0.61</td>\n      <td>0</td>\n      <td>1.00</td>\n    </tr>\n    <tr>\n      <th>549</th>\n      <td>692308</td>\n      <td>551</td>\n      <td>0.41</td>\n      <td>1</td>\n      <td>0.85</td>\n    </tr>\n    <tr>\n      <th>569</th>\n      <td>692308</td>\n      <td>1155</td>\n      <td>0.41</td>\n      <td>2</td>\n      <td>0.85</td>\n    </tr>\n    <tr>\n      <th>537</th>\n      <td>692308</td>\n      <td>33</td>\n      <td>0.14</td>\n      <td>3</td>\n      <td>0.85</td>\n    </tr>\n    <tr>\n      <th>538</th>\n      <td>692308</td>\n      <td>70</td>\n      <td>0.14</td>\n      <td>4</td>\n      <td>0.85</td>\n    </tr>\n  </tbody>\n</table>\n</div>"
     },
     "metadata": {}
    }
   ]
  },
  {
   "cell_type": "code",
   "source": "df_top10['1_pred_rating'] = (1 - df_top10['rating']).shift(1)\ndf_top10['1_pred_rating'] = df_top10['1_pred_rating'].fillna(1)",
   "metadata": {
    "execution": {
     "iopub.status.busy": "2022-12-03T13:51:16.376753Z",
     "iopub.execute_input": "2022-12-03T13:51:16.377213Z",
     "iopub.status.idle": "2022-12-03T13:51:16.392078Z",
     "shell.execute_reply.started": "2022-12-03T13:51:16.377173Z",
     "shell.execute_reply": "2022-12-03T13:51:16.390327Z"
    },
    "trusted": true
   },
   "execution_count": 37,
   "outputs": []
  },
  {
   "cell_type": "code",
   "source": "df_top10.head()",
   "metadata": {
    "execution": {
     "iopub.status.busy": "2022-12-03T13:51:16.394302Z",
     "iopub.execute_input": "2022-12-03T13:51:16.394990Z",
     "iopub.status.idle": "2022-12-03T13:51:16.413670Z",
     "shell.execute_reply.started": "2022-12-03T13:51:16.394945Z",
     "shell.execute_reply": "2022-12-03T13:51:16.411760Z"
    },
    "trusted": true
   },
   "execution_count": 38,
   "outputs": [
    {
     "execution_count": 38,
     "output_type": "execute_result",
     "data": {
      "text/plain": "        qid  hostid  rating  rank  pBreak  1_pred_rating\n561  692308    1035    0.61     0    1.00           1.00\n549  692308     551    0.41     1    0.85           0.39\n569  692308    1155    0.41     2    0.85           0.59\n537  692308      33    0.14     3    0.85           0.59\n538  692308      70    0.14     4    0.85           0.86",
      "text/html": "<div>\n<style scoped>\n    .dataframe tbody tr th:only-of-type {\n        vertical-align: middle;\n    }\n\n    .dataframe tbody tr th {\n        vertical-align: top;\n    }\n\n    .dataframe thead th {\n        text-align: right;\n    }\n</style>\n<table border=\"1\" class=\"dataframe\">\n  <thead>\n    <tr style=\"text-align: right;\">\n      <th></th>\n      <th>qid</th>\n      <th>hostid</th>\n      <th>rating</th>\n      <th>rank</th>\n      <th>pBreak</th>\n      <th>1_pred_rating</th>\n    </tr>\n  </thead>\n  <tbody>\n    <tr>\n      <th>561</th>\n      <td>692308</td>\n      <td>1035</td>\n      <td>0.61</td>\n      <td>0</td>\n      <td>1.00</td>\n      <td>1.00</td>\n    </tr>\n    <tr>\n      <th>549</th>\n      <td>692308</td>\n      <td>551</td>\n      <td>0.41</td>\n      <td>1</td>\n      <td>0.85</td>\n      <td>0.39</td>\n    </tr>\n    <tr>\n      <th>569</th>\n      <td>692308</td>\n      <td>1155</td>\n      <td>0.41</td>\n      <td>2</td>\n      <td>0.85</td>\n      <td>0.59</td>\n    </tr>\n    <tr>\n      <th>537</th>\n      <td>692308</td>\n      <td>33</td>\n      <td>0.14</td>\n      <td>3</td>\n      <td>0.85</td>\n      <td>0.59</td>\n    </tr>\n    <tr>\n      <th>538</th>\n      <td>692308</td>\n      <td>70</td>\n      <td>0.14</td>\n      <td>4</td>\n      <td>0.85</td>\n      <td>0.86</td>\n    </tr>\n  </tbody>\n</table>\n</div>"
     },
     "metadata": {}
    }
   ]
  },
  {
   "cell_type": "markdown",
   "source": "Создадим фичу, в которой будет храниться произведение pBreak и 1_pred_rating\nДальше мы их перемножаем на все предыдущие значения для определенного юзера",
   "metadata": {}
  },
  {
   "cell_type": "code",
   "source": "df_top10['pBreak * 1_pred_rating'] = df_top10['pBreak'] * df_top10['1_pred_rating']",
   "metadata": {
    "execution": {
     "iopub.status.busy": "2022-12-03T13:51:16.414884Z",
     "iopub.execute_input": "2022-12-03T13:51:16.415354Z",
     "iopub.status.idle": "2022-12-03T13:51:16.422079Z",
     "shell.execute_reply.started": "2022-12-03T13:51:16.415306Z",
     "shell.execute_reply": "2022-12-03T13:51:16.421178Z"
    },
    "trusted": true
   },
   "execution_count": 39,
   "outputs": []
  },
  {
   "cell_type": "code",
   "source": "df_top10.head()",
   "metadata": {
    "execution": {
     "iopub.status.busy": "2022-12-03T13:51:16.423399Z",
     "iopub.execute_input": "2022-12-03T13:51:16.423974Z",
     "iopub.status.idle": "2022-12-03T13:51:16.448688Z",
     "shell.execute_reply.started": "2022-12-03T13:51:16.423941Z",
     "shell.execute_reply": "2022-12-03T13:51:16.447717Z"
    },
    "trusted": true
   },
   "execution_count": 40,
   "outputs": [
    {
     "execution_count": 40,
     "output_type": "execute_result",
     "data": {
      "text/plain": "        qid  hostid  rating  rank  pBreak  1_pred_rating  \\\n561  692308    1035    0.61     0    1.00           1.00   \n549  692308     551    0.41     1    0.85           0.39   \n569  692308    1155    0.41     2    0.85           0.59   \n537  692308      33    0.14     3    0.85           0.59   \n538  692308      70    0.14     4    0.85           0.86   \n\n     pBreak * 1_pred_rating  \n561                  1.0000  \n549                  0.3315  \n569                  0.5015  \n537                  0.5015  \n538                  0.7310  ",
      "text/html": "<div>\n<style scoped>\n    .dataframe tbody tr th:only-of-type {\n        vertical-align: middle;\n    }\n\n    .dataframe tbody tr th {\n        vertical-align: top;\n    }\n\n    .dataframe thead th {\n        text-align: right;\n    }\n</style>\n<table border=\"1\" class=\"dataframe\">\n  <thead>\n    <tr style=\"text-align: right;\">\n      <th></th>\n      <th>qid</th>\n      <th>hostid</th>\n      <th>rating</th>\n      <th>rank</th>\n      <th>pBreak</th>\n      <th>1_pred_rating</th>\n      <th>pBreak * 1_pred_rating</th>\n    </tr>\n  </thead>\n  <tbody>\n    <tr>\n      <th>561</th>\n      <td>692308</td>\n      <td>1035</td>\n      <td>0.61</td>\n      <td>0</td>\n      <td>1.00</td>\n      <td>1.00</td>\n      <td>1.0000</td>\n    </tr>\n    <tr>\n      <th>549</th>\n      <td>692308</td>\n      <td>551</td>\n      <td>0.41</td>\n      <td>1</td>\n      <td>0.85</td>\n      <td>0.39</td>\n      <td>0.3315</td>\n    </tr>\n    <tr>\n      <th>569</th>\n      <td>692308</td>\n      <td>1155</td>\n      <td>0.41</td>\n      <td>2</td>\n      <td>0.85</td>\n      <td>0.59</td>\n      <td>0.5015</td>\n    </tr>\n    <tr>\n      <th>537</th>\n      <td>692308</td>\n      <td>33</td>\n      <td>0.14</td>\n      <td>3</td>\n      <td>0.85</td>\n      <td>0.59</td>\n      <td>0.5015</td>\n    </tr>\n    <tr>\n      <th>538</th>\n      <td>692308</td>\n      <td>70</td>\n      <td>0.14</td>\n      <td>4</td>\n      <td>0.85</td>\n      <td>0.86</td>\n      <td>0.7310</td>\n    </tr>\n  </tbody>\n</table>\n</div>"
     },
     "metadata": {}
    }
   ]
  },
  {
   "cell_type": "code",
   "source": "# Cоздадим часть переменной Plook\ndf_top10['Plook'] = df_top10.groupby('qid')['pBreak * 1_pred_rating'].cumprod()",
   "metadata": {
    "execution": {
     "iopub.status.busy": "2022-12-03T13:51:16.449701Z",
     "iopub.execute_input": "2022-12-03T13:51:16.450039Z",
     "iopub.status.idle": "2022-12-03T13:51:16.457074Z",
     "shell.execute_reply.started": "2022-12-03T13:51:16.450008Z",
     "shell.execute_reply": "2022-12-03T13:51:16.456189Z"
    },
    "trusted": true
   },
   "execution_count": 41,
   "outputs": []
  },
  {
   "cell_type": "code",
   "source": "df_top10.head()\n\n# Проверка для себя\n# 1 * 0.3315 = 0.3315\n# 1 * 0.3315 * 0.5015 = 0.166\n# 0.166 * 0.5015 = 0.0833\n#",
   "metadata": {
    "execution": {
     "iopub.status.busy": "2022-12-03T13:51:16.458302Z",
     "iopub.execute_input": "2022-12-03T13:51:16.458617Z",
     "iopub.status.idle": "2022-12-03T13:51:16.480316Z",
     "shell.execute_reply.started": "2022-12-03T13:51:16.458588Z",
     "shell.execute_reply": "2022-12-03T13:51:16.478929Z"
    },
    "trusted": true
   },
   "execution_count": 42,
   "outputs": [
    {
     "execution_count": 42,
     "output_type": "execute_result",
     "data": {
      "text/plain": "        qid  hostid  rating  rank  pBreak  1_pred_rating  \\\n561  692308    1035    0.61     0    1.00           1.00   \n549  692308     551    0.41     1    0.85           0.39   \n569  692308    1155    0.41     2    0.85           0.59   \n537  692308      33    0.14     3    0.85           0.59   \n538  692308      70    0.14     4    0.85           0.86   \n\n     pBreak * 1_pred_rating     Plook  \n561                  1.0000  1.000000  \n549                  0.3315  0.331500  \n569                  0.5015  0.166247  \n537                  0.5015  0.083373  \n538                  0.7310  0.060946  ",
      "text/html": "<div>\n<style scoped>\n    .dataframe tbody tr th:only-of-type {\n        vertical-align: middle;\n    }\n\n    .dataframe tbody tr th {\n        vertical-align: top;\n    }\n\n    .dataframe thead th {\n        text-align: right;\n    }\n</style>\n<table border=\"1\" class=\"dataframe\">\n  <thead>\n    <tr style=\"text-align: right;\">\n      <th></th>\n      <th>qid</th>\n      <th>hostid</th>\n      <th>rating</th>\n      <th>rank</th>\n      <th>pBreak</th>\n      <th>1_pred_rating</th>\n      <th>pBreak * 1_pred_rating</th>\n      <th>Plook</th>\n    </tr>\n  </thead>\n  <tbody>\n    <tr>\n      <th>561</th>\n      <td>692308</td>\n      <td>1035</td>\n      <td>0.61</td>\n      <td>0</td>\n      <td>1.00</td>\n      <td>1.00</td>\n      <td>1.0000</td>\n      <td>1.000000</td>\n    </tr>\n    <tr>\n      <th>549</th>\n      <td>692308</td>\n      <td>551</td>\n      <td>0.41</td>\n      <td>1</td>\n      <td>0.85</td>\n      <td>0.39</td>\n      <td>0.3315</td>\n      <td>0.331500</td>\n    </tr>\n    <tr>\n      <th>569</th>\n      <td>692308</td>\n      <td>1155</td>\n      <td>0.41</td>\n      <td>2</td>\n      <td>0.85</td>\n      <td>0.59</td>\n      <td>0.5015</td>\n      <td>0.166247</td>\n    </tr>\n    <tr>\n      <th>537</th>\n      <td>692308</td>\n      <td>33</td>\n      <td>0.14</td>\n      <td>3</td>\n      <td>0.85</td>\n      <td>0.59</td>\n      <td>0.5015</td>\n      <td>0.083373</td>\n    </tr>\n    <tr>\n      <th>538</th>\n      <td>692308</td>\n      <td>70</td>\n      <td>0.14</td>\n      <td>4</td>\n      <td>0.85</td>\n      <td>0.86</td>\n      <td>0.7310</td>\n      <td>0.060946</td>\n    </tr>\n  </tbody>\n</table>\n</div>"
     },
     "metadata": {}
    }
   ]
  },
  {
   "cell_type": "code",
   "source": "# Cоздадим Pfound\ndf_top10['Pfound'] =  df_top10['Plook'] * df_top10['rating']\n\ndf_top10.head()",
   "metadata": {
    "execution": {
     "iopub.status.busy": "2022-12-03T13:51:16.481951Z",
     "iopub.execute_input": "2022-12-03T13:51:16.482391Z",
     "iopub.status.idle": "2022-12-03T13:51:16.505373Z",
     "shell.execute_reply.started": "2022-12-03T13:51:16.482349Z",
     "shell.execute_reply": "2022-12-03T13:51:16.504522Z"
    },
    "trusted": true
   },
   "execution_count": 43,
   "outputs": [
    {
     "execution_count": 43,
     "output_type": "execute_result",
     "data": {
      "text/plain": "        qid  hostid  rating  rank  pBreak  1_pred_rating  \\\n561  692308    1035    0.61     0    1.00           1.00   \n549  692308     551    0.41     1    0.85           0.39   \n569  692308    1155    0.41     2    0.85           0.59   \n537  692308      33    0.14     3    0.85           0.59   \n538  692308      70    0.14     4    0.85           0.86   \n\n     pBreak * 1_pred_rating     Plook    Pfound  \n561                  1.0000  1.000000  0.610000  \n549                  0.3315  0.331500  0.135915  \n569                  0.5015  0.166247  0.068161  \n537                  0.5015  0.083373  0.011672  \n538                  0.7310  0.060946  0.008532  ",
      "text/html": "<div>\n<style scoped>\n    .dataframe tbody tr th:only-of-type {\n        vertical-align: middle;\n    }\n\n    .dataframe tbody tr th {\n        vertical-align: top;\n    }\n\n    .dataframe thead th {\n        text-align: right;\n    }\n</style>\n<table border=\"1\" class=\"dataframe\">\n  <thead>\n    <tr style=\"text-align: right;\">\n      <th></th>\n      <th>qid</th>\n      <th>hostid</th>\n      <th>rating</th>\n      <th>rank</th>\n      <th>pBreak</th>\n      <th>1_pred_rating</th>\n      <th>pBreak * 1_pred_rating</th>\n      <th>Plook</th>\n      <th>Pfound</th>\n    </tr>\n  </thead>\n  <tbody>\n    <tr>\n      <th>561</th>\n      <td>692308</td>\n      <td>1035</td>\n      <td>0.61</td>\n      <td>0</td>\n      <td>1.00</td>\n      <td>1.00</td>\n      <td>1.0000</td>\n      <td>1.000000</td>\n      <td>0.610000</td>\n    </tr>\n    <tr>\n      <th>549</th>\n      <td>692308</td>\n      <td>551</td>\n      <td>0.41</td>\n      <td>1</td>\n      <td>0.85</td>\n      <td>0.39</td>\n      <td>0.3315</td>\n      <td>0.331500</td>\n      <td>0.135915</td>\n    </tr>\n    <tr>\n      <th>569</th>\n      <td>692308</td>\n      <td>1155</td>\n      <td>0.41</td>\n      <td>2</td>\n      <td>0.85</td>\n      <td>0.59</td>\n      <td>0.5015</td>\n      <td>0.166247</td>\n      <td>0.068161</td>\n    </tr>\n    <tr>\n      <th>537</th>\n      <td>692308</td>\n      <td>33</td>\n      <td>0.14</td>\n      <td>3</td>\n      <td>0.85</td>\n      <td>0.59</td>\n      <td>0.5015</td>\n      <td>0.083373</td>\n      <td>0.011672</td>\n    </tr>\n    <tr>\n      <th>538</th>\n      <td>692308</td>\n      <td>70</td>\n      <td>0.14</td>\n      <td>4</td>\n      <td>0.85</td>\n      <td>0.86</td>\n      <td>0.7310</td>\n      <td>0.060946</td>\n      <td>0.008532</td>\n    </tr>\n  </tbody>\n</table>\n</div>"
     },
     "metadata": {}
    }
   ]
  },
  {
   "cell_type": "code",
   "source": "pfound_mean = df_top10.groupby('qid')[\"Pfound\"].sum().mean()\nprint(f'Mean_Pfound (Our Solution): {pfound_mean}')",
   "metadata": {
    "execution": {
     "iopub.status.busy": "2022-12-03T13:51:16.507123Z",
     "iopub.execute_input": "2022-12-03T13:51:16.507515Z",
     "iopub.status.idle": "2022-12-03T13:51:16.521139Z",
     "shell.execute_reply.started": "2022-12-03T13:51:16.507480Z",
     "shell.execute_reply": "2022-12-03T13:51:16.520114Z"
    },
    "trusted": true
   },
   "execution_count": 44,
   "outputs": [
    {
     "name": "stdout",
     "text": "Mean_Pfound (Our Solution): 0.5436870277272979\n",
     "output_type": "stream"
    }
   ]
  },
  {
   "cell_type": "markdown",
   "source": "Обернем наш Pfound в функцию. Увеличим ее производтельность, принятием на вход разные pBreak, и top_K user",
   "metadata": {}
  },
  {
   "cell_type": "code",
   "source": "def pfound(df: pd.DataFrame, pB: float=0.85, top_k: int=10) -> float:\n    \"\"\"\n    This function calculate meanPfound\n    DataFrame must include features : 'qid, hostid, rating'\n    :param df: pdDataFrame - dataframe.\n    :param pB: float - value for pBreak\n    :param top_k: int - amount best scores by user\n    :return: meanPfound for data\n    \"\"\"\n\n    check_1 = ('qid' in df.columns,\n               'Column qid NotFound in df'\n              )\n    check_2 = ('hostid' in df.columns,\n               'Column hostid NotFound in df'\n              )\n    check_3 = ('rating' in df.columns,\n               'Column rating NotFound in df'\n              )\n\n    assert check_1\n    assert check_2\n    assert check_3\n\n\n    df = df.sort_values(by=['qid', 'rating'], ascending=False)\n    df = df_sort.groupby(['qid']).head(top_k)\n    df['rank'] = df.groupby(['qid']).cumcount()\n    df['pBreak'] = np.where(df['rank'] == 0, 1, pB)\n    df['1_pred_rating'] = (1 - df['rating']).shift(1)\n    df['1_pred_rating'] = df['1_pred_rating'].fillna(1)\n    df['pBreak * 1_pred_rating'] = df['pBreak'] * df['1_pred_rating']\n    df['Plook'] = df.groupby('qid')['pBreak * 1_pred_rating'].cumprod()\n    df['Pfound'] =  df['Plook'] * df['rating']\n\n    pfound_mean = df.groupby('qid')[\"Pfound\"].sum().mean()\n\n    return pfound_mean\n",
   "metadata": {
    "execution": {
     "iopub.status.busy": "2022-12-03T13:51:16.522202Z",
     "iopub.execute_input": "2022-12-03T13:51:16.522692Z",
     "iopub.status.idle": "2022-12-03T13:51:16.538709Z",
     "shell.execute_reply.started": "2022-12-03T13:51:16.522541Z",
     "shell.execute_reply": "2022-12-03T13:51:16.536897Z"
    },
    "trusted": true
   },
   "execution_count": 45,
   "outputs": []
  },
  {
   "cell_type": "code",
   "source": [
    "%%time\n",
    "\n",
    "result = pfound(qid_url_rating_hostid)\n",
    "print(f'Mean_Pfound (Our Solution): {result}')\n"
   ],
   "metadata": {
    "execution": {
     "iopub.status.busy": "2022-12-03T13:51:16.541313Z",
     "iopub.execute_input": "2022-12-03T13:51:16.542004Z",
     "iopub.status.idle": "2022-12-03T13:51:16.573509Z",
     "shell.execute_reply.started": "2022-12-03T13:51:16.541946Z",
     "shell.execute_reply": "2022-12-03T13:51:16.572133Z"
    },
    "trusted": true
   },
   "execution_count": 46,
   "outputs": [
    {
     "name": "stdout",
     "text": "Mean_Pfound (Our Solution): 0.5436870277272979\nCPU times: user 14.3 ms, sys: 34 µs, total: 14.3 ms\nWall time: 13.6 ms\n",
     "output_type": "stream"
    }
   ]
  }
 ]
}
