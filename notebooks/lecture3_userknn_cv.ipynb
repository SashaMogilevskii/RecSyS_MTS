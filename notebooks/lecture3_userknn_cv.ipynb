{
 "cells": [
  {
   "cell_type": "code",
   "execution_count": 6,
   "id": "d591ad1b",
   "metadata": {},
   "outputs": [],
   "source": [
    "import pandas as pd\n",
    "import numpy as np\n",
    "import requests\n",
    "from tqdm.auto import tqdm\n",
    "from scipy.stats import mode \n",
    "from pprint import pprint\n",
    "from implicit.nearest_neighbours import CosineRecommender, TFIDFRecommender, BM25Recommender\n",
    "import warnings\n",
    "warnings.filterwarnings(\"ignore\")\n",
    "\n",
    "from rectools import Columns\n",
    "from rectools.dataset import Dataset\n",
    "from rectools.metrics import Precision, Recall, MeanInvUserFreq, Serendipity, calc_metrics\n",
    "\n",
    "pd.set_option('display.max_columns', None)\n",
    "pd.set_option('display.max_colwidth', 200)"
   ]
  },
  {
   "cell_type": "code",
   "execution_count": 2,
   "id": "5e48d68b",
   "metadata": {},
   "outputs": [],
   "source": [
    "import os\n",
    "import sys\n",
    "sys.path.append(os.path.abspath(os.path.join('../service/modelss/')))\n",
    "from userknn import UserKnn\n"
   ]
  },
  {
   "cell_type": "markdown",
   "id": "539ac5f5",
   "metadata": {},
   "source": [
    "# Get KION dataset \n",
    "\n",
    "<a href=\"https://ods.ai/competitions/competition-recsys-21/data\"> Dataset description [ru] </a>\n"
   ]
  },
  {
   "cell_type": "markdown",
   "id": "1ab72bbd",
   "metadata": {},
   "source": [
    "# EDA"
   ]
  },
  {
   "cell_type": "code",
   "execution_count": 3,
   "id": "1f349c11",
   "metadata": {},
   "outputs": [],
   "source": [
    "interactions = pd.read_csv('../data/raw/kion_train/interactions.csv')\n",
    "users = pd.read_csv('../data/raw/kion_train/users.csv')\n",
    "items = pd.read_csv('../data/raw/kion_train/items.csv')"
   ]
  },
  {
   "cell_type": "code",
   "execution_count": 4,
   "id": "90fe394f",
   "metadata": {},
   "outputs": [],
   "source": [
    "# rename columns, convert timestamp\n",
    "interactions.rename(columns={'last_watch_dt': Columns.Datetime,\n",
    "                            'total_dur': Columns.Weight}, \n",
    "                    inplace=True) \n",
    "\n",
    "interactions['datetime'] = pd.to_datetime(interactions['datetime'])"
   ]
  },
  {
   "cell_type": "markdown",
   "id": "a19cd6de",
   "metadata": {},
   "source": [
    "## interactions"
   ]
  },
  {
   "cell_type": "code",
   "execution_count": 5,
   "id": "f27d010e",
   "metadata": {},
   "outputs": [
    {
     "data": {
      "text/html": [
       "<div>\n",
       "<style scoped>\n",
       "    .dataframe tbody tr th:only-of-type {\n",
       "        vertical-align: middle;\n",
       "    }\n",
       "\n",
       "    .dataframe tbody tr th {\n",
       "        vertical-align: top;\n",
       "    }\n",
       "\n",
       "    .dataframe thead th {\n",
       "        text-align: right;\n",
       "    }\n",
       "</style>\n",
       "<table border=\"1\" class=\"dataframe\">\n",
       "  <thead>\n",
       "    <tr style=\"text-align: right;\">\n",
       "      <th></th>\n",
       "      <th>user_id</th>\n",
       "      <th>item_id</th>\n",
       "      <th>datetime</th>\n",
       "      <th>weight</th>\n",
       "      <th>watched_pct</th>\n",
       "    </tr>\n",
       "  </thead>\n",
       "  <tbody>\n",
       "    <tr>\n",
       "      <th>0</th>\n",
       "      <td>176549</td>\n",
       "      <td>9506</td>\n",
       "      <td>2021-05-11</td>\n",
       "      <td>4250</td>\n",
       "      <td>72.0</td>\n",
       "    </tr>\n",
       "    <tr>\n",
       "      <th>1</th>\n",
       "      <td>699317</td>\n",
       "      <td>1659</td>\n",
       "      <td>2021-05-29</td>\n",
       "      <td>8317</td>\n",
       "      <td>100.0</td>\n",
       "    </tr>\n",
       "    <tr>\n",
       "      <th>2</th>\n",
       "      <td>656683</td>\n",
       "      <td>7107</td>\n",
       "      <td>2021-05-09</td>\n",
       "      <td>10</td>\n",
       "      <td>0.0</td>\n",
       "    </tr>\n",
       "    <tr>\n",
       "      <th>3</th>\n",
       "      <td>864613</td>\n",
       "      <td>7638</td>\n",
       "      <td>2021-07-05</td>\n",
       "      <td>14483</td>\n",
       "      <td>100.0</td>\n",
       "    </tr>\n",
       "    <tr>\n",
       "      <th>4</th>\n",
       "      <td>964868</td>\n",
       "      <td>9506</td>\n",
       "      <td>2021-04-30</td>\n",
       "      <td>6725</td>\n",
       "      <td>100.0</td>\n",
       "    </tr>\n",
       "    <tr>\n",
       "      <th>5476246</th>\n",
       "      <td>648596</td>\n",
       "      <td>12225</td>\n",
       "      <td>2021-08-13</td>\n",
       "      <td>76</td>\n",
       "      <td>0.0</td>\n",
       "    </tr>\n",
       "    <tr>\n",
       "      <th>5476247</th>\n",
       "      <td>546862</td>\n",
       "      <td>9673</td>\n",
       "      <td>2021-04-13</td>\n",
       "      <td>2308</td>\n",
       "      <td>49.0</td>\n",
       "    </tr>\n",
       "    <tr>\n",
       "      <th>5476248</th>\n",
       "      <td>697262</td>\n",
       "      <td>15297</td>\n",
       "      <td>2021-08-20</td>\n",
       "      <td>18307</td>\n",
       "      <td>63.0</td>\n",
       "    </tr>\n",
       "    <tr>\n",
       "      <th>5476249</th>\n",
       "      <td>384202</td>\n",
       "      <td>16197</td>\n",
       "      <td>2021-04-19</td>\n",
       "      <td>6203</td>\n",
       "      <td>100.0</td>\n",
       "    </tr>\n",
       "    <tr>\n",
       "      <th>5476250</th>\n",
       "      <td>319709</td>\n",
       "      <td>4436</td>\n",
       "      <td>2021-08-15</td>\n",
       "      <td>3921</td>\n",
       "      <td>45.0</td>\n",
       "    </tr>\n",
       "  </tbody>\n",
       "</table>\n",
       "</div>"
      ],
      "text/plain": [
       "         user_id  item_id   datetime  weight  watched_pct\n",
       "0         176549     9506 2021-05-11    4250         72.0\n",
       "1         699317     1659 2021-05-29    8317        100.0\n",
       "2         656683     7107 2021-05-09      10          0.0\n",
       "3         864613     7638 2021-07-05   14483        100.0\n",
       "4         964868     9506 2021-04-30    6725        100.0\n",
       "5476246   648596    12225 2021-08-13      76          0.0\n",
       "5476247   546862     9673 2021-04-13    2308         49.0\n",
       "5476248   697262    15297 2021-08-20   18307         63.0\n",
       "5476249   384202    16197 2021-04-19    6203        100.0\n",
       "5476250   319709     4436 2021-08-15    3921         45.0"
      ]
     },
     "execution_count": 5,
     "metadata": {},
     "output_type": "execute_result"
    }
   ],
   "source": [
    "pd.concat([interactions.head(), interactions.tail()])"
   ]
  },
  {
   "cell_type": "code",
   "execution_count": 25,
   "id": "c23b431b",
   "metadata": {},
   "outputs": [
    {
     "name": "stdout",
     "output_type": "stream",
     "text": [
      "Interactions dataframe shape: (5476251, 5)\n",
      "Unique users in interactions: 962_179\n",
      "Unique items in interactions: 15_706\n"
     ]
    }
   ],
   "source": [
    "print(f\"Interactions dataframe shape: {interactions.shape}\")\n",
    "print(f\"Unique users in interactions: {interactions['user_id'].nunique():_}\")\n",
    "print(f\"Unique items in interactions: {interactions['item_id'].nunique():_}\")"
   ]
  },
  {
   "cell_type": "code",
   "execution_count": 26,
   "id": "71372764",
   "metadata": {},
   "outputs": [
    {
     "name": "stdout",
     "output_type": "stream",
     "text": [
      "min date in interactions: 2021-03-13 00:00:00\n",
      "max date in interactions: 2021-08-22 00:00:00\n"
     ]
    }
   ],
   "source": [
    "max_date = interactions['datetime'].max()\n",
    "min_date = interactions['datetime'].min()\n",
    "\n",
    "print(f\"min date in interactions: {min_date}\")\n",
    "print(f\"max date in interactions: {max_date}\")"
   ]
  },
  {
   "cell_type": "code",
   "execution_count": 27,
   "id": "af4008cf",
   "metadata": {},
   "outputs": [
    {
     "name": "stdout",
     "output_type": "stream",
     "text": [
      "<class 'pandas.core.frame.DataFrame'>\n",
      "RangeIndex: 5476251 entries, 0 to 5476250\n",
      "Data columns (total 5 columns):\n",
      " #   Column       Dtype         \n",
      "---  ------       -----         \n",
      " 0   user_id      int64         \n",
      " 1   item_id      int64         \n",
      " 2   datetime     datetime64[ns]\n",
      " 3   weight       int64         \n",
      " 4   watched_pct  float64       \n",
      "dtypes: datetime64[ns](1), float64(1), int64(3)\n",
      "memory usage: 208.9 MB\n"
     ]
    }
   ],
   "source": [
    "interactions.info()"
   ]
  },
  {
   "cell_type": "markdown",
   "id": "675295b6",
   "metadata": {},
   "source": [
    "## users"
   ]
  },
  {
   "cell_type": "code",
   "execution_count": 28,
   "id": "3ff572ff",
   "metadata": {},
   "outputs": [
    {
     "data": {
      "text/html": [
       "<div>\n",
       "<style scoped>\n",
       "    .dataframe tbody tr th:only-of-type {\n",
       "        vertical-align: middle;\n",
       "    }\n",
       "\n",
       "    .dataframe tbody tr th {\n",
       "        vertical-align: top;\n",
       "    }\n",
       "\n",
       "    .dataframe thead th {\n",
       "        text-align: right;\n",
       "    }\n",
       "</style>\n",
       "<table border=\"1\" class=\"dataframe\">\n",
       "  <thead>\n",
       "    <tr style=\"text-align: right;\">\n",
       "      <th></th>\n",
       "      <th>user_id</th>\n",
       "      <th>age</th>\n",
       "      <th>income</th>\n",
       "      <th>sex</th>\n",
       "      <th>kids_flg</th>\n",
       "    </tr>\n",
       "  </thead>\n",
       "  <tbody>\n",
       "    <tr>\n",
       "      <th>0</th>\n",
       "      <td>973171</td>\n",
       "      <td>age_25_34</td>\n",
       "      <td>income_60_90</td>\n",
       "      <td>М</td>\n",
       "      <td>1</td>\n",
       "    </tr>\n",
       "    <tr>\n",
       "      <th>1</th>\n",
       "      <td>962099</td>\n",
       "      <td>age_18_24</td>\n",
       "      <td>income_20_40</td>\n",
       "      <td>М</td>\n",
       "      <td>0</td>\n",
       "    </tr>\n",
       "    <tr>\n",
       "      <th>2</th>\n",
       "      <td>1047345</td>\n",
       "      <td>age_45_54</td>\n",
       "      <td>income_40_60</td>\n",
       "      <td>Ж</td>\n",
       "      <td>0</td>\n",
       "    </tr>\n",
       "    <tr>\n",
       "      <th>3</th>\n",
       "      <td>721985</td>\n",
       "      <td>age_45_54</td>\n",
       "      <td>income_20_40</td>\n",
       "      <td>Ж</td>\n",
       "      <td>0</td>\n",
       "    </tr>\n",
       "    <tr>\n",
       "      <th>4</th>\n",
       "      <td>704055</td>\n",
       "      <td>age_35_44</td>\n",
       "      <td>income_60_90</td>\n",
       "      <td>Ж</td>\n",
       "      <td>0</td>\n",
       "    </tr>\n",
       "    <tr>\n",
       "      <th>840192</th>\n",
       "      <td>339025</td>\n",
       "      <td>age_65_inf</td>\n",
       "      <td>income_0_20</td>\n",
       "      <td>Ж</td>\n",
       "      <td>0</td>\n",
       "    </tr>\n",
       "    <tr>\n",
       "      <th>840193</th>\n",
       "      <td>983617</td>\n",
       "      <td>age_18_24</td>\n",
       "      <td>income_20_40</td>\n",
       "      <td>Ж</td>\n",
       "      <td>1</td>\n",
       "    </tr>\n",
       "    <tr>\n",
       "      <th>840194</th>\n",
       "      <td>251008</td>\n",
       "      <td>NaN</td>\n",
       "      <td>NaN</td>\n",
       "      <td>NaN</td>\n",
       "      <td>0</td>\n",
       "    </tr>\n",
       "    <tr>\n",
       "      <th>840195</th>\n",
       "      <td>590706</td>\n",
       "      <td>NaN</td>\n",
       "      <td>NaN</td>\n",
       "      <td>Ж</td>\n",
       "      <td>0</td>\n",
       "    </tr>\n",
       "    <tr>\n",
       "      <th>840196</th>\n",
       "      <td>166555</td>\n",
       "      <td>age_65_inf</td>\n",
       "      <td>income_20_40</td>\n",
       "      <td>Ж</td>\n",
       "      <td>0</td>\n",
       "    </tr>\n",
       "  </tbody>\n",
       "</table>\n",
       "</div>"
      ],
      "text/plain": [
       "        user_id         age        income  sex  kids_flg\n",
       "0        973171   age_25_34  income_60_90    М         1\n",
       "1        962099   age_18_24  income_20_40    М         0\n",
       "2       1047345   age_45_54  income_40_60    Ж         0\n",
       "3        721985   age_45_54  income_20_40    Ж         0\n",
       "4        704055   age_35_44  income_60_90    Ж         0\n",
       "840192   339025  age_65_inf   income_0_20    Ж         0\n",
       "840193   983617   age_18_24  income_20_40    Ж         1\n",
       "840194   251008         NaN           NaN  NaN         0\n",
       "840195   590706         NaN           NaN    Ж         0\n",
       "840196   166555  age_65_inf  income_20_40    Ж         0"
      ]
     },
     "execution_count": 28,
     "metadata": {},
     "output_type": "execute_result"
    }
   ],
   "source": [
    "pd.concat([users.head(), users.tail()])"
   ]
  },
  {
   "cell_type": "code",
   "execution_count": 29,
   "id": "7b34baf4",
   "metadata": {},
   "outputs": [
    {
     "name": "stdout",
     "output_type": "stream",
     "text": [
      "Users dataframe shape (840197, 5)\n",
      "Unique users: 840_197\n"
     ]
    }
   ],
   "source": [
    "print(f\"Users dataframe shape {users.shape}\")\n",
    "print(f\"Unique users: {users['user_id'].nunique():_}\")"
   ]
  },
  {
   "cell_type": "markdown",
   "id": "b89ca7b2",
   "metadata": {},
   "source": [
    "## items"
   ]
  },
  {
   "cell_type": "code",
   "execution_count": 30,
   "id": "a289682c",
   "metadata": {},
   "outputs": [
    {
     "data": {
      "text/html": [
       "<div>\n",
       "<style scoped>\n",
       "    .dataframe tbody tr th:only-of-type {\n",
       "        vertical-align: middle;\n",
       "    }\n",
       "\n",
       "    .dataframe tbody tr th {\n",
       "        vertical-align: top;\n",
       "    }\n",
       "\n",
       "    .dataframe thead th {\n",
       "        text-align: right;\n",
       "    }\n",
       "</style>\n",
       "<table border=\"1\" class=\"dataframe\">\n",
       "  <thead>\n",
       "    <tr style=\"text-align: right;\">\n",
       "      <th></th>\n",
       "      <th>item_id</th>\n",
       "      <th>content_type</th>\n",
       "      <th>title</th>\n",
       "      <th>title_orig</th>\n",
       "      <th>release_year</th>\n",
       "      <th>genres</th>\n",
       "      <th>countries</th>\n",
       "      <th>for_kids</th>\n",
       "      <th>age_rating</th>\n",
       "      <th>studios</th>\n",
       "      <th>directors</th>\n",
       "      <th>actors</th>\n",
       "      <th>description</th>\n",
       "      <th>keywords</th>\n",
       "    </tr>\n",
       "  </thead>\n",
       "  <tbody>\n",
       "    <tr>\n",
       "      <th>0</th>\n",
       "      <td>10711</td>\n",
       "      <td>film</td>\n",
       "      <td>Поговори с ней</td>\n",
       "      <td>Hable con ella</td>\n",
       "      <td>2002.0</td>\n",
       "      <td>драмы, зарубежные, детективы, мелодрамы</td>\n",
       "      <td>Испания</td>\n",
       "      <td>NaN</td>\n",
       "      <td>16.0</td>\n",
       "      <td>NaN</td>\n",
       "      <td>Педро Альмодовар</td>\n",
       "      <td>Адольфо Фернандес, Ана Фернандес, Дарио Грандинетти, Джеральдин Чаплин, Елена Анайя, Каэтано Велозо, Леонор Уотлинг, Лола Дуэньяс, Лолес Леон, Малу Айродо, Мариола Фуэнтес, Пас Вега, Пина Бауш, Ро...</td>\n",
       "      <td>Мелодрама легендарного Педро Альмодовара «Поговори с ней» в 2003 году получила премию «Оскар» за лучший сценарий.  Журналист Марко берет интервью у знаменитой женщины-тореро Лидии и вскоре влюбляе...</td>\n",
       "      <td>Поговори, ней, 2002, Испания, друзья, любовь, сильные, женщины, преодоление, трудностей, отношения, дружба, отношения, паре, отношения, мужчины, женщины, романтические, отношения, потеря, близких,...</td>\n",
       "    </tr>\n",
       "    <tr>\n",
       "      <th>1</th>\n",
       "      <td>2508</td>\n",
       "      <td>film</td>\n",
       "      <td>Голые перцы</td>\n",
       "      <td>Search Party</td>\n",
       "      <td>2014.0</td>\n",
       "      <td>зарубежные, приключения, комедии</td>\n",
       "      <td>США</td>\n",
       "      <td>NaN</td>\n",
       "      <td>16.0</td>\n",
       "      <td>NaN</td>\n",
       "      <td>Скот Армстронг</td>\n",
       "      <td>Адам Палли, Брайан Хаски, Дж.Б. Смув, Джейсон Манцукас, Джон Глейсер, Карл Грин, Кристен Риттер, Лэнс Реддик, Морис Комт, Патрик Кернс, Ребекка Коллинз, Роза Салазар, Росс П. Кук, Стеффи Гроут, Ти...</td>\n",
       "      <td>Уморительная современная комедия на популярную тему о том, как не надо отмечать мальчишник. Главный герой усвоил, что не надо звать на свадьбу своего друга Джейсона, из-за которого он вместо сваде...</td>\n",
       "      <td>Голые, перцы, 2014, США, друзья, свадьбы, преодоление, трудностей, расставания, отношения, дружба, риск, недоразумение, мужская, дружба, мальчишники, девичники</td>\n",
       "    </tr>\n",
       "    <tr>\n",
       "      <th>15961</th>\n",
       "      <td>4538</td>\n",
       "      <td>series</td>\n",
       "      <td>Среди камней</td>\n",
       "      <td>Darklands</td>\n",
       "      <td>2019.0</td>\n",
       "      <td>драмы, спорт, криминал</td>\n",
       "      <td>Россия</td>\n",
       "      <td>0.0</td>\n",
       "      <td>18.0</td>\n",
       "      <td>NaN</td>\n",
       "      <td>Марк О’Коннор, Конор МакМахон</td>\n",
       "      <td>Дэйн Уайт О’Хара, Томас Кэйн-Бирн, Джудит Родди, Марк О’Халлоран, Джимми Смоллхорн</td>\n",
       "      <td>Семнадцатилетний Дэмиен мечтает вырваться за пределы своего района и стать профессиональным бойцом. Когда его кумир и старший брат исчезает, парень попадает в чуждый ему мир насилия, наркотиков и ...</td>\n",
       "      <td>Среди, камней, 2019, Россия</td>\n",
       "    </tr>\n",
       "    <tr>\n",
       "      <th>15962</th>\n",
       "      <td>3206</td>\n",
       "      <td>series</td>\n",
       "      <td>Гоша</td>\n",
       "      <td>NaN</td>\n",
       "      <td>2019.0</td>\n",
       "      <td>комедии</td>\n",
       "      <td>Россия</td>\n",
       "      <td>0.0</td>\n",
       "      <td>16.0</td>\n",
       "      <td>NaN</td>\n",
       "      <td>Михаил Миронов</td>\n",
       "      <td>Мкртыч Арзуманян, Виктория Рунцова</td>\n",
       "      <td>Добродушный Гоша не может выйти из дома, чтобы не попасть в нелепую и курьёзную историю. Но даже неудачники мечтают о любви, и наш герой — не исключение, ведь оптимизма ему не занимать.</td>\n",
       "      <td>Гоша, 2019, Россия</td>\n",
       "    </tr>\n",
       "  </tbody>\n",
       "</table>\n",
       "</div>"
      ],
      "text/plain": [
       "       item_id content_type           title      title_orig  release_year  \\\n",
       "0        10711         film  Поговори с ней  Hable con ella        2002.0   \n",
       "1         2508         film     Голые перцы    Search Party        2014.0   \n",
       "15961     4538       series    Среди камней      Darklands         2019.0   \n",
       "15962     3206       series            Гоша             NaN        2019.0   \n",
       "\n",
       "                                        genres countries  for_kids  \\\n",
       "0      драмы, зарубежные, детективы, мелодрамы   Испания       NaN   \n",
       "1             зарубежные, приключения, комедии       США       NaN   \n",
       "15961                   драмы, спорт, криминал    Россия       0.0   \n",
       "15962                                  комедии    Россия       0.0   \n",
       "\n",
       "       age_rating studios                      directors  \\\n",
       "0            16.0     NaN               Педро Альмодовар   \n",
       "1            16.0     NaN                 Скот Армстронг   \n",
       "15961        18.0     NaN  Марк О’Коннор, Конор МакМахон   \n",
       "15962        16.0     NaN                 Михаил Миронов   \n",
       "\n",
       "                                                                                                                                                                                                        actors  \\\n",
       "0      Адольфо Фернандес, Ана Фернандес, Дарио Грандинетти, Джеральдин Чаплин, Елена Анайя, Каэтано Велозо, Леонор Уотлинг, Лола Дуэньяс, Лолес Леон, Малу Айродо, Мариола Фуэнтес, Пас Вега, Пина Бауш, Ро...   \n",
       "1      Адам Палли, Брайан Хаски, Дж.Б. Смув, Джейсон Манцукас, Джон Глейсер, Карл Грин, Кристен Риттер, Лэнс Реддик, Морис Комт, Патрик Кернс, Ребекка Коллинз, Роза Салазар, Росс П. Кук, Стеффи Гроут, Ти...   \n",
       "15961                                                                                                                       Дэйн Уайт О’Хара, Томас Кэйн-Бирн, Джудит Родди, Марк О’Халлоран, Джимми Смоллхорн   \n",
       "15962                                                                                                                                                                       Мкртыч Арзуманян, Виктория Рунцова   \n",
       "\n",
       "                                                                                                                                                                                                   description  \\\n",
       "0      Мелодрама легендарного Педро Альмодовара «Поговори с ней» в 2003 году получила премию «Оскар» за лучший сценарий.  Журналист Марко берет интервью у знаменитой женщины-тореро Лидии и вскоре влюбляе...   \n",
       "1      Уморительная современная комедия на популярную тему о том, как не надо отмечать мальчишник. Главный герой усвоил, что не надо звать на свадьбу своего друга Джейсона, из-за которого он вместо сваде...   \n",
       "15961  Семнадцатилетний Дэмиен мечтает вырваться за пределы своего района и стать профессиональным бойцом. Когда его кумир и старший брат исчезает, парень попадает в чуждый ему мир насилия, наркотиков и ...   \n",
       "15962                Добродушный Гоша не может выйти из дома, чтобы не попасть в нелепую и курьёзную историю. Но даже неудачники мечтают о любви, и наш герой — не исключение, ведь оптимизма ему не занимать.   \n",
       "\n",
       "                                                                                                                                                                                                      keywords  \n",
       "0      Поговори, ней, 2002, Испания, друзья, любовь, сильные, женщины, преодоление, трудностей, отношения, дружба, отношения, паре, отношения, мужчины, женщины, романтические, отношения, потеря, близких,...  \n",
       "1                                              Голые, перцы, 2014, США, друзья, свадьбы, преодоление, трудностей, расставания, отношения, дружба, риск, недоразумение, мужская, дружба, мальчишники, девичники  \n",
       "15961                                                                                                                                                                              Среди, камней, 2019, Россия  \n",
       "15962                                                                                                                                                                                       Гоша, 2019, Россия  "
      ]
     },
     "execution_count": 30,
     "metadata": {},
     "output_type": "execute_result"
    }
   ],
   "source": [
    "pd.concat([items.head(2), items.tail(2)])"
   ]
  },
  {
   "cell_type": "code",
   "execution_count": 31,
   "id": "2bcfc0b6",
   "metadata": {},
   "outputs": [
    {
     "name": "stdout",
     "output_type": "stream",
     "text": [
      "Items dataframe shape (15963, 14)\n",
      "Unique item_id: 15_963\n"
     ]
    }
   ],
   "source": [
    "print(f\"Items dataframe shape {items.shape}\")\n",
    "print(f\"Unique item_id: {items['item_id'].nunique():_}\")"
   ]
  },
  {
   "cell_type": "markdown",
   "id": "ad8e37ce",
   "metadata": {},
   "source": [
    "#  userkNN model  CV\n",
    "\n",
    "Compare implicit `CosineRecommender` and `TFIDFRecommender` as an ItemKnn base \n",
    "\n"
   ]
  },
  {
   "cell_type": "code",
   "execution_count": 11,
   "id": "a90a45ca",
   "metadata": {},
   "outputs": [
    {
     "name": "stdout",
     "output_type": "stream",
     "text": [
      "Start date and last date of the test fold: (Timestamp('2021-06-27 00:00:00'), Timestamp('2021-08-22 00:00:00'))\n"
     ]
    }
   ],
   "source": [
    "# setting for cv \n",
    "n_folds = 7\n",
    "unit = \"W\"\n",
    "n_units = 1\n",
    "\n",
    "last_date = interactions[Columns.Datetime].max().normalize()\n",
    "start_date = last_date - pd.Timedelta(n_folds * n_units + 1, unit=unit)  \n",
    "print(f\"Start date and last date of the test fold: {start_date, last_date}\")"
   ]
  },
  {
   "cell_type": "markdown",
   "id": "e6fdea8e",
   "metadata": {},
   "source": [
    "### Test fold borders"
   ]
  },
  {
   "cell_type": "code",
   "execution_count": 13,
   "id": "a0513172",
   "metadata": {},
   "outputs": [
    {
     "name": "stdout",
     "output_type": "stream",
     "text": [
      "start_date: 2021-06-27 00:00:00\n",
      "last_date: 2021-08-22 00:00:00\n",
      "periods: 8\n",
      "freq: 1W\n",
      "\n",
      "Test fold borders: ['2021-06-27' '2021-07-04' '2021-07-11' '2021-07-18' '2021-07-25'\n",
      " '2021-08-01' '2021-08-08' '2021-08-15']\n",
      "Real number of folds: 7\n"
     ]
    }
   ],
   "source": [
    "from rectools.model_selection import TimeRangeSplitter\n",
    "from  rectools.dataset.interactions import Interactions\n",
    "\n",
    "periods = n_folds + 1\n",
    "freq = f\"{n_units}{unit}\"\n",
    "print(\n",
    "    f\"start_date: {start_date}\\n\"\n",
    "    f\"last_date: {last_date}\\n\"\n",
    "    f\"periods: {periods}\\n\"\n",
    "    f\"freq: {freq}\\n\"\n",
    ")\n",
    "    \n",
    "date_range = pd.date_range(start=start_date, periods=periods, freq=freq, tz=last_date.tz)\n",
    "print(f\"Test fold borders: {date_range.values.astype('datetime64[D]')}\")\n",
    "\n",
    "# generator of folds\n",
    "cv = TimeRangeSplitter(\n",
    "    date_range=date_range,\n",
    "    filter_already_seen=True,\n",
    "    filter_cold_items=True,\n",
    "    filter_cold_users=True,\n",
    ")\n",
    "print(f\"Real number of folds: {cv.get_n_splits(Interactions(interactions))}\")"
   ]
  },
  {
   "cell_type": "code",
   "execution_count": 11,
   "id": "fce4747a",
   "metadata": {},
   "outputs": [],
   "source": [
    "from rectools.metrics import Precision, Recall, MeanInvUserFreq, Serendipity, calc_metrics\n",
    "\n",
    "# calculate several classic (precision@k and recall@k) and \"beyond accuracy\" metrics\n",
    "metrics = {\n",
    "    \"prec@10\": Precision(k=10),\n",
    "    \"recall@10\": Recall(k=10),\n",
    "    \"novelty\": MeanInvUserFreq(k=10),\n",
    "    \"serendipity\": Serendipity(k=10),\n",
    "}\n",
    "\n",
    "# few simple models to compare\n",
    "models = {\n",
    "    \"cosine_itemknn\": CosineRecommender(),\n",
    "    \"tfidf_itemknn\": TFIDFRecommender(),\n",
    "}\n"
   ]
  },
  {
   "cell_type": "markdown",
   "id": "06be6d3b",
   "metadata": {},
   "source": [
    "# Model training by fold"
   ]
  },
  {
   "cell_type": "code",
   "execution_count": 15,
   "id": "d07f350f",
   "metadata": {},
   "outputs": [
    {
     "name": "stdout",
     "output_type": "stream",
     "text": [
      "\n",
      "==================== Fold 0\n",
      "{'End date': Timestamp('2021-07-04 00:00:00', freq='W-SUN'),\n",
      " 'Start date': Timestamp('2021-06-27 00:00:00', freq='W-SUN'),\n",
      " 'Test': 237414,\n",
      " 'Test items': 5947,\n",
      " 'Test users': 98930,\n",
      " 'Train': 2533586,\n",
      " 'Train items': 14092,\n",
      " 'Train users': 536802}\n"
     ]
    },
    {
     "data": {
      "application/vnd.jupyter.widget-view+json": {
       "model_id": "5928905b11384500b27af820c377a807",
       "version_major": 2,
       "version_minor": 0
      },
      "text/plain": [
       "  0%|          | 0/536802 [00:00<?, ?it/s]"
      ]
     },
     "metadata": {},
     "output_type": "display_data"
    },
    {
     "data": {
      "application/vnd.jupyter.widget-view+json": {
       "model_id": "6bbab70241d048ab94e45d18c5a97cf2",
       "version_major": 2,
       "version_minor": 0
      },
      "text/plain": [
       "  0%|          | 0/536802 [00:00<?, ?it/s]"
      ]
     },
     "metadata": {},
     "output_type": "display_data"
    },
    {
     "name": "stdout",
     "output_type": "stream",
     "text": [
      "\n",
      "==================== Fold 1\n",
      "{'End date': Timestamp('2021-07-11 00:00:00', freq='W-SUN'),\n",
      " 'Start date': Timestamp('2021-07-04 00:00:00', freq='W-SUN'),\n",
      " 'Test': 211146,\n",
      " 'Test items': 6209,\n",
      " 'Test users': 86167,\n",
      " 'Train': 2886800,\n",
      " 'Train items': 14357,\n",
      " 'Train users': 595902}\n"
     ]
    },
    {
     "data": {
      "application/vnd.jupyter.widget-view+json": {
       "model_id": "601b3a7c6658450eaa6c4856f862ebff",
       "version_major": 2,
       "version_minor": 0
      },
      "text/plain": [
       "  0%|          | 0/595902 [00:00<?, ?it/s]"
      ]
     },
     "metadata": {},
     "output_type": "display_data"
    },
    {
     "data": {
      "application/vnd.jupyter.widget-view+json": {
       "model_id": "520fad3dc3184d8e94570b2632d361f8",
       "version_major": 2,
       "version_minor": 0
      },
      "text/plain": [
       "  0%|          | 0/595902 [00:00<?, ?it/s]"
      ]
     },
     "metadata": {},
     "output_type": "display_data"
    },
    {
     "name": "stdout",
     "output_type": "stream",
     "text": [
      "\n",
      "==================== Fold 2\n",
      "{'End date': Timestamp('2021-07-18 00:00:00', freq='W-SUN'),\n",
      " 'Start date': Timestamp('2021-07-11 00:00:00', freq='W-SUN'),\n",
      " 'Test': 214489,\n",
      " 'Test items': 6313,\n",
      " 'Test users': 84234,\n",
      " 'Train': 3192875,\n",
      " 'Train items': 14711,\n",
      " 'Train users': 640144}\n"
     ]
    },
    {
     "data": {
      "application/vnd.jupyter.widget-view+json": {
       "model_id": "7c943095bc8945db8f26c2f8c78ede01",
       "version_major": 2,
       "version_minor": 0
      },
      "text/plain": [
       "  0%|          | 0/640144 [00:00<?, ?it/s]"
      ]
     },
     "metadata": {},
     "output_type": "display_data"
    },
    {
     "data": {
      "application/vnd.jupyter.widget-view+json": {
       "model_id": "7896b27d81384520b639721aace6709c",
       "version_major": 2,
       "version_minor": 0
      },
      "text/plain": [
       "  0%|          | 0/640144 [00:00<?, ?it/s]"
      ]
     },
     "metadata": {},
     "output_type": "display_data"
    },
    {
     "name": "stdout",
     "output_type": "stream",
     "text": [
      "\n",
      "==================== Fold 3\n",
      "{'End date': Timestamp('2021-07-25 00:00:00', freq='W-SUN'),\n",
      " 'Start date': Timestamp('2021-07-18 00:00:00', freq='W-SUN'),\n",
      " 'Test': 231207,\n",
      " 'Test items': 6491,\n",
      " 'Test users': 87632,\n",
      " 'Train': 3506106,\n",
      " 'Train items': 14928,\n",
      " 'Train users': 687200}\n"
     ]
    },
    {
     "data": {
      "application/vnd.jupyter.widget-view+json": {
       "model_id": "b813ba68d9824de787fb283a31df3b02",
       "version_major": 2,
       "version_minor": 0
      },
      "text/plain": [
       "  0%|          | 0/687200 [00:00<?, ?it/s]"
      ]
     },
     "metadata": {},
     "output_type": "display_data"
    },
    {
     "data": {
      "application/vnd.jupyter.widget-view+json": {
       "model_id": "bdceb94722844449893262690220e4b6",
       "version_major": 2,
       "version_minor": 0
      },
      "text/plain": [
       "  0%|          | 0/687200 [00:00<?, ?it/s]"
      ]
     },
     "metadata": {},
     "output_type": "display_data"
    },
    {
     "name": "stdout",
     "output_type": "stream",
     "text": [
      "\n",
      "==================== Fold 4\n",
      "{'End date': Timestamp('2021-08-01 00:00:00', freq='W-SUN'),\n",
      " 'Start date': Timestamp('2021-07-25 00:00:00', freq='W-SUN'),\n",
      " 'Test': 249396,\n",
      " 'Test items': 6611,\n",
      " 'Test users': 93092,\n",
      " 'Train': 3838180,\n",
      " 'Train items': 15061,\n",
      " 'Train users': 734701}\n"
     ]
    },
    {
     "data": {
      "application/vnd.jupyter.widget-view+json": {
       "model_id": "6d4bf1619ac541b9abfb116a473fe3fd",
       "version_major": 2,
       "version_minor": 0
      },
      "text/plain": [
       "  0%|          | 0/734701 [00:00<?, ?it/s]"
      ]
     },
     "metadata": {},
     "output_type": "display_data"
    },
    {
     "data": {
      "application/vnd.jupyter.widget-view+json": {
       "model_id": "106f09dde28542beb298b2a05f5da646",
       "version_major": 2,
       "version_minor": 0
      },
      "text/plain": [
       "  0%|          | 0/734701 [00:00<?, ?it/s]"
      ]
     },
     "metadata": {},
     "output_type": "display_data"
    },
    {
     "name": "stdout",
     "output_type": "stream",
     "text": [
      "\n",
      "==================== Fold 5\n",
      "{'End date': Timestamp('2021-08-08 00:00:00', freq='W-SUN'),\n",
      " 'Start date': Timestamp('2021-08-01 00:00:00', freq='W-SUN'),\n",
      " 'Test': 264039,\n",
      " 'Test items': 6609,\n",
      " 'Test users': 98161,\n",
      " 'Train': 4203885,\n",
      " 'Train items': 15212,\n",
      " 'Train users': 788721}\n"
     ]
    },
    {
     "data": {
      "application/vnd.jupyter.widget-view+json": {
       "model_id": "d36dfab9868b46bc8d665819203609fa",
       "version_major": 2,
       "version_minor": 0
      },
      "text/plain": [
       "  0%|          | 0/788721 [00:00<?, ?it/s]"
      ]
     },
     "metadata": {},
     "output_type": "display_data"
    },
    {
     "data": {
      "application/vnd.jupyter.widget-view+json": {
       "model_id": "898526382f17482297e4efb40ec5cf40",
       "version_major": 2,
       "version_minor": 0
      },
      "text/plain": [
       "  0%|          | 0/788721 [00:00<?, ?it/s]"
      ]
     },
     "metadata": {},
     "output_type": "display_data"
    },
    {
     "name": "stdout",
     "output_type": "stream",
     "text": [
      "\n",
      "==================== Fold 6\n",
      "{'End date': Timestamp('2021-08-15 00:00:00', freq='W-SUN'),\n",
      " 'Start date': Timestamp('2021-08-08 00:00:00', freq='W-SUN'),\n",
      " 'Test': 276699,\n",
      " 'Test items': 6715,\n",
      " 'Test users': 101983,\n",
      " 'Train': 4587708,\n",
      " 'Train items': 15404,\n",
      " 'Train users': 842129}\n"
     ]
    },
    {
     "data": {
      "application/vnd.jupyter.widget-view+json": {
       "model_id": "f4354b36ac134cd4b67d98a733d7f3c2",
       "version_major": 2,
       "version_minor": 0
      },
      "text/plain": [
       "  0%|          | 0/842129 [00:00<?, ?it/s]"
      ]
     },
     "metadata": {},
     "output_type": "display_data"
    },
    {
     "data": {
      "application/vnd.jupyter.widget-view+json": {
       "model_id": "02c9d486463747bebb18f163cdee1cbb",
       "version_major": 2,
       "version_minor": 0
      },
      "text/plain": [
       "  0%|          | 0/842129 [00:00<?, ?it/s]"
      ]
     },
     "metadata": {},
     "output_type": "display_data"
    },
    {
     "name": "stdout",
     "output_type": "stream",
     "text": [
      "CPU times: user 3h 47min 23s, sys: 23.7 s, total: 3h 47min 47s\n",
      "Wall time: 2h 27min 33s\n"
     ]
    }
   ],
   "source": [
    "%%time\n",
    "\n",
    "results = []\n",
    "\n",
    "fold_iterator = cv.split(Interactions(interactions), collect_fold_stats=True)\n",
    "\n",
    "for i_fold, (train_ids, test_ids, fold_info) in enumerate(fold_iterator):\n",
    "    print(f\"\\n==================== Fold {i_fold}\")\n",
    "    pprint(fold_info)\n",
    "\n",
    "    df_train = interactions.iloc[train_ids].copy()\n",
    "    df_test = interactions.iloc[test_ids][Columns.UserItem].copy()\n",
    "\n",
    "    catalog = df_train[Columns.Item].unique()\n",
    "    \n",
    "    for model_name, model in models.items():\n",
    "        userknn_model = UserKnn(model=model, N_users=50)\n",
    "        userknn_model.fit(df_train)\n",
    "    \n",
    "        recos = userknn_model.predict(df_test)\n",
    "    \n",
    "        metric_values = calc_metrics(\n",
    "            metrics,\n",
    "            reco=recos,\n",
    "            interactions=df_test,\n",
    "            prev_interactions=df_train,\n",
    "            catalog=catalog,\n",
    "        )\n",
    "    \n",
    "        fold = {\"fold\": i_fold, \"model\": model_name}\n",
    "        fold.update(metric_values)\n",
    "        results.append(fold)\n",
    "        "
   ]
  },
  {
   "cell_type": "markdown",
   "id": "f721eb3b",
   "metadata": {},
   "source": [
    "# 👌 Metrics \n",
    "\n",
    "`Metrics by fold`\n",
    "\n"
   ]
  },
  {
   "cell_type": "markdown",
   "id": "c0fb2e29",
   "metadata": {},
   "source": [
    "## Metric description \n",
    "- ### <a href=\"https://rectools.readthedocs.io/en/latest/api/rectools.metrics.novelty.MeanInvUserFreq.html#rectools.metrics.novelty.MeanInvUserFreq\"> Mean Inverse User Frequency (novelty)</a>\n",
    "\n",
    "- ### <a href=\"https://rectools.readthedocs.io/en/latest/api/rectools.metrics.serendipity.Serendipity.html\"> Serendipity = novelty and relevance</a>"
   ]
  },
  {
   "cell_type": "code",
   "execution_count": 16,
   "id": "5140f29c",
   "metadata": {
    "scrolled": false
   },
   "outputs": [
    {
     "data": {
      "text/html": [
       "<div>\n",
       "<style scoped>\n",
       "    .dataframe tbody tr th:only-of-type {\n",
       "        vertical-align: middle;\n",
       "    }\n",
       "\n",
       "    .dataframe tbody tr th {\n",
       "        vertical-align: top;\n",
       "    }\n",
       "\n",
       "    .dataframe thead th {\n",
       "        text-align: right;\n",
       "    }\n",
       "</style>\n",
       "<table border=\"1\" class=\"dataframe\">\n",
       "  <thead>\n",
       "    <tr style=\"text-align: right;\">\n",
       "      <th></th>\n",
       "      <th>fold</th>\n",
       "      <th>model</th>\n",
       "      <th>prec@10</th>\n",
       "      <th>recall@10</th>\n",
       "      <th>novelty</th>\n",
       "      <th>serendipity</th>\n",
       "    </tr>\n",
       "  </thead>\n",
       "  <tbody>\n",
       "    <tr>\n",
       "      <th>0</th>\n",
       "      <td>0</td>\n",
       "      <td>cosine_itemknn</td>\n",
       "      <td>0.004879</td>\n",
       "      <td>0.027282</td>\n",
       "      <td>7.783925</td>\n",
       "      <td>0.000031</td>\n",
       "    </tr>\n",
       "    <tr>\n",
       "      <th>1</th>\n",
       "      <td>0</td>\n",
       "      <td>tfidf_itemknn</td>\n",
       "      <td>0.008546</td>\n",
       "      <td>0.048340</td>\n",
       "      <td>7.799313</td>\n",
       "      <td>0.000035</td>\n",
       "    </tr>\n",
       "    <tr>\n",
       "      <th>2</th>\n",
       "      <td>1</td>\n",
       "      <td>cosine_itemknn</td>\n",
       "      <td>0.004807</td>\n",
       "      <td>0.028028</td>\n",
       "      <td>7.813600</td>\n",
       "      <td>0.000033</td>\n",
       "    </tr>\n",
       "    <tr>\n",
       "      <th>3</th>\n",
       "      <td>1</td>\n",
       "      <td>tfidf_itemknn</td>\n",
       "      <td>0.008504</td>\n",
       "      <td>0.050560</td>\n",
       "      <td>7.827066</td>\n",
       "      <td>0.000039</td>\n",
       "    </tr>\n",
       "    <tr>\n",
       "      <th>4</th>\n",
       "      <td>2</td>\n",
       "      <td>cosine_itemknn</td>\n",
       "      <td>0.004103</td>\n",
       "      <td>0.023102</td>\n",
       "      <td>7.953270</td>\n",
       "      <td>0.000037</td>\n",
       "    </tr>\n",
       "    <tr>\n",
       "      <th>5</th>\n",
       "      <td>2</td>\n",
       "      <td>tfidf_itemknn</td>\n",
       "      <td>0.006830</td>\n",
       "      <td>0.038295</td>\n",
       "      <td>7.952497</td>\n",
       "      <td>0.000042</td>\n",
       "    </tr>\n",
       "    <tr>\n",
       "      <th>6</th>\n",
       "      <td>3</td>\n",
       "      <td>cosine_itemknn</td>\n",
       "      <td>0.003865</td>\n",
       "      <td>0.020485</td>\n",
       "      <td>8.063779</td>\n",
       "      <td>0.000044</td>\n",
       "    </tr>\n",
       "    <tr>\n",
       "      <th>7</th>\n",
       "      <td>3</td>\n",
       "      <td>tfidf_itemknn</td>\n",
       "      <td>0.006591</td>\n",
       "      <td>0.035558</td>\n",
       "      <td>8.037984</td>\n",
       "      <td>0.000053</td>\n",
       "    </tr>\n",
       "    <tr>\n",
       "      <th>8</th>\n",
       "      <td>4</td>\n",
       "      <td>cosine_itemknn</td>\n",
       "      <td>0.003700</td>\n",
       "      <td>0.019591</td>\n",
       "      <td>8.118989</td>\n",
       "      <td>0.000047</td>\n",
       "    </tr>\n",
       "    <tr>\n",
       "      <th>9</th>\n",
       "      <td>4</td>\n",
       "      <td>tfidf_itemknn</td>\n",
       "      <td>0.006383</td>\n",
       "      <td>0.033929</td>\n",
       "      <td>8.077043</td>\n",
       "      <td>0.000058</td>\n",
       "    </tr>\n",
       "    <tr>\n",
       "      <th>10</th>\n",
       "      <td>5</td>\n",
       "      <td>cosine_itemknn</td>\n",
       "      <td>0.003669</td>\n",
       "      <td>0.019410</td>\n",
       "      <td>8.126134</td>\n",
       "      <td>0.000043</td>\n",
       "    </tr>\n",
       "    <tr>\n",
       "      <th>11</th>\n",
       "      <td>5</td>\n",
       "      <td>tfidf_itemknn</td>\n",
       "      <td>0.006243</td>\n",
       "      <td>0.032813</td>\n",
       "      <td>8.066697</td>\n",
       "      <td>0.000055</td>\n",
       "    </tr>\n",
       "    <tr>\n",
       "      <th>12</th>\n",
       "      <td>6</td>\n",
       "      <td>cosine_itemknn</td>\n",
       "      <td>0.003330</td>\n",
       "      <td>0.017233</td>\n",
       "      <td>8.185844</td>\n",
       "      <td>0.000043</td>\n",
       "    </tr>\n",
       "    <tr>\n",
       "      <th>13</th>\n",
       "      <td>6</td>\n",
       "      <td>tfidf_itemknn</td>\n",
       "      <td>0.005880</td>\n",
       "      <td>0.031258</td>\n",
       "      <td>8.143471</td>\n",
       "      <td>0.000058</td>\n",
       "    </tr>\n",
       "  </tbody>\n",
       "</table>\n",
       "</div>"
      ],
      "text/plain": [
       "    fold           model   prec@10  recall@10   novelty  serendipity\n",
       "0      0  cosine_itemknn  0.004879   0.027282  7.783925     0.000031\n",
       "1      0   tfidf_itemknn  0.008546   0.048340  7.799313     0.000035\n",
       "2      1  cosine_itemknn  0.004807   0.028028  7.813600     0.000033\n",
       "3      1   tfidf_itemknn  0.008504   0.050560  7.827066     0.000039\n",
       "4      2  cosine_itemknn  0.004103   0.023102  7.953270     0.000037\n",
       "5      2   tfidf_itemknn  0.006830   0.038295  7.952497     0.000042\n",
       "6      3  cosine_itemknn  0.003865   0.020485  8.063779     0.000044\n",
       "7      3   tfidf_itemknn  0.006591   0.035558  8.037984     0.000053\n",
       "8      4  cosine_itemknn  0.003700   0.019591  8.118989     0.000047\n",
       "9      4   tfidf_itemknn  0.006383   0.033929  8.077043     0.000058\n",
       "10     5  cosine_itemknn  0.003669   0.019410  8.126134     0.000043\n",
       "11     5   tfidf_itemknn  0.006243   0.032813  8.066697     0.000055\n",
       "12     6  cosine_itemknn  0.003330   0.017233  8.185844     0.000043\n",
       "13     6   tfidf_itemknn  0.005880   0.031258  8.143471     0.000058"
      ]
     },
     "execution_count": 16,
     "metadata": {},
     "output_type": "execute_result"
    }
   ],
   "source": [
    "df_metrics = pd.DataFrame(results)\n",
    "df_metrics"
   ]
  },
  {
   "cell_type": "code",
   "execution_count": 17,
   "id": "a2c6d999",
   "metadata": {},
   "outputs": [],
   "source": [
    "# df_metrics.to_pickle(\"df_metrics.pickle\")"
   ]
  },
  {
   "cell_type": "markdown",
   "id": "ee277c01",
   "metadata": {},
   "source": [
    "## Metrics mean by fold\n",
    "`we can compare two models`"
   ]
  },
  {
   "cell_type": "code",
   "execution_count": 18,
   "id": "358d6a1d",
   "metadata": {
    "scrolled": true
   },
   "outputs": [
    {
     "data": {
      "text/html": [
       "<div>\n",
       "<style scoped>\n",
       "    .dataframe tbody tr th:only-of-type {\n",
       "        vertical-align: middle;\n",
       "    }\n",
       "\n",
       "    .dataframe tbody tr th {\n",
       "        vertical-align: top;\n",
       "    }\n",
       "\n",
       "    .dataframe thead th {\n",
       "        text-align: right;\n",
       "    }\n",
       "</style>\n",
       "<table border=\"1\" class=\"dataframe\">\n",
       "  <thead>\n",
       "    <tr style=\"text-align: right;\">\n",
       "      <th></th>\n",
       "      <th>prec@10</th>\n",
       "      <th>recall@10</th>\n",
       "      <th>novelty</th>\n",
       "      <th>serendipity</th>\n",
       "    </tr>\n",
       "    <tr>\n",
       "      <th>model</th>\n",
       "      <th></th>\n",
       "      <th></th>\n",
       "      <th></th>\n",
       "      <th></th>\n",
       "    </tr>\n",
       "  </thead>\n",
       "  <tbody>\n",
       "    <tr>\n",
       "      <th>cosine_itemknn</th>\n",
       "      <td>0.004050</td>\n",
       "      <td>0.022161</td>\n",
       "      <td>8.006506</td>\n",
       "      <td>0.000040</td>\n",
       "    </tr>\n",
       "    <tr>\n",
       "      <th>tfidf_itemknn</th>\n",
       "      <td>0.006997</td>\n",
       "      <td>0.038679</td>\n",
       "      <td>7.986296</td>\n",
       "      <td>0.000049</td>\n",
       "    </tr>\n",
       "  </tbody>\n",
       "</table>\n",
       "</div>"
      ],
      "text/plain": [
       "                 prec@10  recall@10   novelty  serendipity\n",
       "model                                                     \n",
       "cosine_itemknn  0.004050   0.022161  8.006506     0.000040\n",
       "tfidf_itemknn   0.006997   0.038679  7.986296     0.000049"
      ]
     },
     "execution_count": 18,
     "metadata": {},
     "output_type": "execute_result"
    }
   ],
   "source": [
    "df_metrics.groupby('model').mean()[metrics.keys()]"
   ]
  },
  {
   "cell_type": "markdown",
   "id": "1caa9ea3",
   "metadata": {},
   "source": [
    "## Metrics std by fold\n",
    "\n",
    "`If a diff between model metrics less than an std value => there is no significant difference observed`\n",
    "\n",
    "- For instance, for the serendipity metric there is no such difference between cosine_itemknn and tfidf_itemknn model results"
   ]
  },
  {
   "cell_type": "code",
   "execution_count": 19,
   "id": "23583ea1",
   "metadata": {},
   "outputs": [
    {
     "data": {
      "text/html": [
       "<div>\n",
       "<style scoped>\n",
       "    .dataframe tbody tr th:only-of-type {\n",
       "        vertical-align: middle;\n",
       "    }\n",
       "\n",
       "    .dataframe tbody tr th {\n",
       "        vertical-align: top;\n",
       "    }\n",
       "\n",
       "    .dataframe thead th {\n",
       "        text-align: right;\n",
       "    }\n",
       "</style>\n",
       "<table border=\"1\" class=\"dataframe\">\n",
       "  <thead>\n",
       "    <tr style=\"text-align: right;\">\n",
       "      <th></th>\n",
       "      <th>prec@10</th>\n",
       "      <th>recall@10</th>\n",
       "      <th>novelty</th>\n",
       "      <th>serendipity</th>\n",
       "    </tr>\n",
       "    <tr>\n",
       "      <th>model</th>\n",
       "      <th></th>\n",
       "      <th></th>\n",
       "      <th></th>\n",
       "      <th></th>\n",
       "    </tr>\n",
       "  </thead>\n",
       "  <tbody>\n",
       "    <tr>\n",
       "      <th>cosine_itemknn</th>\n",
       "      <td>0.000589</td>\n",
       "      <td>0.004139</td>\n",
       "      <td>0.159162</td>\n",
       "      <td>0.000006</td>\n",
       "    </tr>\n",
       "    <tr>\n",
       "      <th>tfidf_itemknn</th>\n",
       "      <td>0.001085</td>\n",
       "      <td>0.007707</td>\n",
       "      <td>0.131361</td>\n",
       "      <td>0.000009</td>\n",
       "    </tr>\n",
       "  </tbody>\n",
       "</table>\n",
       "</div>"
      ],
      "text/plain": [
       "                 prec@10  recall@10   novelty  serendipity\n",
       "model                                                     \n",
       "cosine_itemknn  0.000589   0.004139  0.159162     0.000006\n",
       "tfidf_itemknn   0.001085   0.007707  0.131361     0.000009"
      ]
     },
     "execution_count": 19,
     "metadata": {},
     "output_type": "execute_result"
    }
   ],
   "source": [
    "df_metrics.groupby('model').std()[metrics.keys()]"
   ]
  },
  {
   "cell_type": "code",
   "execution_count": 20,
   "id": "fdd7b118",
   "metadata": {},
   "outputs": [],
   "source": [
    "df = df_metrics.groupby('model').mean()[metrics.keys()]"
   ]
  },
  {
   "cell_type": "code",
   "execution_count": 21,
   "id": "ef13ce38",
   "metadata": {},
   "outputs": [
    {
     "data": {
      "text/plain": [
       "prec@10       -0.002946\n",
       "recall@10     -0.016518\n",
       "novelty        0.020210\n",
       "serendipity   -0.000009\n",
       "dtype: float64"
      ]
     },
     "execution_count": 21,
     "metadata": {},
     "output_type": "execute_result"
    }
   ],
   "source": [
    "diff = df.loc['cosine_itemknn'] - df.loc['tfidf_itemknn']\n",
    "diff"
   ]
  },
  {
   "cell_type": "markdown",
   "id": "ceccb531",
   "metadata": {},
   "source": [
    "## Decrease N_users"
   ]
  },
  {
   "cell_type": "code",
   "execution_count": 7,
   "id": "7a6184a4",
   "metadata": {},
   "outputs": [],
   "source": [
    "models = {\n",
    "    \"tfidf_itemknn\": TFIDFRecommender(),\n",
    "#     \"BM25\": BM25Recommender(),\n",
    "}\n",
    "n_users = {\n",
    "    \"n_40\": 40,\n",
    "    \"n_30\": 30,\n",
    "    \"n_20\": 20,\n",
    "    \"n_15\": 15,\n",
    "    \"n_10\": 10,\n",
    "}\n",
    "metrics = {\n",
    "    \"prec@10\": Precision(k=10),\n",
    "    \"recall@10\": Recall(k=10),\n",
    "    \"novelty\": MeanInvUserFreq(k=10),\n",
    "    \"serendipity\": Serendipity(k=10),\n",
    "}"
   ]
  },
  {
   "cell_type": "code",
   "execution_count": 8,
   "id": "61f9b3fe",
   "metadata": {},
   "outputs": [
    {
     "name": "stdout",
     "output_type": "stream",
     "text": [
      "Start date and last date of the test fold: (Timestamp('2021-07-17 00:00:00'), Timestamp('2021-08-22 00:00:00'))\n"
     ]
    }
   ],
   "source": [
    "# setting for cv \n",
    "n_folds = 7\n",
    "unit = \"D\"\n",
    "n_units = 5\n",
    "\n",
    "last_date = interactions[Columns.Datetime].max().normalize()\n",
    "start_date = last_date - pd.Timedelta(n_folds * n_units + 1, unit=unit)  \n",
    "print(f\"Start date and last date of the test fold: {start_date, last_date}\")"
   ]
  },
  {
   "cell_type": "code",
   "execution_count": 9,
   "id": "237e9b19",
   "metadata": {},
   "outputs": [
    {
     "name": "stdout",
     "output_type": "stream",
     "text": [
      "start_date: 2021-07-17 00:00:00\n",
      "last_date: 2021-08-22 00:00:00\n",
      "periods: 8\n",
      "freq: 5D\n",
      "\n",
      "Test fold borders: ['2021-07-17' '2021-07-22' '2021-07-27' '2021-08-01' '2021-08-06'\n",
      " '2021-08-11' '2021-08-16' '2021-08-21']\n",
      "Real number of folds: 7\n"
     ]
    }
   ],
   "source": [
    "from rectools.model_selection import TimeRangeSplitter\n",
    "from  rectools.dataset.interactions import Interactions\n",
    "\n",
    "periods = n_folds + 1\n",
    "freq = f\"{n_units}{unit}\"\n",
    "print(\n",
    "    f\"start_date: {start_date}\\n\"\n",
    "    f\"last_date: {last_date}\\n\"\n",
    "    f\"periods: {periods}\\n\"\n",
    "    f\"freq: {freq}\\n\"\n",
    ")\n",
    "    \n",
    "date_range = pd.date_range(start=start_date, periods=periods, freq=freq, tz=last_date.tz)\n",
    "print(f\"Test fold borders: {date_range.values.astype('datetime64[D]')}\")\n",
    "\n",
    "# generator of folds\n",
    "cv = TimeRangeSplitter(\n",
    "    date_range=date_range,\n",
    "    filter_already_seen=True,\n",
    "    filter_cold_items=True,\n",
    "    filter_cold_users=True,\n",
    ")\n",
    "print(f\"Real number of folds: {cv.get_n_splits(Interactions(interactions))}\")"
   ]
  },
  {
   "cell_type": "code",
   "execution_count": 10,
   "id": "ebe87baa",
   "metadata": {
    "scrolled": true
   },
   "outputs": [
    {
     "name": "stdout",
     "output_type": "stream",
     "text": [
      "\n",
      "==================== Fold 0\n",
      "{'End date': Timestamp('2021-07-22 00:00:00', freq='5D'),\n",
      " 'Start date': Timestamp('2021-07-17 00:00:00', freq='5D'),\n",
      " 'Test': 171552,\n",
      " 'Test items': 5965,\n",
      " 'Test users': 71945,\n",
      " 'Train': 3456392,\n",
      " 'Train items': 14912,\n",
      " 'Train users': 679748}\n",
      "tfidf_itemknn n_40\n"
     ]
    },
    {
     "data": {
      "application/vnd.jupyter.widget-view+json": {
       "model_id": "74f924c95c3145748849fecfb9c3c3b2",
       "version_major": 2,
       "version_minor": 0
      },
      "text/plain": [
       "  0%|          | 0/679748 [00:00<?, ?it/s]"
      ]
     },
     "metadata": {},
     "output_type": "display_data"
    },
    {
     "name": "stdout",
     "output_type": "stream",
     "text": [
      "tfidf_itemknn n_30\n"
     ]
    },
    {
     "data": {
      "application/vnd.jupyter.widget-view+json": {
       "model_id": "99e81c8c0ce9479f9f09aa75a1739e6a",
       "version_major": 2,
       "version_minor": 0
      },
      "text/plain": [
       "  0%|          | 0/679748 [00:00<?, ?it/s]"
      ]
     },
     "metadata": {},
     "output_type": "display_data"
    },
    {
     "name": "stdout",
     "output_type": "stream",
     "text": [
      "tfidf_itemknn n_20\n"
     ]
    },
    {
     "data": {
      "application/vnd.jupyter.widget-view+json": {
       "model_id": "536fced9adae4dd9840c52e982c1a79e",
       "version_major": 2,
       "version_minor": 0
      },
      "text/plain": [
       "  0%|          | 0/679748 [00:00<?, ?it/s]"
      ]
     },
     "metadata": {},
     "output_type": "display_data"
    },
    {
     "name": "stdout",
     "output_type": "stream",
     "text": [
      "tfidf_itemknn n_15\n"
     ]
    },
    {
     "data": {
      "application/vnd.jupyter.widget-view+json": {
       "model_id": "62b67d4fe6994218b642e3f13f9625ad",
       "version_major": 2,
       "version_minor": 0
      },
      "text/plain": [
       "  0%|          | 0/679748 [00:00<?, ?it/s]"
      ]
     },
     "metadata": {},
     "output_type": "display_data"
    },
    {
     "name": "stdout",
     "output_type": "stream",
     "text": [
      "tfidf_itemknn n_10\n"
     ]
    },
    {
     "data": {
      "application/vnd.jupyter.widget-view+json": {
       "model_id": "1c0ec2acd0b3447db6ad414639929f9f",
       "version_major": 2,
       "version_minor": 0
      },
      "text/plain": [
       "  0%|          | 0/679748 [00:00<?, ?it/s]"
      ]
     },
     "metadata": {},
     "output_type": "display_data"
    },
    {
     "name": "stdout",
     "output_type": "stream",
     "text": [
      "\n",
      "==================== Fold 1\n",
      "{'End date': Timestamp('2021-07-27 00:00:00', freq='5D'),\n",
      " 'Start date': Timestamp('2021-07-22 00:00:00', freq='5D'),\n",
      " 'Test': 174592,\n",
      " 'Test items': 6081,\n",
      " 'Test users': 72506,\n",
      " 'Train': 3694639,\n",
      " 'Train items': 14998,\n",
      " 'Train users': 714299}\n",
      "tfidf_itemknn n_40\n"
     ]
    },
    {
     "data": {
      "application/vnd.jupyter.widget-view+json": {
       "model_id": "8b016f92a5f147f79639f56926160afa",
       "version_major": 2,
       "version_minor": 0
      },
      "text/plain": [
       "  0%|          | 0/714299 [00:00<?, ?it/s]"
      ]
     },
     "metadata": {},
     "output_type": "display_data"
    },
    {
     "name": "stdout",
     "output_type": "stream",
     "text": [
      "tfidf_itemknn n_30\n"
     ]
    },
    {
     "data": {
      "application/vnd.jupyter.widget-view+json": {
       "model_id": "6f7526f53c18407fac266d0524437942",
       "version_major": 2,
       "version_minor": 0
      },
      "text/plain": [
       "  0%|          | 0/714299 [00:00<?, ?it/s]"
      ]
     },
     "metadata": {},
     "output_type": "display_data"
    },
    {
     "name": "stdout",
     "output_type": "stream",
     "text": [
      "tfidf_itemknn n_20\n"
     ]
    },
    {
     "data": {
      "application/vnd.jupyter.widget-view+json": {
       "model_id": "e156f6d35e51459d8642f2e448d940c4",
       "version_major": 2,
       "version_minor": 0
      },
      "text/plain": [
       "  0%|          | 0/714299 [00:00<?, ?it/s]"
      ]
     },
     "metadata": {},
     "output_type": "display_data"
    },
    {
     "name": "stdout",
     "output_type": "stream",
     "text": [
      "tfidf_itemknn n_15\n"
     ]
    },
    {
     "data": {
      "application/vnd.jupyter.widget-view+json": {
       "model_id": "15aa08958d514beb9b708799e2752b3e",
       "version_major": 2,
       "version_minor": 0
      },
      "text/plain": [
       "  0%|          | 0/714299 [00:00<?, ?it/s]"
      ]
     },
     "metadata": {},
     "output_type": "display_data"
    },
    {
     "name": "stdout",
     "output_type": "stream",
     "text": [
      "tfidf_itemknn n_10\n"
     ]
    },
    {
     "data": {
      "application/vnd.jupyter.widget-view+json": {
       "model_id": "c1c271941c9b4871abe1eb0bac1f7432",
       "version_major": 2,
       "version_minor": 0
      },
      "text/plain": [
       "  0%|          | 0/714299 [00:00<?, ?it/s]"
      ]
     },
     "metadata": {},
     "output_type": "display_data"
    },
    {
     "name": "stdout",
     "output_type": "stream",
     "text": [
      "\n",
      "==================== Fold 2\n",
      "{'End date': Timestamp('2021-08-01 00:00:00', freq='5D'),\n",
      " 'Start date': Timestamp('2021-07-27 00:00:00', freq='5D'),\n",
      " 'Test': 186642,\n",
      " 'Test items': 6088,\n",
      " 'Test users': 77743,\n",
      " 'Train': 3941089,\n",
      " 'Train items': 15109,\n",
      " 'Train users': 749447}\n",
      "tfidf_itemknn n_40\n"
     ]
    },
    {
     "data": {
      "application/vnd.jupyter.widget-view+json": {
       "model_id": "1024e8535c794340b5af0f1f97a41c2f",
       "version_major": 2,
       "version_minor": 0
      },
      "text/plain": [
       "  0%|          | 0/749447 [00:00<?, ?it/s]"
      ]
     },
     "metadata": {},
     "output_type": "display_data"
    },
    {
     "name": "stdout",
     "output_type": "stream",
     "text": [
      "tfidf_itemknn n_30\n"
     ]
    },
    {
     "data": {
      "application/vnd.jupyter.widget-view+json": {
       "model_id": "1f75994b27744bb6aef75f168627708d",
       "version_major": 2,
       "version_minor": 0
      },
      "text/plain": [
       "  0%|          | 0/749447 [00:00<?, ?it/s]"
      ]
     },
     "metadata": {},
     "output_type": "display_data"
    },
    {
     "name": "stdout",
     "output_type": "stream",
     "text": [
      "tfidf_itemknn n_20\n"
     ]
    },
    {
     "data": {
      "application/vnd.jupyter.widget-view+json": {
       "model_id": "edaba179765842b381fb0c983dc53e9f",
       "version_major": 2,
       "version_minor": 0
      },
      "text/plain": [
       "  0%|          | 0/749447 [00:00<?, ?it/s]"
      ]
     },
     "metadata": {},
     "output_type": "display_data"
    },
    {
     "name": "stdout",
     "output_type": "stream",
     "text": [
      "tfidf_itemknn n_15\n"
     ]
    },
    {
     "data": {
      "application/vnd.jupyter.widget-view+json": {
       "model_id": "f5ad238add444e1581c22fe1ea3a99a7",
       "version_major": 2,
       "version_minor": 0
      },
      "text/plain": [
       "  0%|          | 0/749447 [00:00<?, ?it/s]"
      ]
     },
     "metadata": {},
     "output_type": "display_data"
    },
    {
     "name": "stdout",
     "output_type": "stream",
     "text": [
      "tfidf_itemknn n_10\n"
     ]
    },
    {
     "data": {
      "application/vnd.jupyter.widget-view+json": {
       "model_id": "7650b36d25dc4504b99b33bacc4e9f5c",
       "version_major": 2,
       "version_minor": 0
      },
      "text/plain": [
       "  0%|          | 0/749447 [00:00<?, ?it/s]"
      ]
     },
     "metadata": {},
     "output_type": "display_data"
    },
    {
     "name": "stdout",
     "output_type": "stream",
     "text": [
      "\n",
      "==================== Fold 3\n",
      "{'End date': Timestamp('2021-08-06 00:00:00', freq='5D'),\n",
      " 'Start date': Timestamp('2021-08-01 00:00:00', freq='5D'),\n",
      " 'Test': 193921,\n",
      " 'Test items': 6096,\n",
      " 'Test users': 80069,\n",
      " 'Train': 4203885,\n",
      " 'Train items': 15212,\n",
      " 'Train users': 788721}\n",
      "tfidf_itemknn n_40\n"
     ]
    },
    {
     "data": {
      "application/vnd.jupyter.widget-view+json": {
       "model_id": "2ed8f0f230264c6b9a17dd403df88e56",
       "version_major": 2,
       "version_minor": 0
      },
      "text/plain": [
       "  0%|          | 0/788721 [00:00<?, ?it/s]"
      ]
     },
     "metadata": {},
     "output_type": "display_data"
    },
    {
     "name": "stdout",
     "output_type": "stream",
     "text": [
      "tfidf_itemknn n_30\n"
     ]
    },
    {
     "data": {
      "application/vnd.jupyter.widget-view+json": {
       "model_id": "b670960a73e74922a337002bfa24ed0e",
       "version_major": 2,
       "version_minor": 0
      },
      "text/plain": [
       "  0%|          | 0/788721 [00:00<?, ?it/s]"
      ]
     },
     "metadata": {},
     "output_type": "display_data"
    },
    {
     "name": "stdout",
     "output_type": "stream",
     "text": [
      "tfidf_itemknn n_20\n"
     ]
    },
    {
     "data": {
      "application/vnd.jupyter.widget-view+json": {
       "model_id": "53815784e50c4875bd3f1badc44070c8",
       "version_major": 2,
       "version_minor": 0
      },
      "text/plain": [
       "  0%|          | 0/788721 [00:00<?, ?it/s]"
      ]
     },
     "metadata": {},
     "output_type": "display_data"
    },
    {
     "name": "stdout",
     "output_type": "stream",
     "text": [
      "tfidf_itemknn n_15\n"
     ]
    },
    {
     "data": {
      "application/vnd.jupyter.widget-view+json": {
       "model_id": "0010a7bbc51b4f65b488ed9f8977bc01",
       "version_major": 2,
       "version_minor": 0
      },
      "text/plain": [
       "  0%|          | 0/788721 [00:00<?, ?it/s]"
      ]
     },
     "metadata": {},
     "output_type": "display_data"
    },
    {
     "name": "stdout",
     "output_type": "stream",
     "text": [
      "tfidf_itemknn n_10\n"
     ]
    },
    {
     "data": {
      "application/vnd.jupyter.widget-view+json": {
       "model_id": "d0f31786fc4f4cbd9d4dea230179d840",
       "version_major": 2,
       "version_minor": 0
      },
      "text/plain": [
       "  0%|          | 0/788721 [00:00<?, ?it/s]"
      ]
     },
     "metadata": {},
     "output_type": "display_data"
    },
    {
     "name": "stdout",
     "output_type": "stream",
     "text": [
      "\n",
      "==================== Fold 4\n",
      "{'End date': Timestamp('2021-08-11 00:00:00', freq='5D'),\n",
      " 'Start date': Timestamp('2021-08-06 00:00:00', freq='5D'),\n",
      " 'Test': 203193,\n",
      " 'Test items': 6123,\n",
      " 'Test users': 82818,\n",
      " 'Train': 4474647,\n",
      " 'Train items': 15356,\n",
      " 'Train users': 826429}\n",
      "tfidf_itemknn n_40\n"
     ]
    },
    {
     "data": {
      "application/vnd.jupyter.widget-view+json": {
       "model_id": "bd6c1e5ff05b42238af8bbec4d080a12",
       "version_major": 2,
       "version_minor": 0
      },
      "text/plain": [
       "  0%|          | 0/826429 [00:00<?, ?it/s]"
      ]
     },
     "metadata": {},
     "output_type": "display_data"
    },
    {
     "name": "stdout",
     "output_type": "stream",
     "text": [
      "tfidf_itemknn n_30\n"
     ]
    },
    {
     "data": {
      "application/vnd.jupyter.widget-view+json": {
       "model_id": "6e3c6658178a470ba8b519ef49c0de98",
       "version_major": 2,
       "version_minor": 0
      },
      "text/plain": [
       "  0%|          | 0/826429 [00:00<?, ?it/s]"
      ]
     },
     "metadata": {},
     "output_type": "display_data"
    },
    {
     "name": "stdout",
     "output_type": "stream",
     "text": [
      "tfidf_itemknn n_20\n"
     ]
    },
    {
     "data": {
      "application/vnd.jupyter.widget-view+json": {
       "model_id": "0db6fb47bb3f4cdca47c8d3369010133",
       "version_major": 2,
       "version_minor": 0
      },
      "text/plain": [
       "  0%|          | 0/826429 [00:00<?, ?it/s]"
      ]
     },
     "metadata": {},
     "output_type": "display_data"
    },
    {
     "name": "stdout",
     "output_type": "stream",
     "text": [
      "tfidf_itemknn n_15\n"
     ]
    },
    {
     "data": {
      "application/vnd.jupyter.widget-view+json": {
       "model_id": "7f55231ce3ab4972885386bffc706c13",
       "version_major": 2,
       "version_minor": 0
      },
      "text/plain": [
       "  0%|          | 0/826429 [00:00<?, ?it/s]"
      ]
     },
     "metadata": {},
     "output_type": "display_data"
    },
    {
     "name": "stdout",
     "output_type": "stream",
     "text": [
      "tfidf_itemknn n_10\n"
     ]
    },
    {
     "data": {
      "application/vnd.jupyter.widget-view+json": {
       "model_id": "ce51e8561e084a31978be4e3ed192716",
       "version_major": 2,
       "version_minor": 0
      },
      "text/plain": [
       "  0%|          | 0/826429 [00:00<?, ?it/s]"
      ]
     },
     "metadata": {},
     "output_type": "display_data"
    },
    {
     "name": "stdout",
     "output_type": "stream",
     "text": [
      "\n",
      "==================== Fold 5\n",
      "{'End date': Timestamp('2021-08-16 00:00:00', freq='5D'),\n",
      " 'Start date': Timestamp('2021-08-11 00:00:00', freq='5D'),\n",
      " 'Test': 211952,\n",
      " 'Test items': 6325,\n",
      " 'Test users': 86828,\n",
      " 'Train': 4755668,\n",
      " 'Train items': 15480,\n",
      " 'Train users': 865063}\n",
      "tfidf_itemknn n_40\n"
     ]
    },
    {
     "data": {
      "application/vnd.jupyter.widget-view+json": {
       "model_id": "8c724c512c3d48e5b613110c63ed3aa6",
       "version_major": 2,
       "version_minor": 0
      },
      "text/plain": [
       "  0%|          | 0/865063 [00:00<?, ?it/s]"
      ]
     },
     "metadata": {},
     "output_type": "display_data"
    },
    {
     "name": "stdout",
     "output_type": "stream",
     "text": [
      "tfidf_itemknn n_30\n"
     ]
    },
    {
     "data": {
      "application/vnd.jupyter.widget-view+json": {
       "model_id": "b07a90f577e449f898089a03f4c4939b",
       "version_major": 2,
       "version_minor": 0
      },
      "text/plain": [
       "  0%|          | 0/865063 [00:00<?, ?it/s]"
      ]
     },
     "metadata": {},
     "output_type": "display_data"
    },
    {
     "name": "stdout",
     "output_type": "stream",
     "text": [
      "tfidf_itemknn n_20\n"
     ]
    },
    {
     "data": {
      "application/vnd.jupyter.widget-view+json": {
       "model_id": "88ae0a9524544004ae17ad7ff06de931",
       "version_major": 2,
       "version_minor": 0
      },
      "text/plain": [
       "  0%|          | 0/865063 [00:00<?, ?it/s]"
      ]
     },
     "metadata": {},
     "output_type": "display_data"
    },
    {
     "name": "stdout",
     "output_type": "stream",
     "text": [
      "tfidf_itemknn n_15\n"
     ]
    },
    {
     "data": {
      "application/vnd.jupyter.widget-view+json": {
       "model_id": "a2489bff5c79465ba17a95cb748ebf17",
       "version_major": 2,
       "version_minor": 0
      },
      "text/plain": [
       "  0%|          | 0/865063 [00:00<?, ?it/s]"
      ]
     },
     "metadata": {},
     "output_type": "display_data"
    },
    {
     "name": "stdout",
     "output_type": "stream",
     "text": [
      "tfidf_itemknn n_10\n"
     ]
    },
    {
     "data": {
      "application/vnd.jupyter.widget-view+json": {
       "model_id": "f3c275d8bc5843aa8c4ab9c062bc232c",
       "version_major": 2,
       "version_minor": 0
      },
      "text/plain": [
       "  0%|          | 0/865063 [00:00<?, ?it/s]"
      ]
     },
     "metadata": {},
     "output_type": "display_data"
    },
    {
     "name": "stdout",
     "output_type": "stream",
     "text": [
      "\n",
      "==================== Fold 6\n",
      "{'End date': Timestamp('2021-08-21 00:00:00', freq='5D'),\n",
      " 'Start date': Timestamp('2021-08-16 00:00:00', freq='5D'),\n",
      " 'Test': 207727,\n",
      " 'Test items': 6109,\n",
      " 'Test users': 85168,\n",
      " 'Train': 5051815,\n",
      " 'Train items': 15577,\n",
      " 'Train users': 906071}\n",
      "tfidf_itemknn n_40\n"
     ]
    },
    {
     "data": {
      "application/vnd.jupyter.widget-view+json": {
       "model_id": "d95d98f7a25e4470898e3d719d82490a",
       "version_major": 2,
       "version_minor": 0
      },
      "text/plain": [
       "  0%|          | 0/906071 [00:00<?, ?it/s]"
      ]
     },
     "metadata": {},
     "output_type": "display_data"
    },
    {
     "name": "stdout",
     "output_type": "stream",
     "text": [
      "tfidf_itemknn n_30\n"
     ]
    },
    {
     "data": {
      "application/vnd.jupyter.widget-view+json": {
       "model_id": "e97d60ee6615489783ffd56cb0f9a75e",
       "version_major": 2,
       "version_minor": 0
      },
      "text/plain": [
       "  0%|          | 0/906071 [00:00<?, ?it/s]"
      ]
     },
     "metadata": {},
     "output_type": "display_data"
    },
    {
     "name": "stdout",
     "output_type": "stream",
     "text": [
      "tfidf_itemknn n_20\n"
     ]
    },
    {
     "data": {
      "application/vnd.jupyter.widget-view+json": {
       "model_id": "c22e8820c1794a539cb133536df2e328",
       "version_major": 2,
       "version_minor": 0
      },
      "text/plain": [
       "  0%|          | 0/906071 [00:00<?, ?it/s]"
      ]
     },
     "metadata": {},
     "output_type": "display_data"
    },
    {
     "name": "stdout",
     "output_type": "stream",
     "text": [
      "tfidf_itemknn n_15\n"
     ]
    },
    {
     "data": {
      "application/vnd.jupyter.widget-view+json": {
       "model_id": "869e4aeb799e4ba0a0e7769f082f600b",
       "version_major": 2,
       "version_minor": 0
      },
      "text/plain": [
       "  0%|          | 0/906071 [00:00<?, ?it/s]"
      ]
     },
     "metadata": {},
     "output_type": "display_data"
    },
    {
     "name": "stdout",
     "output_type": "stream",
     "text": [
      "tfidf_itemknn n_10\n"
     ]
    },
    {
     "data": {
      "application/vnd.jupyter.widget-view+json": {
       "model_id": "d777bdc20fae4aa6a5a3cbd51ae6347d",
       "version_major": 2,
       "version_minor": 0
      },
      "text/plain": [
       "  0%|          | 0/906071 [00:00<?, ?it/s]"
      ]
     },
     "metadata": {},
     "output_type": "display_data"
    },
    {
     "name": "stdout",
     "output_type": "stream",
     "text": [
      "CPU times: user 13h 45min 11s, sys: 1min 9s, total: 13h 46min 21s\n",
      "Wall time: 8h 53min 29s\n"
     ]
    }
   ],
   "source": [
    "%%time\n",
    "\n",
    "results = []\n",
    "\n",
    "fold_iterator = cv.split(Interactions(interactions), collect_fold_stats=True)\n",
    "\n",
    "for i_fold, (train_ids, test_ids, fold_info) in enumerate(fold_iterator):\n",
    "    print(f\"\\n==================== Fold {i_fold}\")\n",
    "    pprint(fold_info)\n",
    "\n",
    "    df_train = interactions.iloc[train_ids].copy()\n",
    "    df_test = interactions.iloc[test_ids][Columns.UserItem].copy()\n",
    "\n",
    "    catalog = df_train[Columns.Item].unique()\n",
    "    \n",
    "    for model_name, model in models.items():\n",
    "        for name, n in n_users.items():\n",
    "            print(model_name, name)\n",
    "            userknn_model = UserKnn(model=model, N_users=n)\n",
    "            userknn_model.fit(df_train)\n",
    "\n",
    "            recos = userknn_model.predict(df_test)\n",
    "\n",
    "            metric_values = calc_metrics(\n",
    "                metrics,\n",
    "                reco=recos,\n",
    "                interactions=df_test,\n",
    "                prev_interactions=df_train,\n",
    "                catalog=catalog,\n",
    "            )\n",
    "\n",
    "            fold = {\"fold\": i_fold, \"model\": model_name, \"n_users\": n}\n",
    "            fold.update(metric_values)\n",
    "            results.append(fold)\n",
    "        "
   ]
  },
  {
   "cell_type": "code",
   "execution_count": 11,
   "id": "9bddc050",
   "metadata": {},
   "outputs": [
    {
     "data": {
      "text/html": [
       "<div>\n",
       "<style scoped>\n",
       "    .dataframe tbody tr th:only-of-type {\n",
       "        vertical-align: middle;\n",
       "    }\n",
       "\n",
       "    .dataframe tbody tr th {\n",
       "        vertical-align: top;\n",
       "    }\n",
       "\n",
       "    .dataframe thead th {\n",
       "        text-align: right;\n",
       "    }\n",
       "</style>\n",
       "<table border=\"1\" class=\"dataframe\">\n",
       "  <thead>\n",
       "    <tr style=\"text-align: right;\">\n",
       "      <th></th>\n",
       "      <th>fold</th>\n",
       "      <th>model</th>\n",
       "      <th>n_users</th>\n",
       "      <th>prec@10</th>\n",
       "      <th>recall@10</th>\n",
       "      <th>novelty</th>\n",
       "      <th>serendipity</th>\n",
       "    </tr>\n",
       "  </thead>\n",
       "  <tbody>\n",
       "    <tr>\n",
       "      <th>0</th>\n",
       "      <td>0</td>\n",
       "      <td>tfidf_itemknn</td>\n",
       "      <td>40</td>\n",
       "      <td>0.006235</td>\n",
       "      <td>0.036011</td>\n",
       "      <td>8.088503</td>\n",
       "      <td>0.000050</td>\n",
       "    </tr>\n",
       "    <tr>\n",
       "      <th>1</th>\n",
       "      <td>0</td>\n",
       "      <td>tfidf_itemknn</td>\n",
       "      <td>30</td>\n",
       "      <td>0.006235</td>\n",
       "      <td>0.036011</td>\n",
       "      <td>8.088503</td>\n",
       "      <td>0.000050</td>\n",
       "    </tr>\n",
       "    <tr>\n",
       "      <th>2</th>\n",
       "      <td>0</td>\n",
       "      <td>tfidf_itemknn</td>\n",
       "      <td>20</td>\n",
       "      <td>0.006235</td>\n",
       "      <td>0.036011</td>\n",
       "      <td>8.088503</td>\n",
       "      <td>0.000050</td>\n",
       "    </tr>\n",
       "    <tr>\n",
       "      <th>3</th>\n",
       "      <td>0</td>\n",
       "      <td>tfidf_itemknn</td>\n",
       "      <td>15</td>\n",
       "      <td>0.006010</td>\n",
       "      <td>0.034749</td>\n",
       "      <td>8.016872</td>\n",
       "      <td>0.000047</td>\n",
       "    </tr>\n",
       "    <tr>\n",
       "      <th>4</th>\n",
       "      <td>0</td>\n",
       "      <td>tfidf_itemknn</td>\n",
       "      <td>10</td>\n",
       "      <td>0.005412</td>\n",
       "      <td>0.031378</td>\n",
       "      <td>7.957084</td>\n",
       "      <td>0.000040</td>\n",
       "    </tr>\n",
       "    <tr>\n",
       "      <th>5</th>\n",
       "      <td>1</td>\n",
       "      <td>tfidf_itemknn</td>\n",
       "      <td>40</td>\n",
       "      <td>0.005857</td>\n",
       "      <td>0.033396</td>\n",
       "      <td>8.145902</td>\n",
       "      <td>0.000052</td>\n",
       "    </tr>\n",
       "    <tr>\n",
       "      <th>6</th>\n",
       "      <td>1</td>\n",
       "      <td>tfidf_itemknn</td>\n",
       "      <td>30</td>\n",
       "      <td>0.005857</td>\n",
       "      <td>0.033396</td>\n",
       "      <td>8.145902</td>\n",
       "      <td>0.000052</td>\n",
       "    </tr>\n",
       "    <tr>\n",
       "      <th>7</th>\n",
       "      <td>1</td>\n",
       "      <td>tfidf_itemknn</td>\n",
       "      <td>20</td>\n",
       "      <td>0.005857</td>\n",
       "      <td>0.033396</td>\n",
       "      <td>8.145902</td>\n",
       "      <td>0.000052</td>\n",
       "    </tr>\n",
       "    <tr>\n",
       "      <th>8</th>\n",
       "      <td>1</td>\n",
       "      <td>tfidf_itemknn</td>\n",
       "      <td>15</td>\n",
       "      <td>0.005637</td>\n",
       "      <td>0.031693</td>\n",
       "      <td>8.061765</td>\n",
       "      <td>0.000048</td>\n",
       "    </tr>\n",
       "    <tr>\n",
       "      <th>9</th>\n",
       "      <td>1</td>\n",
       "      <td>tfidf_itemknn</td>\n",
       "      <td>10</td>\n",
       "      <td>0.005202</td>\n",
       "      <td>0.029139</td>\n",
       "      <td>7.993310</td>\n",
       "      <td>0.000043</td>\n",
       "    </tr>\n",
       "    <tr>\n",
       "      <th>10</th>\n",
       "      <td>2</td>\n",
       "      <td>tfidf_itemknn</td>\n",
       "      <td>40</td>\n",
       "      <td>0.005900</td>\n",
       "      <td>0.033908</td>\n",
       "      <td>8.112820</td>\n",
       "      <td>0.000051</td>\n",
       "    </tr>\n",
       "    <tr>\n",
       "      <th>11</th>\n",
       "      <td>2</td>\n",
       "      <td>tfidf_itemknn</td>\n",
       "      <td>30</td>\n",
       "      <td>0.005900</td>\n",
       "      <td>0.033908</td>\n",
       "      <td>8.112820</td>\n",
       "      <td>0.000051</td>\n",
       "    </tr>\n",
       "    <tr>\n",
       "      <th>12</th>\n",
       "      <td>2</td>\n",
       "      <td>tfidf_itemknn</td>\n",
       "      <td>20</td>\n",
       "      <td>0.005900</td>\n",
       "      <td>0.033908</td>\n",
       "      <td>8.112820</td>\n",
       "      <td>0.000051</td>\n",
       "    </tr>\n",
       "    <tr>\n",
       "      <th>13</th>\n",
       "      <td>2</td>\n",
       "      <td>tfidf_itemknn</td>\n",
       "      <td>15</td>\n",
       "      <td>0.005680</td>\n",
       "      <td>0.032458</td>\n",
       "      <td>8.028252</td>\n",
       "      <td>0.000046</td>\n",
       "    </tr>\n",
       "    <tr>\n",
       "      <th>14</th>\n",
       "      <td>2</td>\n",
       "      <td>tfidf_itemknn</td>\n",
       "      <td>10</td>\n",
       "      <td>0.005136</td>\n",
       "      <td>0.028860</td>\n",
       "      <td>7.957338</td>\n",
       "      <td>0.000038</td>\n",
       "    </tr>\n",
       "    <tr>\n",
       "      <th>15</th>\n",
       "      <td>3</td>\n",
       "      <td>tfidf_itemknn</td>\n",
       "      <td>40</td>\n",
       "      <td>0.005870</td>\n",
       "      <td>0.033229</td>\n",
       "      <td>8.121811</td>\n",
       "      <td>0.000053</td>\n",
       "    </tr>\n",
       "    <tr>\n",
       "      <th>16</th>\n",
       "      <td>3</td>\n",
       "      <td>tfidf_itemknn</td>\n",
       "      <td>30</td>\n",
       "      <td>0.005870</td>\n",
       "      <td>0.033229</td>\n",
       "      <td>8.121811</td>\n",
       "      <td>0.000053</td>\n",
       "    </tr>\n",
       "    <tr>\n",
       "      <th>17</th>\n",
       "      <td>3</td>\n",
       "      <td>tfidf_itemknn</td>\n",
       "      <td>20</td>\n",
       "      <td>0.005870</td>\n",
       "      <td>0.033229</td>\n",
       "      <td>8.121811</td>\n",
       "      <td>0.000053</td>\n",
       "    </tr>\n",
       "    <tr>\n",
       "      <th>18</th>\n",
       "      <td>3</td>\n",
       "      <td>tfidf_itemknn</td>\n",
       "      <td>15</td>\n",
       "      <td>0.005608</td>\n",
       "      <td>0.031456</td>\n",
       "      <td>8.045952</td>\n",
       "      <td>0.000050</td>\n",
       "    </tr>\n",
       "    <tr>\n",
       "      <th>19</th>\n",
       "      <td>3</td>\n",
       "      <td>tfidf_itemknn</td>\n",
       "      <td>10</td>\n",
       "      <td>0.005137</td>\n",
       "      <td>0.028766</td>\n",
       "      <td>7.975694</td>\n",
       "      <td>0.000043</td>\n",
       "    </tr>\n",
       "    <tr>\n",
       "      <th>20</th>\n",
       "      <td>4</td>\n",
       "      <td>tfidf_itemknn</td>\n",
       "      <td>40</td>\n",
       "      <td>0.005533</td>\n",
       "      <td>0.030493</td>\n",
       "      <td>8.162252</td>\n",
       "      <td>0.000053</td>\n",
       "    </tr>\n",
       "    <tr>\n",
       "      <th>21</th>\n",
       "      <td>4</td>\n",
       "      <td>tfidf_itemknn</td>\n",
       "      <td>30</td>\n",
       "      <td>0.005533</td>\n",
       "      <td>0.030493</td>\n",
       "      <td>8.162252</td>\n",
       "      <td>0.000053</td>\n",
       "    </tr>\n",
       "    <tr>\n",
       "      <th>22</th>\n",
       "      <td>4</td>\n",
       "      <td>tfidf_itemknn</td>\n",
       "      <td>20</td>\n",
       "      <td>0.005533</td>\n",
       "      <td>0.030493</td>\n",
       "      <td>8.162252</td>\n",
       "      <td>0.000053</td>\n",
       "    </tr>\n",
       "    <tr>\n",
       "      <th>23</th>\n",
       "      <td>4</td>\n",
       "      <td>tfidf_itemknn</td>\n",
       "      <td>15</td>\n",
       "      <td>0.005289</td>\n",
       "      <td>0.029293</td>\n",
       "      <td>8.086215</td>\n",
       "      <td>0.000049</td>\n",
       "    </tr>\n",
       "    <tr>\n",
       "      <th>24</th>\n",
       "      <td>4</td>\n",
       "      <td>tfidf_itemknn</td>\n",
       "      <td>10</td>\n",
       "      <td>0.004878</td>\n",
       "      <td>0.026951</td>\n",
       "      <td>8.015082</td>\n",
       "      <td>0.000040</td>\n",
       "    </tr>\n",
       "    <tr>\n",
       "      <th>25</th>\n",
       "      <td>5</td>\n",
       "      <td>tfidf_itemknn</td>\n",
       "      <td>40</td>\n",
       "      <td>0.005422</td>\n",
       "      <td>0.030625</td>\n",
       "      <td>8.238712</td>\n",
       "      <td>0.000057</td>\n",
       "    </tr>\n",
       "    <tr>\n",
       "      <th>26</th>\n",
       "      <td>5</td>\n",
       "      <td>tfidf_itemknn</td>\n",
       "      <td>30</td>\n",
       "      <td>0.005422</td>\n",
       "      <td>0.030625</td>\n",
       "      <td>8.238712</td>\n",
       "      <td>0.000057</td>\n",
       "    </tr>\n",
       "    <tr>\n",
       "      <th>27</th>\n",
       "      <td>5</td>\n",
       "      <td>tfidf_itemknn</td>\n",
       "      <td>20</td>\n",
       "      <td>0.005422</td>\n",
       "      <td>0.030625</td>\n",
       "      <td>8.238712</td>\n",
       "      <td>0.000057</td>\n",
       "    </tr>\n",
       "    <tr>\n",
       "      <th>28</th>\n",
       "      <td>5</td>\n",
       "      <td>tfidf_itemknn</td>\n",
       "      <td>15</td>\n",
       "      <td>0.005224</td>\n",
       "      <td>0.028970</td>\n",
       "      <td>8.160799</td>\n",
       "      <td>0.000053</td>\n",
       "    </tr>\n",
       "    <tr>\n",
       "      <th>29</th>\n",
       "      <td>5</td>\n",
       "      <td>tfidf_itemknn</td>\n",
       "      <td>10</td>\n",
       "      <td>0.004792</td>\n",
       "      <td>0.026449</td>\n",
       "      <td>8.086860</td>\n",
       "      <td>0.000047</td>\n",
       "    </tr>\n",
       "    <tr>\n",
       "      <th>30</th>\n",
       "      <td>6</td>\n",
       "      <td>tfidf_itemknn</td>\n",
       "      <td>40</td>\n",
       "      <td>0.005207</td>\n",
       "      <td>0.028753</td>\n",
       "      <td>8.237862</td>\n",
       "      <td>0.000060</td>\n",
       "    </tr>\n",
       "    <tr>\n",
       "      <th>31</th>\n",
       "      <td>6</td>\n",
       "      <td>tfidf_itemknn</td>\n",
       "      <td>30</td>\n",
       "      <td>0.005207</td>\n",
       "      <td>0.028753</td>\n",
       "      <td>8.237862</td>\n",
       "      <td>0.000060</td>\n",
       "    </tr>\n",
       "    <tr>\n",
       "      <th>32</th>\n",
       "      <td>6</td>\n",
       "      <td>tfidf_itemknn</td>\n",
       "      <td>20</td>\n",
       "      <td>0.005207</td>\n",
       "      <td>0.028753</td>\n",
       "      <td>8.237862</td>\n",
       "      <td>0.000060</td>\n",
       "    </tr>\n",
       "    <tr>\n",
       "      <th>33</th>\n",
       "      <td>6</td>\n",
       "      <td>tfidf_itemknn</td>\n",
       "      <td>15</td>\n",
       "      <td>0.005017</td>\n",
       "      <td>0.027506</td>\n",
       "      <td>8.160308</td>\n",
       "      <td>0.000055</td>\n",
       "    </tr>\n",
       "    <tr>\n",
       "      <th>34</th>\n",
       "      <td>6</td>\n",
       "      <td>tfidf_itemknn</td>\n",
       "      <td>10</td>\n",
       "      <td>0.004529</td>\n",
       "      <td>0.024712</td>\n",
       "      <td>8.081845</td>\n",
       "      <td>0.000048</td>\n",
       "    </tr>\n",
       "  </tbody>\n",
       "</table>\n",
       "</div>"
      ],
      "text/plain": [
       "    fold          model  n_users   prec@10  recall@10   novelty  serendipity\n",
       "0      0  tfidf_itemknn       40  0.006235   0.036011  8.088503     0.000050\n",
       "1      0  tfidf_itemknn       30  0.006235   0.036011  8.088503     0.000050\n",
       "2      0  tfidf_itemknn       20  0.006235   0.036011  8.088503     0.000050\n",
       "3      0  tfidf_itemknn       15  0.006010   0.034749  8.016872     0.000047\n",
       "4      0  tfidf_itemknn       10  0.005412   0.031378  7.957084     0.000040\n",
       "5      1  tfidf_itemknn       40  0.005857   0.033396  8.145902     0.000052\n",
       "6      1  tfidf_itemknn       30  0.005857   0.033396  8.145902     0.000052\n",
       "7      1  tfidf_itemknn       20  0.005857   0.033396  8.145902     0.000052\n",
       "8      1  tfidf_itemknn       15  0.005637   0.031693  8.061765     0.000048\n",
       "9      1  tfidf_itemknn       10  0.005202   0.029139  7.993310     0.000043\n",
       "10     2  tfidf_itemknn       40  0.005900   0.033908  8.112820     0.000051\n",
       "11     2  tfidf_itemknn       30  0.005900   0.033908  8.112820     0.000051\n",
       "12     2  tfidf_itemknn       20  0.005900   0.033908  8.112820     0.000051\n",
       "13     2  tfidf_itemknn       15  0.005680   0.032458  8.028252     0.000046\n",
       "14     2  tfidf_itemknn       10  0.005136   0.028860  7.957338     0.000038\n",
       "15     3  tfidf_itemknn       40  0.005870   0.033229  8.121811     0.000053\n",
       "16     3  tfidf_itemknn       30  0.005870   0.033229  8.121811     0.000053\n",
       "17     3  tfidf_itemknn       20  0.005870   0.033229  8.121811     0.000053\n",
       "18     3  tfidf_itemknn       15  0.005608   0.031456  8.045952     0.000050\n",
       "19     3  tfidf_itemknn       10  0.005137   0.028766  7.975694     0.000043\n",
       "20     4  tfidf_itemknn       40  0.005533   0.030493  8.162252     0.000053\n",
       "21     4  tfidf_itemknn       30  0.005533   0.030493  8.162252     0.000053\n",
       "22     4  tfidf_itemknn       20  0.005533   0.030493  8.162252     0.000053\n",
       "23     4  tfidf_itemknn       15  0.005289   0.029293  8.086215     0.000049\n",
       "24     4  tfidf_itemknn       10  0.004878   0.026951  8.015082     0.000040\n",
       "25     5  tfidf_itemknn       40  0.005422   0.030625  8.238712     0.000057\n",
       "26     5  tfidf_itemknn       30  0.005422   0.030625  8.238712     0.000057\n",
       "27     5  tfidf_itemknn       20  0.005422   0.030625  8.238712     0.000057\n",
       "28     5  tfidf_itemknn       15  0.005224   0.028970  8.160799     0.000053\n",
       "29     5  tfidf_itemknn       10  0.004792   0.026449  8.086860     0.000047\n",
       "30     6  tfidf_itemknn       40  0.005207   0.028753  8.237862     0.000060\n",
       "31     6  tfidf_itemknn       30  0.005207   0.028753  8.237862     0.000060\n",
       "32     6  tfidf_itemknn       20  0.005207   0.028753  8.237862     0.000060\n",
       "33     6  tfidf_itemknn       15  0.005017   0.027506  8.160308     0.000055\n",
       "34     6  tfidf_itemknn       10  0.004529   0.024712  8.081845     0.000048"
      ]
     },
     "execution_count": 11,
     "metadata": {},
     "output_type": "execute_result"
    }
   ],
   "source": [
    "df_metrics = pd.DataFrame(results)\n",
    "df_metrics"
   ]
  },
  {
   "cell_type": "code",
   "execution_count": 13,
   "id": "798258b3",
   "metadata": {},
   "outputs": [
    {
     "data": {
      "text/html": [
       "<div>\n",
       "<style scoped>\n",
       "    .dataframe tbody tr th:only-of-type {\n",
       "        vertical-align: middle;\n",
       "    }\n",
       "\n",
       "    .dataframe tbody tr th {\n",
       "        vertical-align: top;\n",
       "    }\n",
       "\n",
       "    .dataframe thead th {\n",
       "        text-align: right;\n",
       "    }\n",
       "</style>\n",
       "<table border=\"1\" class=\"dataframe\">\n",
       "  <thead>\n",
       "    <tr style=\"text-align: right;\">\n",
       "      <th></th>\n",
       "      <th>prec@10</th>\n",
       "      <th>recall@10</th>\n",
       "      <th>novelty</th>\n",
       "      <th>serendipity</th>\n",
       "    </tr>\n",
       "    <tr>\n",
       "      <th>n_users</th>\n",
       "      <th></th>\n",
       "      <th></th>\n",
       "      <th></th>\n",
       "      <th></th>\n",
       "    </tr>\n",
       "  </thead>\n",
       "  <tbody>\n",
       "    <tr>\n",
       "      <th>10</th>\n",
       "      <td>0.005012</td>\n",
       "      <td>0.028036</td>\n",
       "      <td>8.009602</td>\n",
       "      <td>0.000043</td>\n",
       "    </tr>\n",
       "    <tr>\n",
       "      <th>15</th>\n",
       "      <td>0.005495</td>\n",
       "      <td>0.030875</td>\n",
       "      <td>8.080023</td>\n",
       "      <td>0.000050</td>\n",
       "    </tr>\n",
       "    <tr>\n",
       "      <th>20</th>\n",
       "      <td>0.005718</td>\n",
       "      <td>0.032345</td>\n",
       "      <td>8.158266</td>\n",
       "      <td>0.000054</td>\n",
       "    </tr>\n",
       "    <tr>\n",
       "      <th>30</th>\n",
       "      <td>0.005718</td>\n",
       "      <td>0.032345</td>\n",
       "      <td>8.158266</td>\n",
       "      <td>0.000054</td>\n",
       "    </tr>\n",
       "    <tr>\n",
       "      <th>40</th>\n",
       "      <td>0.005718</td>\n",
       "      <td>0.032345</td>\n",
       "      <td>8.158266</td>\n",
       "      <td>0.000054</td>\n",
       "    </tr>\n",
       "  </tbody>\n",
       "</table>\n",
       "</div>"
      ],
      "text/plain": [
       "          prec@10  recall@10   novelty  serendipity\n",
       "n_users                                            \n",
       "10       0.005012   0.028036  8.009602     0.000043\n",
       "15       0.005495   0.030875  8.080023     0.000050\n",
       "20       0.005718   0.032345  8.158266     0.000054\n",
       "30       0.005718   0.032345  8.158266     0.000054\n",
       "40       0.005718   0.032345  8.158266     0.000054"
      ]
     },
     "execution_count": 13,
     "metadata": {},
     "output_type": "execute_result"
    }
   ],
   "source": [
    "df_metrics.groupby('n_users').mean()[metrics.keys()]"
   ]
  },
  {
   "cell_type": "code",
   "execution_count": null,
   "id": "df950923",
   "metadata": {},
   "outputs": [],
   "source": []
  }
 ],
 "metadata": {
  "kernelspec": {
   "display_name": "Python 3 (ipykernel)",
   "language": "python",
   "name": "python3"
  },
  "language_info": {
   "codemirror_mode": {
    "name": "ipython",
    "version": 3
   },
   "file_extension": ".py",
   "mimetype": "text/x-python",
   "name": "python",
   "nbconvert_exporter": "python",
   "pygments_lexer": "ipython3",
   "version": "3.8.10"
  }
 },
 "nbformat": 4,
 "nbformat_minor": 5
}
