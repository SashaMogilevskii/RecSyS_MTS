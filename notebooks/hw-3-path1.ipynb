{
 "metadata": {
  "kernelspec": {
   "name": "python3",
   "display_name": "Python 3",
   "language": "python"
  },
  "language_info": {
   "name": "python",
   "version": "3.7.12",
   "mimetype": "text/x-python",
   "codemirror_mode": {
    "name": "ipython",
    "version": 3
   },
   "pygments_lexer": "ipython3",
   "nbconvert_exporter": "python",
   "file_extension": ".py"
  }
 },
 "nbformat_minor": 5,
 "nbformat": 4,
 "cells": [
  {
   "cell_type": "markdown",
   "source": [
    "# Baseline: popular models"
   ],
   "metadata": {}
  },
  {
   "cell_type": "markdown",
   "source": [
    "<div style=\"border-width:1; border-radius: 15px; border-style: solid; border-color: rgb(10, 10, 10); background-color: #91D6EF; text-align: center;font: 14pt 'Candara';font-weight:bold;\"><h1>Import lib</h1></div>"
   ],
   "metadata": {}
  },
  {
   "cell_type": "code",
   "source": [
    "# If the library is not installed - unlock the field \n",
    "!{sys.executable} -m pip install rectools"
   ],
   "metadata": {
    "execution": {
     "iopub.status.busy": "2022-11-26T12:01:23.636233Z",
     "iopub.execute_input": "2022-11-26T12:01:23.636624Z",
     "iopub.status.idle": "2022-11-26T12:01:38.111305Z",
     "shell.execute_reply.started": "2022-11-26T12:01:23.636550Z",
     "shell.execute_reply": "2022-11-26T12:01:38.109492Z"
    },
    "trusted": true
   },
   "execution_count": 1,
   "outputs": [
    {
     "name": "stdout",
     "text": "Collecting rectools\n  Downloading RecTools-0.3.0-py3-none-any.whl (89 kB)\n\u001B[2K     \u001B[90m━━━━━━━━━━━━━━━━━━━━━━━━━━━━━━━━━━━━━━━\u001B[0m \u001B[32m89.0/89.0 kB\u001B[0m \u001B[31m649.1 kB/s\u001B[0m eta \u001B[36m0:00:00\u001B[0ma \u001B[36m0:00:01\u001B[0m\n\u001B[?25hRequirement already satisfied: tqdm<5.0.0,>=4.27.0 in /opt/conda/lib/python3.7/site-packages (from rectools) (4.64.0)\nRequirement already satisfied: attrs<22.0.0,>=19.1.0 in /opt/conda/lib/python3.7/site-packages (from rectools) (21.4.0)\nRequirement already satisfied: pandas<2.0.0,>=0.25.3 in /opt/conda/lib/python3.7/site-packages (from rectools) (1.3.5)\nCollecting Markdown<3.3,>=3.2\n  Downloading Markdown-3.2.2-py3-none-any.whl (88 kB)\n\u001B[2K     \u001B[90m━━━━━━━━━━━━━━━━━━━━━━━━━━━━━━━━━━━━━━━━\u001B[0m \u001B[32m89.0/89.0 kB\u001B[0m \u001B[31m1.9 MB/s\u001B[0m eta \u001B[36m0:00:00\u001B[0ma \u001B[36m0:00:01\u001B[0m\n\u001B[?25hRequirement already satisfied: implicit==0.4.4 in /opt/conda/lib/python3.7/site-packages (from rectools) (0.4.4)\nRequirement already satisfied: numpy<2.0.0,>=1.19.5 in /opt/conda/lib/python3.7/site-packages (from rectools) (1.21.6)\nRequirement already satisfied: typeguard<3.0.0,>=2.0.1 in /opt/conda/lib/python3.7/site-packages (from rectools) (2.13.3)\nRequirement already satisfied: lightfm<2.0,>=1.16 in /opt/conda/lib/python3.7/site-packages (from rectools) (1.16)\nCollecting nmslib<3.0.0,>=2.0.4\n  Downloading nmslib-2.1.1-cp37-cp37m-manylinux2010_x86_64.whl (13.5 MB)\n\u001B[2K     \u001B[90m━━━━━━━━━━━━━━━━━━━━━━━━━━━━━━━━━━━━━━━━\u001B[0m \u001B[32m13.5/13.5 MB\u001B[0m \u001B[31m28.6 MB/s\u001B[0m eta \u001B[36m0:00:00\u001B[0m00:01\u001B[0m00:01\u001B[0m\n\u001B[?25hRequirement already satisfied: scipy<2.0.0,>=1.5.4 in /opt/conda/lib/python3.7/site-packages (from rectools) (1.7.3)\nRequirement already satisfied: scikit-learn in /opt/conda/lib/python3.7/site-packages (from lightfm<2.0,>=1.16->rectools) (1.0.2)\nRequirement already satisfied: requests in /opt/conda/lib/python3.7/site-packages (from lightfm<2.0,>=1.16->rectools) (2.28.1)\nRequirement already satisfied: importlib-metadata in /opt/conda/lib/python3.7/site-packages (from Markdown<3.3,>=3.2->rectools) (4.13.0)\nCollecting pybind11<2.6.2\n  Downloading pybind11-2.6.1-py2.py3-none-any.whl (188 kB)\n\u001B[2K     \u001B[90m━━━━━━━━━━━━━━━━━━━━━━━━━━━━━━━━━━━━━━\u001B[0m \u001B[32m188.5/188.5 kB\u001B[0m \u001B[31m12.6 MB/s\u001B[0m eta \u001B[36m0:00:00\u001B[0m\n\u001B[?25hRequirement already satisfied: psutil in /opt/conda/lib/python3.7/site-packages (from nmslib<3.0.0,>=2.0.4->rectools) (5.9.1)\nRequirement already satisfied: python-dateutil>=2.7.3 in /opt/conda/lib/python3.7/site-packages (from pandas<2.0.0,>=0.25.3->rectools) (2.8.2)\nRequirement already satisfied: pytz>=2017.3 in /opt/conda/lib/python3.7/site-packages (from pandas<2.0.0,>=0.25.3->rectools) (2022.1)\nRequirement already satisfied: six>=1.5 in /opt/conda/lib/python3.7/site-packages (from python-dateutil>=2.7.3->pandas<2.0.0,>=0.25.3->rectools) (1.15.0)\nRequirement already satisfied: zipp>=0.5 in /opt/conda/lib/python3.7/site-packages (from importlib-metadata->Markdown<3.3,>=3.2->rectools) (3.8.0)\nRequirement already satisfied: typing-extensions>=3.6.4 in /opt/conda/lib/python3.7/site-packages (from importlib-metadata->Markdown<3.3,>=3.2->rectools) (4.4.0)\nRequirement already satisfied: certifi>=2017.4.17 in /opt/conda/lib/python3.7/site-packages (from requests->lightfm<2.0,>=1.16->rectools) (2022.9.24)\nRequirement already satisfied: urllib3<1.27,>=1.21.1 in /opt/conda/lib/python3.7/site-packages (from requests->lightfm<2.0,>=1.16->rectools) (1.26.12)\nRequirement already satisfied: idna<4,>=2.5 in /opt/conda/lib/python3.7/site-packages (from requests->lightfm<2.0,>=1.16->rectools) (3.3)\nRequirement already satisfied: charset-normalizer<3,>=2 in /opt/conda/lib/python3.7/site-packages (from requests->lightfm<2.0,>=1.16->rectools) (2.1.0)\nRequirement already satisfied: threadpoolctl>=2.0.0 in /opt/conda/lib/python3.7/site-packages (from scikit-learn->lightfm<2.0,>=1.16->rectools) (3.1.0)\nRequirement already satisfied: joblib>=0.11 in /opt/conda/lib/python3.7/site-packages (from scikit-learn->lightfm<2.0,>=1.16->rectools) (1.0.1)\nInstalling collected packages: pybind11, nmslib, Markdown, rectools\n  Attempting uninstall: pybind11\n    Found existing installation: pybind11 2.10.0\n    Uninstalling pybind11-2.10.0:\n      Successfully uninstalled pybind11-2.10.0\n  Attempting uninstall: Markdown\n    Found existing installation: Markdown 3.3.7\n    Uninstalling Markdown-3.3.7:\n      Successfully uninstalled Markdown-3.3.7\nSuccessfully installed Markdown-3.2.2 nmslib-2.1.1 pybind11-2.10.0 rectools-0.3.0\n\u001B[33mWARNING: Running pip as the 'root' user can result in broken permissions and conflicting behaviour with the system package manager. It is recommended to use a virtual environment instead: https://pip.pypa.io/warnings/venv\u001B[0m\u001B[33m\n\u001B[0mNote: you may need to restart the kernel to use updated packages.\n",
     "output_type": "stream"
    }
   ]
  },
  {
   "cell_type": "code",
   "source": [
    "import requests\n",
    "import pandas as pd\n",
    "import numpy as np\n",
    "\n",
    "import warnings\n",
    "import seaborn as sns \n",
    "\n",
    "\n",
    "from rectools import Columns\n",
    "from rectools.dataset import Dataset\n",
    "from tqdm.auto import tqdm\n",
    "from scipy.stats import mode\n",
    "from pprint import pprint\n",
    "\n",
    "warnings.filterwarnings(\"ignore\")"
   ],
   "metadata": {
    "execution": {
     "iopub.status.busy": "2022-11-26T12:01:38.114262Z",
     "iopub.execute_input": "2022-11-26T12:01:38.114670Z",
     "iopub.status.idle": "2022-11-26T12:01:38.667895Z",
     "shell.execute_reply.started": "2022-11-26T12:01:38.114635Z",
     "shell.execute_reply": "2022-11-26T12:01:38.667207Z"
    },
    "trusted": true
   },
   "execution_count": 2,
   "outputs": []
  },
  {
   "cell_type": "markdown",
   "source": [
    "# Get KION dataset \n",
    "\n",
    "<a href=\"https://ods.ai/competitions/competition-recsys-21/data\"> Dataset description [ru] </a>\n"
   ],
   "metadata": {}
  },
  {
   "cell_type": "code",
   "source": [
    "# download dataset by chunks\n",
    "url = \"https://storage.yandexcloud.net/itmo-recsys-public-data/kion_train.zip\"\n",
    "\n",
    "req = requests.get(url, stream=True)\n",
    "\n",
    "with open('kion_train.zip', \"wb\") as fd:\n",
    "    total_size_in_bytes = int(req.headers.get('Content-Length', 0))\n",
    "    progress_bar = tqdm(desc='kion dataset download', total=total_size_in_bytes, unit='iB', unit_scale=True)\n",
    "    for chunk in req.iter_content(chunk_size=2 ** 20):\n",
    "        progress_bar.update(len(chunk))\n",
    "        fd.write(chunk)"
   ],
   "metadata": {
    "execution": {
     "iopub.status.busy": "2022-11-26T12:01:38.668878Z",
     "iopub.execute_input": "2022-11-26T12:01:38.669129Z",
     "iopub.status.idle": "2022-11-26T12:01:41.232873Z",
     "shell.execute_reply.started": "2022-11-26T12:01:38.669106Z",
     "shell.execute_reply": "2022-11-26T12:01:41.230942Z"
    },
    "trusted": true
   },
   "execution_count": 3,
   "outputs": [
    {
     "output_type": "display_data",
     "data": {
      "text/plain": "kion dataset download:   0%|          | 0.00/78.8M [00:00<?, ?iB/s]",
      "application/vnd.jupyter.widget-view+json": {
       "version_major": 2,
       "version_minor": 0,
       "model_id": "715b288ddf5c4c3f8303ad6e4bb7b071"
      }
     },
     "metadata": {}
    }
   ]
  },
  {
   "cell_type": "code",
   "source": [
    "!unzip kion_train.zip"
   ],
   "metadata": {
    "execution": {
     "iopub.status.busy": "2022-11-26T12:01:41.235471Z",
     "iopub.execute_input": "2022-11-26T12:01:41.235751Z",
     "iopub.status.idle": "2022-11-26T12:01:43.467556Z",
     "shell.execute_reply.started": "2022-11-26T12:01:41.235728Z",
     "shell.execute_reply": "2022-11-26T12:01:43.466482Z"
    },
    "trusted": true
   },
   "execution_count": 4,
   "outputs": [
    {
     "name": "stdout",
     "text": "Archive:  kion_train.zip\n   creating: kion_train/\n  inflating: kion_train/interactions.csv  \n  inflating: __MACOSX/kion_train/._interactions.csv  \n  inflating: kion_train/users.csv    \n  inflating: __MACOSX/kion_train/._users.csv  \n  inflating: kion_train/items.csv    \n  inflating: __MACOSX/kion_train/._items.csv  \n",
     "output_type": "stream"
    }
   ]
  },
  {
   "cell_type": "code",
   "source": [
    "interactions = pd.read_csv('kion_train/interactions.csv')\n",
    "users = pd.read_csv('kion_train/users.csv')\n",
    "items = pd.read_csv('kion_train/items.csv')"
   ],
   "metadata": {
    "execution": {
     "iopub.status.busy": "2022-11-26T12:01:43.468647Z",
     "iopub.execute_input": "2022-11-26T12:01:43.469014Z",
     "iopub.status.idle": "2022-11-26T12:01:46.256283Z",
     "shell.execute_reply.started": "2022-11-26T12:01:43.468959Z",
     "shell.execute_reply": "2022-11-26T12:01:46.255545Z"
    },
    "trusted": true
   },
   "execution_count": 5,
   "outputs": []
  },
  {
   "cell_type": "markdown",
   "source": [
    "<div style=\"border-width:1; border-radius: 15px; border-style: solid; border-color: rgb(10, 10, 10); background-color: #91D6EF; text-align: center;font: 14pt 'Candara';font-weight:bold;\"><h1>Мы решили сами проанализировать дату и выдать top-k популярных итемов рекомендаций</h1></div>"
   ],
   "metadata": {}
  },
  {
   "cell_type": "code",
   "source": [
    "interactions.head()"
   ],
   "metadata": {
    "execution": {
     "iopub.status.busy": "2022-11-26T12:01:46.257150Z",
     "iopub.execute_input": "2022-11-26T12:01:46.257873Z",
     "iopub.status.idle": "2022-11-26T12:01:46.295106Z",
     "shell.execute_reply.started": "2022-11-26T12:01:46.257848Z",
     "shell.execute_reply": "2022-11-26T12:01:46.294488Z"
    },
    "trusted": true
   },
   "execution_count": 6,
   "outputs": [
    {
     "execution_count": 6,
     "output_type": "execute_result",
     "data": {
      "text/plain": "   user_id  item_id last_watch_dt  total_dur  watched_pct\n0   176549     9506    2021-05-11       4250         72.0\n1   699317     1659    2021-05-29       8317        100.0\n2   656683     7107    2021-05-09         10          0.0\n3   864613     7638    2021-07-05      14483        100.0\n4   964868     9506    2021-04-30       6725        100.0",
      "text/html": "<div>\n<style scoped>\n    .dataframe tbody tr th:only-of-type {\n        vertical-align: middle;\n    }\n\n    .dataframe tbody tr th {\n        vertical-align: top;\n    }\n\n    .dataframe thead th {\n        text-align: right;\n    }\n</style>\n<table border=\"1\" class=\"dataframe\">\n  <thead>\n    <tr style=\"text-align: right;\">\n      <th></th>\n      <th>user_id</th>\n      <th>item_id</th>\n      <th>last_watch_dt</th>\n      <th>total_dur</th>\n      <th>watched_pct</th>\n    </tr>\n  </thead>\n  <tbody>\n    <tr>\n      <th>0</th>\n      <td>176549</td>\n      <td>9506</td>\n      <td>2021-05-11</td>\n      <td>4250</td>\n      <td>72.0</td>\n    </tr>\n    <tr>\n      <th>1</th>\n      <td>699317</td>\n      <td>1659</td>\n      <td>2021-05-29</td>\n      <td>8317</td>\n      <td>100.0</td>\n    </tr>\n    <tr>\n      <th>2</th>\n      <td>656683</td>\n      <td>7107</td>\n      <td>2021-05-09</td>\n      <td>10</td>\n      <td>0.0</td>\n    </tr>\n    <tr>\n      <th>3</th>\n      <td>864613</td>\n      <td>7638</td>\n      <td>2021-07-05</td>\n      <td>14483</td>\n      <td>100.0</td>\n    </tr>\n    <tr>\n      <th>4</th>\n      <td>964868</td>\n      <td>9506</td>\n      <td>2021-04-30</td>\n      <td>6725</td>\n      <td>100.0</td>\n    </tr>\n  </tbody>\n</table>\n</div>"
     },
     "metadata": {}
    }
   ]
  },
  {
   "cell_type": "code",
   "source": [
    "# Удалим все записи, в которых % от просмотреного видео был меньше 10%\n",
    "old_length = interactions.shape[0]\n",
    "interactions_update = interactions[interactions.watched_pct > 10]\n",
    "new_length = interactions_update.shape[0]\n",
    "\n",
    "print(f'Кол-во записей исходное: {old_length}')\n",
    "print(f'Кол-во записей исходное: {new_length}')"
   ],
   "metadata": {
    "execution": {
     "iopub.status.busy": "2022-11-26T12:01:46.296191Z",
     "iopub.execute_input": "2022-11-26T12:01:46.296467Z",
     "iopub.status.idle": "2022-11-26T12:01:46.503206Z",
     "shell.execute_reply.started": "2022-11-26T12:01:46.296444Z",
     "shell.execute_reply": "2022-11-26T12:01:46.502120Z"
    },
    "trusted": true
   },
   "execution_count": 7,
   "outputs": [
    {
     "name": "stdout",
     "text": "Кол-во записей исходное: 5476251\nКол-во записей исходное: 3615270\n",
     "output_type": "stream"
    }
   ]
  },
  {
   "cell_type": "code",
   "source": [
    "# Удалим всех юзеров, у которых было  не более 2 взаимодействий\n",
    "# Так-же удалим все итемы, с которыми было не более 2 взаимодействий\n",
    "old_length = interactions_update.shape[0]\n",
    "\n",
    "\n",
    "mask_df_users = interactions_update.groupby(\"user_id\").count()[[\"item_id\"]]\n",
    "list_users = mask_df_users[mask_df_users.item_id > 4].index\n",
    "\n",
    "mask_df_items =interactions_update.groupby(\"item_id\").count()[[\"user_id\"]]\n",
    "list_items = mask_df_items[mask_df_items.user_id > 4].index\n",
    "\n",
    "mask = ((interactions_update.user_id.isin(list_users)) &\n",
    "        (interactions_update.item_id.isin(list_items))\n",
    "       )\n",
    "\n",
    "new_df = interactions_update[mask]\n",
    "\n",
    "new_length = new_df.shape[0]\n",
    "\n",
    "print(f'Кол-во записей исходное: {old_length}')\n",
    "print(f'Кол-во записей исходное: {new_length}')"
   ],
   "metadata": {
    "execution": {
     "iopub.status.busy": "2022-11-26T12:01:46.504727Z",
     "iopub.execute_input": "2022-11-26T12:01:46.505459Z",
     "iopub.status.idle": "2022-11-26T12:01:47.761479Z",
     "shell.execute_reply.started": "2022-11-26T12:01:46.505423Z",
     "shell.execute_reply": "2022-11-26T12:01:47.760059Z"
    },
    "trusted": true
   },
   "execution_count": 8,
   "outputs": [
    {
     "name": "stdout",
     "text": "Кол-во записей исходное: 3615270\nКол-во записей исходное: 2646592\n",
     "output_type": "stream"
    }
   ]
  },
  {
   "cell_type": "code",
   "source": [
    "new_df.head()"
   ],
   "metadata": {
    "execution": {
     "iopub.status.busy": "2022-11-26T12:01:47.762725Z",
     "iopub.execute_input": "2022-11-26T12:01:47.763060Z",
     "iopub.status.idle": "2022-11-26T12:01:47.775523Z",
     "shell.execute_reply.started": "2022-11-26T12:01:47.763028Z",
     "shell.execute_reply": "2022-11-26T12:01:47.774453Z"
    },
    "trusted": true
   },
   "execution_count": 9,
   "outputs": [
    {
     "execution_count": 9,
     "output_type": "execute_result",
     "data": {
      "text/plain": "   user_id  item_id last_watch_dt  total_dur  watched_pct\n0   176549     9506    2021-05-11       4250         72.0\n1   699317     1659    2021-05-29       8317        100.0\n3   864613     7638    2021-07-05      14483        100.0\n5  1032142     6686    2021-05-13      11286        100.0\n6  1016458      354    2021-08-14       1672         25.0",
      "text/html": "<div>\n<style scoped>\n    .dataframe tbody tr th:only-of-type {\n        vertical-align: middle;\n    }\n\n    .dataframe tbody tr th {\n        vertical-align: top;\n    }\n\n    .dataframe thead th {\n        text-align: right;\n    }\n</style>\n<table border=\"1\" class=\"dataframe\">\n  <thead>\n    <tr style=\"text-align: right;\">\n      <th></th>\n      <th>user_id</th>\n      <th>item_id</th>\n      <th>last_watch_dt</th>\n      <th>total_dur</th>\n      <th>watched_pct</th>\n    </tr>\n  </thead>\n  <tbody>\n    <tr>\n      <th>0</th>\n      <td>176549</td>\n      <td>9506</td>\n      <td>2021-05-11</td>\n      <td>4250</td>\n      <td>72.0</td>\n    </tr>\n    <tr>\n      <th>1</th>\n      <td>699317</td>\n      <td>1659</td>\n      <td>2021-05-29</td>\n      <td>8317</td>\n      <td>100.0</td>\n    </tr>\n    <tr>\n      <th>3</th>\n      <td>864613</td>\n      <td>7638</td>\n      <td>2021-07-05</td>\n      <td>14483</td>\n      <td>100.0</td>\n    </tr>\n    <tr>\n      <th>5</th>\n      <td>1032142</td>\n      <td>6686</td>\n      <td>2021-05-13</td>\n      <td>11286</td>\n      <td>100.0</td>\n    </tr>\n    <tr>\n      <th>6</th>\n      <td>1016458</td>\n      <td>354</td>\n      <td>2021-08-14</td>\n      <td>1672</td>\n      <td>25.0</td>\n    </tr>\n  </tbody>\n</table>\n</div>"
     },
     "metadata": {}
    }
   ]
  },
  {
   "cell_type": "code",
   "source": [
    "#Посмотрим минимальную и максимальную дату записей\n",
    "new_df['last_watch_dt'] = pd.to_datetime(new_df['last_watch_dt'])\n",
    "new_df.last_watch_dt.describe()"
   ],
   "metadata": {
    "execution": {
     "iopub.status.busy": "2022-11-26T12:01:47.780646Z",
     "iopub.execute_input": "2022-11-26T12:01:47.780989Z",
     "iopub.status.idle": "2022-11-26T12:01:48.174253Z",
     "shell.execute_reply.started": "2022-11-26T12:01:47.780963Z",
     "shell.execute_reply": "2022-11-26T12:01:48.172729Z"
    },
    "trusted": true
   },
   "execution_count": 10,
   "outputs": [
    {
     "execution_count": 10,
     "output_type": "execute_result",
     "data": {
      "text/plain": "count                 2646592\nunique                    163\ntop       2021-06-30 00:00:00\nfreq                    32052\nfirst     2021-03-13 00:00:00\nlast      2021-08-22 00:00:00\nName: last_watch_dt, dtype: object"
     },
     "metadata": {}
    }
   ]
  },
  {
   "cell_type": "code",
   "source": [
    "# Нам дан промежуток почти в пол года. Оставим только последние 101 дней\n",
    "finish = new_df.last_watch_dt.max() #set the date to compare\n",
    "delta = np.timedelta64(101, 'D')\n",
    "new_start = finish - delta\n",
    "\n",
    "print(f'Кол-во записей исходное: {new_df.shape[0]}')\n",
    "\n",
    "new_df = new_df[new_df.last_watch_dt > new_start]\n",
    "\n",
    "print(f'Кол-во записей исходное: {new_df.shape[0]}')"
   ],
   "metadata": {
    "execution": {
     "iopub.status.busy": "2022-11-26T12:01:48.175908Z",
     "iopub.execute_input": "2022-11-26T12:01:48.176282Z",
     "iopub.status.idle": "2022-11-26T12:01:48.268540Z",
     "shell.execute_reply.started": "2022-11-26T12:01:48.176249Z",
     "shell.execute_reply": "2022-11-26T12:01:48.266924Z"
    },
    "trusted": true
   },
   "execution_count": 11,
   "outputs": [
    {
     "name": "stdout",
     "text": "Кол-во записей исходное: 2646592\nКол-во записей исходное: 2129437\n",
     "output_type": "stream"
    }
   ]
  },
  {
   "cell_type": "code",
   "source": [
    "# Посмотрим список популярных итемов, которые будут для юзера\n",
    "popular_items = new_df.value_counts(\"item_id\").rename_axis('item_id').reset_index(name='counts')\n",
    "popular_items.head()"
   ],
   "metadata": {
    "execution": {
     "iopub.status.busy": "2022-11-26T12:01:48.269966Z",
     "iopub.execute_input": "2022-11-26T12:01:48.270466Z",
     "iopub.status.idle": "2022-11-26T12:01:48.328415Z",
     "shell.execute_reply.started": "2022-11-26T12:01:48.270430Z",
     "shell.execute_reply": "2022-11-26T12:01:48.327366Z"
    },
    "trusted": true
   },
   "execution_count": 12,
   "outputs": [
    {
     "execution_count": 12,
     "output_type": "execute_result",
     "data": {
      "text/plain": "   item_id  counts\n0    15297   63258\n1    10440   57342\n2     9728   56777\n3    13865   55999\n4     3734   41131",
      "text/html": "<div>\n<style scoped>\n    .dataframe tbody tr th:only-of-type {\n        vertical-align: middle;\n    }\n\n    .dataframe tbody tr th {\n        vertical-align: top;\n    }\n\n    .dataframe thead th {\n        text-align: right;\n    }\n</style>\n<table border=\"1\" class=\"dataframe\">\n  <thead>\n    <tr style=\"text-align: right;\">\n      <th></th>\n      <th>item_id</th>\n      <th>counts</th>\n    </tr>\n  </thead>\n  <tbody>\n    <tr>\n      <th>0</th>\n      <td>15297</td>\n      <td>63258</td>\n    </tr>\n    <tr>\n      <th>1</th>\n      <td>10440</td>\n      <td>57342</td>\n    </tr>\n    <tr>\n      <th>2</th>\n      <td>9728</td>\n      <td>56777</td>\n    </tr>\n    <tr>\n      <th>3</th>\n      <td>13865</td>\n      <td>55999</td>\n    </tr>\n    <tr>\n      <th>4</th>\n      <td>3734</td>\n      <td>41131</td>\n    </tr>\n  </tbody>\n</table>\n</div>"
     },
     "metadata": {}
    }
   ]
  },
  {
   "cell_type": "code",
   "source": [
    "# Предположим, что все юзеры холодные. (Предположим, что я не знаю все итемы, которые раньше смотрел юзер) \n",
    "# И буду выдавать ему тупо top_K рекомендаций. Отправим это в модель и получим score\n",
    "list_top_items = popular_items.head(10).item_id.values\n",
    "list_top_items"
   ],
   "metadata": {
    "execution": {
     "iopub.status.busy": "2022-11-26T12:01:48.330086Z",
     "iopub.execute_input": "2022-11-26T12:01:48.330439Z",
     "iopub.status.idle": "2022-11-26T12:01:48.338208Z",
     "shell.execute_reply.started": "2022-11-26T12:01:48.330414Z",
     "shell.execute_reply": "2022-11-26T12:01:48.337334Z"
    },
    "trusted": true
   },
   "execution_count": 13,
   "outputs": [
    {
     "execution_count": 13,
     "output_type": "execute_result",
     "data": {
      "text/plain": "array([15297, 10440,  9728, 13865,  3734,  4151,  2657,   142,  8636,\n        7571])"
     },
     "metadata": {}
    }
   ]
  },
  {
   "cell_type": "markdown",
   "source": [
    "##  SCORE: model \"StupidTop\" - 0.0791033"
   ],
   "metadata": {}
  },
  {
   "cell_type": "markdown",
   "source": [
    "## У наших юзеров уже есть просмотренные фильмы, и мы можем советовать ему фильмы, которые он уже все посмотрел. Нам нужно описать эту логику для использования в дальнейшем "
   ],
   "metadata": {}
  },
  {
   "cell_type": "code",
   "source": [
    "interactions.head()"
   ],
   "metadata": {
    "execution": {
     "iopub.status.busy": "2022-11-26T12:01:48.339242Z",
     "iopub.execute_input": "2022-11-26T12:01:48.339552Z",
     "iopub.status.idle": "2022-11-26T12:01:48.359122Z",
     "shell.execute_reply.started": "2022-11-26T12:01:48.339520Z",
     "shell.execute_reply": "2022-11-26T12:01:48.358058Z"
    },
    "trusted": true
   },
   "execution_count": 14,
   "outputs": [
    {
     "execution_count": 14,
     "output_type": "execute_result",
     "data": {
      "text/plain": "   user_id  item_id last_watch_dt  total_dur  watched_pct\n0   176549     9506    2021-05-11       4250         72.0\n1   699317     1659    2021-05-29       8317        100.0\n2   656683     7107    2021-05-09         10          0.0\n3   864613     7638    2021-07-05      14483        100.0\n4   964868     9506    2021-04-30       6725        100.0",
      "text/html": "<div>\n<style scoped>\n    .dataframe tbody tr th:only-of-type {\n        vertical-align: middle;\n    }\n\n    .dataframe tbody tr th {\n        vertical-align: top;\n    }\n\n    .dataframe thead th {\n        text-align: right;\n    }\n</style>\n<table border=\"1\" class=\"dataframe\">\n  <thead>\n    <tr style=\"text-align: right;\">\n      <th></th>\n      <th>user_id</th>\n      <th>item_id</th>\n      <th>last_watch_dt</th>\n      <th>total_dur</th>\n      <th>watched_pct</th>\n    </tr>\n  </thead>\n  <tbody>\n    <tr>\n      <th>0</th>\n      <td>176549</td>\n      <td>9506</td>\n      <td>2021-05-11</td>\n      <td>4250</td>\n      <td>72.0</td>\n    </tr>\n    <tr>\n      <th>1</th>\n      <td>699317</td>\n      <td>1659</td>\n      <td>2021-05-29</td>\n      <td>8317</td>\n      <td>100.0</td>\n    </tr>\n    <tr>\n      <th>2</th>\n      <td>656683</td>\n      <td>7107</td>\n      <td>2021-05-09</td>\n      <td>10</td>\n      <td>0.0</td>\n    </tr>\n    <tr>\n      <th>3</th>\n      <td>864613</td>\n      <td>7638</td>\n      <td>2021-07-05</td>\n      <td>14483</td>\n      <td>100.0</td>\n    </tr>\n    <tr>\n      <th>4</th>\n      <td>964868</td>\n      <td>9506</td>\n      <td>2021-04-30</td>\n      <td>6725</td>\n      <td>100.0</td>\n    </tr>\n  </tbody>\n</table>\n</div>"
     },
     "metadata": {}
    }
   ]
  },
  {
   "cell_type": "code",
   "source": [
    "# Соберем все итемы по юзерам\n",
    "user_watched = interactions.groupby('user_id')['item_id'].apply(list)\n",
    "user_watched = user_watched.reset_index()"
   ],
   "metadata": {
    "execution": {
     "iopub.status.busy": "2022-11-26T12:01:48.360841Z",
     "iopub.execute_input": "2022-11-26T12:01:48.361414Z",
     "iopub.status.idle": "2022-11-26T12:02:05.552523Z",
     "shell.execute_reply.started": "2022-11-26T12:01:48.361389Z",
     "shell.execute_reply": "2022-11-26T12:02:05.551407Z"
    },
    "trusted": true
   },
   "execution_count": 15,
   "outputs": []
  },
  {
   "cell_type": "code",
   "source": [
    "user_watched.head()"
   ],
   "metadata": {
    "execution": {
     "iopub.status.busy": "2022-11-26T12:02:05.553930Z",
     "iopub.execute_input": "2022-11-26T12:02:05.554322Z",
     "iopub.status.idle": "2022-11-26T12:02:05.566515Z",
     "shell.execute_reply.started": "2022-11-26T12:02:05.554289Z",
     "shell.execute_reply": "2022-11-26T12:02:05.565200Z"
    },
    "trusted": true
   },
   "execution_count": 16,
   "outputs": [
    {
     "execution_count": 16,
     "output_type": "execute_result",
     "data": {
      "text/plain": "   user_id                                            item_id\n0        0            [7102, 14359, 15297, 6006, 9728, 12192]\n1        1                                      [3669, 10440]\n2        2  [7571, 3541, 15266, 13867, 12841, 10770, 4475,...\n3        3  [12192, 9728, 16406, 15719, 10440, 3475, 2025,...\n4        4                                       [4700, 6317]",
      "text/html": "<div>\n<style scoped>\n    .dataframe tbody tr th:only-of-type {\n        vertical-align: middle;\n    }\n\n    .dataframe tbody tr th {\n        vertical-align: top;\n    }\n\n    .dataframe thead th {\n        text-align: right;\n    }\n</style>\n<table border=\"1\" class=\"dataframe\">\n  <thead>\n    <tr style=\"text-align: right;\">\n      <th></th>\n      <th>user_id</th>\n      <th>item_id</th>\n    </tr>\n  </thead>\n  <tbody>\n    <tr>\n      <th>0</th>\n      <td>0</td>\n      <td>[7102, 14359, 15297, 6006, 9728, 12192]</td>\n    </tr>\n    <tr>\n      <th>1</th>\n      <td>1</td>\n      <td>[3669, 10440]</td>\n    </tr>\n    <tr>\n      <th>2</th>\n      <td>2</td>\n      <td>[7571, 3541, 15266, 13867, 12841, 10770, 4475,...</td>\n    </tr>\n    <tr>\n      <th>3</th>\n      <td>3</td>\n      <td>[12192, 9728, 16406, 15719, 10440, 3475, 2025,...</td>\n    </tr>\n    <tr>\n      <th>4</th>\n      <td>4</td>\n      <td>[4700, 6317]</td>\n    </tr>\n  </tbody>\n</table>\n</div>"
     },
     "metadata": {}
    }
   ]
  },
  {
   "cell_type": "code",
   "source": [
    "# Посмотрим максимальное кол-во взаимодействий юзера\n",
    "user_watched['count_interactions'] = user_watched[\"item_id\"].apply(lambda x: len(x))\n",
    "sns_plot = sns.distplot(user_watched['count_interactions'])\n",
    "fig = sns_plot.get_figure()"
   ],
   "metadata": {
    "execution": {
     "iopub.status.busy": "2022-11-26T12:02:05.568473Z",
     "iopub.execute_input": "2022-11-26T12:02:05.568877Z",
     "iopub.status.idle": "2022-11-26T12:02:11.061723Z",
     "shell.execute_reply.started": "2022-11-26T12:02:05.568810Z",
     "shell.execute_reply": "2022-11-26T12:02:11.061058Z"
    },
    "trusted": true
   },
   "execution_count": 17,
   "outputs": [
    {
     "output_type": "display_data",
     "data": {
      "text/plain": "<Figure size 432x288 with 1 Axes>",
      "image/png": "[encoded data removed]"
     },
     "metadata": {
      "needs_background": "light"
     }
    }
   ]
  },
  {
   "cell_type": "code",
   "source": [
    "# График не совсем понятен. Посмотрим значения в верхних процентилях \n",
    "user_watched['count_interactions'].quantile([.8, .85, 0.9, 0.95, 0.99, 0.999], interpolation=\"nearest\")"
   ],
   "metadata": {
    "execution": {
     "iopub.status.busy": "2022-11-26T12:02:11.063010Z",
     "iopub.execute_input": "2022-11-26T12:02:11.063549Z",
     "iopub.status.idle": "2022-11-26T12:02:11.082627Z",
     "shell.execute_reply.started": "2022-11-26T12:02:11.063517Z",
     "shell.execute_reply": "2022-11-26T12:02:11.081639Z"
    },
    "trusted": true
   },
   "execution_count": 18,
   "outputs": [
    {
     "execution_count": 18,
     "output_type": "execute_result",
     "data": {
      "text/plain": "0.800      7\n0.850     10\n0.900     13\n0.950     21\n0.990     49\n0.999    119\nName: count_interactions, dtype: int64"
     },
     "metadata": {}
    }
   ]
  },
  {
   "cell_type": "code",
   "source": [
    "#  Убрав выбросы \"очень горячих\" пользователей. (Кстати, хороший вопрос - один ли это человек? Может это вообще тестеровщик? Или с аккаунта сразу много человек)\n",
    "#  Создадим список рекомендаций на 131 значение.\n",
    "list_top_items = popular_items.head(131).item_id.values\n",
    "list_top_items"
   ],
   "metadata": {
    "execution": {
     "iopub.status.busy": "2022-11-26T12:02:11.084180Z",
     "iopub.execute_input": "2022-11-26T12:02:11.084516Z",
     "iopub.status.idle": "2022-11-26T12:02:11.092681Z",
     "shell.execute_reply.started": "2022-11-26T12:02:11.084483Z",
     "shell.execute_reply": "2022-11-26T12:02:11.091769Z"
    },
    "trusted": true
   },
   "execution_count": 19,
   "outputs": [
    {
     "execution_count": 19,
     "output_type": "execute_result",
     "data": {
      "text/plain": "array([15297, 10440,  9728, 13865,  3734,  4151,  2657,   142,  8636,\n        7571,  7102,  4495,  4457,  7829, 12995,  1844,  6809,  7417,\n        4740,  9996,  3784,  3935, 16166,  7793, 14703, 14431, 12192,\n       11237, 11778,  3182, 14317,  5434,  4436, 12173, 16228,  7626,\n         512, 10464, 14741, 14901,  5693,  5411, 16270, 12324,  1449,\n        1132,  6402, 15464,  7582, 13018,  6455,  1916,  6162, 10761,\n        1785, 12356,  5658,  1819, 11749, 10942, 10772, 14488,  9194,\n         657,  5732,  5424, 12981, 13915,  1287, 14470, 12743, 12841,\n        6626, 10077,  2954, 13243,  8447,  4880,  8986,  2237, 15266,\n        3509, 11310, 13159, 12965,  2220,  4718,  5803, 11756, 13262,\n        6443,  4471,  2722, 10878,  7310, 11640, 12623,  4696,  9900,\n       10605, 11985,  4260,  9169, 12537,  7210,  4946,  1290,   366,\n        7107,  1418, 11118, 14899, 14461, 11754, 12770, 10240, 12228,\n       16087,  4702, 11348,  9342, 15362,  6382,  9506,   288,  8437,\n        6774,  8821, 10770,  5754, 10323])"
     },
     "metadata": {}
    }
   ]
  },
  {
   "cell_type": "code",
   "source": [
    "# Предположим, что хотим выдать рекомендации случайному юзеру. Распишим этот механизм. \n",
    "# Фильмы, которые смотрел юзер\n",
    "us_idx = 2\n",
    "\n",
    "list_watched = user_watched[user_watched.user_id == us_idx].to_numpy()[0][1]\n",
    "mask = np.array([item in list_watched for item in list_top_items])\n",
    "recommed_for_user  = list_top_items[~mask]\n",
    "print(f'Длина списка рекомендаций до пересечения {len(list_top_items)}')\n",
    "print(f'Перескающиеся фильмы {np.intersect1d(list_top_items, list_watched).tolist()}')\n",
    "print(f'Длина списка рекомендаций после пересечения {len(recommed_for_user)}')"
   ],
   "metadata": {
    "execution": {
     "iopub.status.busy": "2022-11-26T12:02:11.094049Z",
     "iopub.execute_input": "2022-11-26T12:02:11.094853Z",
     "iopub.status.idle": "2022-11-26T12:02:11.112621Z",
     "shell.execute_reply.started": "2022-11-26T12:02:11.094819Z",
     "shell.execute_reply": "2022-11-26T12:02:11.111541Z"
    },
    "trusted": true
   },
   "execution_count": 20,
   "outputs": [
    {
     "name": "stdout",
     "text": "Длина списка рекомендаций до пересечения 131\nПерескающиеся фильмы [2954, 4436, 5693, 6774, 7210, 7571, 9342, 9506, 10770, 12743, 12841, 12965, 13159, 15266, 16166]\nДлина списка рекомендаций после пересечения 116\n",
     "output_type": "stream"
    }
   ]
  },
  {
   "cell_type": "code",
   "source": [
    "# Сохраним нашу дату с просмотренными фильмами юзеров, обернем нашу NoStupidTop в класс и протестируем модельку\n",
    "\n",
    "user_watched.to_csv('users_interactions.csv', index=False)"
   ],
   "metadata": {
    "execution": {
     "iopub.status.busy": "2022-11-26T12:02:11.114489Z",
     "iopub.execute_input": "2022-11-26T12:02:11.114870Z",
     "iopub.status.idle": "2022-11-26T12:02:13.277275Z",
     "shell.execute_reply.started": "2022-11-26T12:02:11.114837Z",
     "shell.execute_reply": "2022-11-26T12:02:13.276085Z"
    },
    "trusted": true
   },
   "execution_count": 21,
   "outputs": []
  },
  {
   "cell_type": "code",
   "source": [
    "# Проверка\n",
    "user_watched = pd.read_csv('users_interactions.csv' ,converters={\"item_id\": lambda x: x.strip(\"[]\").split(\", \")})\n",
    "\n",
    "us_idx = 123\n",
    "list_watched = user_watched[user_watched.user_id == us_idx].to_numpy()[0][1]\n",
    "mask = np.array([item in list_watched for item in list_top_items])\n",
    "\n",
    "recommed_for_user  = list_top_items[~mask]\n",
    "recommed_for_user"
   ],
   "metadata": {
    "execution": {
     "iopub.status.busy": "2022-11-26T12:02:13.278578Z",
     "iopub.execute_input": "2022-11-26T12:02:13.278823Z",
     "iopub.status.idle": "2022-11-26T12:02:15.640937Z",
     "shell.execute_reply.started": "2022-11-26T12:02:13.278800Z",
     "shell.execute_reply": "2022-11-26T12:02:15.639781Z"
    },
    "trusted": true
   },
   "execution_count": 22,
   "outputs": [
    {
     "execution_count": 22,
     "output_type": "execute_result",
     "data": {
      "text/plain": "array([15297, 10440,  9728, 13865,  3734,  4151,  2657,   142,  8636,\n        7571,  7102,  4495,  4457,  7829, 12995,  1844,  6809,  7417,\n        4740,  9996,  3784,  3935, 16166,  7793, 14703, 14431, 12192,\n       11237, 11778,  3182, 14317,  5434,  4436, 12173, 16228,  7626,\n         512, 10464, 14741, 14901,  5693,  5411, 16270, 12324,  1449,\n        1132,  6402, 15464,  7582, 13018,  6455,  1916,  6162, 10761,\n        1785, 12356,  5658,  1819, 11749, 10942, 10772, 14488,  9194,\n         657,  5732,  5424, 12981, 13915,  1287, 14470, 12743, 12841,\n        6626, 10077,  2954, 13243,  8447,  4880,  8986,  2237, 15266,\n        3509, 11310, 13159, 12965,  2220,  4718,  5803, 11756, 13262,\n        6443,  4471,  2722, 10878,  7310, 11640, 12623,  4696,  9900,\n       10605, 11985,  4260,  9169, 12537,  7210,  4946,  1290,   366,\n        7107,  1418, 11118, 14899, 14461, 11754, 12770, 10240, 12228,\n       16087,  4702, 11348,  9342, 15362,  6382,  9506,   288,  8437,\n        6774,  8821, 10770,  5754, 10323])"
     },
     "metadata": {}
    }
   ]
  },
  {
   "cell_type": "markdown",
   "source": [
    "##  SCORE: model \"NoStupidTop\" - 0.0832060"
   ],
   "metadata": {}
  },
  {
   "cell_type": "code",
   "source": [],
   "metadata": {},
   "execution_count": null,
   "outputs": []
  }
 ]
}
