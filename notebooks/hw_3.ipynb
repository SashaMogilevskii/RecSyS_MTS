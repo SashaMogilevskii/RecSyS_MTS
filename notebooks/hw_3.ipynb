{
 "cells": [
  {
   "cell_type": "code",
   "execution_count": 1,
   "id": "d591ad1b",
   "metadata": {},
   "outputs": [],
   "source": [
    "import os\n",
    "import sys\n",
    "import warnings\n",
    "\n",
    "import pandas as pd\n",
    "import numpy as np\n",
    "import requests\n",
    "from tqdm.auto import tqdm\n",
    "from scipy.stats import mode\n",
    "from pprint import pprint\n",
    "from implicit.nearest_neighbours import CosineRecommender, TFIDFRecommender, BM25Recommender\n",
    "from rectools import Columns\n",
    "from rectools.model_selection import TimeRangeSplitter\n",
    "from rectools.dataset.interactions import Interactions\n",
    "from rectools.dataset import Dataset\n",
    "from rectools.metrics import Precision, Recall, MeanInvUserFreq, Serendipity, MAP, calc_metrics"
   ]
  },
  {
   "cell_type": "code",
   "execution_count": 2,
   "id": "5e48d68b",
   "metadata": {},
   "outputs": [],
   "source": [
    "sys.path.append(os.path.abspath(os.path.join('../service/modelss/')))\n",
    "from userknn import UserKnn"
   ]
  },
  {
   "cell_type": "code",
   "execution_count": 3,
   "id": "70265beb",
   "metadata": {},
   "outputs": [],
   "source": [
    "pd.set_option('display.max_columns', None)\n",
    "pd.set_option('display.max_colwidth', 200)\n",
    "warnings.filterwarnings(\"ignore\")"
   ]
  },
  {
   "cell_type": "markdown",
   "id": "539ac5f5",
   "metadata": {},
   "source": [
    "# Get KION dataset\n",
    "\n",
    "<a href=\"https://ods.ai/competitions/competition-recsys-21/data\"> Dataset description [ru] </a>\n"
   ]
  },
  {
   "cell_type": "markdown",
   "id": "1ab72bbd",
   "metadata": {},
   "source": [
    "# EDA"
   ]
  },
  {
   "cell_type": "code",
   "execution_count": 4,
   "id": "1f349c11",
   "metadata": {},
   "outputs": [],
   "source": [
    "interactions = pd.read_csv('../data/raw/kion_train/interactions.csv')\n",
    "users = pd.read_csv('../data/raw/kion_train/users.csv')\n",
    "items = pd.read_csv('../data/raw/kion_train/items.csv')"
   ]
  },
  {
   "cell_type": "code",
   "execution_count": 5,
   "id": "90fe394f",
   "metadata": {},
   "outputs": [],
   "source": [
    "# rename columns, convert timestamp\n",
    "interactions.rename(columns={'last_watch_dt': Columns.Datetime,\n",
    "                            'total_dur': Columns.Weight},\n",
    "                    inplace=True)\n",
    "\n",
    "interactions['datetime'] = pd.to_datetime(interactions['datetime'])"
   ]
  },
  {
   "cell_type": "markdown",
   "id": "a19cd6de",
   "metadata": {},
   "source": [
    "## interactions"
   ]
  },
  {
   "cell_type": "code",
   "execution_count": 5,
   "id": "f27d010e",
   "metadata": {},
   "outputs": [
    {
     "data": {
      "text/html": [
       "<div>\n",
       "<style scoped>\n",
       "    .dataframe tbody tr th:only-of-type {\n",
       "        vertical-align: middle;\n",
       "    }\n",
       "\n",
       "    .dataframe tbody tr th {\n",
       "        vertical-align: top;\n",
       "    }\n",
       "\n",
       "    .dataframe thead th {\n",
       "        text-align: right;\n",
       "    }\n",
       "</style>\n",
       "<table border=\"1\" class=\"dataframe\">\n",
       "  <thead>\n",
       "    <tr style=\"text-align: right;\">\n",
       "      <th></th>\n",
       "      <th>user_id</th>\n",
       "      <th>item_id</th>\n",
       "      <th>datetime</th>\n",
       "      <th>weight</th>\n",
       "      <th>watched_pct</th>\n",
       "    </tr>\n",
       "  </thead>\n",
       "  <tbody>\n",
       "    <tr>\n",
       "      <th>0</th>\n",
       "      <td>176549</td>\n",
       "      <td>9506</td>\n",
       "      <td>2021-05-11</td>\n",
       "      <td>4250</td>\n",
       "      <td>72.0</td>\n",
       "    </tr>\n",
       "    <tr>\n",
       "      <th>1</th>\n",
       "      <td>699317</td>\n",
       "      <td>1659</td>\n",
       "      <td>2021-05-29</td>\n",
       "      <td>8317</td>\n",
       "      <td>100.0</td>\n",
       "    </tr>\n",
       "    <tr>\n",
       "      <th>2</th>\n",
       "      <td>656683</td>\n",
       "      <td>7107</td>\n",
       "      <td>2021-05-09</td>\n",
       "      <td>10</td>\n",
       "      <td>0.0</td>\n",
       "    </tr>\n",
       "    <tr>\n",
       "      <th>3</th>\n",
       "      <td>864613</td>\n",
       "      <td>7638</td>\n",
       "      <td>2021-07-05</td>\n",
       "      <td>14483</td>\n",
       "      <td>100.0</td>\n",
       "    </tr>\n",
       "    <tr>\n",
       "      <th>4</th>\n",
       "      <td>964868</td>\n",
       "      <td>9506</td>\n",
       "      <td>2021-04-30</td>\n",
       "      <td>6725</td>\n",
       "      <td>100.0</td>\n",
       "    </tr>\n",
       "    <tr>\n",
       "      <th>5476246</th>\n",
       "      <td>648596</td>\n",
       "      <td>12225</td>\n",
       "      <td>2021-08-13</td>\n",
       "      <td>76</td>\n",
       "      <td>0.0</td>\n",
       "    </tr>\n",
       "    <tr>\n",
       "      <th>5476247</th>\n",
       "      <td>546862</td>\n",
       "      <td>9673</td>\n",
       "      <td>2021-04-13</td>\n",
       "      <td>2308</td>\n",
       "      <td>49.0</td>\n",
       "    </tr>\n",
       "    <tr>\n",
       "      <th>5476248</th>\n",
       "      <td>697262</td>\n",
       "      <td>15297</td>\n",
       "      <td>2021-08-20</td>\n",
       "      <td>18307</td>\n",
       "      <td>63.0</td>\n",
       "    </tr>\n",
       "    <tr>\n",
       "      <th>5476249</th>\n",
       "      <td>384202</td>\n",
       "      <td>16197</td>\n",
       "      <td>2021-04-19</td>\n",
       "      <td>6203</td>\n",
       "      <td>100.0</td>\n",
       "    </tr>\n",
       "    <tr>\n",
       "      <th>5476250</th>\n",
       "      <td>319709</td>\n",
       "      <td>4436</td>\n",
       "      <td>2021-08-15</td>\n",
       "      <td>3921</td>\n",
       "      <td>45.0</td>\n",
       "    </tr>\n",
       "  </tbody>\n",
       "</table>\n",
       "</div>"
      ],
      "text/plain": [
       "         user_id  item_id   datetime  weight  watched_pct\n",
       "0         176549     9506 2021-05-11    4250         72.0\n",
       "1         699317     1659 2021-05-29    8317        100.0\n",
       "2         656683     7107 2021-05-09      10          0.0\n",
       "3         864613     7638 2021-07-05   14483        100.0\n",
       "4         964868     9506 2021-04-30    6725        100.0\n",
       "5476246   648596    12225 2021-08-13      76          0.0\n",
       "5476247   546862     9673 2021-04-13    2308         49.0\n",
       "5476248   697262    15297 2021-08-20   18307         63.0\n",
       "5476249   384202    16197 2021-04-19    6203        100.0\n",
       "5476250   319709     4436 2021-08-15    3921         45.0"
      ]
     },
     "execution_count": 5,
     "metadata": {},
     "output_type": "execute_result"
    }
   ],
   "source": [
    "pd.concat([interactions.head(), interactions.tail()])"
   ]
  },
  {
   "cell_type": "code",
   "execution_count": 25,
   "id": "c23b431b",
   "metadata": {},
   "outputs": [
    {
     "name": "stdout",
     "output_type": "stream",
     "text": [
      "Interactions dataframe shape: (5476251, 5)\n",
      "Unique users in interactions: 962_179\n",
      "Unique items in interactions: 15_706\n"
     ]
    }
   ],
   "source": [
    "print(f\"Interactions dataframe shape: {interactions.shape}\")\n",
    "print(f\"Unique users in interactions: {interactions['user_id'].nunique():_}\")\n",
    "print(f\"Unique items in interactions: {interactions['item_id'].nunique():_}\")"
   ]
  },
  {
   "cell_type": "code",
   "execution_count": 26,
   "id": "71372764",
   "metadata": {},
   "outputs": [
    {
     "name": "stdout",
     "output_type": "stream",
     "text": [
      "min date in interactions: 2021-03-13 00:00:00\n",
      "max date in interactions: 2021-08-22 00:00:00\n"
     ]
    }
   ],
   "source": [
    "max_date = interactions['datetime'].max()\n",
    "min_date = interactions['datetime'].min()\n",
    "\n",
    "print(f\"min date in interactions: {min_date}\")\n",
    "print(f\"max date in interactions: {max_date}\")"
   ]
  },
  {
   "cell_type": "code",
   "execution_count": 27,
   "id": "af4008cf",
   "metadata": {},
   "outputs": [
    {
     "name": "stdout",
     "output_type": "stream",
     "text": [
      "<class 'pandas.core.frame.DataFrame'>\n",
      "RangeIndex: 5476251 entries, 0 to 5476250\n",
      "Data columns (total 5 columns):\n",
      " #   Column       Dtype         \n",
      "---  ------       -----         \n",
      " 0   user_id      int64         \n",
      " 1   item_id      int64         \n",
      " 2   datetime     datetime64[ns]\n",
      " 3   weight       int64         \n",
      " 4   watched_pct  float64       \n",
      "dtypes: datetime64[ns](1), float64(1), int64(3)\n",
      "memory usage: 208.9 MB\n"
     ]
    }
   ],
   "source": [
    "interactions.info()"
   ]
  },
  {
   "cell_type": "markdown",
   "id": "675295b6",
   "metadata": {},
   "source": [
    "## users"
   ]
  },
  {
   "cell_type": "code",
   "execution_count": 28,
   "id": "3ff572ff",
   "metadata": {},
   "outputs": [
    {
     "data": {
      "text/html": [
       "<div>\n",
       "<style scoped>\n",
       "    .dataframe tbody tr th:only-of-type {\n",
       "        vertical-align: middle;\n",
       "    }\n",
       "\n",
       "    .dataframe tbody tr th {\n",
       "        vertical-align: top;\n",
       "    }\n",
       "\n",
       "    .dataframe thead th {\n",
       "        text-align: right;\n",
       "    }\n",
       "</style>\n",
       "<table border=\"1\" class=\"dataframe\">\n",
       "  <thead>\n",
       "    <tr style=\"text-align: right;\">\n",
       "      <th></th>\n",
       "      <th>user_id</th>\n",
       "      <th>age</th>\n",
       "      <th>income</th>\n",
       "      <th>sex</th>\n",
       "      <th>kids_flg</th>\n",
       "    </tr>\n",
       "  </thead>\n",
       "  <tbody>\n",
       "    <tr>\n",
       "      <th>0</th>\n",
       "      <td>973171</td>\n",
       "      <td>age_25_34</td>\n",
       "      <td>income_60_90</td>\n",
       "      <td>М</td>\n",
       "      <td>1</td>\n",
       "    </tr>\n",
       "    <tr>\n",
       "      <th>1</th>\n",
       "      <td>962099</td>\n",
       "      <td>age_18_24</td>\n",
       "      <td>income_20_40</td>\n",
       "      <td>М</td>\n",
       "      <td>0</td>\n",
       "    </tr>\n",
       "    <tr>\n",
       "      <th>2</th>\n",
       "      <td>1047345</td>\n",
       "      <td>age_45_54</td>\n",
       "      <td>income_40_60</td>\n",
       "      <td>Ж</td>\n",
       "      <td>0</td>\n",
       "    </tr>\n",
       "    <tr>\n",
       "      <th>3</th>\n",
       "      <td>721985</td>\n",
       "      <td>age_45_54</td>\n",
       "      <td>income_20_40</td>\n",
       "      <td>Ж</td>\n",
       "      <td>0</td>\n",
       "    </tr>\n",
       "    <tr>\n",
       "      <th>4</th>\n",
       "      <td>704055</td>\n",
       "      <td>age_35_44</td>\n",
       "      <td>income_60_90</td>\n",
       "      <td>Ж</td>\n",
       "      <td>0</td>\n",
       "    </tr>\n",
       "    <tr>\n",
       "      <th>840192</th>\n",
       "      <td>339025</td>\n",
       "      <td>age_65_inf</td>\n",
       "      <td>income_0_20</td>\n",
       "      <td>Ж</td>\n",
       "      <td>0</td>\n",
       "    </tr>\n",
       "    <tr>\n",
       "      <th>840193</th>\n",
       "      <td>983617</td>\n",
       "      <td>age_18_24</td>\n",
       "      <td>income_20_40</td>\n",
       "      <td>Ж</td>\n",
       "      <td>1</td>\n",
       "    </tr>\n",
       "    <tr>\n",
       "      <th>840194</th>\n",
       "      <td>251008</td>\n",
       "      <td>NaN</td>\n",
       "      <td>NaN</td>\n",
       "      <td>NaN</td>\n",
       "      <td>0</td>\n",
       "    </tr>\n",
       "    <tr>\n",
       "      <th>840195</th>\n",
       "      <td>590706</td>\n",
       "      <td>NaN</td>\n",
       "      <td>NaN</td>\n",
       "      <td>Ж</td>\n",
       "      <td>0</td>\n",
       "    </tr>\n",
       "    <tr>\n",
       "      <th>840196</th>\n",
       "      <td>166555</td>\n",
       "      <td>age_65_inf</td>\n",
       "      <td>income_20_40</td>\n",
       "      <td>Ж</td>\n",
       "      <td>0</td>\n",
       "    </tr>\n",
       "  </tbody>\n",
       "</table>\n",
       "</div>"
      ],
      "text/plain": [
       "        user_id         age        income  sex  kids_flg\n",
       "0        973171   age_25_34  income_60_90    М         1\n",
       "1        962099   age_18_24  income_20_40    М         0\n",
       "2       1047345   age_45_54  income_40_60    Ж         0\n",
       "3        721985   age_45_54  income_20_40    Ж         0\n",
       "4        704055   age_35_44  income_60_90    Ж         0\n",
       "840192   339025  age_65_inf   income_0_20    Ж         0\n",
       "840193   983617   age_18_24  income_20_40    Ж         1\n",
       "840194   251008         NaN           NaN  NaN         0\n",
       "840195   590706         NaN           NaN    Ж         0\n",
       "840196   166555  age_65_inf  income_20_40    Ж         0"
      ]
     },
     "execution_count": 28,
     "metadata": {},
     "output_type": "execute_result"
    }
   ],
   "source": [
    "pd.concat([users.head(), users.tail()])"
   ]
  },
  {
   "cell_type": "code",
   "execution_count": 29,
   "id": "7b34baf4",
   "metadata": {},
   "outputs": [
    {
     "name": "stdout",
     "output_type": "stream",
     "text": [
      "Users dataframe shape (840197, 5)\n",
      "Unique users: 840_197\n"
     ]
    }
   ],
   "source": [
    "print(f\"Users dataframe shape {users.shape}\")\n",
    "print(f\"Unique users: {users['user_id'].nunique():_}\")"
   ]
  },
  {
   "cell_type": "markdown",
   "id": "b89ca7b2",
   "metadata": {},
   "source": [
    "## items"
   ]
  },
  {
   "cell_type": "code",
   "execution_count": 30,
   "id": "a289682c",
   "metadata": {},
   "outputs": [
    {
     "data": {
      "text/html": [
       "<div>\n",
       "<style scoped>\n",
       "    .dataframe tbody tr th:only-of-type {\n",
       "        vertical-align: middle;\n",
       "    }\n",
       "\n",
       "    .dataframe tbody tr th {\n",
       "        vertical-align: top;\n",
       "    }\n",
       "\n",
       "    .dataframe thead th {\n",
       "        text-align: right;\n",
       "    }\n",
       "</style>\n",
       "<table border=\"1\" class=\"dataframe\">\n",
       "  <thead>\n",
       "    <tr style=\"text-align: right;\">\n",
       "      <th></th>\n",
       "      <th>item_id</th>\n",
       "      <th>content_type</th>\n",
       "      <th>title</th>\n",
       "      <th>title_orig</th>\n",
       "      <th>release_year</th>\n",
       "      <th>genres</th>\n",
       "      <th>countries</th>\n",
       "      <th>for_kids</th>\n",
       "      <th>age_rating</th>\n",
       "      <th>studios</th>\n",
       "      <th>directors</th>\n",
       "      <th>actors</th>\n",
       "      <th>description</th>\n",
       "      <th>keywords</th>\n",
       "    </tr>\n",
       "  </thead>\n",
       "  <tbody>\n",
       "    <tr>\n",
       "      <th>0</th>\n",
       "      <td>10711</td>\n",
       "      <td>film</td>\n",
       "      <td>Поговори с ней</td>\n",
       "      <td>Hable con ella</td>\n",
       "      <td>2002.0</td>\n",
       "      <td>драмы, зарубежные, детективы, мелодрамы</td>\n",
       "      <td>Испания</td>\n",
       "      <td>NaN</td>\n",
       "      <td>16.0</td>\n",
       "      <td>NaN</td>\n",
       "      <td>Педро Альмодовар</td>\n",
       "      <td>Адольфо Фернандес, Ана Фернандес, Дарио Грандинетти, Джеральдин Чаплин, Елена Анайя, Каэтано Велозо, Леонор Уотлинг, Лола Дуэньяс, Лолес Леон, Малу Айродо, Мариола Фуэнтес, Пас Вега, Пина Бауш, Ро...</td>\n",
       "      <td>Мелодрама легендарного Педро Альмодовара «Поговори с ней» в 2003 году получила премию «Оскар» за лучший сценарий.  Журналист Марко берет интервью у знаменитой женщины-тореро Лидии и вскоре влюбляе...</td>\n",
       "      <td>Поговори, ней, 2002, Испания, друзья, любовь, сильные, женщины, преодоление, трудностей, отношения, дружба, отношения, паре, отношения, мужчины, женщины, романтические, отношения, потеря, близких,...</td>\n",
       "    </tr>\n",
       "    <tr>\n",
       "      <th>1</th>\n",
       "      <td>2508</td>\n",
       "      <td>film</td>\n",
       "      <td>Голые перцы</td>\n",
       "      <td>Search Party</td>\n",
       "      <td>2014.0</td>\n",
       "      <td>зарубежные, приключения, комедии</td>\n",
       "      <td>США</td>\n",
       "      <td>NaN</td>\n",
       "      <td>16.0</td>\n",
       "      <td>NaN</td>\n",
       "      <td>Скот Армстронг</td>\n",
       "      <td>Адам Палли, Брайан Хаски, Дж.Б. Смув, Джейсон Манцукас, Джон Глейсер, Карл Грин, Кристен Риттер, Лэнс Реддик, Морис Комт, Патрик Кернс, Ребекка Коллинз, Роза Салазар, Росс П. Кук, Стеффи Гроут, Ти...</td>\n",
       "      <td>Уморительная современная комедия на популярную тему о том, как не надо отмечать мальчишник. Главный герой усвоил, что не надо звать на свадьбу своего друга Джейсона, из-за которого он вместо сваде...</td>\n",
       "      <td>Голые, перцы, 2014, США, друзья, свадьбы, преодоление, трудностей, расставания, отношения, дружба, риск, недоразумение, мужская, дружба, мальчишники, девичники</td>\n",
       "    </tr>\n",
       "    <tr>\n",
       "      <th>15961</th>\n",
       "      <td>4538</td>\n",
       "      <td>series</td>\n",
       "      <td>Среди камней</td>\n",
       "      <td>Darklands</td>\n",
       "      <td>2019.0</td>\n",
       "      <td>драмы, спорт, криминал</td>\n",
       "      <td>Россия</td>\n",
       "      <td>0.0</td>\n",
       "      <td>18.0</td>\n",
       "      <td>NaN</td>\n",
       "      <td>Марк О’Коннор, Конор МакМахон</td>\n",
       "      <td>Дэйн Уайт О’Хара, Томас Кэйн-Бирн, Джудит Родди, Марк О’Халлоран, Джимми Смоллхорн</td>\n",
       "      <td>Семнадцатилетний Дэмиен мечтает вырваться за пределы своего района и стать профессиональным бойцом. Когда его кумир и старший брат исчезает, парень попадает в чуждый ему мир насилия, наркотиков и ...</td>\n",
       "      <td>Среди, камней, 2019, Россия</td>\n",
       "    </tr>\n",
       "    <tr>\n",
       "      <th>15962</th>\n",
       "      <td>3206</td>\n",
       "      <td>series</td>\n",
       "      <td>Гоша</td>\n",
       "      <td>NaN</td>\n",
       "      <td>2019.0</td>\n",
       "      <td>комедии</td>\n",
       "      <td>Россия</td>\n",
       "      <td>0.0</td>\n",
       "      <td>16.0</td>\n",
       "      <td>NaN</td>\n",
       "      <td>Михаил Миронов</td>\n",
       "      <td>Мкртыч Арзуманян, Виктория Рунцова</td>\n",
       "      <td>Добродушный Гоша не может выйти из дома, чтобы не попасть в нелепую и курьёзную историю. Но даже неудачники мечтают о любви, и наш герой — не исключение, ведь оптимизма ему не занимать.</td>\n",
       "      <td>Гоша, 2019, Россия</td>\n",
       "    </tr>\n",
       "  </tbody>\n",
       "</table>\n",
       "</div>"
      ],
      "text/plain": [
       "       item_id content_type           title      title_orig  release_year  \\\n",
       "0        10711         film  Поговори с ней  Hable con ella        2002.0   \n",
       "1         2508         film     Голые перцы    Search Party        2014.0   \n",
       "15961     4538       series    Среди камней      Darklands         2019.0   \n",
       "15962     3206       series            Гоша             NaN        2019.0   \n",
       "\n",
       "                                        genres countries  for_kids  \\\n",
       "0      драмы, зарубежные, детективы, мелодрамы   Испания       NaN   \n",
       "1             зарубежные, приключения, комедии       США       NaN   \n",
       "15961                   драмы, спорт, криминал    Россия       0.0   \n",
       "15962                                  комедии    Россия       0.0   \n",
       "\n",
       "       age_rating studios                      directors  \\\n",
       "0            16.0     NaN               Педро Альмодовар   \n",
       "1            16.0     NaN                 Скот Армстронг   \n",
       "15961        18.0     NaN  Марк О’Коннор, Конор МакМахон   \n",
       "15962        16.0     NaN                 Михаил Миронов   \n",
       "\n",
       "                                                                                                                                                                                                        actors  \\\n",
       "0      Адольфо Фернандес, Ана Фернандес, Дарио Грандинетти, Джеральдин Чаплин, Елена Анайя, Каэтано Велозо, Леонор Уотлинг, Лола Дуэньяс, Лолес Леон, Малу Айродо, Мариола Фуэнтес, Пас Вега, Пина Бауш, Ро...   \n",
       "1      Адам Палли, Брайан Хаски, Дж.Б. Смув, Джейсон Манцукас, Джон Глейсер, Карл Грин, Кристен Риттер, Лэнс Реддик, Морис Комт, Патрик Кернс, Ребекка Коллинз, Роза Салазар, Росс П. Кук, Стеффи Гроут, Ти...   \n",
       "15961                                                                                                                       Дэйн Уайт О’Хара, Томас Кэйн-Бирн, Джудит Родди, Марк О’Халлоран, Джимми Смоллхорн   \n",
       "15962                                                                                                                                                                       Мкртыч Арзуманян, Виктория Рунцова   \n",
       "\n",
       "                                                                                                                                                                                                   description  \\\n",
       "0      Мелодрама легендарного Педро Альмодовара «Поговори с ней» в 2003 году получила премию «Оскар» за лучший сценарий.  Журналист Марко берет интервью у знаменитой женщины-тореро Лидии и вскоре влюбляе...   \n",
       "1      Уморительная современная комедия на популярную тему о том, как не надо отмечать мальчишник. Главный герой усвоил, что не надо звать на свадьбу своего друга Джейсона, из-за которого он вместо сваде...   \n",
       "15961  Семнадцатилетний Дэмиен мечтает вырваться за пределы своего района и стать профессиональным бойцом. Когда его кумир и старший брат исчезает, парень попадает в чуждый ему мир насилия, наркотиков и ...   \n",
       "15962                Добродушный Гоша не может выйти из дома, чтобы не попасть в нелепую и курьёзную историю. Но даже неудачники мечтают о любви, и наш герой — не исключение, ведь оптимизма ему не занимать.   \n",
       "\n",
       "                                                                                                                                                                                                      keywords  \n",
       "0      Поговори, ней, 2002, Испания, друзья, любовь, сильные, женщины, преодоление, трудностей, отношения, дружба, отношения, паре, отношения, мужчины, женщины, романтические, отношения, потеря, близких,...  \n",
       "1                                              Голые, перцы, 2014, США, друзья, свадьбы, преодоление, трудностей, расставания, отношения, дружба, риск, недоразумение, мужская, дружба, мальчишники, девичники  \n",
       "15961                                                                                                                                                                              Среди, камней, 2019, Россия  \n",
       "15962                                                                                                                                                                                       Гоша, 2019, Россия  "
      ]
     },
     "execution_count": 30,
     "metadata": {},
     "output_type": "execute_result"
    }
   ],
   "source": [
    "pd.concat([items.head(2), items.tail(2)])"
   ]
  },
  {
   "cell_type": "code",
   "execution_count": 31,
   "id": "2bcfc0b6",
   "metadata": {},
   "outputs": [
    {
     "name": "stdout",
     "output_type": "stream",
     "text": [
      "Items dataframe shape (15963, 14)\n",
      "Unique item_id: 15_963\n"
     ]
    }
   ],
   "source": [
    "print(f\"Items dataframe shape {items.shape}\")\n",
    "print(f\"Unique item_id: {items['item_id'].nunique():_}\")"
   ]
  },
  {
   "cell_type": "markdown",
   "id": "ad8e37ce",
   "metadata": {},
   "source": [
    "#  Base userkNN model  CV\n",
    "\n",
    "Compare implicit `CosineRecommender` and `TFIDFRecommender` as an ItemKnn base\n",
    "\n"
   ]
  },
  {
   "cell_type": "code",
   "execution_count": 6,
   "id": "a90a45ca",
   "metadata": {},
   "outputs": [
    {
     "name": "stdout",
     "output_type": "stream",
     "text": [
      "Start date and last date of the test fold: (Timestamp('2021-06-27 00:00:00'), Timestamp('2021-08-22 00:00:00'))\n"
     ]
    }
   ],
   "source": [
    "# setting for cv\n",
    "n_folds = 7\n",
    "unit = \"W\"\n",
    "n_units = 1\n",
    "\n",
    "last_date = interactions[Columns.Datetime].max().normalize()\n",
    "start_date = last_date - pd.Timedelta(n_folds * n_units + 1, unit=unit)\n",
    "print(f\"Start date and last date of the test fold: {start_date, last_date}\")"
   ]
  },
  {
   "cell_type": "markdown",
   "id": "e6fdea8e",
   "metadata": {},
   "source": [
    "### Test fold borders"
   ]
  },
  {
   "cell_type": "code",
   "execution_count": 7,
   "id": "a0513172",
   "metadata": {},
   "outputs": [
    {
     "name": "stdout",
     "output_type": "stream",
     "text": [
      "start_date: 2021-06-27 00:00:00\n",
      "last_date: 2021-08-22 00:00:00\n",
      "periods: 8\n",
      "freq: 1W\n",
      "\n",
      "Test fold borders: ['2021-06-27' '2021-07-04' '2021-07-11' '2021-07-18' '2021-07-25'\n",
      " '2021-08-01' '2021-08-08' '2021-08-15']\n",
      "Real number of folds: 7\n"
     ]
    }
   ],
   "source": [
    "periods = n_folds + 1\n",
    "freq = f\"{n_units}{unit}\"\n",
    "print(\n",
    "    f\"start_date: {start_date}\\n\"\n",
    "    f\"last_date: {last_date}\\n\"\n",
    "    f\"periods: {periods}\\n\"\n",
    "    f\"freq: {freq}\\n\"\n",
    ")\n",
    "\n",
    "date_range = pd.date_range(start=start_date, periods=periods, freq=freq, tz=last_date.tz)\n",
    "print(f\"Test fold borders: {date_range.values.astype('datetime64[D]')}\")\n",
    "\n",
    "# generator of folds\n",
    "cv = TimeRangeSplitter(\n",
    "    date_range=date_range,\n",
    "    filter_already_seen=True,\n",
    "    filter_cold_items=True,\n",
    "    filter_cold_users=True,\n",
    ")\n",
    "print(f\"Real number of folds: {cv.get_n_splits(Interactions(interactions))}\")"
   ]
  },
  {
   "cell_type": "code",
   "execution_count": 12,
   "id": "fce4747a",
   "metadata": {},
   "outputs": [],
   "source": [
    "# calculate several classic (precision@k and recall@k) and \"beyond accuracy\" metrics\n",
    "metrics = {\n",
    "    \"prec@10\": Precision(k=10),\n",
    "    \"recall@10\": Recall(k=10),\n",
    "    \"novelty\": MeanInvUserFreq(k=10),\n",
    "    \"serendipity\": Serendipity(k=10),\n",
    "    \"map@10\": MAP(k=10)\n",
    "}\n",
    "\n",
    "# few simple models to compare\n",
    "models = {\n",
    "#     \"BM25\": BM25Recommender(),\n",
    "    \"cosine_itemknn\": CosineRecommender(),\n",
    "    \"tfidf_itemknn\": TFIDFRecommender(),\n",
    "}\n"
   ]
  },
  {
   "cell_type": "markdown",
   "id": "09e906aa",
   "metadata": {},
   "source": [
    "Заметив ошибку в одном из методов определения расстояния, BM25Recommender, мы протестировали его отдельно. К сожалению, не хватило времени разобраться, почему с этим методом возвращается пустой список рекомендаций."
   ]
  },
  {
   "cell_type": "code",
   "execution_count": 16,
   "id": "dbc0ac12",
   "metadata": {},
   "outputs": [
    {
     "data": {
      "application/vnd.jupyter.widget-view+json": {
       "model_id": "04d23843004b4074a711269cbe7c55ef",
       "version_major": 2,
       "version_minor": 0
      },
      "text/plain": [
       "  0%|          | 0/842129 [00:00<?, ?it/s]"
      ]
     },
     "metadata": {},
     "output_type": "display_data"
    },
    {
     "data": {
      "text/html": [
       "<div>\n",
       "<style scoped>\n",
       "    .dataframe tbody tr th:only-of-type {\n",
       "        vertical-align: middle;\n",
       "    }\n",
       "\n",
       "    .dataframe tbody tr th {\n",
       "        vertical-align: top;\n",
       "    }\n",
       "\n",
       "    .dataframe thead th {\n",
       "        text-align: right;\n",
       "    }\n",
       "</style>\n",
       "<table border=\"1\" class=\"dataframe\">\n",
       "  <thead>\n",
       "    <tr style=\"text-align: right;\">\n",
       "      <th></th>\n",
       "      <th>user_id</th>\n",
       "      <th>item_id</th>\n",
       "      <th>score</th>\n",
       "      <th>rank</th>\n",
       "    </tr>\n",
       "  </thead>\n",
       "  <tbody>\n",
       "  </tbody>\n",
       "</table>\n",
       "</div>"
      ],
      "text/plain": [
       "Empty DataFrame\n",
       "Columns: [user_id, item_id, score, rank]\n",
       "Index: []"
      ]
     },
     "execution_count": 16,
     "metadata": {},
     "output_type": "execute_result"
    }
   ],
   "source": [
    "userknn_model = UserKnn(model=BM25Recommender(), N_users=10)\n",
    "userknn_model.fit(df_train)\n",
    "\n",
    "recos = userknn_model.predict(df_test)\n",
    "recos"
   ]
  },
  {
   "cell_type": "markdown",
   "id": "06be6d3b",
   "metadata": {},
   "source": [
    "# Model training by fold"
   ]
  },
  {
   "cell_type": "markdown",
   "id": "ac5e6976",
   "metadata": {},
   "source": [
    "Здесь мы обучили base_userknn, с дефолтными настройками от лектора."
   ]
  },
  {
   "cell_type": "code",
   "execution_count": 13,
   "id": "d07f350f",
   "metadata": {},
   "outputs": [
    {
     "name": "stdout",
     "output_type": "stream",
     "text": [
      "\n",
      "==================== Fold 0\n",
      "{'End date': Timestamp('2021-07-04 00:00:00', freq='W-SUN'),\n",
      " 'Start date': Timestamp('2021-06-27 00:00:00', freq='W-SUN'),\n",
      " 'Test': 237414,\n",
      " 'Test items': 5947,\n",
      " 'Test users': 98930,\n",
      " 'Train': 2533586,\n",
      " 'Train items': 14092,\n",
      " 'Train users': 536802}\n",
      "BM25\n"
     ]
    },
    {
     "data": {
      "application/vnd.jupyter.widget-view+json": {
       "model_id": "adb50c229d054d26942b123a5e43eda3",
       "version_major": 2,
       "version_minor": 0
      },
      "text/plain": [
       "  0%|          | 0/536802 [00:00<?, ?it/s]"
      ]
     },
     "metadata": {},
     "output_type": "display_data"
    },
    {
     "name": "stdout",
     "output_type": "stream",
     "text": [
      "cosine_itemknn\n"
     ]
    },
    {
     "data": {
      "application/vnd.jupyter.widget-view+json": {
       "model_id": "370769a76347413bb775492c3f0f9353",
       "version_major": 2,
       "version_minor": 0
      },
      "text/plain": [
       "  0%|          | 0/536802 [00:00<?, ?it/s]"
      ]
     },
     "metadata": {},
     "output_type": "display_data"
    },
    {
     "name": "stdout",
     "output_type": "stream",
     "text": [
      "tfidf_itemknn\n"
     ]
    },
    {
     "data": {
      "application/vnd.jupyter.widget-view+json": {
       "model_id": "f52195bb11fd499495476c7facf0c5a2",
       "version_major": 2,
       "version_minor": 0
      },
      "text/plain": [
       "  0%|          | 0/536802 [00:00<?, ?it/s]"
      ]
     },
     "metadata": {},
     "output_type": "display_data"
    },
    {
     "name": "stdout",
     "output_type": "stream",
     "text": [
      "\n",
      "==================== Fold 1\n",
      "{'End date': Timestamp('2021-07-11 00:00:00', freq='W-SUN'),\n",
      " 'Start date': Timestamp('2021-07-04 00:00:00', freq='W-SUN'),\n",
      " 'Test': 211146,\n",
      " 'Test items': 6209,\n",
      " 'Test users': 86167,\n",
      " 'Train': 2886800,\n",
      " 'Train items': 14357,\n",
      " 'Train users': 595902}\n",
      "BM25\n"
     ]
    },
    {
     "data": {
      "application/vnd.jupyter.widget-view+json": {
       "model_id": "ab05dd70d69f4a20bd436ff87519e433",
       "version_major": 2,
       "version_minor": 0
      },
      "text/plain": [
       "  0%|          | 0/595902 [00:00<?, ?it/s]"
      ]
     },
     "metadata": {},
     "output_type": "display_data"
    },
    {
     "name": "stdout",
     "output_type": "stream",
     "text": [
      "cosine_itemknn\n"
     ]
    },
    {
     "data": {
      "application/vnd.jupyter.widget-view+json": {
       "model_id": "6eec7bb487f7463eb6f9caa2f8a640bc",
       "version_major": 2,
       "version_minor": 0
      },
      "text/plain": [
       "  0%|          | 0/595902 [00:00<?, ?it/s]"
      ]
     },
     "metadata": {},
     "output_type": "display_data"
    },
    {
     "name": "stdout",
     "output_type": "stream",
     "text": [
      "tfidf_itemknn\n"
     ]
    },
    {
     "data": {
      "application/vnd.jupyter.widget-view+json": {
       "model_id": "31a9b9a9f6604cd7a516b723b4c14a88",
       "version_major": 2,
       "version_minor": 0
      },
      "text/plain": [
       "  0%|          | 0/595902 [00:00<?, ?it/s]"
      ]
     },
     "metadata": {},
     "output_type": "display_data"
    },
    {
     "name": "stdout",
     "output_type": "stream",
     "text": [
      "\n",
      "==================== Fold 2\n",
      "{'End date': Timestamp('2021-07-18 00:00:00', freq='W-SUN'),\n",
      " 'Start date': Timestamp('2021-07-11 00:00:00', freq='W-SUN'),\n",
      " 'Test': 214489,\n",
      " 'Test items': 6313,\n",
      " 'Test users': 84234,\n",
      " 'Train': 3192875,\n",
      " 'Train items': 14711,\n",
      " 'Train users': 640144}\n",
      "BM25\n"
     ]
    },
    {
     "data": {
      "application/vnd.jupyter.widget-view+json": {
       "model_id": "7c7dba07fc5f41fdb536e05d19c4f361",
       "version_major": 2,
       "version_minor": 0
      },
      "text/plain": [
       "  0%|          | 0/640144 [00:00<?, ?it/s]"
      ]
     },
     "metadata": {},
     "output_type": "display_data"
    },
    {
     "name": "stdout",
     "output_type": "stream",
     "text": [
      "cosine_itemknn\n"
     ]
    },
    {
     "data": {
      "application/vnd.jupyter.widget-view+json": {
       "model_id": "c797302f91234e24bcf6ca9f8724dcef",
       "version_major": 2,
       "version_minor": 0
      },
      "text/plain": [
       "  0%|          | 0/640144 [00:00<?, ?it/s]"
      ]
     },
     "metadata": {},
     "output_type": "display_data"
    },
    {
     "name": "stdout",
     "output_type": "stream",
     "text": [
      "tfidf_itemknn\n"
     ]
    },
    {
     "data": {
      "application/vnd.jupyter.widget-view+json": {
       "model_id": "7871c756442f4a21a73c951c886bfa93",
       "version_major": 2,
       "version_minor": 0
      },
      "text/plain": [
       "  0%|          | 0/640144 [00:00<?, ?it/s]"
      ]
     },
     "metadata": {},
     "output_type": "display_data"
    },
    {
     "name": "stdout",
     "output_type": "stream",
     "text": [
      "\n",
      "==================== Fold 3\n",
      "{'End date': Timestamp('2021-07-25 00:00:00', freq='W-SUN'),\n",
      " 'Start date': Timestamp('2021-07-18 00:00:00', freq='W-SUN'),\n",
      " 'Test': 231207,\n",
      " 'Test items': 6491,\n",
      " 'Test users': 87632,\n",
      " 'Train': 3506106,\n",
      " 'Train items': 14928,\n",
      " 'Train users': 687200}\n",
      "BM25\n"
     ]
    },
    {
     "data": {
      "application/vnd.jupyter.widget-view+json": {
       "model_id": "79b7877c45914ea09dd736b2f5c048a1",
       "version_major": 2,
       "version_minor": 0
      },
      "text/plain": [
       "  0%|          | 0/687200 [00:00<?, ?it/s]"
      ]
     },
     "metadata": {},
     "output_type": "display_data"
    },
    {
     "name": "stdout",
     "output_type": "stream",
     "text": [
      "cosine_itemknn\n"
     ]
    },
    {
     "data": {
      "application/vnd.jupyter.widget-view+json": {
       "model_id": "0ff6b8724169469baef49a94aa5d69cf",
       "version_major": 2,
       "version_minor": 0
      },
      "text/plain": [
       "  0%|          | 0/687200 [00:00<?, ?it/s]"
      ]
     },
     "metadata": {},
     "output_type": "display_data"
    },
    {
     "name": "stdout",
     "output_type": "stream",
     "text": [
      "tfidf_itemknn\n"
     ]
    },
    {
     "data": {
      "application/vnd.jupyter.widget-view+json": {
       "model_id": "831d0bb984954ed190a951f80820d7ff",
       "version_major": 2,
       "version_minor": 0
      },
      "text/plain": [
       "  0%|          | 0/687200 [00:00<?, ?it/s]"
      ]
     },
     "metadata": {},
     "output_type": "display_data"
    },
    {
     "name": "stdout",
     "output_type": "stream",
     "text": [
      "\n",
      "==================== Fold 4\n",
      "{'End date': Timestamp('2021-08-01 00:00:00', freq='W-SUN'),\n",
      " 'Start date': Timestamp('2021-07-25 00:00:00', freq='W-SUN'),\n",
      " 'Test': 249396,\n",
      " 'Test items': 6611,\n",
      " 'Test users': 93092,\n",
      " 'Train': 3838180,\n",
      " 'Train items': 15061,\n",
      " 'Train users': 734701}\n",
      "BM25\n"
     ]
    },
    {
     "data": {
      "application/vnd.jupyter.widget-view+json": {
       "model_id": "ee2d684df1114ee7b385db64c1cb5350",
       "version_major": 2,
       "version_minor": 0
      },
      "text/plain": [
       "  0%|          | 0/734701 [00:00<?, ?it/s]"
      ]
     },
     "metadata": {},
     "output_type": "display_data"
    },
    {
     "name": "stdout",
     "output_type": "stream",
     "text": [
      "cosine_itemknn\n"
     ]
    },
    {
     "data": {
      "application/vnd.jupyter.widget-view+json": {
       "model_id": "48eb6e2e75294c66b6c4916d1dc6f459",
       "version_major": 2,
       "version_minor": 0
      },
      "text/plain": [
       "  0%|          | 0/734701 [00:00<?, ?it/s]"
      ]
     },
     "metadata": {},
     "output_type": "display_data"
    },
    {
     "name": "stdout",
     "output_type": "stream",
     "text": [
      "tfidf_itemknn\n"
     ]
    },
    {
     "data": {
      "application/vnd.jupyter.widget-view+json": {
       "model_id": "c13d7ef4b164429a9a5c29789f2e733b",
       "version_major": 2,
       "version_minor": 0
      },
      "text/plain": [
       "  0%|          | 0/734701 [00:00<?, ?it/s]"
      ]
     },
     "metadata": {},
     "output_type": "display_data"
    },
    {
     "name": "stdout",
     "output_type": "stream",
     "text": [
      "\n",
      "==================== Fold 5\n",
      "{'End date': Timestamp('2021-08-08 00:00:00', freq='W-SUN'),\n",
      " 'Start date': Timestamp('2021-08-01 00:00:00', freq='W-SUN'),\n",
      " 'Test': 264039,\n",
      " 'Test items': 6609,\n",
      " 'Test users': 98161,\n",
      " 'Train': 4203885,\n",
      " 'Train items': 15212,\n",
      " 'Train users': 788721}\n",
      "BM25\n"
     ]
    },
    {
     "data": {
      "application/vnd.jupyter.widget-view+json": {
       "model_id": "8a11627c1caf4e20acbc759c50749b00",
       "version_major": 2,
       "version_minor": 0
      },
      "text/plain": [
       "  0%|          | 0/788721 [00:00<?, ?it/s]"
      ]
     },
     "metadata": {},
     "output_type": "display_data"
    },
    {
     "name": "stdout",
     "output_type": "stream",
     "text": [
      "cosine_itemknn\n"
     ]
    },
    {
     "data": {
      "application/vnd.jupyter.widget-view+json": {
       "model_id": "fcd31af32a7a433aa1ceed283a8a9e45",
       "version_major": 2,
       "version_minor": 0
      },
      "text/plain": [
       "  0%|          | 0/788721 [00:00<?, ?it/s]"
      ]
     },
     "metadata": {},
     "output_type": "display_data"
    },
    {
     "name": "stdout",
     "output_type": "stream",
     "text": [
      "tfidf_itemknn\n"
     ]
    },
    {
     "data": {
      "application/vnd.jupyter.widget-view+json": {
       "model_id": "1fc052ba8e1445a3a3d363e154570a99",
       "version_major": 2,
       "version_minor": 0
      },
      "text/plain": [
       "  0%|          | 0/788721 [00:00<?, ?it/s]"
      ]
     },
     "metadata": {},
     "output_type": "display_data"
    },
    {
     "name": "stdout",
     "output_type": "stream",
     "text": [
      "\n",
      "==================== Fold 6\n",
      "{'End date': Timestamp('2021-08-15 00:00:00', freq='W-SUN'),\n",
      " 'Start date': Timestamp('2021-08-08 00:00:00', freq='W-SUN'),\n",
      " 'Test': 276699,\n",
      " 'Test items': 6715,\n",
      " 'Test users': 101983,\n",
      " 'Train': 4587708,\n",
      " 'Train items': 15404,\n",
      " 'Train users': 842129}\n",
      "BM25\n"
     ]
    },
    {
     "data": {
      "application/vnd.jupyter.widget-view+json": {
       "model_id": "4d66dab471e54b8bb66fab61f9ae954d",
       "version_major": 2,
       "version_minor": 0
      },
      "text/plain": [
       "  0%|          | 0/842129 [00:00<?, ?it/s]"
      ]
     },
     "metadata": {},
     "output_type": "display_data"
    },
    {
     "name": "stdout",
     "output_type": "stream",
     "text": [
      "cosine_itemknn\n"
     ]
    },
    {
     "data": {
      "application/vnd.jupyter.widget-view+json": {
       "model_id": "da95a1704006468d9848accff1eb0b57",
       "version_major": 2,
       "version_minor": 0
      },
      "text/plain": [
       "  0%|          | 0/842129 [00:00<?, ?it/s]"
      ]
     },
     "metadata": {},
     "output_type": "display_data"
    },
    {
     "name": "stdout",
     "output_type": "stream",
     "text": [
      "tfidf_itemknn\n"
     ]
    },
    {
     "data": {
      "application/vnd.jupyter.widget-view+json": {
       "model_id": "4253c1ee678d4dc4a80f047f86eab111",
       "version_major": 2,
       "version_minor": 0
      },
      "text/plain": [
       "  0%|          | 0/842129 [00:00<?, ?it/s]"
      ]
     },
     "metadata": {},
     "output_type": "display_data"
    },
    {
     "name": "stdout",
     "output_type": "stream",
     "text": [
      "CPU times: user 5h 46min 31s, sys: 39.4 s, total: 5h 47min 10s\n",
      "Wall time: 4h 1min 16s\n"
     ]
    }
   ],
   "source": [
    "%%time\n",
    "\n",
    "results = []\n",
    "\n",
    "fold_iterator = cv.split(Interactions(interactions), collect_fold_stats=True)\n",
    "\n",
    "for i_fold, (train_ids, test_ids, fold_info) in enumerate(fold_iterator):\n",
    "    print(f\"\\n==================== Fold {i_fold}\")\n",
    "    pprint(fold_info)\n",
    "\n",
    "    df_train = interactions.iloc[train_ids].copy()\n",
    "    df_test = interactions.iloc[test_ids][Columns.UserItem].copy()\n",
    "\n",
    "    catalog = df_train[Columns.Item].unique()\n",
    "\n",
    "    for model_name, model in models.items():\n",
    "        print(model_name)\n",
    "        userknn_model = UserKnn(model=model, N_users=50)\n",
    "        userknn_model.fit(df_train)\n",
    "\n",
    "        recos = userknn_model.predict(df_test)\n",
    "\n",
    "        metric_values = calc_metrics(\n",
    "            metrics,\n",
    "            reco=recos,\n",
    "            interactions=df_test,\n",
    "            prev_interactions=df_train,\n",
    "            catalog=catalog,\n",
    "        )\n",
    "\n",
    "        fold = {\"fold\": i_fold, \"model\": model_name}\n",
    "        fold.update(metric_values)\n",
    "        results.append(fold)\n"
   ]
  },
  {
   "cell_type": "markdown",
   "id": "f721eb3b",
   "metadata": {},
   "source": [
    "# 👌 Metrics\n",
    "\n",
    "`Metrics by fold`\n",
    "\n"
   ]
  },
  {
   "cell_type": "markdown",
   "id": "c0fb2e29",
   "metadata": {},
   "source": [
    "## Metric description\n",
    "- ### <a href=\"https://rectools.readthedocs.io/en/latest/api/rectools.metrics.novelty.MeanInvUserFreq.html#rectools.metrics.novelty.MeanInvUserFreq\"> Mean Inverse User Frequency (novelty)</a>\n",
    "\n",
    "- ### <a href=\"https://rectools.readthedocs.io/en/latest/api/rectools.metrics.serendipity.Serendipity.html\"> Serendipity = novelty and relevance</a>"
   ]
  },
  {
   "cell_type": "code",
   "execution_count": 14,
   "id": "5140f29c",
   "metadata": {
    "scrolled": false
   },
   "outputs": [
    {
     "data": {
      "text/html": [
       "<div>\n",
       "<style scoped>\n",
       "    .dataframe tbody tr th:only-of-type {\n",
       "        vertical-align: middle;\n",
       "    }\n",
       "\n",
       "    .dataframe tbody tr th {\n",
       "        vertical-align: top;\n",
       "    }\n",
       "\n",
       "    .dataframe thead th {\n",
       "        text-align: right;\n",
       "    }\n",
       "</style>\n",
       "<table border=\"1\" class=\"dataframe\">\n",
       "  <thead>\n",
       "    <tr style=\"text-align: right;\">\n",
       "      <th></th>\n",
       "      <th>fold</th>\n",
       "      <th>model</th>\n",
       "      <th>prec@10</th>\n",
       "      <th>recall@10</th>\n",
       "      <th>map@10</th>\n",
       "    </tr>\n",
       "  </thead>\n",
       "  <tbody>\n",
       "    <tr>\n",
       "      <th>0</th>\n",
       "      <td>0</td>\n",
       "      <td>BM25</td>\n",
       "      <td>0.000000</td>\n",
       "      <td>0.000000</td>\n",
       "      <td>0.000000</td>\n",
       "    </tr>\n",
       "    <tr>\n",
       "      <th>1</th>\n",
       "      <td>0</td>\n",
       "      <td>cosine_itemknn</td>\n",
       "      <td>0.004879</td>\n",
       "      <td>0.027282</td>\n",
       "      <td>0.004696</td>\n",
       "    </tr>\n",
       "    <tr>\n",
       "      <th>2</th>\n",
       "      <td>0</td>\n",
       "      <td>tfidf_itemknn</td>\n",
       "      <td>0.008546</td>\n",
       "      <td>0.048340</td>\n",
       "      <td>0.008829</td>\n",
       "    </tr>\n",
       "    <tr>\n",
       "      <th>3</th>\n",
       "      <td>1</td>\n",
       "      <td>BM25</td>\n",
       "      <td>0.000000</td>\n",
       "      <td>0.000000</td>\n",
       "      <td>0.000000</td>\n",
       "    </tr>\n",
       "    <tr>\n",
       "      <th>4</th>\n",
       "      <td>1</td>\n",
       "      <td>cosine_itemknn</td>\n",
       "      <td>0.004807</td>\n",
       "      <td>0.028028</td>\n",
       "      <td>0.004765</td>\n",
       "    </tr>\n",
       "    <tr>\n",
       "      <th>5</th>\n",
       "      <td>1</td>\n",
       "      <td>tfidf_itemknn</td>\n",
       "      <td>0.008504</td>\n",
       "      <td>0.050560</td>\n",
       "      <td>0.009345</td>\n",
       "    </tr>\n",
       "    <tr>\n",
       "      <th>6</th>\n",
       "      <td>2</td>\n",
       "      <td>BM25</td>\n",
       "      <td>0.000000</td>\n",
       "      <td>0.000000</td>\n",
       "      <td>0.000000</td>\n",
       "    </tr>\n",
       "    <tr>\n",
       "      <th>7</th>\n",
       "      <td>2</td>\n",
       "      <td>cosine_itemknn</td>\n",
       "      <td>0.004103</td>\n",
       "      <td>0.023102</td>\n",
       "      <td>0.004082</td>\n",
       "    </tr>\n",
       "    <tr>\n",
       "      <th>8</th>\n",
       "      <td>2</td>\n",
       "      <td>tfidf_itemknn</td>\n",
       "      <td>0.006830</td>\n",
       "      <td>0.038295</td>\n",
       "      <td>0.007287</td>\n",
       "    </tr>\n",
       "    <tr>\n",
       "      <th>9</th>\n",
       "      <td>3</td>\n",
       "      <td>BM25</td>\n",
       "      <td>0.000000</td>\n",
       "      <td>0.000000</td>\n",
       "      <td>0.000000</td>\n",
       "    </tr>\n",
       "    <tr>\n",
       "      <th>10</th>\n",
       "      <td>3</td>\n",
       "      <td>cosine_itemknn</td>\n",
       "      <td>0.003865</td>\n",
       "      <td>0.020485</td>\n",
       "      <td>0.003623</td>\n",
       "    </tr>\n",
       "    <tr>\n",
       "      <th>11</th>\n",
       "      <td>3</td>\n",
       "      <td>tfidf_itemknn</td>\n",
       "      <td>0.006591</td>\n",
       "      <td>0.035558</td>\n",
       "      <td>0.006841</td>\n",
       "    </tr>\n",
       "    <tr>\n",
       "      <th>12</th>\n",
       "      <td>4</td>\n",
       "      <td>BM25</td>\n",
       "      <td>0.000000</td>\n",
       "      <td>0.000000</td>\n",
       "      <td>0.000000</td>\n",
       "    </tr>\n",
       "    <tr>\n",
       "      <th>13</th>\n",
       "      <td>4</td>\n",
       "      <td>cosine_itemknn</td>\n",
       "      <td>0.003700</td>\n",
       "      <td>0.019591</td>\n",
       "      <td>0.003579</td>\n",
       "    </tr>\n",
       "    <tr>\n",
       "      <th>14</th>\n",
       "      <td>4</td>\n",
       "      <td>tfidf_itemknn</td>\n",
       "      <td>0.006383</td>\n",
       "      <td>0.033929</td>\n",
       "      <td>0.006434</td>\n",
       "    </tr>\n",
       "    <tr>\n",
       "      <th>15</th>\n",
       "      <td>5</td>\n",
       "      <td>BM25</td>\n",
       "      <td>0.000000</td>\n",
       "      <td>0.000000</td>\n",
       "      <td>0.000000</td>\n",
       "    </tr>\n",
       "    <tr>\n",
       "      <th>16</th>\n",
       "      <td>5</td>\n",
       "      <td>cosine_itemknn</td>\n",
       "      <td>0.003669</td>\n",
       "      <td>0.019410</td>\n",
       "      <td>0.003403</td>\n",
       "    </tr>\n",
       "    <tr>\n",
       "      <th>17</th>\n",
       "      <td>5</td>\n",
       "      <td>tfidf_itemknn</td>\n",
       "      <td>0.006243</td>\n",
       "      <td>0.032813</td>\n",
       "      <td>0.006223</td>\n",
       "    </tr>\n",
       "    <tr>\n",
       "      <th>18</th>\n",
       "      <td>6</td>\n",
       "      <td>BM25</td>\n",
       "      <td>0.000000</td>\n",
       "      <td>0.000000</td>\n",
       "      <td>0.000000</td>\n",
       "    </tr>\n",
       "    <tr>\n",
       "      <th>19</th>\n",
       "      <td>6</td>\n",
       "      <td>cosine_itemknn</td>\n",
       "      <td>0.003330</td>\n",
       "      <td>0.017233</td>\n",
       "      <td>0.003142</td>\n",
       "    </tr>\n",
       "    <tr>\n",
       "      <th>20</th>\n",
       "      <td>6</td>\n",
       "      <td>tfidf_itemknn</td>\n",
       "      <td>0.005880</td>\n",
       "      <td>0.031258</td>\n",
       "      <td>0.005904</td>\n",
       "    </tr>\n",
       "  </tbody>\n",
       "</table>\n",
       "</div>"
      ],
      "text/plain": [
       "    fold           model   prec@10  recall@10    map@10\n",
       "0      0            BM25  0.000000   0.000000  0.000000\n",
       "1      0  cosine_itemknn  0.004879   0.027282  0.004696\n",
       "2      0   tfidf_itemknn  0.008546   0.048340  0.008829\n",
       "3      1            BM25  0.000000   0.000000  0.000000\n",
       "4      1  cosine_itemknn  0.004807   0.028028  0.004765\n",
       "5      1   tfidf_itemknn  0.008504   0.050560  0.009345\n",
       "6      2            BM25  0.000000   0.000000  0.000000\n",
       "7      2  cosine_itemknn  0.004103   0.023102  0.004082\n",
       "8      2   tfidf_itemknn  0.006830   0.038295  0.007287\n",
       "9      3            BM25  0.000000   0.000000  0.000000\n",
       "10     3  cosine_itemknn  0.003865   0.020485  0.003623\n",
       "11     3   tfidf_itemknn  0.006591   0.035558  0.006841\n",
       "12     4            BM25  0.000000   0.000000  0.000000\n",
       "13     4  cosine_itemknn  0.003700   0.019591  0.003579\n",
       "14     4   tfidf_itemknn  0.006383   0.033929  0.006434\n",
       "15     5            BM25  0.000000   0.000000  0.000000\n",
       "16     5  cosine_itemknn  0.003669   0.019410  0.003403\n",
       "17     5   tfidf_itemknn  0.006243   0.032813  0.006223\n",
       "18     6            BM25  0.000000   0.000000  0.000000\n",
       "19     6  cosine_itemknn  0.003330   0.017233  0.003142\n",
       "20     6   tfidf_itemknn  0.005880   0.031258  0.005904"
      ]
     },
     "execution_count": 14,
     "metadata": {},
     "output_type": "execute_result"
    }
   ],
   "source": [
    "df_metrics = pd.DataFrame(results)\n",
    "df_metrics"
   ]
  },
  {
   "cell_type": "code",
   "execution_count": 17,
   "id": "a2c6d999",
   "metadata": {},
   "outputs": [],
   "source": [
    "# df_metrics.to_pickle(\"df_metrics.pickle\")"
   ]
  },
  {
   "cell_type": "markdown",
   "id": "ee277c01",
   "metadata": {},
   "source": [
    "## Metrics mean by fold\n",
    "`we can compare two models`"
   ]
  },
  {
   "cell_type": "code",
   "execution_count": 18,
   "id": "358d6a1d",
   "metadata": {
    "scrolled": true
   },
   "outputs": [
    {
     "data": {
      "text/html": [
       "<div>\n",
       "<style scoped>\n",
       "    .dataframe tbody tr th:only-of-type {\n",
       "        vertical-align: middle;\n",
       "    }\n",
       "\n",
       "    .dataframe tbody tr th {\n",
       "        vertical-align: top;\n",
       "    }\n",
       "\n",
       "    .dataframe thead th {\n",
       "        text-align: right;\n",
       "    }\n",
       "</style>\n",
       "<table border=\"1\" class=\"dataframe\">\n",
       "  <thead>\n",
       "    <tr style=\"text-align: right;\">\n",
       "      <th></th>\n",
       "      <th>prec@10</th>\n",
       "      <th>recall@10</th>\n",
       "      <th>novelty</th>\n",
       "      <th>serendipity</th>\n",
       "    </tr>\n",
       "    <tr>\n",
       "      <th>model</th>\n",
       "      <th></th>\n",
       "      <th></th>\n",
       "      <th></th>\n",
       "      <th></th>\n",
       "    </tr>\n",
       "  </thead>\n",
       "  <tbody>\n",
       "    <tr>\n",
       "      <th>cosine_itemknn</th>\n",
       "      <td>0.004050</td>\n",
       "      <td>0.022161</td>\n",
       "      <td>8.006506</td>\n",
       "      <td>0.000040</td>\n",
       "    </tr>\n",
       "    <tr>\n",
       "      <th>tfidf_itemknn</th>\n",
       "      <td>0.006997</td>\n",
       "      <td>0.038679</td>\n",
       "      <td>7.986296</td>\n",
       "      <td>0.000049</td>\n",
       "    </tr>\n",
       "  </tbody>\n",
       "</table>\n",
       "</div>"
      ],
      "text/plain": [
       "                 prec@10  recall@10   novelty  serendipity\n",
       "model                                                     \n",
       "cosine_itemknn  0.004050   0.022161  8.006506     0.000040\n",
       "tfidf_itemknn   0.006997   0.038679  7.986296     0.000049"
      ]
     },
     "execution_count": 18,
     "metadata": {},
     "output_type": "execute_result"
    }
   ],
   "source": [
    "df_metrics.groupby('model').mean()[metrics.keys()]"
   ]
  },
  {
   "cell_type": "markdown",
   "id": "535c66e2",
   "metadata": {},
   "source": [
    "В целом модель с TFIDFRecommender выдает лучшие метрики на кроссвалидации, кроме новизны. Но в новизне разница не сильно большая"
   ]
  },
  {
   "cell_type": "markdown",
   "id": "1caa9ea3",
   "metadata": {},
   "source": [
    "## Metrics std by fold\n",
    "\n",
    "`If a diff between model metrics less than an std value => there is no significant difference observed`\n",
    "\n",
    "- For instance, for the serendipity metric there is no such difference between cosine_itemknn and tfidf_itemknn model results"
   ]
  },
  {
   "cell_type": "code",
   "execution_count": 19,
   "id": "23583ea1",
   "metadata": {},
   "outputs": [
    {
     "data": {
      "text/html": [
       "<div>\n",
       "<style scoped>\n",
       "    .dataframe tbody tr th:only-of-type {\n",
       "        vertical-align: middle;\n",
       "    }\n",
       "\n",
       "    .dataframe tbody tr th {\n",
       "        vertical-align: top;\n",
       "    }\n",
       "\n",
       "    .dataframe thead th {\n",
       "        text-align: right;\n",
       "    }\n",
       "</style>\n",
       "<table border=\"1\" class=\"dataframe\">\n",
       "  <thead>\n",
       "    <tr style=\"text-align: right;\">\n",
       "      <th></th>\n",
       "      <th>prec@10</th>\n",
       "      <th>recall@10</th>\n",
       "      <th>novelty</th>\n",
       "      <th>serendipity</th>\n",
       "    </tr>\n",
       "    <tr>\n",
       "      <th>model</th>\n",
       "      <th></th>\n",
       "      <th></th>\n",
       "      <th></th>\n",
       "      <th></th>\n",
       "    </tr>\n",
       "  </thead>\n",
       "  <tbody>\n",
       "    <tr>\n",
       "      <th>cosine_itemknn</th>\n",
       "      <td>0.000589</td>\n",
       "      <td>0.004139</td>\n",
       "      <td>0.159162</td>\n",
       "      <td>0.000006</td>\n",
       "    </tr>\n",
       "    <tr>\n",
       "      <th>tfidf_itemknn</th>\n",
       "      <td>0.001085</td>\n",
       "      <td>0.007707</td>\n",
       "      <td>0.131361</td>\n",
       "      <td>0.000009</td>\n",
       "    </tr>\n",
       "  </tbody>\n",
       "</table>\n",
       "</div>"
      ],
      "text/plain": [
       "                 prec@10  recall@10   novelty  serendipity\n",
       "model                                                     \n",
       "cosine_itemknn  0.000589   0.004139  0.159162     0.000006\n",
       "tfidf_itemknn   0.001085   0.007707  0.131361     0.000009"
      ]
     },
     "execution_count": 19,
     "metadata": {},
     "output_type": "execute_result"
    }
   ],
   "source": [
    "df_metrics.groupby('model').std()[metrics.keys()]"
   ]
  },
  {
   "cell_type": "code",
   "execution_count": 20,
   "id": "fdd7b118",
   "metadata": {},
   "outputs": [],
   "source": [
    "df = df_metrics.groupby('model').mean()[metrics.keys()]"
   ]
  },
  {
   "cell_type": "code",
   "execution_count": 21,
   "id": "ef13ce38",
   "metadata": {},
   "outputs": [
    {
     "data": {
      "text/plain": [
       "prec@10       -0.002946\n",
       "recall@10     -0.016518\n",
       "novelty        0.020210\n",
       "serendipity   -0.000009\n",
       "dtype: float64"
      ]
     },
     "execution_count": 21,
     "metadata": {},
     "output_type": "execute_result"
    }
   ],
   "source": [
    "diff = df.loc['cosine_itemknn'] - df.loc['tfidf_itemknn']\n",
    "diff"
   ]
  },
  {
   "cell_type": "markdown",
   "id": "ceccb531",
   "metadata": {},
   "source": [
    "## Decrease N_users"
   ]
  },
  {
   "cell_type": "markdown",
   "id": "8db13d38",
   "metadata": {},
   "source": [
    "Поскольку TFIDFRecommender выдает в общем лучше метрики в сравнении с косинусным расстоянием в модели, то мы оставим только первый вариант и проведем обучение выбирая разное количество юзеров."
   ]
  },
  {
   "cell_type": "code",
   "execution_count": 17,
   "id": "7a6184a4",
   "metadata": {},
   "outputs": [],
   "source": [
    "models = {\n",
    "    \"tfidf_itemknn\": TFIDFRecommender(),\n",
    "}\n",
    "n_users = {\n",
    "    \"n_30\": 30,\n",
    "    \"n_20\": 20,\n",
    "    \"n_18\": 18,\n",
    "    \"n_15\": 15,\n",
    "    \"n_10\": 10,\n",
    "}\n",
    "metrics = {\n",
    "    \"prec@10\": Precision(k=10),\n",
    "    \"recall@10\": Recall(k=10),\n",
    "    \"novelty\": MeanInvUserFreq(k=10),\n",
    "    \"serendipity\": Serendipity(k=10),\n",
    "    \"map@10\": MAP(k=10),\n",
    "}"
   ]
  },
  {
   "cell_type": "code",
   "execution_count": 18,
   "id": "61f9b3fe",
   "metadata": {},
   "outputs": [
    {
     "name": "stdout",
     "output_type": "stream",
     "text": [
      "Start date and last date of the test fold: (Timestamp('2021-06-27 00:00:00'), Timestamp('2021-08-22 00:00:00'))\n"
     ]
    }
   ],
   "source": [
    "# setting for cv\n",
    "n_folds = 7\n",
    "unit = \"W\"\n",
    "n_units = 1\n",
    "\n",
    "last_date = interactions[Columns.Datetime].max().normalize()\n",
    "start_date = last_date - pd.Timedelta(n_folds * n_units + 1, unit=unit)\n",
    "print(f\"Start date and last date of the test fold: {start_date, last_date}\")"
   ]
  },
  {
   "cell_type": "code",
   "execution_count": 19,
   "id": "237e9b19",
   "metadata": {},
   "outputs": [
    {
     "name": "stdout",
     "output_type": "stream",
     "text": [
      "start_date: 2021-06-27 00:00:00\n",
      "last_date: 2021-08-22 00:00:00\n",
      "periods: 8\n",
      "freq: 1W\n",
      "\n",
      "Test fold borders: ['2021-06-27' '2021-07-04' '2021-07-11' '2021-07-18' '2021-07-25'\n",
      " '2021-08-01' '2021-08-08' '2021-08-15']\n",
      "Real number of folds: 7\n"
     ]
    }
   ],
   "source": [
    "periods = n_folds + 1\n",
    "freq = f\"{n_units}{unit}\"\n",
    "print(\n",
    "    f\"start_date: {start_date}\\n\"\n",
    "    f\"last_date: {last_date}\\n\"\n",
    "    f\"periods: {periods}\\n\"\n",
    "    f\"freq: {freq}\\n\"\n",
    ")\n",
    "\n",
    "date_range = pd.date_range(start=start_date, periods=periods, freq=freq, tz=last_date.tz)\n",
    "print(f\"Test fold borders: {date_range.values.astype('datetime64[D]')}\")\n",
    "\n",
    "# generator of folds\n",
    "cv = TimeRangeSplitter(\n",
    "    date_range=date_range,\n",
    "    filter_already_seen=True,\n",
    "    filter_cold_items=True,\n",
    "    filter_cold_users=True,\n",
    ")\n",
    "print(f\"Real number of folds: {cv.get_n_splits(Interactions(interactions))}\")"
   ]
  },
  {
   "cell_type": "code",
   "execution_count": 20,
   "id": "ebe87baa",
   "metadata": {
    "scrolled": true
   },
   "outputs": [
    {
     "name": "stdout",
     "output_type": "stream",
     "text": [
      "\n",
      "==================== Fold 0\n",
      "{'End date': Timestamp('2021-07-04 00:00:00', freq='W-SUN'),\n",
      " 'Start date': Timestamp('2021-06-27 00:00:00', freq='W-SUN'),\n",
      " 'Test': 237414,\n",
      " 'Test items': 5947,\n",
      " 'Test users': 98930,\n",
      " 'Train': 2533586,\n",
      " 'Train items': 14092,\n",
      " 'Train users': 536802}\n",
      "tfidf_itemknn n_30\n"
     ]
    },
    {
     "data": {
      "application/vnd.jupyter.widget-view+json": {
       "model_id": "5c394609dda847c189846d928008141d",
       "version_major": 2,
       "version_minor": 0
      },
      "text/plain": [
       "  0%|          | 0/536802 [00:00<?, ?it/s]"
      ]
     },
     "metadata": {},
     "output_type": "display_data"
    },
    {
     "name": "stdout",
     "output_type": "stream",
     "text": [
      "tfidf_itemknn n_20\n"
     ]
    },
    {
     "data": {
      "application/vnd.jupyter.widget-view+json": {
       "model_id": "f17f347d7f634e8cb82656a8dd6a623d",
       "version_major": 2,
       "version_minor": 0
      },
      "text/plain": [
       "  0%|          | 0/536802 [00:00<?, ?it/s]"
      ]
     },
     "metadata": {},
     "output_type": "display_data"
    },
    {
     "name": "stdout",
     "output_type": "stream",
     "text": [
      "tfidf_itemknn n_18\n"
     ]
    },
    {
     "data": {
      "application/vnd.jupyter.widget-view+json": {
       "model_id": "af82e40cf5ac44adb6b6996b55633b77",
       "version_major": 2,
       "version_minor": 0
      },
      "text/plain": [
       "  0%|          | 0/536802 [00:00<?, ?it/s]"
      ]
     },
     "metadata": {},
     "output_type": "display_data"
    },
    {
     "name": "stdout",
     "output_type": "stream",
     "text": [
      "tfidf_itemknn n_15\n"
     ]
    },
    {
     "data": {
      "application/vnd.jupyter.widget-view+json": {
       "model_id": "910bee7bb1234e7fbefd079c21b953ff",
       "version_major": 2,
       "version_minor": 0
      },
      "text/plain": [
       "  0%|          | 0/536802 [00:00<?, ?it/s]"
      ]
     },
     "metadata": {},
     "output_type": "display_data"
    },
    {
     "name": "stdout",
     "output_type": "stream",
     "text": [
      "tfidf_itemknn n_10\n"
     ]
    },
    {
     "data": {
      "application/vnd.jupyter.widget-view+json": {
       "model_id": "1f5e012d98374f9ead194de0f752fc7a",
       "version_major": 2,
       "version_minor": 0
      },
      "text/plain": [
       "  0%|          | 0/536802 [00:00<?, ?it/s]"
      ]
     },
     "metadata": {},
     "output_type": "display_data"
    },
    {
     "name": "stdout",
     "output_type": "stream",
     "text": [
      "\n",
      "==================== Fold 1\n",
      "{'End date': Timestamp('2021-07-11 00:00:00', freq='W-SUN'),\n",
      " 'Start date': Timestamp('2021-07-04 00:00:00', freq='W-SUN'),\n",
      " 'Test': 211146,\n",
      " 'Test items': 6209,\n",
      " 'Test users': 86167,\n",
      " 'Train': 2886800,\n",
      " 'Train items': 14357,\n",
      " 'Train users': 595902}\n",
      "tfidf_itemknn n_30\n"
     ]
    },
    {
     "data": {
      "application/vnd.jupyter.widget-view+json": {
       "model_id": "912cf2926fcf423997ed687651af47cc",
       "version_major": 2,
       "version_minor": 0
      },
      "text/plain": [
       "  0%|          | 0/595902 [00:00<?, ?it/s]"
      ]
     },
     "metadata": {},
     "output_type": "display_data"
    },
    {
     "name": "stdout",
     "output_type": "stream",
     "text": [
      "tfidf_itemknn n_20\n"
     ]
    },
    {
     "data": {
      "application/vnd.jupyter.widget-view+json": {
       "model_id": "f2c37ab79d54470eb08a17b24b29d213",
       "version_major": 2,
       "version_minor": 0
      },
      "text/plain": [
       "  0%|          | 0/595902 [00:00<?, ?it/s]"
      ]
     },
     "metadata": {},
     "output_type": "display_data"
    },
    {
     "name": "stdout",
     "output_type": "stream",
     "text": [
      "tfidf_itemknn n_18\n"
     ]
    },
    {
     "data": {
      "application/vnd.jupyter.widget-view+json": {
       "model_id": "d5ef6d713cd1461294109594d68faccd",
       "version_major": 2,
       "version_minor": 0
      },
      "text/plain": [
       "  0%|          | 0/595902 [00:00<?, ?it/s]"
      ]
     },
     "metadata": {},
     "output_type": "display_data"
    },
    {
     "name": "stdout",
     "output_type": "stream",
     "text": [
      "tfidf_itemknn n_15\n"
     ]
    },
    {
     "data": {
      "application/vnd.jupyter.widget-view+json": {
       "model_id": "a56d725115cc4eb08311929be3626534",
       "version_major": 2,
       "version_minor": 0
      },
      "text/plain": [
       "  0%|          | 0/595902 [00:00<?, ?it/s]"
      ]
     },
     "metadata": {},
     "output_type": "display_data"
    },
    {
     "name": "stdout",
     "output_type": "stream",
     "text": [
      "tfidf_itemknn n_10\n"
     ]
    },
    {
     "data": {
      "application/vnd.jupyter.widget-view+json": {
       "model_id": "fc681c9d72214a449fec09d65a455c2a",
       "version_major": 2,
       "version_minor": 0
      },
      "text/plain": [
       "  0%|          | 0/595902 [00:00<?, ?it/s]"
      ]
     },
     "metadata": {},
     "output_type": "display_data"
    },
    {
     "name": "stdout",
     "output_type": "stream",
     "text": [
      "\n",
      "==================== Fold 2\n",
      "{'End date': Timestamp('2021-07-18 00:00:00', freq='W-SUN'),\n",
      " 'Start date': Timestamp('2021-07-11 00:00:00', freq='W-SUN'),\n",
      " 'Test': 214489,\n",
      " 'Test items': 6313,\n",
      " 'Test users': 84234,\n",
      " 'Train': 3192875,\n",
      " 'Train items': 14711,\n",
      " 'Train users': 640144}\n",
      "tfidf_itemknn n_30\n"
     ]
    },
    {
     "data": {
      "application/vnd.jupyter.widget-view+json": {
       "model_id": "1fc189aa125c4caeb617916d2a5e0000",
       "version_major": 2,
       "version_minor": 0
      },
      "text/plain": [
       "  0%|          | 0/640144 [00:00<?, ?it/s]"
      ]
     },
     "metadata": {},
     "output_type": "display_data"
    },
    {
     "name": "stdout",
     "output_type": "stream",
     "text": [
      "tfidf_itemknn n_20\n"
     ]
    },
    {
     "data": {
      "application/vnd.jupyter.widget-view+json": {
       "model_id": "738a0f0866624ed587d3d6e71e7e3f36",
       "version_major": 2,
       "version_minor": 0
      },
      "text/plain": [
       "  0%|          | 0/640144 [00:00<?, ?it/s]"
      ]
     },
     "metadata": {},
     "output_type": "display_data"
    },
    {
     "name": "stdout",
     "output_type": "stream",
     "text": [
      "tfidf_itemknn n_18\n"
     ]
    },
    {
     "data": {
      "application/vnd.jupyter.widget-view+json": {
       "model_id": "97b6007e4a324f5c8c6344d770d1ab41",
       "version_major": 2,
       "version_minor": 0
      },
      "text/plain": [
       "  0%|          | 0/640144 [00:00<?, ?it/s]"
      ]
     },
     "metadata": {},
     "output_type": "display_data"
    },
    {
     "name": "stdout",
     "output_type": "stream",
     "text": [
      "tfidf_itemknn n_15\n"
     ]
    },
    {
     "data": {
      "application/vnd.jupyter.widget-view+json": {
       "model_id": "f928cc8985d14666a22047ff7893d09e",
       "version_major": 2,
       "version_minor": 0
      },
      "text/plain": [
       "  0%|          | 0/640144 [00:00<?, ?it/s]"
      ]
     },
     "metadata": {},
     "output_type": "display_data"
    },
    {
     "name": "stdout",
     "output_type": "stream",
     "text": [
      "tfidf_itemknn n_10\n"
     ]
    },
    {
     "data": {
      "application/vnd.jupyter.widget-view+json": {
       "model_id": "9db18d73ce4f4d5995ea169c718cdc2c",
       "version_major": 2,
       "version_minor": 0
      },
      "text/plain": [
       "  0%|          | 0/640144 [00:00<?, ?it/s]"
      ]
     },
     "metadata": {},
     "output_type": "display_data"
    },
    {
     "name": "stdout",
     "output_type": "stream",
     "text": [
      "\n",
      "==================== Fold 3\n",
      "{'End date': Timestamp('2021-07-25 00:00:00', freq='W-SUN'),\n",
      " 'Start date': Timestamp('2021-07-18 00:00:00', freq='W-SUN'),\n",
      " 'Test': 231207,\n",
      " 'Test items': 6491,\n",
      " 'Test users': 87632,\n",
      " 'Train': 3506106,\n",
      " 'Train items': 14928,\n",
      " 'Train users': 687200}\n",
      "tfidf_itemknn n_30\n"
     ]
    },
    {
     "data": {
      "application/vnd.jupyter.widget-view+json": {
       "model_id": "78884642f877489fab6e5616418e6481",
       "version_major": 2,
       "version_minor": 0
      },
      "text/plain": [
       "  0%|          | 0/687200 [00:00<?, ?it/s]"
      ]
     },
     "metadata": {},
     "output_type": "display_data"
    },
    {
     "name": "stdout",
     "output_type": "stream",
     "text": [
      "tfidf_itemknn n_20\n"
     ]
    },
    {
     "data": {
      "application/vnd.jupyter.widget-view+json": {
       "model_id": "8db1c025143844729564b24369183d4b",
       "version_major": 2,
       "version_minor": 0
      },
      "text/plain": [
       "  0%|          | 0/687200 [00:00<?, ?it/s]"
      ]
     },
     "metadata": {},
     "output_type": "display_data"
    },
    {
     "name": "stdout",
     "output_type": "stream",
     "text": [
      "tfidf_itemknn n_18\n"
     ]
    },
    {
     "data": {
      "application/vnd.jupyter.widget-view+json": {
       "model_id": "cb106d898dde42e39b2b182733bc5ad0",
       "version_major": 2,
       "version_minor": 0
      },
      "text/plain": [
       "  0%|          | 0/687200 [00:00<?, ?it/s]"
      ]
     },
     "metadata": {},
     "output_type": "display_data"
    },
    {
     "name": "stdout",
     "output_type": "stream",
     "text": [
      "tfidf_itemknn n_15\n"
     ]
    },
    {
     "data": {
      "application/vnd.jupyter.widget-view+json": {
       "model_id": "45c6fe3249fe4a02a1c23695156a2991",
       "version_major": 2,
       "version_minor": 0
      },
      "text/plain": [
       "  0%|          | 0/687200 [00:00<?, ?it/s]"
      ]
     },
     "metadata": {},
     "output_type": "display_data"
    },
    {
     "name": "stdout",
     "output_type": "stream",
     "text": [
      "tfidf_itemknn n_10\n"
     ]
    },
    {
     "data": {
      "application/vnd.jupyter.widget-view+json": {
       "model_id": "ca96cc3f63064da184e3108b808e740a",
       "version_major": 2,
       "version_minor": 0
      },
      "text/plain": [
       "  0%|          | 0/687200 [00:00<?, ?it/s]"
      ]
     },
     "metadata": {},
     "output_type": "display_data"
    },
    {
     "name": "stdout",
     "output_type": "stream",
     "text": [
      "\n",
      "==================== Fold 4\n",
      "{'End date': Timestamp('2021-08-01 00:00:00', freq='W-SUN'),\n",
      " 'Start date': Timestamp('2021-07-25 00:00:00', freq='W-SUN'),\n",
      " 'Test': 249396,\n",
      " 'Test items': 6611,\n",
      " 'Test users': 93092,\n",
      " 'Train': 3838180,\n",
      " 'Train items': 15061,\n",
      " 'Train users': 734701}\n",
      "tfidf_itemknn n_30\n"
     ]
    },
    {
     "data": {
      "application/vnd.jupyter.widget-view+json": {
       "model_id": "8a4e4c2482b44bbfa23d57a528e4f393",
       "version_major": 2,
       "version_minor": 0
      },
      "text/plain": [
       "  0%|          | 0/734701 [00:00<?, ?it/s]"
      ]
     },
     "metadata": {},
     "output_type": "display_data"
    },
    {
     "name": "stdout",
     "output_type": "stream",
     "text": [
      "tfidf_itemknn n_20\n"
     ]
    },
    {
     "data": {
      "application/vnd.jupyter.widget-view+json": {
       "model_id": "78d5e2b54a614905a3d8e280ad892738",
       "version_major": 2,
       "version_minor": 0
      },
      "text/plain": [
       "  0%|          | 0/734701 [00:00<?, ?it/s]"
      ]
     },
     "metadata": {},
     "output_type": "display_data"
    },
    {
     "name": "stdout",
     "output_type": "stream",
     "text": [
      "tfidf_itemknn n_18\n"
     ]
    },
    {
     "data": {
      "application/vnd.jupyter.widget-view+json": {
       "model_id": "2487cd5feb444ec781489419a4b673c4",
       "version_major": 2,
       "version_minor": 0
      },
      "text/plain": [
       "  0%|          | 0/734701 [00:00<?, ?it/s]"
      ]
     },
     "metadata": {},
     "output_type": "display_data"
    },
    {
     "name": "stdout",
     "output_type": "stream",
     "text": [
      "tfidf_itemknn n_15\n"
     ]
    },
    {
     "data": {
      "application/vnd.jupyter.widget-view+json": {
       "model_id": "ba1331d8c1a34d05a30899a11683ad6a",
       "version_major": 2,
       "version_minor": 0
      },
      "text/plain": [
       "  0%|          | 0/734701 [00:00<?, ?it/s]"
      ]
     },
     "metadata": {},
     "output_type": "display_data"
    },
    {
     "name": "stdout",
     "output_type": "stream",
     "text": [
      "tfidf_itemknn n_10\n"
     ]
    },
    {
     "data": {
      "application/vnd.jupyter.widget-view+json": {
       "model_id": "b5c604ba57c04f2296b90ccc515499e7",
       "version_major": 2,
       "version_minor": 0
      },
      "text/plain": [
       "  0%|          | 0/734701 [00:00<?, ?it/s]"
      ]
     },
     "metadata": {},
     "output_type": "display_data"
    },
    {
     "name": "stdout",
     "output_type": "stream",
     "text": [
      "\n",
      "==================== Fold 5\n",
      "{'End date': Timestamp('2021-08-08 00:00:00', freq='W-SUN'),\n",
      " 'Start date': Timestamp('2021-08-01 00:00:00', freq='W-SUN'),\n",
      " 'Test': 264039,\n",
      " 'Test items': 6609,\n",
      " 'Test users': 98161,\n",
      " 'Train': 4203885,\n",
      " 'Train items': 15212,\n",
      " 'Train users': 788721}\n",
      "tfidf_itemknn n_30\n"
     ]
    },
    {
     "data": {
      "application/vnd.jupyter.widget-view+json": {
       "model_id": "7d4c2f10bc294ae58cbc4a7d8e84d38b",
       "version_major": 2,
       "version_minor": 0
      },
      "text/plain": [
       "  0%|          | 0/788721 [00:00<?, ?it/s]"
      ]
     },
     "metadata": {},
     "output_type": "display_data"
    },
    {
     "name": "stdout",
     "output_type": "stream",
     "text": [
      "tfidf_itemknn n_20\n"
     ]
    },
    {
     "data": {
      "application/vnd.jupyter.widget-view+json": {
       "model_id": "66f01d2e4d574ecfbcd3f5787f83aa36",
       "version_major": 2,
       "version_minor": 0
      },
      "text/plain": [
       "  0%|          | 0/788721 [00:00<?, ?it/s]"
      ]
     },
     "metadata": {},
     "output_type": "display_data"
    },
    {
     "name": "stdout",
     "output_type": "stream",
     "text": [
      "tfidf_itemknn n_18\n"
     ]
    },
    {
     "data": {
      "application/vnd.jupyter.widget-view+json": {
       "model_id": "22976494708b40a8a14d70fd039fa890",
       "version_major": 2,
       "version_minor": 0
      },
      "text/plain": [
       "  0%|          | 0/788721 [00:00<?, ?it/s]"
      ]
     },
     "metadata": {},
     "output_type": "display_data"
    },
    {
     "name": "stdout",
     "output_type": "stream",
     "text": [
      "tfidf_itemknn n_15\n"
     ]
    },
    {
     "data": {
      "application/vnd.jupyter.widget-view+json": {
       "model_id": "8b5ef0e3a4e54abf9acdf6453608c60a",
       "version_major": 2,
       "version_minor": 0
      },
      "text/plain": [
       "  0%|          | 0/788721 [00:00<?, ?it/s]"
      ]
     },
     "metadata": {},
     "output_type": "display_data"
    },
    {
     "name": "stdout",
     "output_type": "stream",
     "text": [
      "tfidf_itemknn n_10\n"
     ]
    },
    {
     "data": {
      "application/vnd.jupyter.widget-view+json": {
       "model_id": "1db45a276ab74e3baf8ede579a194d4a",
       "version_major": 2,
       "version_minor": 0
      },
      "text/plain": [
       "  0%|          | 0/788721 [00:00<?, ?it/s]"
      ]
     },
     "metadata": {},
     "output_type": "display_data"
    },
    {
     "name": "stdout",
     "output_type": "stream",
     "text": [
      "\n",
      "==================== Fold 6\n",
      "{'End date': Timestamp('2021-08-15 00:00:00', freq='W-SUN'),\n",
      " 'Start date': Timestamp('2021-08-08 00:00:00', freq='W-SUN'),\n",
      " 'Test': 276699,\n",
      " 'Test items': 6715,\n",
      " 'Test users': 101983,\n",
      " 'Train': 4587708,\n",
      " 'Train items': 15404,\n",
      " 'Train users': 842129}\n",
      "tfidf_itemknn n_30\n"
     ]
    },
    {
     "data": {
      "application/vnd.jupyter.widget-view+json": {
       "model_id": "a29058b5f97d4f57911a53660e1c30b0",
       "version_major": 2,
       "version_minor": 0
      },
      "text/plain": [
       "  0%|          | 0/842129 [00:00<?, ?it/s]"
      ]
     },
     "metadata": {},
     "output_type": "display_data"
    },
    {
     "name": "stdout",
     "output_type": "stream",
     "text": [
      "tfidf_itemknn n_20\n"
     ]
    },
    {
     "data": {
      "application/vnd.jupyter.widget-view+json": {
       "model_id": "03e6def3812b480bac5d0fc5a12e2e78",
       "version_major": 2,
       "version_minor": 0
      },
      "text/plain": [
       "  0%|          | 0/842129 [00:00<?, ?it/s]"
      ]
     },
     "metadata": {},
     "output_type": "display_data"
    },
    {
     "name": "stdout",
     "output_type": "stream",
     "text": [
      "tfidf_itemknn n_18\n"
     ]
    },
    {
     "data": {
      "application/vnd.jupyter.widget-view+json": {
       "model_id": "2a6f861ffe4141c99f9c99fb8f33e18a",
       "version_major": 2,
       "version_minor": 0
      },
      "text/plain": [
       "  0%|          | 0/842129 [00:00<?, ?it/s]"
      ]
     },
     "metadata": {},
     "output_type": "display_data"
    },
    {
     "name": "stdout",
     "output_type": "stream",
     "text": [
      "tfidf_itemknn n_15\n"
     ]
    },
    {
     "data": {
      "application/vnd.jupyter.widget-view+json": {
       "model_id": "7d0ceeac1d48484e899a484f4c6b47a9",
       "version_major": 2,
       "version_minor": 0
      },
      "text/plain": [
       "  0%|          | 0/842129 [00:00<?, ?it/s]"
      ]
     },
     "metadata": {},
     "output_type": "display_data"
    },
    {
     "name": "stdout",
     "output_type": "stream",
     "text": [
      "tfidf_itemknn n_10\n"
     ]
    },
    {
     "data": {
      "application/vnd.jupyter.widget-view+json": {
       "model_id": "49e86e2f68824393a95726fb78e274d5",
       "version_major": 2,
       "version_minor": 0
      },
      "text/plain": [
       "  0%|          | 0/842129 [00:00<?, ?it/s]"
      ]
     },
     "metadata": {},
     "output_type": "display_data"
    },
    {
     "name": "stdout",
     "output_type": "stream",
     "text": [
      "CPU times: user 9h 42min 43s, sys: 54.6 s, total: 9h 43min 38s\n",
      "Wall time: 6h 20min 3s\n"
     ]
    }
   ],
   "source": [
    "%%time\n",
    "\n",
    "results = []\n",
    "\n",
    "fold_iterator = cv.split(Interactions(interactions), collect_fold_stats=True)\n",
    "\n",
    "for i_fold, (train_ids, test_ids, fold_info) in enumerate(fold_iterator):\n",
    "    print(f\"\\n==================== Fold {i_fold}\")\n",
    "    pprint(fold_info)\n",
    "\n",
    "    df_train = interactions.iloc[train_ids].copy()\n",
    "    df_test = interactions.iloc[test_ids][Columns.UserItem].copy()\n",
    "\n",
    "    catalog = df_train[Columns.Item].unique()\n",
    "\n",
    "    for model_name, model in models.items():\n",
    "        for name, n in n_users.items():\n",
    "            print(model_name, name)\n",
    "            userknn_model = UserKnn(model=model, N_users=n)\n",
    "            userknn_model.fit(df_train)\n",
    "\n",
    "            recos = userknn_model.predict(df_test)\n",
    "\n",
    "            metric_values = calc_metrics(\n",
    "                metrics,\n",
    "                reco=recos,\n",
    "                interactions=df_test,\n",
    "                prev_interactions=df_train,\n",
    "                catalog=catalog,\n",
    "            )\n",
    "\n",
    "            fold = {\"fold\": i_fold, \"model\": model_name, \"n_users\": n}\n",
    "            fold.update(metric_values)\n",
    "            results.append(fold)\n"
   ]
  },
  {
   "cell_type": "code",
   "execution_count": 21,
   "id": "9bddc050",
   "metadata": {},
   "outputs": [
    {
     "data": {
      "text/html": [
       "<div>\n",
       "<style scoped>\n",
       "    .dataframe tbody tr th:only-of-type {\n",
       "        vertical-align: middle;\n",
       "    }\n",
       "\n",
       "    .dataframe tbody tr th {\n",
       "        vertical-align: top;\n",
       "    }\n",
       "\n",
       "    .dataframe thead th {\n",
       "        text-align: right;\n",
       "    }\n",
       "</style>\n",
       "<table border=\"1\" class=\"dataframe\">\n",
       "  <thead>\n",
       "    <tr style=\"text-align: right;\">\n",
       "      <th></th>\n",
       "      <th>fold</th>\n",
       "      <th>model</th>\n",
       "      <th>n_users</th>\n",
       "      <th>prec@10</th>\n",
       "      <th>recall@10</th>\n",
       "      <th>map@10</th>\n",
       "      <th>novelty</th>\n",
       "      <th>serendipity</th>\n",
       "    </tr>\n",
       "  </thead>\n",
       "  <tbody>\n",
       "    <tr>\n",
       "      <th>0</th>\n",
       "      <td>0</td>\n",
       "      <td>tfidf_itemknn</td>\n",
       "      <td>30</td>\n",
       "      <td>0.008546</td>\n",
       "      <td>0.048340</td>\n",
       "      <td>0.008829</td>\n",
       "      <td>7.799313</td>\n",
       "      <td>0.000035</td>\n",
       "    </tr>\n",
       "    <tr>\n",
       "      <th>1</th>\n",
       "      <td>0</td>\n",
       "      <td>tfidf_itemknn</td>\n",
       "      <td>20</td>\n",
       "      <td>0.008546</td>\n",
       "      <td>0.048340</td>\n",
       "      <td>0.008829</td>\n",
       "      <td>7.799313</td>\n",
       "      <td>0.000035</td>\n",
       "    </tr>\n",
       "    <tr>\n",
       "      <th>2</th>\n",
       "      <td>0</td>\n",
       "      <td>tfidf_itemknn</td>\n",
       "      <td>18</td>\n",
       "      <td>0.008463</td>\n",
       "      <td>0.047872</td>\n",
       "      <td>0.008708</td>\n",
       "      <td>7.771076</td>\n",
       "      <td>0.000033</td>\n",
       "    </tr>\n",
       "    <tr>\n",
       "      <th>3</th>\n",
       "      <td>0</td>\n",
       "      <td>tfidf_itemknn</td>\n",
       "      <td>15</td>\n",
       "      <td>0.008307</td>\n",
       "      <td>0.046835</td>\n",
       "      <td>0.008635</td>\n",
       "      <td>7.740356</td>\n",
       "      <td>0.000032</td>\n",
       "    </tr>\n",
       "    <tr>\n",
       "      <th>4</th>\n",
       "      <td>0</td>\n",
       "      <td>tfidf_itemknn</td>\n",
       "      <td>10</td>\n",
       "      <td>0.007263</td>\n",
       "      <td>0.040512</td>\n",
       "      <td>0.007635</td>\n",
       "      <td>7.722912</td>\n",
       "      <td>0.000028</td>\n",
       "    </tr>\n",
       "    <tr>\n",
       "      <th>5</th>\n",
       "      <td>1</td>\n",
       "      <td>tfidf_itemknn</td>\n",
       "      <td>30</td>\n",
       "      <td>0.008504</td>\n",
       "      <td>0.050560</td>\n",
       "      <td>0.009345</td>\n",
       "      <td>7.827066</td>\n",
       "      <td>0.000039</td>\n",
       "    </tr>\n",
       "    <tr>\n",
       "      <th>6</th>\n",
       "      <td>1</td>\n",
       "      <td>tfidf_itemknn</td>\n",
       "      <td>20</td>\n",
       "      <td>0.008504</td>\n",
       "      <td>0.050560</td>\n",
       "      <td>0.009345</td>\n",
       "      <td>7.827066</td>\n",
       "      <td>0.000039</td>\n",
       "    </tr>\n",
       "    <tr>\n",
       "      <th>7</th>\n",
       "      <td>1</td>\n",
       "      <td>tfidf_itemknn</td>\n",
       "      <td>18</td>\n",
       "      <td>0.008417</td>\n",
       "      <td>0.050251</td>\n",
       "      <td>0.009312</td>\n",
       "      <td>7.796292</td>\n",
       "      <td>0.000038</td>\n",
       "    </tr>\n",
       "    <tr>\n",
       "      <th>8</th>\n",
       "      <td>1</td>\n",
       "      <td>tfidf_itemknn</td>\n",
       "      <td>15</td>\n",
       "      <td>0.008265</td>\n",
       "      <td>0.049447</td>\n",
       "      <td>0.009086</td>\n",
       "      <td>7.754475</td>\n",
       "      <td>0.000036</td>\n",
       "    </tr>\n",
       "    <tr>\n",
       "      <th>9</th>\n",
       "      <td>1</td>\n",
       "      <td>tfidf_itemknn</td>\n",
       "      <td>10</td>\n",
       "      <td>0.007690</td>\n",
       "      <td>0.046020</td>\n",
       "      <td>0.008556</td>\n",
       "      <td>7.710795</td>\n",
       "      <td>0.000029</td>\n",
       "    </tr>\n",
       "    <tr>\n",
       "      <th>10</th>\n",
       "      <td>2</td>\n",
       "      <td>tfidf_itemknn</td>\n",
       "      <td>30</td>\n",
       "      <td>0.006830</td>\n",
       "      <td>0.038295</td>\n",
       "      <td>0.007287</td>\n",
       "      <td>7.952497</td>\n",
       "      <td>0.000042</td>\n",
       "    </tr>\n",
       "    <tr>\n",
       "      <th>11</th>\n",
       "      <td>2</td>\n",
       "      <td>tfidf_itemknn</td>\n",
       "      <td>20</td>\n",
       "      <td>0.006830</td>\n",
       "      <td>0.038295</td>\n",
       "      <td>0.007287</td>\n",
       "      <td>7.952497</td>\n",
       "      <td>0.000042</td>\n",
       "    </tr>\n",
       "    <tr>\n",
       "      <th>12</th>\n",
       "      <td>2</td>\n",
       "      <td>tfidf_itemknn</td>\n",
       "      <td>18</td>\n",
       "      <td>0.006734</td>\n",
       "      <td>0.037729</td>\n",
       "      <td>0.007148</td>\n",
       "      <td>7.922038</td>\n",
       "      <td>0.000041</td>\n",
       "    </tr>\n",
       "    <tr>\n",
       "      <th>13</th>\n",
       "      <td>2</td>\n",
       "      <td>tfidf_itemknn</td>\n",
       "      <td>15</td>\n",
       "      <td>0.006572</td>\n",
       "      <td>0.036736</td>\n",
       "      <td>0.006963</td>\n",
       "      <td>7.877313</td>\n",
       "      <td>0.000038</td>\n",
       "    </tr>\n",
       "    <tr>\n",
       "      <th>14</th>\n",
       "      <td>2</td>\n",
       "      <td>tfidf_itemknn</td>\n",
       "      <td>10</td>\n",
       "      <td>0.006028</td>\n",
       "      <td>0.034216</td>\n",
       "      <td>0.006404</td>\n",
       "      <td>7.820434</td>\n",
       "      <td>0.000032</td>\n",
       "    </tr>\n",
       "    <tr>\n",
       "      <th>15</th>\n",
       "      <td>3</td>\n",
       "      <td>tfidf_itemknn</td>\n",
       "      <td>30</td>\n",
       "      <td>0.006591</td>\n",
       "      <td>0.035558</td>\n",
       "      <td>0.006841</td>\n",
       "      <td>8.037984</td>\n",
       "      <td>0.000053</td>\n",
       "    </tr>\n",
       "    <tr>\n",
       "      <th>16</th>\n",
       "      <td>3</td>\n",
       "      <td>tfidf_itemknn</td>\n",
       "      <td>20</td>\n",
       "      <td>0.006591</td>\n",
       "      <td>0.035558</td>\n",
       "      <td>0.006841</td>\n",
       "      <td>8.037984</td>\n",
       "      <td>0.000053</td>\n",
       "    </tr>\n",
       "    <tr>\n",
       "      <th>17</th>\n",
       "      <td>3</td>\n",
       "      <td>tfidf_itemknn</td>\n",
       "      <td>18</td>\n",
       "      <td>0.006510</td>\n",
       "      <td>0.035032</td>\n",
       "      <td>0.006751</td>\n",
       "      <td>8.012961</td>\n",
       "      <td>0.000052</td>\n",
       "    </tr>\n",
       "    <tr>\n",
       "      <th>18</th>\n",
       "      <td>3</td>\n",
       "      <td>tfidf_itemknn</td>\n",
       "      <td>15</td>\n",
       "      <td>0.006273</td>\n",
       "      <td>0.033633</td>\n",
       "      <td>0.006428</td>\n",
       "      <td>7.972120</td>\n",
       "      <td>0.000049</td>\n",
       "    </tr>\n",
       "    <tr>\n",
       "      <th>19</th>\n",
       "      <td>3</td>\n",
       "      <td>tfidf_itemknn</td>\n",
       "      <td>10</td>\n",
       "      <td>0.005676</td>\n",
       "      <td>0.030364</td>\n",
       "      <td>0.005846</td>\n",
       "      <td>7.917035</td>\n",
       "      <td>0.000043</td>\n",
       "    </tr>\n",
       "    <tr>\n",
       "      <th>20</th>\n",
       "      <td>4</td>\n",
       "      <td>tfidf_itemknn</td>\n",
       "      <td>30</td>\n",
       "      <td>0.006383</td>\n",
       "      <td>0.033929</td>\n",
       "      <td>0.006434</td>\n",
       "      <td>8.077043</td>\n",
       "      <td>0.000058</td>\n",
       "    </tr>\n",
       "    <tr>\n",
       "      <th>21</th>\n",
       "      <td>4</td>\n",
       "      <td>tfidf_itemknn</td>\n",
       "      <td>20</td>\n",
       "      <td>0.006383</td>\n",
       "      <td>0.033929</td>\n",
       "      <td>0.006434</td>\n",
       "      <td>8.077043</td>\n",
       "      <td>0.000058</td>\n",
       "    </tr>\n",
       "    <tr>\n",
       "      <th>22</th>\n",
       "      <td>4</td>\n",
       "      <td>tfidf_itemknn</td>\n",
       "      <td>18</td>\n",
       "      <td>0.006364</td>\n",
       "      <td>0.033863</td>\n",
       "      <td>0.006445</td>\n",
       "      <td>8.041679</td>\n",
       "      <td>0.000055</td>\n",
       "    </tr>\n",
       "    <tr>\n",
       "      <th>23</th>\n",
       "      <td>4</td>\n",
       "      <td>tfidf_itemknn</td>\n",
       "      <td>15</td>\n",
       "      <td>0.006200</td>\n",
       "      <td>0.032974</td>\n",
       "      <td>0.006239</td>\n",
       "      <td>7.995610</td>\n",
       "      <td>0.000052</td>\n",
       "    </tr>\n",
       "    <tr>\n",
       "      <th>24</th>\n",
       "      <td>4</td>\n",
       "      <td>tfidf_itemknn</td>\n",
       "      <td>10</td>\n",
       "      <td>0.005685</td>\n",
       "      <td>0.029749</td>\n",
       "      <td>0.005698</td>\n",
       "      <td>7.931365</td>\n",
       "      <td>0.000047</td>\n",
       "    </tr>\n",
       "    <tr>\n",
       "      <th>25</th>\n",
       "      <td>5</td>\n",
       "      <td>tfidf_itemknn</td>\n",
       "      <td>30</td>\n",
       "      <td>0.006243</td>\n",
       "      <td>0.032813</td>\n",
       "      <td>0.006223</td>\n",
       "      <td>8.066697</td>\n",
       "      <td>0.000055</td>\n",
       "    </tr>\n",
       "    <tr>\n",
       "      <th>26</th>\n",
       "      <td>5</td>\n",
       "      <td>tfidf_itemknn</td>\n",
       "      <td>20</td>\n",
       "      <td>0.006243</td>\n",
       "      <td>0.032813</td>\n",
       "      <td>0.006223</td>\n",
       "      <td>8.066697</td>\n",
       "      <td>0.000055</td>\n",
       "    </tr>\n",
       "    <tr>\n",
       "      <th>27</th>\n",
       "      <td>5</td>\n",
       "      <td>tfidf_itemknn</td>\n",
       "      <td>18</td>\n",
       "      <td>0.006157</td>\n",
       "      <td>0.032312</td>\n",
       "      <td>0.006101</td>\n",
       "      <td>8.037934</td>\n",
       "      <td>0.000053</td>\n",
       "    </tr>\n",
       "    <tr>\n",
       "      <th>28</th>\n",
       "      <td>5</td>\n",
       "      <td>tfidf_itemknn</td>\n",
       "      <td>15</td>\n",
       "      <td>0.005994</td>\n",
       "      <td>0.031261</td>\n",
       "      <td>0.005899</td>\n",
       "      <td>7.991534</td>\n",
       "      <td>0.000051</td>\n",
       "    </tr>\n",
       "    <tr>\n",
       "      <th>29</th>\n",
       "      <td>5</td>\n",
       "      <td>tfidf_itemknn</td>\n",
       "      <td>10</td>\n",
       "      <td>0.005489</td>\n",
       "      <td>0.028465</td>\n",
       "      <td>0.005392</td>\n",
       "      <td>7.925619</td>\n",
       "      <td>0.000045</td>\n",
       "    </tr>\n",
       "    <tr>\n",
       "      <th>30</th>\n",
       "      <td>6</td>\n",
       "      <td>tfidf_itemknn</td>\n",
       "      <td>30</td>\n",
       "      <td>0.005880</td>\n",
       "      <td>0.031258</td>\n",
       "      <td>0.005904</td>\n",
       "      <td>8.143471</td>\n",
       "      <td>0.000058</td>\n",
       "    </tr>\n",
       "    <tr>\n",
       "      <th>31</th>\n",
       "      <td>6</td>\n",
       "      <td>tfidf_itemknn</td>\n",
       "      <td>20</td>\n",
       "      <td>0.005880</td>\n",
       "      <td>0.031258</td>\n",
       "      <td>0.005904</td>\n",
       "      <td>8.143471</td>\n",
       "      <td>0.000058</td>\n",
       "    </tr>\n",
       "    <tr>\n",
       "      <th>32</th>\n",
       "      <td>6</td>\n",
       "      <td>tfidf_itemknn</td>\n",
       "      <td>18</td>\n",
       "      <td>0.005822</td>\n",
       "      <td>0.030942</td>\n",
       "      <td>0.005856</td>\n",
       "      <td>8.114348</td>\n",
       "      <td>0.000056</td>\n",
       "    </tr>\n",
       "    <tr>\n",
       "      <th>33</th>\n",
       "      <td>6</td>\n",
       "      <td>tfidf_itemknn</td>\n",
       "      <td>15</td>\n",
       "      <td>0.005665</td>\n",
       "      <td>0.030206</td>\n",
       "      <td>0.005712</td>\n",
       "      <td>8.070155</td>\n",
       "      <td>0.000053</td>\n",
       "    </tr>\n",
       "    <tr>\n",
       "      <th>34</th>\n",
       "      <td>6</td>\n",
       "      <td>tfidf_itemknn</td>\n",
       "      <td>10</td>\n",
       "      <td>0.005273</td>\n",
       "      <td>0.027750</td>\n",
       "      <td>0.005274</td>\n",
       "      <td>7.999249</td>\n",
       "      <td>0.000046</td>\n",
       "    </tr>\n",
       "  </tbody>\n",
       "</table>\n",
       "</div>"
      ],
      "text/plain": [
       "    fold          model  n_users   prec@10  recall@10    map@10   novelty  \\\n",
       "0      0  tfidf_itemknn       30  0.008546   0.048340  0.008829  7.799313   \n",
       "1      0  tfidf_itemknn       20  0.008546   0.048340  0.008829  7.799313   \n",
       "2      0  tfidf_itemknn       18  0.008463   0.047872  0.008708  7.771076   \n",
       "3      0  tfidf_itemknn       15  0.008307   0.046835  0.008635  7.740356   \n",
       "4      0  tfidf_itemknn       10  0.007263   0.040512  0.007635  7.722912   \n",
       "5      1  tfidf_itemknn       30  0.008504   0.050560  0.009345  7.827066   \n",
       "6      1  tfidf_itemknn       20  0.008504   0.050560  0.009345  7.827066   \n",
       "7      1  tfidf_itemknn       18  0.008417   0.050251  0.009312  7.796292   \n",
       "8      1  tfidf_itemknn       15  0.008265   0.049447  0.009086  7.754475   \n",
       "9      1  tfidf_itemknn       10  0.007690   0.046020  0.008556  7.710795   \n",
       "10     2  tfidf_itemknn       30  0.006830   0.038295  0.007287  7.952497   \n",
       "11     2  tfidf_itemknn       20  0.006830   0.038295  0.007287  7.952497   \n",
       "12     2  tfidf_itemknn       18  0.006734   0.037729  0.007148  7.922038   \n",
       "13     2  tfidf_itemknn       15  0.006572   0.036736  0.006963  7.877313   \n",
       "14     2  tfidf_itemknn       10  0.006028   0.034216  0.006404  7.820434   \n",
       "15     3  tfidf_itemknn       30  0.006591   0.035558  0.006841  8.037984   \n",
       "16     3  tfidf_itemknn       20  0.006591   0.035558  0.006841  8.037984   \n",
       "17     3  tfidf_itemknn       18  0.006510   0.035032  0.006751  8.012961   \n",
       "18     3  tfidf_itemknn       15  0.006273   0.033633  0.006428  7.972120   \n",
       "19     3  tfidf_itemknn       10  0.005676   0.030364  0.005846  7.917035   \n",
       "20     4  tfidf_itemknn       30  0.006383   0.033929  0.006434  8.077043   \n",
       "21     4  tfidf_itemknn       20  0.006383   0.033929  0.006434  8.077043   \n",
       "22     4  tfidf_itemknn       18  0.006364   0.033863  0.006445  8.041679   \n",
       "23     4  tfidf_itemknn       15  0.006200   0.032974  0.006239  7.995610   \n",
       "24     4  tfidf_itemknn       10  0.005685   0.029749  0.005698  7.931365   \n",
       "25     5  tfidf_itemknn       30  0.006243   0.032813  0.006223  8.066697   \n",
       "26     5  tfidf_itemknn       20  0.006243   0.032813  0.006223  8.066697   \n",
       "27     5  tfidf_itemknn       18  0.006157   0.032312  0.006101  8.037934   \n",
       "28     5  tfidf_itemknn       15  0.005994   0.031261  0.005899  7.991534   \n",
       "29     5  tfidf_itemknn       10  0.005489   0.028465  0.005392  7.925619   \n",
       "30     6  tfidf_itemknn       30  0.005880   0.031258  0.005904  8.143471   \n",
       "31     6  tfidf_itemknn       20  0.005880   0.031258  0.005904  8.143471   \n",
       "32     6  tfidf_itemknn       18  0.005822   0.030942  0.005856  8.114348   \n",
       "33     6  tfidf_itemknn       15  0.005665   0.030206  0.005712  8.070155   \n",
       "34     6  tfidf_itemknn       10  0.005273   0.027750  0.005274  7.999249   \n",
       "\n",
       "    serendipity  \n",
       "0      0.000035  \n",
       "1      0.000035  \n",
       "2      0.000033  \n",
       "3      0.000032  \n",
       "4      0.000028  \n",
       "5      0.000039  \n",
       "6      0.000039  \n",
       "7      0.000038  \n",
       "8      0.000036  \n",
       "9      0.000029  \n",
       "10     0.000042  \n",
       "11     0.000042  \n",
       "12     0.000041  \n",
       "13     0.000038  \n",
       "14     0.000032  \n",
       "15     0.000053  \n",
       "16     0.000053  \n",
       "17     0.000052  \n",
       "18     0.000049  \n",
       "19     0.000043  \n",
       "20     0.000058  \n",
       "21     0.000058  \n",
       "22     0.000055  \n",
       "23     0.000052  \n",
       "24     0.000047  \n",
       "25     0.000055  \n",
       "26     0.000055  \n",
       "27     0.000053  \n",
       "28     0.000051  \n",
       "29     0.000045  \n",
       "30     0.000058  \n",
       "31     0.000058  \n",
       "32     0.000056  \n",
       "33     0.000053  \n",
       "34     0.000046  "
      ]
     },
     "execution_count": 21,
     "metadata": {},
     "output_type": "execute_result"
    }
   ],
   "source": [
    "df_metrics = pd.DataFrame(results)\n",
    "df_metrics"
   ]
  },
  {
   "cell_type": "code",
   "execution_count": 22,
   "id": "798258b3",
   "metadata": {},
   "outputs": [
    {
     "data": {
      "text/html": [
       "<div>\n",
       "<style scoped>\n",
       "    .dataframe tbody tr th:only-of-type {\n",
       "        vertical-align: middle;\n",
       "    }\n",
       "\n",
       "    .dataframe tbody tr th {\n",
       "        vertical-align: top;\n",
       "    }\n",
       "\n",
       "    .dataframe thead th {\n",
       "        text-align: right;\n",
       "    }\n",
       "</style>\n",
       "<table border=\"1\" class=\"dataframe\">\n",
       "  <thead>\n",
       "    <tr style=\"text-align: right;\">\n",
       "      <th></th>\n",
       "      <th>prec@10</th>\n",
       "      <th>recall@10</th>\n",
       "      <th>novelty</th>\n",
       "      <th>serendipity</th>\n",
       "      <th>map@10</th>\n",
       "    </tr>\n",
       "    <tr>\n",
       "      <th>n_users</th>\n",
       "      <th></th>\n",
       "      <th></th>\n",
       "      <th></th>\n",
       "      <th></th>\n",
       "      <th></th>\n",
       "    </tr>\n",
       "  </thead>\n",
       "  <tbody>\n",
       "    <tr>\n",
       "      <th>10</th>\n",
       "      <td>0.006158</td>\n",
       "      <td>0.033868</td>\n",
       "      <td>7.861058</td>\n",
       "      <td>0.000039</td>\n",
       "      <td>0.006400</td>\n",
       "    </tr>\n",
       "    <tr>\n",
       "      <th>15</th>\n",
       "      <td>0.006754</td>\n",
       "      <td>0.037299</td>\n",
       "      <td>7.914509</td>\n",
       "      <td>0.000044</td>\n",
       "      <td>0.006995</td>\n",
       "    </tr>\n",
       "    <tr>\n",
       "      <th>18</th>\n",
       "      <td>0.006924</td>\n",
       "      <td>0.038286</td>\n",
       "      <td>7.956618</td>\n",
       "      <td>0.000047</td>\n",
       "      <td>0.007189</td>\n",
       "    </tr>\n",
       "    <tr>\n",
       "      <th>20</th>\n",
       "      <td>0.006997</td>\n",
       "      <td>0.038679</td>\n",
       "      <td>7.986296</td>\n",
       "      <td>0.000049</td>\n",
       "      <td>0.007266</td>\n",
       "    </tr>\n",
       "    <tr>\n",
       "      <th>30</th>\n",
       "      <td>0.006997</td>\n",
       "      <td>0.038679</td>\n",
       "      <td>7.986296</td>\n",
       "      <td>0.000049</td>\n",
       "      <td>0.007266</td>\n",
       "    </tr>\n",
       "  </tbody>\n",
       "</table>\n",
       "</div>"
      ],
      "text/plain": [
       "          prec@10  recall@10   novelty  serendipity    map@10\n",
       "n_users                                                      \n",
       "10       0.006158   0.033868  7.861058     0.000039  0.006400\n",
       "15       0.006754   0.037299  7.914509     0.000044  0.006995\n",
       "18       0.006924   0.038286  7.956618     0.000047  0.007189\n",
       "20       0.006997   0.038679  7.986296     0.000049  0.007266\n",
       "30       0.006997   0.038679  7.986296     0.000049  0.007266"
      ]
     },
     "execution_count": 22,
     "metadata": {},
     "output_type": "execute_result"
    }
   ],
   "source": [
    "df_metrics.groupby('n_users').mean()[metrics.keys()]"
   ]
  },
  {
   "cell_type": "markdown",
   "id": "731e5db1",
   "metadata": {},
   "source": [
    "Как видно, метрики не особо меняются когда юзеров становится больше 20. "
   ]
  },
  {
   "cell_type": "markdown",
   "id": "179af512",
   "metadata": {},
   "source": [
    "## Changing time split"
   ]
  },
  {
   "cell_type": "markdown",
   "id": "495d55fe",
   "metadata": {},
   "source": [
    "Попробуем поменять временной промежуток в тесте и посмотреть будут ли отличаться результаты. Оставим пограничное количество юзеров."
   ]
  },
  {
   "cell_type": "code",
   "execution_count": 33,
   "id": "2c3ca3b1",
   "metadata": {},
   "outputs": [],
   "source": [
    "n_users = {\n",
    "    \"n_20\": 20,\n",
    "    \"n_15\": 15,\n",
    "}"
   ]
  },
  {
   "cell_type": "code",
   "execution_count": 34,
   "id": "c434e09c",
   "metadata": {},
   "outputs": [
    {
     "name": "stdout",
     "output_type": "stream",
     "text": [
      "Start date and last date of the test fold: (Timestamp('2021-07-27 00:00:00'), Timestamp('2021-08-22 00:00:00'))\n",
      "start_date: 2021-07-27 00:00:00\n",
      "last_date: 2021-08-22 00:00:00\n",
      "periods: 6\n",
      "freq: 5D\n",
      "\n",
      "Test fold borders: ['2021-07-27' '2021-08-01' '2021-08-06' '2021-08-11' '2021-08-16'\n",
      " '2021-08-21']\n",
      "Real number of folds: 5\n"
     ]
    }
   ],
   "source": [
    "# setting for cv\n",
    "n_folds = 5\n",
    "unit = \"D\"\n",
    "n_units = 5\n",
    "\n",
    "last_date = interactions[Columns.Datetime].max().normalize()\n",
    "start_date = last_date - pd.Timedelta(n_folds * n_units + 1, unit=unit)\n",
    "print(f\"Start date and last date of the test fold: {start_date, last_date}\")\n",
    "\n",
    "periods = n_folds + 1\n",
    "freq = f\"{n_units}{unit}\"\n",
    "print(\n",
    "    f\"start_date: {start_date}\\n\"\n",
    "    f\"last_date: {last_date}\\n\"\n",
    "    f\"periods: {periods}\\n\"\n",
    "    f\"freq: {freq}\\n\"\n",
    ")\n",
    "\n",
    "date_range = pd.date_range(start=start_date, periods=periods, freq=freq, tz=last_date.tz)\n",
    "print(f\"Test fold borders: {date_range.values.astype('datetime64[D]')}\")\n",
    "\n",
    "# generator of folds\n",
    "cv = TimeRangeSplitter(\n",
    "    date_range=date_range,\n",
    "    filter_already_seen=True,\n",
    "    filter_cold_items=True,\n",
    "    filter_cold_users=True,\n",
    ")\n",
    "print(f\"Real number of folds: {cv.get_n_splits(Interactions(interactions))}\")"
   ]
  },
  {
   "cell_type": "code",
   "execution_count": 35,
   "id": "dfc299f6",
   "metadata": {
    "scrolled": true
   },
   "outputs": [
    {
     "name": "stdout",
     "output_type": "stream",
     "text": [
      "\n",
      "==================== Fold 0\n",
      "{'End date': Timestamp('2021-08-01 00:00:00', freq='5D'),\n",
      " 'Start date': Timestamp('2021-07-27 00:00:00', freq='5D'),\n",
      " 'Test': 186642,\n",
      " 'Test items': 6088,\n",
      " 'Test users': 77743,\n",
      " 'Train': 3941089,\n",
      " 'Train items': 15109,\n",
      " 'Train users': 749447}\n",
      "tfidf_itemknn n_20\n"
     ]
    },
    {
     "data": {
      "application/vnd.jupyter.widget-view+json": {
       "model_id": "af1df5db94924904a2b9bf8b293e0222",
       "version_major": 2,
       "version_minor": 0
      },
      "text/plain": [
       "  0%|          | 0/749447 [00:00<?, ?it/s]"
      ]
     },
     "metadata": {},
     "output_type": "display_data"
    },
    {
     "name": "stdout",
     "output_type": "stream",
     "text": [
      "tfidf_itemknn n_15\n"
     ]
    },
    {
     "data": {
      "application/vnd.jupyter.widget-view+json": {
       "model_id": "8474cce341f646839dacfebb5903445e",
       "version_major": 2,
       "version_minor": 0
      },
      "text/plain": [
       "  0%|          | 0/749447 [00:00<?, ?it/s]"
      ]
     },
     "metadata": {},
     "output_type": "display_data"
    },
    {
     "name": "stdout",
     "output_type": "stream",
     "text": [
      "\n",
      "==================== Fold 1\n",
      "{'End date': Timestamp('2021-08-06 00:00:00', freq='5D'),\n",
      " 'Start date': Timestamp('2021-08-01 00:00:00', freq='5D'),\n",
      " 'Test': 193921,\n",
      " 'Test items': 6096,\n",
      " 'Test users': 80069,\n",
      " 'Train': 4203885,\n",
      " 'Train items': 15212,\n",
      " 'Train users': 788721}\n",
      "tfidf_itemknn n_20\n"
     ]
    },
    {
     "data": {
      "application/vnd.jupyter.widget-view+json": {
       "model_id": "cb0b9e89b03e4ba881e93685c34afadb",
       "version_major": 2,
       "version_minor": 0
      },
      "text/plain": [
       "  0%|          | 0/788721 [00:00<?, ?it/s]"
      ]
     },
     "metadata": {},
     "output_type": "display_data"
    },
    {
     "name": "stdout",
     "output_type": "stream",
     "text": [
      "tfidf_itemknn n_15\n"
     ]
    },
    {
     "data": {
      "application/vnd.jupyter.widget-view+json": {
       "model_id": "fd81ae8634f148ea81729eea2f676fb8",
       "version_major": 2,
       "version_minor": 0
      },
      "text/plain": [
       "  0%|          | 0/788721 [00:00<?, ?it/s]"
      ]
     },
     "metadata": {},
     "output_type": "display_data"
    },
    {
     "name": "stdout",
     "output_type": "stream",
     "text": [
      "\n",
      "==================== Fold 2\n",
      "{'End date': Timestamp('2021-08-11 00:00:00', freq='5D'),\n",
      " 'Start date': Timestamp('2021-08-06 00:00:00', freq='5D'),\n",
      " 'Test': 203193,\n",
      " 'Test items': 6123,\n",
      " 'Test users': 82818,\n",
      " 'Train': 4474647,\n",
      " 'Train items': 15356,\n",
      " 'Train users': 826429}\n",
      "tfidf_itemknn n_20\n"
     ]
    },
    {
     "data": {
      "application/vnd.jupyter.widget-view+json": {
       "model_id": "992580e1515f420d81d7c4ad981b2ca5",
       "version_major": 2,
       "version_minor": 0
      },
      "text/plain": [
       "  0%|          | 0/826429 [00:00<?, ?it/s]"
      ]
     },
     "metadata": {},
     "output_type": "display_data"
    },
    {
     "name": "stdout",
     "output_type": "stream",
     "text": [
      "tfidf_itemknn n_15\n"
     ]
    },
    {
     "data": {
      "application/vnd.jupyter.widget-view+json": {
       "model_id": "2ea55fb94a7e4bbfbf7963e58e549feb",
       "version_major": 2,
       "version_minor": 0
      },
      "text/plain": [
       "  0%|          | 0/826429 [00:00<?, ?it/s]"
      ]
     },
     "metadata": {},
     "output_type": "display_data"
    },
    {
     "name": "stdout",
     "output_type": "stream",
     "text": [
      "\n",
      "==================== Fold 3\n",
      "{'End date': Timestamp('2021-08-16 00:00:00', freq='5D'),\n",
      " 'Start date': Timestamp('2021-08-11 00:00:00', freq='5D'),\n",
      " 'Test': 211952,\n",
      " 'Test items': 6325,\n",
      " 'Test users': 86828,\n",
      " 'Train': 4755668,\n",
      " 'Train items': 15480,\n",
      " 'Train users': 865063}\n",
      "tfidf_itemknn n_20\n"
     ]
    },
    {
     "data": {
      "application/vnd.jupyter.widget-view+json": {
       "model_id": "9afca0fe428a4b4aae81ffcba906858a",
       "version_major": 2,
       "version_minor": 0
      },
      "text/plain": [
       "  0%|          | 0/865063 [00:00<?, ?it/s]"
      ]
     },
     "metadata": {},
     "output_type": "display_data"
    },
    {
     "name": "stdout",
     "output_type": "stream",
     "text": [
      "tfidf_itemknn n_15\n"
     ]
    },
    {
     "data": {
      "application/vnd.jupyter.widget-view+json": {
       "model_id": "acc7cdf906e5487aa83968a95a973755",
       "version_major": 2,
       "version_minor": 0
      },
      "text/plain": [
       "  0%|          | 0/865063 [00:00<?, ?it/s]"
      ]
     },
     "metadata": {},
     "output_type": "display_data"
    },
    {
     "name": "stdout",
     "output_type": "stream",
     "text": [
      "\n",
      "==================== Fold 4\n",
      "{'End date': Timestamp('2021-08-21 00:00:00', freq='5D'),\n",
      " 'Start date': Timestamp('2021-08-16 00:00:00', freq='5D'),\n",
      " 'Test': 207727,\n",
      " 'Test items': 6109,\n",
      " 'Test users': 85168,\n",
      " 'Train': 5051815,\n",
      " 'Train items': 15577,\n",
      " 'Train users': 906071}\n",
      "tfidf_itemknn n_20\n"
     ]
    },
    {
     "data": {
      "application/vnd.jupyter.widget-view+json": {
       "model_id": "85f0a99cb1ef45fa8d9df8d209833a2f",
       "version_major": 2,
       "version_minor": 0
      },
      "text/plain": [
       "  0%|          | 0/906071 [00:00<?, ?it/s]"
      ]
     },
     "metadata": {},
     "output_type": "display_data"
    },
    {
     "name": "stdout",
     "output_type": "stream",
     "text": [
      "tfidf_itemknn n_15\n"
     ]
    },
    {
     "data": {
      "application/vnd.jupyter.widget-view+json": {
       "model_id": "12728da3f0d34df08816af453a61a0b6",
       "version_major": 2,
       "version_minor": 0
      },
      "text/plain": [
       "  0%|          | 0/906071 [00:00<?, ?it/s]"
      ]
     },
     "metadata": {},
     "output_type": "display_data"
    },
    {
     "name": "stdout",
     "output_type": "stream",
     "text": [
      "CPU times: user 5h 4min 37s, sys: 28 s, total: 5h 5min 5s\n",
      "Wall time: 3h 17min 45s\n"
     ]
    }
   ],
   "source": [
    "%%time\n",
    "\n",
    "results = []\n",
    "\n",
    "fold_iterator = cv.split(Interactions(interactions), collect_fold_stats=True)\n",
    "\n",
    "for i_fold, (train_ids, test_ids, fold_info) in enumerate(fold_iterator):\n",
    "    print(f\"\\n==================== Fold {i_fold}\")\n",
    "    pprint(fold_info)\n",
    "\n",
    "    df_train = interactions.iloc[train_ids].copy()\n",
    "    df_test = interactions.iloc[test_ids][Columns.UserItem].copy()\n",
    "\n",
    "    catalog = df_train[Columns.Item].unique()\n",
    "\n",
    "    for model_name, model in models.items():\n",
    "        for name, n in n_users.items():\n",
    "            print(model_name, name)\n",
    "            userknn_model = UserKnn(model=model, N_users=n)\n",
    "            userknn_model.fit(df_train)\n",
    "\n",
    "            recos = userknn_model.predict(df_test)\n",
    "\n",
    "            metric_values = calc_metrics(\n",
    "                metrics,\n",
    "                reco=recos,\n",
    "                interactions=df_test,\n",
    "                prev_interactions=df_train,\n",
    "                catalog=catalog,\n",
    "            )\n",
    "\n",
    "            fold = {\"fold\": i_fold, \"model\": model_name, \"n_users\": n}\n",
    "            fold.update(metric_values)\n",
    "            results.append(fold)\n"
   ]
  },
  {
   "cell_type": "code",
   "execution_count": 36,
   "id": "7011f5c2",
   "metadata": {},
   "outputs": [
    {
     "data": {
      "text/html": [
       "<div>\n",
       "<style scoped>\n",
       "    .dataframe tbody tr th:only-of-type {\n",
       "        vertical-align: middle;\n",
       "    }\n",
       "\n",
       "    .dataframe tbody tr th {\n",
       "        vertical-align: top;\n",
       "    }\n",
       "\n",
       "    .dataframe thead th {\n",
       "        text-align: right;\n",
       "    }\n",
       "</style>\n",
       "<table border=\"1\" class=\"dataframe\">\n",
       "  <thead>\n",
       "    <tr style=\"text-align: right;\">\n",
       "      <th></th>\n",
       "      <th>prec@10</th>\n",
       "      <th>recall@10</th>\n",
       "      <th>novelty</th>\n",
       "      <th>serendipity</th>\n",
       "      <th>map@10</th>\n",
       "    </tr>\n",
       "    <tr>\n",
       "      <th>n_users</th>\n",
       "      <th></th>\n",
       "      <th></th>\n",
       "      <th></th>\n",
       "      <th></th>\n",
       "      <th></th>\n",
       "    </tr>\n",
       "  </thead>\n",
       "  <tbody>\n",
       "    <tr>\n",
       "      <th>15</th>\n",
       "      <td>0.005364</td>\n",
       "      <td>0.029937</td>\n",
       "      <td>8.096305</td>\n",
       "      <td>0.000051</td>\n",
       "      <td>0.005658</td>\n",
       "    </tr>\n",
       "    <tr>\n",
       "      <th>20</th>\n",
       "      <td>0.005586</td>\n",
       "      <td>0.031402</td>\n",
       "      <td>8.174692</td>\n",
       "      <td>0.000055</td>\n",
       "      <td>0.005934</td>\n",
       "    </tr>\n",
       "  </tbody>\n",
       "</table>\n",
       "</div>"
      ],
      "text/plain": [
       "          prec@10  recall@10   novelty  serendipity    map@10\n",
       "n_users                                                      \n",
       "15       0.005364   0.029937  8.096305     0.000051  0.005658\n",
       "20       0.005586   0.031402  8.174692     0.000055  0.005934"
      ]
     },
     "execution_count": 36,
     "metadata": {},
     "output_type": "execute_result"
    }
   ],
   "source": [
    "df_metrics = pd.DataFrame(results)\n",
    "df_metrics.groupby('n_users').mean()[metrics.keys()]"
   ]
  },
  {
   "cell_type": "code",
   "execution_count": 37,
   "id": "1359deaa",
   "metadata": {},
   "outputs": [
    {
     "name": "stdout",
     "output_type": "stream",
     "text": [
      "Start date and last date of the test fold: (Timestamp('2021-08-01 00:00:00'), Timestamp('2021-08-22 00:00:00'))\n",
      "start_date: 2021-08-01 00:00:00\n",
      "last_date: 2021-08-22 00:00:00\n",
      "periods: 6\n",
      "freq: 4D\n",
      "\n",
      "Test fold borders: ['2021-08-01' '2021-08-05' '2021-08-09' '2021-08-13' '2021-08-17'\n",
      " '2021-08-21']\n",
      "Real number of folds: 5\n"
     ]
    }
   ],
   "source": [
    "# setting for cv\n",
    "n_folds = 5\n",
    "unit = \"D\"\n",
    "n_units = 4\n",
    "\n",
    "last_date = interactions[Columns.Datetime].max().normalize()\n",
    "start_date = last_date - pd.Timedelta(n_folds * n_units + 1, unit=unit)\n",
    "print(f\"Start date and last date of the test fold: {start_date, last_date}\")\n",
    "\n",
    "periods = n_folds + 1\n",
    "freq = f\"{n_units}{unit}\"\n",
    "print(\n",
    "    f\"start_date: {start_date}\\n\"\n",
    "    f\"last_date: {last_date}\\n\"\n",
    "    f\"periods: {periods}\\n\"\n",
    "    f\"freq: {freq}\\n\"\n",
    ")\n",
    "\n",
    "date_range = pd.date_range(start=start_date, periods=periods, freq=freq, tz=last_date.tz)\n",
    "print(f\"Test fold borders: {date_range.values.astype('datetime64[D]')}\")\n",
    "\n",
    "# generator of folds\n",
    "cv = TimeRangeSplitter(\n",
    "    date_range=date_range,\n",
    "    filter_already_seen=True,\n",
    "    filter_cold_items=True,\n",
    "    filter_cold_users=True,\n",
    ")\n",
    "print(f\"Real number of folds: {cv.get_n_splits(Interactions(interactions))}\")"
   ]
  },
  {
   "cell_type": "code",
   "execution_count": 38,
   "id": "b4233e03",
   "metadata": {
    "scrolled": true
   },
   "outputs": [
    {
     "name": "stdout",
     "output_type": "stream",
     "text": [
      "\n",
      "==================== Fold 0\n",
      "{'End date': Timestamp('2021-08-05 00:00:00', freq='4D'),\n",
      " 'Start date': Timestamp('2021-08-01 00:00:00', freq='4D'),\n",
      " 'Test': 160895,\n",
      " 'Test items': 5785,\n",
      " 'Test users': 70543,\n",
      " 'Train': 4203885,\n",
      " 'Train items': 15212,\n",
      " 'Train users': 788721}\n",
      "tfidf_itemknn n_20\n"
     ]
    },
    {
     "data": {
      "application/vnd.jupyter.widget-view+json": {
       "model_id": "c0e4330baff94a8795c0b31c2ea9b8af",
       "version_major": 2,
       "version_minor": 0
      },
      "text/plain": [
       "  0%|          | 0/788721 [00:00<?, ?it/s]"
      ]
     },
     "metadata": {},
     "output_type": "display_data"
    },
    {
     "name": "stdout",
     "output_type": "stream",
     "text": [
      "tfidf_itemknn n_15\n"
     ]
    },
    {
     "data": {
      "application/vnd.jupyter.widget-view+json": {
       "model_id": "d8af611b4129483b8331cd9e4420bfd3",
       "version_major": 2,
       "version_minor": 0
      },
      "text/plain": [
       "  0%|          | 0/788721 [00:00<?, ?it/s]"
      ]
     },
     "metadata": {},
     "output_type": "display_data"
    },
    {
     "name": "stdout",
     "output_type": "stream",
     "text": [
      "\n",
      "==================== Fold 1\n",
      "{'End date': Timestamp('2021-08-09 00:00:00', freq='4D'),\n",
      " 'Start date': Timestamp('2021-08-05 00:00:00', freq='4D'),\n",
      " 'Test': 165639,\n",
      " 'Test items': 5833,\n",
      " 'Test users': 72243,\n",
      " 'Train': 4423600,\n",
      " 'Train items': 15331,\n",
      " 'Train users': 819309}\n",
      "tfidf_itemknn n_20\n"
     ]
    },
    {
     "data": {
      "application/vnd.jupyter.widget-view+json": {
       "model_id": "2d23be0307504bc3831c62b2fd71583e",
       "version_major": 2,
       "version_minor": 0
      },
      "text/plain": [
       "  0%|          | 0/819309 [00:00<?, ?it/s]"
      ]
     },
     "metadata": {},
     "output_type": "display_data"
    },
    {
     "name": "stdout",
     "output_type": "stream",
     "text": [
      "tfidf_itemknn n_15\n"
     ]
    },
    {
     "data": {
      "application/vnd.jupyter.widget-view+json": {
       "model_id": "116fdaa667ab4392ab9d392056c737b7",
       "version_major": 2,
       "version_minor": 0
      },
      "text/plain": [
       "  0%|          | 0/819309 [00:00<?, ?it/s]"
      ]
     },
     "metadata": {},
     "output_type": "display_data"
    },
    {
     "name": "stdout",
     "output_type": "stream",
     "text": [
      "\n",
      "==================== Fold 2\n",
      "{'End date': Timestamp('2021-08-13 00:00:00', freq='4D'),\n",
      " 'Start date': Timestamp('2021-08-09 00:00:00', freq='4D'),\n",
      " 'Test': 162953,\n",
      " 'Test items': 5755,\n",
      " 'Test users': 71051,\n",
      " 'Train': 4649162,\n",
      " 'Train items': 15415,\n",
      " 'Train users': 850489}\n",
      "tfidf_itemknn n_20\n"
     ]
    },
    {
     "data": {
      "application/vnd.jupyter.widget-view+json": {
       "model_id": "c290fb8c638947f3ab1f1f932a3390ac",
       "version_major": 2,
       "version_minor": 0
      },
      "text/plain": [
       "  0%|          | 0/850489 [00:00<?, ?it/s]"
      ]
     },
     "metadata": {},
     "output_type": "display_data"
    },
    {
     "name": "stdout",
     "output_type": "stream",
     "text": [
      "tfidf_itemknn n_15\n"
     ]
    },
    {
     "data": {
      "application/vnd.jupyter.widget-view+json": {
       "model_id": "bc6004cafb884a69a2fe14fb5464dd90",
       "version_major": 2,
       "version_minor": 0
      },
      "text/plain": [
       "  0%|          | 0/850489 [00:00<?, ?it/s]"
      ]
     },
     "metadata": {},
     "output_type": "display_data"
    },
    {
     "name": "stdout",
     "output_type": "stream",
     "text": [
      "\n",
      "==================== Fold 3\n",
      "{'End date': Timestamp('2021-08-17 00:00:00', freq='4D'),\n",
      " 'Start date': Timestamp('2021-08-13 00:00:00', freq='4D'),\n",
      " 'Test': 172960,\n",
      " 'Test items': 5951,\n",
      " 'Test users': 75887,\n",
      " 'Train': 4867782,\n",
      " 'Train items': 15519,\n",
      " 'Train users': 880449}\n",
      "tfidf_itemknn n_20\n"
     ]
    },
    {
     "data": {
      "application/vnd.jupyter.widget-view+json": {
       "model_id": "3a831f68134149878bf5b6afc841911b",
       "version_major": 2,
       "version_minor": 0
      },
      "text/plain": [
       "  0%|          | 0/880449 [00:00<?, ?it/s]"
      ]
     },
     "metadata": {},
     "output_type": "display_data"
    },
    {
     "name": "stdout",
     "output_type": "stream",
     "text": [
      "tfidf_itemknn n_15\n"
     ]
    },
    {
     "data": {
      "application/vnd.jupyter.widget-view+json": {
       "model_id": "ba4c1939063e40d79cb15cd8fb6fb278",
       "version_major": 2,
       "version_minor": 0
      },
      "text/plain": [
       "  0%|          | 0/880449 [00:00<?, ?it/s]"
      ]
     },
     "metadata": {},
     "output_type": "display_data"
    },
    {
     "name": "stdout",
     "output_type": "stream",
     "text": [
      "\n",
      "==================== Fold 4\n",
      "{'End date': Timestamp('2021-08-21 00:00:00', freq='4D'),\n",
      " 'Start date': Timestamp('2021-08-17 00:00:00', freq='4D'),\n",
      " 'Test': 171074,\n",
      " 'Test items': 5824,\n",
      " 'Test users': 74740,\n",
      " 'Train': 5106361,\n",
      " 'Train items': 15589,\n",
      " 'Train users': 913604}\n",
      "tfidf_itemknn n_20\n"
     ]
    },
    {
     "data": {
      "application/vnd.jupyter.widget-view+json": {
       "model_id": "c075462b2bc54cb48f8fe2e75ee0d469",
       "version_major": 2,
       "version_minor": 0
      },
      "text/plain": [
       "  0%|          | 0/913604 [00:00<?, ?it/s]"
      ]
     },
     "metadata": {},
     "output_type": "display_data"
    },
    {
     "name": "stdout",
     "output_type": "stream",
     "text": [
      "tfidf_itemknn n_15\n"
     ]
    },
    {
     "data": {
      "application/vnd.jupyter.widget-view+json": {
       "model_id": "9684bc176f98487c8e4e8df98f442147",
       "version_major": 2,
       "version_minor": 0
      },
      "text/plain": [
       "  0%|          | 0/913604 [00:00<?, ?it/s]"
      ]
     },
     "metadata": {},
     "output_type": "display_data"
    },
    {
     "name": "stdout",
     "output_type": "stream",
     "text": [
      "CPU times: user 6h 15min 11s, sys: 37.7 s, total: 6h 15min 49s\n",
      "Wall time: 4h 3min 46s\n"
     ]
    }
   ],
   "source": [
    "%%time\n",
    "\n",
    "results = []\n",
    "\n",
    "fold_iterator = cv.split(Interactions(interactions), collect_fold_stats=True)\n",
    "\n",
    "for i_fold, (train_ids, test_ids, fold_info) in enumerate(fold_iterator):\n",
    "    print(f\"\\n==================== Fold {i_fold}\")\n",
    "    pprint(fold_info)\n",
    "\n",
    "    df_train = interactions.iloc[train_ids].copy()\n",
    "    df_test = interactions.iloc[test_ids][Columns.UserItem].copy()\n",
    "\n",
    "    catalog = df_train[Columns.Item].unique()\n",
    "\n",
    "    for model_name, model in models.items():\n",
    "        for name, n in n_users.items():\n",
    "            print(model_name, name)\n",
    "            userknn_model = UserKnn(model=model, N_users=n)\n",
    "            userknn_model.fit(df_train)\n",
    "\n",
    "            recos = userknn_model.predict(df_test)\n",
    "\n",
    "            metric_values = calc_metrics(\n",
    "                metrics,\n",
    "                reco=recos,\n",
    "                interactions=df_test,\n",
    "                prev_interactions=df_train,\n",
    "                catalog=catalog,\n",
    "            )\n",
    "\n",
    "            fold = {\"fold\": i_fold, \"model\": model_name, \"n_users\": n}\n",
    "            fold.update(metric_values)\n",
    "            results.append(fold)\n"
   ]
  },
  {
   "cell_type": "code",
   "execution_count": 39,
   "id": "1902b061",
   "metadata": {},
   "outputs": [
    {
     "data": {
      "text/html": [
       "<div>\n",
       "<style scoped>\n",
       "    .dataframe tbody tr th:only-of-type {\n",
       "        vertical-align: middle;\n",
       "    }\n",
       "\n",
       "    .dataframe tbody tr th {\n",
       "        vertical-align: top;\n",
       "    }\n",
       "\n",
       "    .dataframe thead th {\n",
       "        text-align: right;\n",
       "    }\n",
       "</style>\n",
       "<table border=\"1\" class=\"dataframe\">\n",
       "  <thead>\n",
       "    <tr style=\"text-align: right;\">\n",
       "      <th></th>\n",
       "      <th>prec@10</th>\n",
       "      <th>recall@10</th>\n",
       "      <th>novelty</th>\n",
       "      <th>serendipity</th>\n",
       "      <th>map@10</th>\n",
       "    </tr>\n",
       "    <tr>\n",
       "      <th>n_users</th>\n",
       "      <th></th>\n",
       "      <th></th>\n",
       "      <th></th>\n",
       "      <th></th>\n",
       "      <th></th>\n",
       "    </tr>\n",
       "  </thead>\n",
       "  <tbody>\n",
       "    <tr>\n",
       "      <th>15</th>\n",
       "      <td>0.005039</td>\n",
       "      <td>0.029364</td>\n",
       "      <td>8.163233</td>\n",
       "      <td>0.000050</td>\n",
       "      <td>0.005543</td>\n",
       "    </tr>\n",
       "    <tr>\n",
       "      <th>20</th>\n",
       "      <td>0.005236</td>\n",
       "      <td>0.030714</td>\n",
       "      <td>8.241690</td>\n",
       "      <td>0.000054</td>\n",
       "      <td>0.005815</td>\n",
       "    </tr>\n",
       "  </tbody>\n",
       "</table>\n",
       "</div>"
      ],
      "text/plain": [
       "          prec@10  recall@10   novelty  serendipity    map@10\n",
       "n_users                                                      \n",
       "15       0.005039   0.029364  8.163233     0.000050  0.005543\n",
       "20       0.005236   0.030714  8.241690     0.000054  0.005815"
      ]
     },
     "execution_count": 39,
     "metadata": {},
     "output_type": "execute_result"
    }
   ],
   "source": [
    "df_metrics = pd.DataFrame(results)\n",
    "df_metrics.groupby('n_users').mean()[metrics.keys()]"
   ]
  },
  {
   "cell_type": "markdown",
   "id": "05f5170a",
   "metadata": {},
   "source": [
    "Поскольку модель userknn не дает рекомендаций для холодных и теплых польхователей, то мы добавили модель, возвращающая топ популярных. И метрика map@10 сильно выросла на сервисе. Оказалось сложно сравнить метрики оффлайн и онлайн в таком случае. Но так как, при количестве пользователей 20 и выше метрики на оффлайн не меняются, то именно это значение и оставили."
   ]
  },
  {
   "cell_type": "code",
   "execution_count": null,
   "id": "5c210917",
   "metadata": {},
   "outputs": [],
   "source": []
  }
 ],
 "metadata": {
  "kernelspec": {
   "display_name": "Python 3 (ipykernel)",
   "language": "python",
   "name": "python3"
  },
  "language_info": {
   "codemirror_mode": {
    "name": "ipython",
    "version": 3
   },
   "file_extension": ".py",
   "mimetype": "text/x-python",
   "name": "python",
   "nbconvert_exporter": "python",
   "pygments_lexer": "ipython3",
   "version": "3.8.10"
  }
 },
 "nbformat": 4,
 "nbformat_minor": 5
}
