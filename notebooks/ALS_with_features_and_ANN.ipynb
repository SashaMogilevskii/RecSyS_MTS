{
 "cells": [
  {
   "cell_type": "code",
   "execution_count": 2,
   "metadata": {},
   "outputs": [],
   "source": [
    "import os"
   ]
  },
  {
   "cell_type": "code",
   "execution_count": 3,
   "metadata": {},
   "outputs": [],
   "source": [
    "os.environ[\"OPENBLAS_NUM_THREADS\"] = \"1\"  # For implicit ALS"
   ]
  },
  {
   "cell_type": "code",
   "execution_count": 4,
   "metadata": {},
   "outputs": [],
   "source": [
    "import warnings\n",
    "warnings.filterwarnings('ignore')"
   ]
  },
  {
   "cell_type": "code",
   "execution_count": 5,
   "metadata": {},
   "outputs": [],
   "source": [
    "import pandas as pd\n",
    "import numpy as np\n",
    "\n",
    "from implicit.als import AlternatingLeastSquares\n",
    "\n",
    "from rectools.metrics import Precision, Recall, MAP, calc_metrics\n",
    "from rectools.models import PopularModel, RandomModel, ImplicitALSWrapperModel\n",
    "from rectools import Columns\n",
    "from rectools.dataset import Dataset\n",
    "from rectools.models import ImplicitALSWrapperModel, LightFMWrapperModel\n",
    "\n",
    "# import matplotlib.pyplot as plt\n",
    "# import seaborn as sns\n",
    "\n",
    "# import matplotlib.pyplot as plt\n",
    "from pathlib import Path\n",
    "import typing as tp\n",
    "from tqdm import tqdm\n",
    "\n",
    "from lightfm import LightFM\n",
    "\n",
    "from implicit.bpr import BayesianPersonalizedRanking\n",
    "\n",
    "from implicit.lmf import LogisticMatrixFactorization"
   ]
  },
  {
   "cell_type": "code",
   "execution_count": 6,
   "metadata": {},
   "outputs": [],
   "source": [
    "DATA_PATH = Path(\"../data/raw/kion_train/\")"
   ]
  },
  {
   "cell_type": "markdown",
   "metadata": {},
   "source": [
    "# LOAD DATA "
   ]
  },
  {
   "cell_type": "code",
   "execution_count": 7,
   "metadata": {},
   "outputs": [
    {
     "name": "stdout",
     "output_type": "stream",
     "text": [
      "CPU times: user 2.23 s, sys: 896 ms, total: 3.13 s\n",
      "Wall time: 5.99 s\n"
     ]
    }
   ],
   "source": [
    "%%time\n",
    "users = pd.read_csv(DATA_PATH / 'users.csv')\n",
    "items = pd.read_csv(DATA_PATH / 'items.csv')\n",
    "interactions = pd.read_csv(DATA_PATH / 'interactions.csv')"
   ]
  },
  {
   "cell_type": "markdown",
   "metadata": {},
   "source": [
    "# Preprocess"
   ]
  },
  {
   "cell_type": "code",
   "execution_count": 21,
   "metadata": {},
   "outputs": [],
   "source": [
    "interactions.drop(interactions[interactions[Columns.Datetime].str.len() != 10].index, inplace=True)"
   ]
  },
  {
   "cell_type": "markdown",
   "metadata": {},
   "source": [
    "### Add new users"
   ]
  },
  {
   "cell_type": "code",
   "execution_count": 8,
   "metadata": {},
   "outputs": [],
   "source": [
    "Columns.Datetime = 'last_watch_dt'"
   ]
  },
  {
   "cell_type": "markdown",
   "metadata": {},
   "source": [
    "Добавим трех пользователей, для проверки рекомендаций"
   ]
  },
  {
   "cell_type": "code",
   "execution_count": 9,
   "metadata": {},
   "outputs": [],
   "source": [
    "np.random.seed(42)"
   ]
  },
  {
   "cell_type": "code",
   "execution_count": 10,
   "metadata": {},
   "outputs": [
    {
     "data": {
      "text/html": [
       "<div>\n",
       "<style scoped>\n",
       "    .dataframe tbody tr th:only-of-type {\n",
       "        vertical-align: middle;\n",
       "    }\n",
       "\n",
       "    .dataframe tbody tr th {\n",
       "        vertical-align: top;\n",
       "    }\n",
       "\n",
       "    .dataframe thead th {\n",
       "        text-align: right;\n",
       "    }\n",
       "</style>\n",
       "<table border=\"1\" class=\"dataframe\">\n",
       "  <thead>\n",
       "    <tr style=\"text-align: right;\">\n",
       "      <th></th>\n",
       "      <th>user_id</th>\n",
       "      <th>item_id</th>\n",
       "      <th>last_watch_dt</th>\n",
       "      <th>total_dur</th>\n",
       "      <th>watched_pct</th>\n",
       "    </tr>\n",
       "  </thead>\n",
       "  <tbody>\n",
       "  </tbody>\n",
       "</table>\n",
       "</div>"
      ],
      "text/plain": [
       "Empty DataFrame\n",
       "Columns: [user_id, item_id, last_watch_dt, total_dur, watched_pct]\n",
       "Index: []"
      ]
     },
     "execution_count": 10,
     "metadata": {},
     "output_type": "execute_result"
    }
   ],
   "source": [
    "interactions[interactions[Columns.User] == 400000]"
   ]
  },
  {
   "cell_type": "code",
   "execution_count": 11,
   "metadata": {},
   "outputs": [],
   "source": [
    "def random_dates(start, end, n=10):\n",
    "\n",
    "    ndays = (end - start).days + 1\n",
    "\n",
    "    return pd.to_timedelta(np.random.randint(0, ndays, n), unit='D') + start"
   ]
  },
  {
   "cell_type": "markdown",
   "metadata": {},
   "source": [
    "1й пользователь, который смотрит только новые фильмы, с 2015 года"
   ]
  },
  {
   "cell_type": "code",
   "execution_count": 12,
   "metadata": {},
   "outputs": [],
   "source": [
    "item_year = items.query(\"release_year > 2015\")[Columns.Item].unique()\n",
    "new_users_last_year = pd.DataFrame()\n",
    "new_users_last_year['item_id'] = item_year[np.random.randint(len(item_year), size=10)]\n",
    "new_users_last_year[Columns.User] = 100000\n",
    "new_users_last_year[Columns.Datetime] = random_dates(pd.to_datetime(interactions[Columns.Datetime].min()), \n",
    "                                           pd.to_datetime((interactions[Columns.Datetime].max())))\n",
    "new_users_last_year['total_dur'] = np.random.randint(interactions['total_dur'].quantile(0.1), interactions['total_dur'].quantile(0.9), size=10)\n",
    "new_users_last_year['watched_pct'] = np.random.randint(100, size=10)"
   ]
  },
  {
   "cell_type": "markdown",
   "metadata": {},
   "source": [
    "2й пользователь, который смотрит только фэнтези."
   ]
  },
  {
   "cell_type": "code",
   "execution_count": 13,
   "metadata": {},
   "outputs": [],
   "source": [
    "item_fi = items[Columns.Item][items['genres'].apply(lambda x: 'фэнтези' in x)].unique()\n",
    "new_users_fi = pd.DataFrame()\n",
    "new_users_fi['item_id'] = item_fi[np.random.randint(len(item_fi), size=10)]\n",
    "new_users_fi[Columns.User] = 200000\n",
    "new_users_fi[Columns.Datetime] = random_dates(pd.to_datetime(interactions[Columns.Datetime].min()), \n",
    "                                           pd.to_datetime((interactions[Columns.Datetime].max())))\n",
    "new_users_fi['total_dur'] = np.random.randint(interactions['total_dur'].quantile(0.1), interactions['total_dur'].quantile(0.9), size=10)\n",
    "new_users_fi['watched_pct'] = np.random.randint(100, size=10)"
   ]
  },
  {
   "cell_type": "markdown",
   "metadata": {},
   "source": [
    "И 3й пользователь, который фанат фильмов США."
   ]
  },
  {
   "cell_type": "code",
   "execution_count": 14,
   "metadata": {},
   "outputs": [],
   "source": [
    "item_country = items.query(\"countries == 'США'\")[Columns.Item].unique()\n",
    "new_users_country = pd.DataFrame()\n",
    "new_users_country['item_id'] = item_country[np.random.randint(len(item_country), size=10)]\n",
    "new_users_country[Columns.User] = 400000\n",
    "new_users_country[Columns.Datetime] = random_dates(pd.to_datetime(interactions[Columns.Datetime].min()), \n",
    "                                           pd.to_datetime((interactions[Columns.Datetime].max())))\n",
    "new_users_country['total_dur'] = np.random.randint(interactions['total_dur'].quantile(0.1), interactions['total_dur'].quantile(0.9), size=10)\n",
    "new_users_country['watched_pct'] = np.random.randint(100, size=10)"
   ]
  },
  {
   "cell_type": "code",
   "execution_count": 22,
   "metadata": {},
   "outputs": [],
   "source": [
    "interactions = pd.concat([interactions, new_users_last_year, new_users_fi, new_users_country])"
   ]
  },
  {
   "cell_type": "code",
   "execution_count": 25,
   "metadata": {},
   "outputs": [],
   "source": [
    "interactions[Columns.Datetime] = pd.to_datetime(interactions[Columns.Datetime], format='%Y-%m-%d')"
   ]
  },
  {
   "cell_type": "code",
   "execution_count": 27,
   "metadata": {},
   "outputs": [],
   "source": [
    "max_date = interactions[Columns.Datetime].max()"
   ]
  },
  {
   "cell_type": "code",
   "execution_count": 28,
   "metadata": {},
   "outputs": [],
   "source": [
    "interactions[Columns.Weight] = np.where(interactions['watched_pct'] > 10, 3, 1)"
   ]
  },
  {
   "cell_type": "code",
   "execution_count": 29,
   "metadata": {},
   "outputs": [
    {
     "name": "stdout",
     "output_type": "stream",
     "text": [
      "train: (4985298, 6)\n",
      "test: (490983, 6)\n"
     ]
    }
   ],
   "source": [
    "train = interactions[interactions[Columns.Datetime] < max_date - pd.Timedelta(days=7)].copy()\n",
    "test = interactions[interactions[Columns.Datetime] >= max_date - pd.Timedelta(days=7)].copy()\n",
    "\n",
    "print(f\"train: {train.shape}\")\n",
    "print(f\"test: {test.shape}\")"
   ]
  },
  {
   "cell_type": "code",
   "execution_count": 30,
   "metadata": {},
   "outputs": [],
   "source": [
    "train.drop(train.query(\"total_dur < 300\").index, inplace=True)"
   ]
  },
  {
   "cell_type": "code",
   "execution_count": 31,
   "metadata": {},
   "outputs": [],
   "source": [
    "# отфильтруем холодных пользователей из теста\n",
    "cold_users = set(test[Columns.User]) - set(train[Columns.User])"
   ]
  },
  {
   "cell_type": "code",
   "execution_count": 32,
   "metadata": {},
   "outputs": [],
   "source": [
    "test.drop(test[test[Columns.User].isin(cold_users)].index, inplace=True)"
   ]
  },
  {
   "cell_type": "code",
   "execution_count": 37,
   "metadata": {},
   "outputs": [
    {
     "data": {
      "text/html": [
       "<div>\n",
       "<style scoped>\n",
       "    .dataframe tbody tr th:only-of-type {\n",
       "        vertical-align: middle;\n",
       "    }\n",
       "\n",
       "    .dataframe tbody tr th {\n",
       "        vertical-align: top;\n",
       "    }\n",
       "\n",
       "    .dataframe thead th {\n",
       "        text-align: right;\n",
       "    }\n",
       "</style>\n",
       "<table border=\"1\" class=\"dataframe\">\n",
       "  <thead>\n",
       "    <tr style=\"text-align: right;\">\n",
       "      <th></th>\n",
       "      <th>user_id</th>\n",
       "      <th>item_id</th>\n",
       "      <th>last_watch_dt</th>\n",
       "      <th>total_dur</th>\n",
       "      <th>watched_pct</th>\n",
       "      <th>weight</th>\n",
       "    </tr>\n",
       "  </thead>\n",
       "  <tbody>\n",
       "    <tr>\n",
       "      <th>0</th>\n",
       "      <td>400000</td>\n",
       "      <td>7330</td>\n",
       "      <td>2021-04-25</td>\n",
       "      <td>4929</td>\n",
       "      <td>44.0</td>\n",
       "      <td>3</td>\n",
       "    </tr>\n",
       "    <tr>\n",
       "      <th>3</th>\n",
       "      <td>400000</td>\n",
       "      <td>11209</td>\n",
       "      <td>2021-06-15</td>\n",
       "      <td>4901</td>\n",
       "      <td>70.0</td>\n",
       "      <td>3</td>\n",
       "    </tr>\n",
       "    <tr>\n",
       "      <th>4</th>\n",
       "      <td>400000</td>\n",
       "      <td>363</td>\n",
       "      <td>2021-04-29</td>\n",
       "      <td>6373</td>\n",
       "      <td>8.0</td>\n",
       "      <td>1</td>\n",
       "    </tr>\n",
       "    <tr>\n",
       "      <th>5</th>\n",
       "      <td>400000</td>\n",
       "      <td>8780</td>\n",
       "      <td>2021-03-27</td>\n",
       "      <td>8613</td>\n",
       "      <td>87.0</td>\n",
       "      <td>3</td>\n",
       "    </tr>\n",
       "    <tr>\n",
       "      <th>6</th>\n",
       "      <td>400000</td>\n",
       "      <td>4423</td>\n",
       "      <td>2021-04-21</td>\n",
       "      <td>8726</td>\n",
       "      <td>0.0</td>\n",
       "      <td>1</td>\n",
       "    </tr>\n",
       "    <tr>\n",
       "      <th>7</th>\n",
       "      <td>400000</td>\n",
       "      <td>3155</td>\n",
       "      <td>2021-06-02</td>\n",
       "      <td>7250</td>\n",
       "      <td>7.0</td>\n",
       "      <td>1</td>\n",
       "    </tr>\n",
       "    <tr>\n",
       "      <th>8</th>\n",
       "      <td>400000</td>\n",
       "      <td>8504</td>\n",
       "      <td>2021-07-01</td>\n",
       "      <td>5318</td>\n",
       "      <td>87.0</td>\n",
       "      <td>3</td>\n",
       "    </tr>\n",
       "    <tr>\n",
       "      <th>9</th>\n",
       "      <td>400000</td>\n",
       "      <td>1761</td>\n",
       "      <td>2021-05-04</td>\n",
       "      <td>2104</td>\n",
       "      <td>62.0</td>\n",
       "      <td>3</td>\n",
       "    </tr>\n",
       "  </tbody>\n",
       "</table>\n",
       "</div>"
      ],
      "text/plain": [
       "   user_id  item_id last_watch_dt  total_dur  watched_pct  weight\n",
       "0   400000     7330    2021-04-25       4929         44.0       3\n",
       "3   400000    11209    2021-06-15       4901         70.0       3\n",
       "4   400000      363    2021-04-29       6373          8.0       1\n",
       "5   400000     8780    2021-03-27       8613         87.0       3\n",
       "6   400000     4423    2021-04-21       8726          0.0       1\n",
       "7   400000     3155    2021-06-02       7250          7.0       1\n",
       "8   400000     8504    2021-07-01       5318         87.0       3\n",
       "9   400000     1761    2021-05-04       2104         62.0       3"
      ]
     },
     "execution_count": 37,
     "metadata": {},
     "output_type": "execute_result"
    }
   ],
   "source": [
    "train.query(\"user_id == 400000\")"
   ]
  },
  {
   "cell_type": "markdown",
   "metadata": {},
   "source": [
    "# Prepare features"
   ]
  },
  {
   "cell_type": "markdown",
   "metadata": {},
   "source": [
    "## User features"
   ]
  },
  {
   "cell_type": "code",
   "execution_count": 16,
   "metadata": {},
   "outputs": [
    {
     "data": {
      "text/plain": [
       "user_id         0\n",
       "age         14095\n",
       "income      14776\n",
       "sex         13831\n",
       "kids_flg        0\n",
       "dtype: int64"
      ]
     },
     "execution_count": 16,
     "metadata": {},
     "output_type": "execute_result"
    }
   ],
   "source": [
    "users.isnull().sum()"
   ]
  },
  {
   "cell_type": "code",
   "execution_count": 17,
   "metadata": {},
   "outputs": [],
   "source": [
    "users.fillna('Unknown', inplace=True)"
   ]
  },
  {
   "cell_type": "code",
   "execution_count": 18,
   "metadata": {},
   "outputs": [
    {
     "data": {
      "text/plain": [
       "user_id     840197\n",
       "age              7\n",
       "income           7\n",
       "sex              3\n",
       "kids_flg         2\n",
       "dtype: int64"
      ]
     },
     "execution_count": 18,
     "metadata": {},
     "output_type": "execute_result"
    }
   ],
   "source": [
    "users.nunique()"
   ]
  },
  {
   "cell_type": "code",
   "execution_count": 19,
   "metadata": {},
   "outputs": [],
   "source": [
    "users = users.loc[users[Columns.User].isin(train[Columns.User])].copy()"
   ]
  },
  {
   "cell_type": "code",
   "execution_count": 20,
   "metadata": {},
   "outputs": [
    {
     "data": {
      "text/html": [
       "<div>\n",
       "<style scoped>\n",
       "    .dataframe tbody tr th:only-of-type {\n",
       "        vertical-align: middle;\n",
       "    }\n",
       "\n",
       "    .dataframe tbody tr th {\n",
       "        vertical-align: top;\n",
       "    }\n",
       "\n",
       "    .dataframe thead th {\n",
       "        text-align: right;\n",
       "    }\n",
       "</style>\n",
       "<table border=\"1\" class=\"dataframe\">\n",
       "  <thead>\n",
       "    <tr style=\"text-align: right;\">\n",
       "      <th></th>\n",
       "      <th>user_id</th>\n",
       "      <th>age</th>\n",
       "      <th>income</th>\n",
       "      <th>sex</th>\n",
       "      <th>kids_flg</th>\n",
       "    </tr>\n",
       "  </thead>\n",
       "  <tbody>\n",
       "    <tr>\n",
       "      <th>0</th>\n",
       "      <td>973171</td>\n",
       "      <td>age_25_34</td>\n",
       "      <td>income_60_90</td>\n",
       "      <td>М</td>\n",
       "      <td>1</td>\n",
       "    </tr>\n",
       "    <tr>\n",
       "      <th>1</th>\n",
       "      <td>962099</td>\n",
       "      <td>age_18_24</td>\n",
       "      <td>income_20_40</td>\n",
       "      <td>М</td>\n",
       "      <td>0</td>\n",
       "    </tr>\n",
       "    <tr>\n",
       "      <th>3</th>\n",
       "      <td>721985</td>\n",
       "      <td>age_45_54</td>\n",
       "      <td>income_20_40</td>\n",
       "      <td>Ж</td>\n",
       "      <td>0</td>\n",
       "    </tr>\n",
       "    <tr>\n",
       "      <th>4</th>\n",
       "      <td>704055</td>\n",
       "      <td>age_35_44</td>\n",
       "      <td>income_60_90</td>\n",
       "      <td>Ж</td>\n",
       "      <td>0</td>\n",
       "    </tr>\n",
       "    <tr>\n",
       "      <th>5</th>\n",
       "      <td>1037719</td>\n",
       "      <td>age_45_54</td>\n",
       "      <td>income_60_90</td>\n",
       "      <td>М</td>\n",
       "      <td>0</td>\n",
       "    </tr>\n",
       "    <tr>\n",
       "      <th>...</th>\n",
       "      <td>...</td>\n",
       "      <td>...</td>\n",
       "      <td>...</td>\n",
       "      <td>...</td>\n",
       "      <td>...</td>\n",
       "    </tr>\n",
       "    <tr>\n",
       "      <th>840184</th>\n",
       "      <td>529394</td>\n",
       "      <td>age_25_34</td>\n",
       "      <td>income_40_60</td>\n",
       "      <td>Ж</td>\n",
       "      <td>0</td>\n",
       "    </tr>\n",
       "    <tr>\n",
       "      <th>840186</th>\n",
       "      <td>80113</td>\n",
       "      <td>age_25_34</td>\n",
       "      <td>income_40_60</td>\n",
       "      <td>Ж</td>\n",
       "      <td>0</td>\n",
       "    </tr>\n",
       "    <tr>\n",
       "      <th>840188</th>\n",
       "      <td>312839</td>\n",
       "      <td>age_65_inf</td>\n",
       "      <td>income_60_90</td>\n",
       "      <td>Ж</td>\n",
       "      <td>0</td>\n",
       "    </tr>\n",
       "    <tr>\n",
       "      <th>840189</th>\n",
       "      <td>191349</td>\n",
       "      <td>age_45_54</td>\n",
       "      <td>income_40_60</td>\n",
       "      <td>М</td>\n",
       "      <td>1</td>\n",
       "    </tr>\n",
       "    <tr>\n",
       "      <th>840190</th>\n",
       "      <td>393868</td>\n",
       "      <td>age_25_34</td>\n",
       "      <td>income_20_40</td>\n",
       "      <td>М</td>\n",
       "      <td>0</td>\n",
       "    </tr>\n",
       "  </tbody>\n",
       "</table>\n",
       "<p>586668 rows × 5 columns</p>\n",
       "</div>"
      ],
      "text/plain": [
       "        user_id         age        income sex  kids_flg\n",
       "0        973171   age_25_34  income_60_90   М         1\n",
       "1        962099   age_18_24  income_20_40   М         0\n",
       "3        721985   age_45_54  income_20_40   Ж         0\n",
       "4        704055   age_35_44  income_60_90   Ж         0\n",
       "5       1037719   age_45_54  income_60_90   М         0\n",
       "...         ...         ...           ...  ..       ...\n",
       "840184   529394   age_25_34  income_40_60   Ж         0\n",
       "840186    80113   age_25_34  income_40_60   Ж         0\n",
       "840188   312839  age_65_inf  income_60_90   Ж         0\n",
       "840189   191349   age_45_54  income_40_60   М         1\n",
       "840190   393868   age_25_34  income_20_40   М         0\n",
       "\n",
       "[586668 rows x 5 columns]"
      ]
     },
     "execution_count": 20,
     "metadata": {},
     "output_type": "execute_result"
    }
   ],
   "source": [
    "users"
   ]
  },
  {
   "cell_type": "code",
   "execution_count": 21,
   "metadata": {},
   "outputs": [
    {
     "data": {
      "text/html": [
       "<div>\n",
       "<style scoped>\n",
       "    .dataframe tbody tr th:only-of-type {\n",
       "        vertical-align: middle;\n",
       "    }\n",
       "\n",
       "    .dataframe tbody tr th {\n",
       "        vertical-align: top;\n",
       "    }\n",
       "\n",
       "    .dataframe thead th {\n",
       "        text-align: right;\n",
       "    }\n",
       "</style>\n",
       "<table border=\"1\" class=\"dataframe\">\n",
       "  <thead>\n",
       "    <tr style=\"text-align: right;\">\n",
       "      <th></th>\n",
       "      <th>id</th>\n",
       "      <th>value</th>\n",
       "      <th>feature</th>\n",
       "    </tr>\n",
       "  </thead>\n",
       "  <tbody>\n",
       "    <tr>\n",
       "      <th>0</th>\n",
       "      <td>973171</td>\n",
       "      <td>М</td>\n",
       "      <td>sex</td>\n",
       "    </tr>\n",
       "    <tr>\n",
       "      <th>1</th>\n",
       "      <td>962099</td>\n",
       "      <td>М</td>\n",
       "      <td>sex</td>\n",
       "    </tr>\n",
       "    <tr>\n",
       "      <th>3</th>\n",
       "      <td>721985</td>\n",
       "      <td>Ж</td>\n",
       "      <td>sex</td>\n",
       "    </tr>\n",
       "    <tr>\n",
       "      <th>4</th>\n",
       "      <td>704055</td>\n",
       "      <td>Ж</td>\n",
       "      <td>sex</td>\n",
       "    </tr>\n",
       "    <tr>\n",
       "      <th>5</th>\n",
       "      <td>1037719</td>\n",
       "      <td>М</td>\n",
       "      <td>sex</td>\n",
       "    </tr>\n",
       "  </tbody>\n",
       "</table>\n",
       "</div>"
      ],
      "text/plain": [
       "        id value feature\n",
       "0   973171     М     sex\n",
       "1   962099     М     sex\n",
       "3   721985     Ж     sex\n",
       "4   704055     Ж     sex\n",
       "5  1037719     М     sex"
      ]
     },
     "execution_count": 21,
     "metadata": {},
     "output_type": "execute_result"
    }
   ],
   "source": [
    "user_features_frames = []\n",
    "for feature in [\"sex\", \"age\", \"income\"]:\n",
    "    feature_frame = users.reindex(columns=[Columns.User, feature])\n",
    "    feature_frame.columns = [\"id\", \"value\"]\n",
    "    feature_frame[\"feature\"] = feature\n",
    "    user_features_frames.append(feature_frame)\n",
    "user_features = pd.concat(user_features_frames)\n",
    "user_features.head()"
   ]
  },
  {
   "cell_type": "code",
   "execution_count": 22,
   "metadata": {},
   "outputs": [
    {
     "data": {
      "text/html": [
       "<div>\n",
       "<style scoped>\n",
       "    .dataframe tbody tr th:only-of-type {\n",
       "        vertical-align: middle;\n",
       "    }\n",
       "\n",
       "    .dataframe tbody tr th {\n",
       "        vertical-align: top;\n",
       "    }\n",
       "\n",
       "    .dataframe thead th {\n",
       "        text-align: right;\n",
       "    }\n",
       "</style>\n",
       "<table border=\"1\" class=\"dataframe\">\n",
       "  <thead>\n",
       "    <tr style=\"text-align: right;\">\n",
       "      <th></th>\n",
       "      <th>id</th>\n",
       "      <th>value</th>\n",
       "      <th>feature</th>\n",
       "    </tr>\n",
       "  </thead>\n",
       "  <tbody>\n",
       "    <tr>\n",
       "      <th>0</th>\n",
       "      <td>973171</td>\n",
       "      <td>М</td>\n",
       "      <td>sex</td>\n",
       "    </tr>\n",
       "    <tr>\n",
       "      <th>0</th>\n",
       "      <td>973171</td>\n",
       "      <td>age_25_34</td>\n",
       "      <td>age</td>\n",
       "    </tr>\n",
       "    <tr>\n",
       "      <th>0</th>\n",
       "      <td>973171</td>\n",
       "      <td>income_60_90</td>\n",
       "      <td>income</td>\n",
       "    </tr>\n",
       "  </tbody>\n",
       "</table>\n",
       "</div>"
      ],
      "text/plain": [
       "       id         value feature\n",
       "0  973171             М     sex\n",
       "0  973171     age_25_34     age\n",
       "0  973171  income_60_90  income"
      ]
     },
     "execution_count": 22,
     "metadata": {},
     "output_type": "execute_result"
    }
   ],
   "source": [
    "user_features.query(f\"id == 973171\")"
   ]
  },
  {
   "cell_type": "markdown",
   "metadata": {},
   "source": [
    "# Item features"
   ]
  },
  {
   "cell_type": "code",
   "execution_count": 23,
   "metadata": {},
   "outputs": [
    {
     "data": {
      "text/plain": [
       "item_id             0\n",
       "content_type        0\n",
       "title               0\n",
       "title_orig       4745\n",
       "release_year       98\n",
       "genres              0\n",
       "countries          37\n",
       "for_kids        15397\n",
       "age_rating          2\n",
       "studios         14898\n",
       "directors        1509\n",
       "actors           2619\n",
       "description         2\n",
       "keywords          423\n",
       "dtype: int64"
      ]
     },
     "execution_count": 23,
     "metadata": {},
     "output_type": "execute_result"
    }
   ],
   "source": [
    "items.isnull().sum()"
   ]
  },
  {
   "cell_type": "code",
   "execution_count": 24,
   "metadata": {},
   "outputs": [],
   "source": [
    "items = items.loc[items[Columns.Item].isin(train[Columns.Item])].copy()"
   ]
  },
  {
   "cell_type": "code",
   "execution_count": 25,
   "metadata": {},
   "outputs": [
    {
     "data": {
      "text/html": [
       "<div>\n",
       "<style scoped>\n",
       "    .dataframe tbody tr th:only-of-type {\n",
       "        vertical-align: middle;\n",
       "    }\n",
       "\n",
       "    .dataframe tbody tr th {\n",
       "        vertical-align: top;\n",
       "    }\n",
       "\n",
       "    .dataframe thead th {\n",
       "        text-align: right;\n",
       "    }\n",
       "</style>\n",
       "<table border=\"1\" class=\"dataframe\">\n",
       "  <thead>\n",
       "    <tr style=\"text-align: right;\">\n",
       "      <th></th>\n",
       "      <th>item_id</th>\n",
       "      <th>content_type</th>\n",
       "      <th>title</th>\n",
       "      <th>title_orig</th>\n",
       "      <th>release_year</th>\n",
       "      <th>genres</th>\n",
       "      <th>countries</th>\n",
       "      <th>for_kids</th>\n",
       "      <th>age_rating</th>\n",
       "      <th>studios</th>\n",
       "      <th>directors</th>\n",
       "      <th>actors</th>\n",
       "      <th>description</th>\n",
       "      <th>keywords</th>\n",
       "    </tr>\n",
       "  </thead>\n",
       "  <tbody>\n",
       "    <tr>\n",
       "      <th>0</th>\n",
       "      <td>10711</td>\n",
       "      <td>film</td>\n",
       "      <td>Поговори с ней</td>\n",
       "      <td>Hable con ella</td>\n",
       "      <td>2002.0</td>\n",
       "      <td>драмы, зарубежные, детективы, мелодрамы</td>\n",
       "      <td>Испания</td>\n",
       "      <td>NaN</td>\n",
       "      <td>16.0</td>\n",
       "      <td>NaN</td>\n",
       "      <td>Педро Альмодовар</td>\n",
       "      <td>Адольфо Фернандес, Ана Фернандес, Дарио Гранди...</td>\n",
       "      <td>Мелодрама легендарного Педро Альмодовара «Пого...</td>\n",
       "      <td>Поговори, ней, 2002, Испания, друзья, любовь, ...</td>\n",
       "    </tr>\n",
       "    <tr>\n",
       "      <th>1</th>\n",
       "      <td>2508</td>\n",
       "      <td>film</td>\n",
       "      <td>Голые перцы</td>\n",
       "      <td>Search Party</td>\n",
       "      <td>2014.0</td>\n",
       "      <td>зарубежные, приключения, комедии</td>\n",
       "      <td>США</td>\n",
       "      <td>NaN</td>\n",
       "      <td>16.0</td>\n",
       "      <td>NaN</td>\n",
       "      <td>Скот Армстронг</td>\n",
       "      <td>Адам Палли, Брайан Хаски, Дж.Б. Смув, Джейсон ...</td>\n",
       "      <td>Уморительная современная комедия на популярную...</td>\n",
       "      <td>Голые, перцы, 2014, США, друзья, свадьбы, прео...</td>\n",
       "    </tr>\n",
       "    <tr>\n",
       "      <th>2</th>\n",
       "      <td>10716</td>\n",
       "      <td>film</td>\n",
       "      <td>Тактическая сила</td>\n",
       "      <td>Tactical Force</td>\n",
       "      <td>2011.0</td>\n",
       "      <td>криминал, зарубежные, триллеры, боевики, комедии</td>\n",
       "      <td>Канада</td>\n",
       "      <td>NaN</td>\n",
       "      <td>16.0</td>\n",
       "      <td>NaN</td>\n",
       "      <td>Адам П. Калтраро</td>\n",
       "      <td>Адриан Холмс, Даррен Шалави, Джерри Вассерман,...</td>\n",
       "      <td>Профессиональный рестлер Стив Остин («Все или ...</td>\n",
       "      <td>Тактическая, сила, 2011, Канада, бандиты, ганг...</td>\n",
       "    </tr>\n",
       "    <tr>\n",
       "      <th>3</th>\n",
       "      <td>7868</td>\n",
       "      <td>film</td>\n",
       "      <td>45 лет</td>\n",
       "      <td>45 Years</td>\n",
       "      <td>2015.0</td>\n",
       "      <td>драмы, зарубежные, мелодрамы</td>\n",
       "      <td>Великобритания</td>\n",
       "      <td>NaN</td>\n",
       "      <td>16.0</td>\n",
       "      <td>NaN</td>\n",
       "      <td>Эндрю Хэй</td>\n",
       "      <td>Александра Риддлстон-Барретт, Джеральдин Джейм...</td>\n",
       "      <td>Шарлотта Рэмплинг, Том Кортни, Джеральдин Джей...</td>\n",
       "      <td>45, лет, 2015, Великобритания, брак, жизнь, лю...</td>\n",
       "    </tr>\n",
       "    <tr>\n",
       "      <th>4</th>\n",
       "      <td>16268</td>\n",
       "      <td>film</td>\n",
       "      <td>Все решает мгновение</td>\n",
       "      <td>NaN</td>\n",
       "      <td>1978.0</td>\n",
       "      <td>драмы, спорт, советские, мелодрамы</td>\n",
       "      <td>СССР</td>\n",
       "      <td>NaN</td>\n",
       "      <td>12.0</td>\n",
       "      <td>Ленфильм</td>\n",
       "      <td>Виктор Садовский</td>\n",
       "      <td>Александр Абдулов, Александр Демьяненко, Алекс...</td>\n",
       "      <td>Расчетливая чаровница из советского кинохита «...</td>\n",
       "      <td>Все, решает, мгновение, 1978, СССР, сильные, ж...</td>\n",
       "    </tr>\n",
       "  </tbody>\n",
       "</table>\n",
       "</div>"
      ],
      "text/plain": [
       "   item_id content_type                 title      title_orig  release_year  \\\n",
       "0    10711         film        Поговори с ней  Hable con ella        2002.0   \n",
       "1     2508         film           Голые перцы    Search Party        2014.0   \n",
       "2    10716         film      Тактическая сила  Tactical Force        2011.0   \n",
       "3     7868         film                45 лет        45 Years        2015.0   \n",
       "4    16268         film  Все решает мгновение             NaN        1978.0   \n",
       "\n",
       "                                             genres       countries  for_kids  \\\n",
       "0           драмы, зарубежные, детективы, мелодрамы         Испания       NaN   \n",
       "1                  зарубежные, приключения, комедии             США       NaN   \n",
       "2  криминал, зарубежные, триллеры, боевики, комедии          Канада       NaN   \n",
       "3                      драмы, зарубежные, мелодрамы  Великобритания       NaN   \n",
       "4                драмы, спорт, советские, мелодрамы            СССР       NaN   \n",
       "\n",
       "   age_rating   studios         directors  \\\n",
       "0        16.0       NaN  Педро Альмодовар   \n",
       "1        16.0       NaN    Скот Армстронг   \n",
       "2        16.0       NaN  Адам П. Калтраро   \n",
       "3        16.0       NaN         Эндрю Хэй   \n",
       "4        12.0  Ленфильм  Виктор Садовский   \n",
       "\n",
       "                                              actors  \\\n",
       "0  Адольфо Фернандес, Ана Фернандес, Дарио Гранди...   \n",
       "1  Адам Палли, Брайан Хаски, Дж.Б. Смув, Джейсон ...   \n",
       "2  Адриан Холмс, Даррен Шалави, Джерри Вассерман,...   \n",
       "3  Александра Риддлстон-Барретт, Джеральдин Джейм...   \n",
       "4  Александр Абдулов, Александр Демьяненко, Алекс...   \n",
       "\n",
       "                                         description  \\\n",
       "0  Мелодрама легендарного Педро Альмодовара «Пого...   \n",
       "1  Уморительная современная комедия на популярную...   \n",
       "2  Профессиональный рестлер Стив Остин («Все или ...   \n",
       "3  Шарлотта Рэмплинг, Том Кортни, Джеральдин Джей...   \n",
       "4  Расчетливая чаровница из советского кинохита «...   \n",
       "\n",
       "                                            keywords  \n",
       "0  Поговори, ней, 2002, Испания, друзья, любовь, ...  \n",
       "1  Голые, перцы, 2014, США, друзья, свадьбы, прео...  \n",
       "2  Тактическая, сила, 2011, Канада, бандиты, ганг...  \n",
       "3  45, лет, 2015, Великобритания, брак, жизнь, лю...  \n",
       "4  Все, решает, мгновение, 1978, СССР, сильные, ж...  "
      ]
     },
     "execution_count": 25,
     "metadata": {},
     "output_type": "execute_result"
    }
   ],
   "source": [
    "items.head()"
   ]
  },
  {
   "cell_type": "code",
   "execution_count": 26,
   "metadata": {},
   "outputs": [
    {
     "data": {
      "text/plain": [
       "item_id         14019\n",
       "content_type        2\n",
       "title           13454\n",
       "title_orig       9724\n",
       "release_year      104\n",
       "genres           2559\n",
       "countries         666\n",
       "for_kids            2\n",
       "age_rating          6\n",
       "studios            38\n",
       "directors        7414\n",
       "actors          11830\n",
       "description     13791\n",
       "keywords        13583\n",
       "dtype: int64"
      ]
     },
     "execution_count": 26,
     "metadata": {},
     "output_type": "execute_result"
    }
   ],
   "source": [
    "items.nunique()"
   ]
  },
  {
   "cell_type": "markdown",
   "metadata": {},
   "source": [
    "### Genre"
   ]
  },
  {
   "cell_type": "code",
   "execution_count": 27,
   "metadata": {},
   "outputs": [
    {
     "data": {
      "text/html": [
       "<div>\n",
       "<style scoped>\n",
       "    .dataframe tbody tr th:only-of-type {\n",
       "        vertical-align: middle;\n",
       "    }\n",
       "\n",
       "    .dataframe tbody tr th {\n",
       "        vertical-align: top;\n",
       "    }\n",
       "\n",
       "    .dataframe thead th {\n",
       "        text-align: right;\n",
       "    }\n",
       "</style>\n",
       "<table border=\"1\" class=\"dataframe\">\n",
       "  <thead>\n",
       "    <tr style=\"text-align: right;\">\n",
       "      <th></th>\n",
       "      <th>id</th>\n",
       "      <th>value</th>\n",
       "      <th>feature</th>\n",
       "    </tr>\n",
       "  </thead>\n",
       "  <tbody>\n",
       "    <tr>\n",
       "      <th>0</th>\n",
       "      <td>10711</td>\n",
       "      <td>драмы</td>\n",
       "      <td>genre</td>\n",
       "    </tr>\n",
       "    <tr>\n",
       "      <th>0</th>\n",
       "      <td>10711</td>\n",
       "      <td>зарубежные</td>\n",
       "      <td>genre</td>\n",
       "    </tr>\n",
       "    <tr>\n",
       "      <th>0</th>\n",
       "      <td>10711</td>\n",
       "      <td>детективы</td>\n",
       "      <td>genre</td>\n",
       "    </tr>\n",
       "    <tr>\n",
       "      <th>0</th>\n",
       "      <td>10711</td>\n",
       "      <td>мелодрамы</td>\n",
       "      <td>genre</td>\n",
       "    </tr>\n",
       "    <tr>\n",
       "      <th>1</th>\n",
       "      <td>2508</td>\n",
       "      <td>зарубежные</td>\n",
       "      <td>genre</td>\n",
       "    </tr>\n",
       "  </tbody>\n",
       "</table>\n",
       "</div>"
      ],
      "text/plain": [
       "      id       value feature\n",
       "0  10711       драмы   genre\n",
       "0  10711  зарубежные   genre\n",
       "0  10711   детективы   genre\n",
       "0  10711   мелодрамы   genre\n",
       "1   2508  зарубежные   genre"
      ]
     },
     "execution_count": 27,
     "metadata": {},
     "output_type": "execute_result"
    }
   ],
   "source": [
    "# Explode genres to flatten table\n",
    "items[\"genre\"] = items[\"genres\"].str.lower().str.replace(\", \", \",\", regex=False).str.split(\",\")\n",
    "genre_feature = items[[\"item_id\", \"genre\"]].explode(\"genre\")\n",
    "genre_feature.columns = [\"id\", \"value\"]\n",
    "genre_feature[\"feature\"] = \"genre\"\n",
    "genre_feature.head()"
   ]
  },
  {
   "cell_type": "markdown",
   "metadata": {},
   "source": [
    "### Content"
   ]
  },
  {
   "cell_type": "code",
   "execution_count": 28,
   "metadata": {},
   "outputs": [],
   "source": [
    "content_feature = items.reindex(columns=[Columns.Item, \"content_type\"])\n",
    "content_feature.columns = [\"id\", \"value\"]\n",
    "content_feature[\"feature\"] = \"content_type\""
   ]
  },
  {
   "cell_type": "code",
   "execution_count": 29,
   "metadata": {},
   "outputs": [
    {
     "data": {
      "text/html": [
       "<div>\n",
       "<style scoped>\n",
       "    .dataframe tbody tr th:only-of-type {\n",
       "        vertical-align: middle;\n",
       "    }\n",
       "\n",
       "    .dataframe tbody tr th {\n",
       "        vertical-align: top;\n",
       "    }\n",
       "\n",
       "    .dataframe thead th {\n",
       "        text-align: right;\n",
       "    }\n",
       "</style>\n",
       "<table border=\"1\" class=\"dataframe\">\n",
       "  <thead>\n",
       "    <tr style=\"text-align: right;\">\n",
       "      <th></th>\n",
       "      <th>id</th>\n",
       "      <th>value</th>\n",
       "      <th>feature</th>\n",
       "    </tr>\n",
       "  </thead>\n",
       "  <tbody>\n",
       "    <tr>\n",
       "      <th>0</th>\n",
       "      <td>10711</td>\n",
       "      <td>film</td>\n",
       "      <td>content_type</td>\n",
       "    </tr>\n",
       "    <tr>\n",
       "      <th>1</th>\n",
       "      <td>2508</td>\n",
       "      <td>film</td>\n",
       "      <td>content_type</td>\n",
       "    </tr>\n",
       "    <tr>\n",
       "      <th>2</th>\n",
       "      <td>10716</td>\n",
       "      <td>film</td>\n",
       "      <td>content_type</td>\n",
       "    </tr>\n",
       "    <tr>\n",
       "      <th>3</th>\n",
       "      <td>7868</td>\n",
       "      <td>film</td>\n",
       "      <td>content_type</td>\n",
       "    </tr>\n",
       "    <tr>\n",
       "      <th>4</th>\n",
       "      <td>16268</td>\n",
       "      <td>film</td>\n",
       "      <td>content_type</td>\n",
       "    </tr>\n",
       "    <tr>\n",
       "      <th>...</th>\n",
       "      <td>...</td>\n",
       "      <td>...</td>\n",
       "      <td>...</td>\n",
       "    </tr>\n",
       "    <tr>\n",
       "      <th>15958</th>\n",
       "      <td>6443</td>\n",
       "      <td>series</td>\n",
       "      <td>content_type</td>\n",
       "    </tr>\n",
       "    <tr>\n",
       "      <th>15959</th>\n",
       "      <td>2367</td>\n",
       "      <td>series</td>\n",
       "      <td>content_type</td>\n",
       "    </tr>\n",
       "    <tr>\n",
       "      <th>15960</th>\n",
       "      <td>10632</td>\n",
       "      <td>series</td>\n",
       "      <td>content_type</td>\n",
       "    </tr>\n",
       "    <tr>\n",
       "      <th>15961</th>\n",
       "      <td>4538</td>\n",
       "      <td>series</td>\n",
       "      <td>content_type</td>\n",
       "    </tr>\n",
       "    <tr>\n",
       "      <th>15962</th>\n",
       "      <td>3206</td>\n",
       "      <td>series</td>\n",
       "      <td>content_type</td>\n",
       "    </tr>\n",
       "  </tbody>\n",
       "</table>\n",
       "<p>14019 rows × 3 columns</p>\n",
       "</div>"
      ],
      "text/plain": [
       "          id   value       feature\n",
       "0      10711    film  content_type\n",
       "1       2508    film  content_type\n",
       "2      10716    film  content_type\n",
       "3       7868    film  content_type\n",
       "4      16268    film  content_type\n",
       "...      ...     ...           ...\n",
       "15958   6443  series  content_type\n",
       "15959   2367  series  content_type\n",
       "15960  10632  series  content_type\n",
       "15961   4538  series  content_type\n",
       "15962   3206  series  content_type\n",
       "\n",
       "[14019 rows x 3 columns]"
      ]
     },
     "execution_count": 29,
     "metadata": {},
     "output_type": "execute_result"
    }
   ],
   "source": [
    "content_feature"
   ]
  },
  {
   "cell_type": "code",
   "execution_count": 30,
   "metadata": {},
   "outputs": [],
   "source": [
    "item_features = pd.concat((genre_feature, content_feature))"
   ]
  },
  {
   "cell_type": "code",
   "execution_count": 31,
   "metadata": {},
   "outputs": [
    {
     "data": {
      "text/html": [
       "<div>\n",
       "<style scoped>\n",
       "    .dataframe tbody tr th:only-of-type {\n",
       "        vertical-align: middle;\n",
       "    }\n",
       "\n",
       "    .dataframe tbody tr th {\n",
       "        vertical-align: top;\n",
       "    }\n",
       "\n",
       "    .dataframe thead th {\n",
       "        text-align: right;\n",
       "    }\n",
       "</style>\n",
       "<table border=\"1\" class=\"dataframe\">\n",
       "  <thead>\n",
       "    <tr style=\"text-align: right;\">\n",
       "      <th></th>\n",
       "      <th>id</th>\n",
       "      <th>value</th>\n",
       "      <th>feature</th>\n",
       "    </tr>\n",
       "  </thead>\n",
       "  <tbody>\n",
       "    <tr>\n",
       "      <th>0</th>\n",
       "      <td>10711</td>\n",
       "      <td>драмы</td>\n",
       "      <td>genre</td>\n",
       "    </tr>\n",
       "    <tr>\n",
       "      <th>0</th>\n",
       "      <td>10711</td>\n",
       "      <td>зарубежные</td>\n",
       "      <td>genre</td>\n",
       "    </tr>\n",
       "    <tr>\n",
       "      <th>0</th>\n",
       "      <td>10711</td>\n",
       "      <td>детективы</td>\n",
       "      <td>genre</td>\n",
       "    </tr>\n",
       "    <tr>\n",
       "      <th>0</th>\n",
       "      <td>10711</td>\n",
       "      <td>мелодрамы</td>\n",
       "      <td>genre</td>\n",
       "    </tr>\n",
       "    <tr>\n",
       "      <th>1</th>\n",
       "      <td>2508</td>\n",
       "      <td>зарубежные</td>\n",
       "      <td>genre</td>\n",
       "    </tr>\n",
       "    <tr>\n",
       "      <th>...</th>\n",
       "      <td>...</td>\n",
       "      <td>...</td>\n",
       "      <td>...</td>\n",
       "    </tr>\n",
       "    <tr>\n",
       "      <th>15958</th>\n",
       "      <td>6443</td>\n",
       "      <td>series</td>\n",
       "      <td>content_type</td>\n",
       "    </tr>\n",
       "    <tr>\n",
       "      <th>15959</th>\n",
       "      <td>2367</td>\n",
       "      <td>series</td>\n",
       "      <td>content_type</td>\n",
       "    </tr>\n",
       "    <tr>\n",
       "      <th>15960</th>\n",
       "      <td>10632</td>\n",
       "      <td>series</td>\n",
       "      <td>content_type</td>\n",
       "    </tr>\n",
       "    <tr>\n",
       "      <th>15961</th>\n",
       "      <td>4538</td>\n",
       "      <td>series</td>\n",
       "      <td>content_type</td>\n",
       "    </tr>\n",
       "    <tr>\n",
       "      <th>15962</th>\n",
       "      <td>3206</td>\n",
       "      <td>series</td>\n",
       "      <td>content_type</td>\n",
       "    </tr>\n",
       "  </tbody>\n",
       "</table>\n",
       "<p>50224 rows × 3 columns</p>\n",
       "</div>"
      ],
      "text/plain": [
       "          id       value       feature\n",
       "0      10711       драмы         genre\n",
       "0      10711  зарубежные         genre\n",
       "0      10711   детективы         genre\n",
       "0      10711   мелодрамы         genre\n",
       "1       2508  зарубежные         genre\n",
       "...      ...         ...           ...\n",
       "15958   6443      series  content_type\n",
       "15959   2367      series  content_type\n",
       "15960  10632      series  content_type\n",
       "15961   4538      series  content_type\n",
       "15962   3206      series  content_type\n",
       "\n",
       "[50224 rows x 3 columns]"
      ]
     },
     "execution_count": 31,
     "metadata": {},
     "output_type": "execute_result"
    }
   ],
   "source": [
    "item_features"
   ]
  },
  {
   "cell_type": "markdown",
   "metadata": {},
   "source": [
    "# Metrics"
   ]
  },
  {
   "cell_type": "code",
   "execution_count": 32,
   "metadata": {},
   "outputs": [],
   "source": [
    "metrics_name = {\n",
    "    'Precision': Precision,\n",
    "    'Recall': Recall,\n",
    "    'MAP': MAP,\n",
    "}\n",
    "\n",
    "metrics = {}\n",
    "for metric_name, metric in metrics_name.items():\n",
    "    for k in range(1, 11):\n",
    "        metrics[f'{metric_name}@{k}'] = metric(k=k)"
   ]
  },
  {
   "cell_type": "code",
   "execution_count": 33,
   "metadata": {},
   "outputs": [
    {
     "data": {
      "text/plain": [
       "{'Precision@1': Precision(k=1),\n",
       " 'Precision@2': Precision(k=2),\n",
       " 'Precision@3': Precision(k=3),\n",
       " 'Precision@4': Precision(k=4),\n",
       " 'Precision@5': Precision(k=5),\n",
       " 'Precision@6': Precision(k=6),\n",
       " 'Precision@7': Precision(k=7),\n",
       " 'Precision@8': Precision(k=8),\n",
       " 'Precision@9': Precision(k=9),\n",
       " 'Precision@10': Precision(k=10),\n",
       " 'Recall@1': Recall(k=1),\n",
       " 'Recall@2': Recall(k=2),\n",
       " 'Recall@3': Recall(k=3),\n",
       " 'Recall@4': Recall(k=4),\n",
       " 'Recall@5': Recall(k=5),\n",
       " 'Recall@6': Recall(k=6),\n",
       " 'Recall@7': Recall(k=7),\n",
       " 'Recall@8': Recall(k=8),\n",
       " 'Recall@9': Recall(k=9),\n",
       " 'Recall@10': Recall(k=10),\n",
       " 'MAP@1': MAP(k=1, divide_by_k=False),\n",
       " 'MAP@2': MAP(k=2, divide_by_k=False),\n",
       " 'MAP@3': MAP(k=3, divide_by_k=False),\n",
       " 'MAP@4': MAP(k=4, divide_by_k=False),\n",
       " 'MAP@5': MAP(k=5, divide_by_k=False),\n",
       " 'MAP@6': MAP(k=6, divide_by_k=False),\n",
       " 'MAP@7': MAP(k=7, divide_by_k=False),\n",
       " 'MAP@8': MAP(k=8, divide_by_k=False),\n",
       " 'MAP@9': MAP(k=9, divide_by_k=False),\n",
       " 'MAP@10': MAP(k=10, divide_by_k=False)}"
      ]
     },
     "execution_count": 33,
     "metadata": {},
     "output_type": "execute_result"
    }
   ],
   "source": [
    "metrics"
   ]
  },
  {
   "cell_type": "markdown",
   "metadata": {},
   "source": [
    "# Models"
   ]
  },
  {
   "cell_type": "code",
   "execution_count": 34,
   "metadata": {},
   "outputs": [],
   "source": [
    "K_RECOS = 10\n",
    "RANDOM_STATE = 42\n",
    "NUM_THREADS = 16\n",
    "N_FACTORS = (32,)\n",
    "N_EPOCHS = 1 # Lightfm\n",
    "USER_ALPHA = 0 # Lightfm\n",
    "ITEM_ALPHA = 0 # Lightfm\n",
    "LEARNING_RATE = 0.05 # Lightfm"
   ]
  },
  {
   "cell_type": "code",
   "execution_count": 35,
   "metadata": {},
   "outputs": [],
   "source": [
    "models = {\n",
    "    'popular': PopularModel(),\n",
    "}"
   ]
  },
  {
   "cell_type": "code",
   "execution_count": 36,
   "metadata": {},
   "outputs": [],
   "source": [
    "implicit_models = {\n",
    "    'ALS': AlternatingLeastSquares,\n",
    "}\n",
    "for implicit_name, implicit_model in implicit_models.items():\n",
    "    for is_fitting_features in (True, False):\n",
    "        for n_factors in N_FACTORS:\n",
    "            models[f\"{implicit_name}_{n_factors}_{is_fitting_features}\"] = (\n",
    "                ImplicitALSWrapperModel(\n",
    "                    model=implicit_model(\n",
    "                        factors=n_factors, \n",
    "                        random_state=RANDOM_STATE, \n",
    "                        num_threads=NUM_THREADS,\n",
    "                    ),\n",
    "                    fit_features_together=is_fitting_features,\n",
    "                )\n",
    "            )"
   ]
  },
  {
   "cell_type": "code",
   "execution_count": 37,
   "metadata": {},
   "outputs": [],
   "source": [
    "lightfm_losses = ('logistic', 'bpr', 'warp')\n",
    "\n",
    "for loss in lightfm_losses:\n",
    "    for n_factors in N_FACTORS:\n",
    "        models[f\"LightFM_{loss}_{n_factors}\"] = LightFMWrapperModel(\n",
    "            LightFM(\n",
    "                no_components=n_factors, \n",
    "                loss=loss, \n",
    "                random_state=RANDOM_STATE,\n",
    "                learning_rate=LEARNING_RATE,\n",
    "                user_alpha=USER_ALPHA,\n",
    "                item_alpha=ITEM_ALPHA,\n",
    "            ),\n",
    "            epochs=N_EPOCHS,\n",
    "            num_threads=NUM_THREADS,\n",
    "        )"
   ]
  },
  {
   "cell_type": "code",
   "execution_count": 38,
   "metadata": {},
   "outputs": [
    {
     "data": {
      "text/plain": [
       "{'popular': <rectools.models.popular.PopularModel at 0x7fee5204fed0>,\n",
       " 'ALS_32_True': <rectools.models.implicit_als.ImplicitALSWrapperModel at 0x7fee5204ca50>,\n",
       " 'ALS_32_False': <rectools.models.implicit_als.ImplicitALSWrapperModel at 0x7fee5204c7d0>,\n",
       " 'LightFM_logistic_32': <rectools.models.lightfm.LightFMWrapperModel at 0x7fee5204cd90>,\n",
       " 'LightFM_bpr_32': <rectools.models.lightfm.LightFMWrapperModel at 0x7fee520d0450>,\n",
       " 'LightFM_warp_32': <rectools.models.lightfm.LightFMWrapperModel at 0x7fee5204f150>}"
      ]
     },
     "execution_count": 38,
     "metadata": {},
     "output_type": "execute_result"
    }
   ],
   "source": [
    "models"
   ]
  },
  {
   "cell_type": "code",
   "execution_count": 39,
   "metadata": {},
   "outputs": [
    {
     "name": "stdout",
     "output_type": "stream",
     "text": [
      "CPU times: user 1.65 s, sys: 151 ms, total: 1.8 s\n",
      "Wall time: 1.8 s\n"
     ]
    }
   ],
   "source": [
    "%%time\n",
    "dataset = Dataset.construct(\n",
    "    interactions_df=train,\n",
    "    user_features_df=user_features,\n",
    "    cat_user_features=[\"sex\", \"age\", \"income\"],\n",
    "    item_features_df=item_features,\n",
    "    cat_item_features=[\"genre\", \"content_type\"],\n",
    ")"
   ]
  },
  {
   "cell_type": "code",
   "execution_count": 40,
   "metadata": {},
   "outputs": [],
   "source": [
    "TEST_USERS = test[Columns.User].unique()"
   ]
  },
  {
   "cell_type": "code",
   "execution_count": 41,
   "metadata": {},
   "outputs": [
    {
     "name": "stdout",
     "output_type": "stream",
     "text": [
      "Fitting model popular...\n",
      "Fitting model ALS_32_True...\n",
      "Fitting model ALS_32_False...\n",
      "Fitting model LightFM_logistic_32...\n",
      "Fitting model LightFM_bpr_32...\n",
      "Fitting model LightFM_warp_32...\n",
      "CPU times: user 8min 42s, sys: 5.81 s, total: 8min 48s\n",
      "Wall time: 8min 49s\n"
     ]
    }
   ],
   "source": [
    "%%time\n",
    "results = []\n",
    "for model_name, model in models.items():\n",
    "    print(f\"Fitting model {model_name}...\")\n",
    "    model_quality = {'model': model_name}\n",
    "\n",
    "    model.fit(dataset)\n",
    "    recos = model.recommend(\n",
    "        users=TEST_USERS,\n",
    "        dataset=dataset,\n",
    "        k=K_RECOS,\n",
    "        filter_viewed=True,\n",
    "    )\n",
    "    metric_values = calc_metrics(metrics, recos, test, train)\n",
    "    model_quality.update(metric_values)\n",
    "    results.append(model_quality)"
   ]
  },
  {
   "cell_type": "code",
   "execution_count": 42,
   "metadata": {},
   "outputs": [],
   "source": [
    "df_quality = pd.DataFrame(results).T\n",
    "\n",
    "df_quality.columns = df_quality.iloc[0]\n",
    "\n",
    "df_quality.drop('model', inplace=True)"
   ]
  },
  {
   "cell_type": "code",
   "execution_count": 43,
   "metadata": {},
   "outputs": [
    {
     "data": {
      "text/html": [
       "<style type=\"text/css\">\n",
       "#T_91a44_row0_col1, #T_91a44_row1_col1, #T_91a44_row2_col1, #T_91a44_row3_col1, #T_91a44_row4_col5, #T_91a44_row5_col5, #T_91a44_row6_col0, #T_91a44_row7_col0, #T_91a44_row8_col0, #T_91a44_row9_col0, #T_91a44_row10_col5, #T_91a44_row11_col0, #T_91a44_row12_col5, #T_91a44_row13_col5, #T_91a44_row14_col5, #T_91a44_row15_col5, #T_91a44_row16_col5, #T_91a44_row17_col5, #T_91a44_row18_col5, #T_91a44_row19_col5, #T_91a44_row20_col1, #T_91a44_row21_col1, #T_91a44_row22_col1, #T_91a44_row23_col1, #T_91a44_row24_col5, #T_91a44_row25_col5, #T_91a44_row26_col5, #T_91a44_row27_col5, #T_91a44_row28_col5, #T_91a44_row29_col5 {\n",
       "  background-color: lightgreen;\n",
       "}\n",
       "</style>\n",
       "<table id=\"T_91a44_\">\n",
       "  <thead>\n",
       "    <tr>\n",
       "      <th class=\"index_name level0\" >model</th>\n",
       "      <th class=\"col_heading level0 col0\" >popular</th>\n",
       "      <th class=\"col_heading level0 col1\" >ALS_32_True</th>\n",
       "      <th class=\"col_heading level0 col2\" >ALS_32_False</th>\n",
       "      <th class=\"col_heading level0 col3\" >LightFM_logistic_32</th>\n",
       "      <th class=\"col_heading level0 col4\" >LightFM_bpr_32</th>\n",
       "      <th class=\"col_heading level0 col5\" >LightFM_warp_32</th>\n",
       "    </tr>\n",
       "  </thead>\n",
       "  <tbody>\n",
       "    <tr>\n",
       "      <th id=\"T_91a44_level0_row0\" class=\"row_heading level0 row0\" >Precision@1</th>\n",
       "      <td id=\"T_91a44_row0_col0\" class=\"data row0 col0\" >0.069368</td>\n",
       "      <td id=\"T_91a44_row0_col1\" class=\"data row0 col1\" >0.081353</td>\n",
       "      <td id=\"T_91a44_row0_col2\" class=\"data row0 col2\" >0.062004</td>\n",
       "      <td id=\"T_91a44_row0_col3\" class=\"data row0 col3\" >0.000363</td>\n",
       "      <td id=\"T_91a44_row0_col4\" class=\"data row0 col4\" >0.034697</td>\n",
       "      <td id=\"T_91a44_row0_col5\" class=\"data row0 col5\" >0.077308</td>\n",
       "    </tr>\n",
       "    <tr>\n",
       "      <th id=\"T_91a44_level0_row1\" class=\"row_heading level0 row1\" >Recall@1</th>\n",
       "      <td id=\"T_91a44_row1_col0\" class=\"data row1 col0\" >0.035863</td>\n",
       "      <td id=\"T_91a44_row1_col1\" class=\"data row1 col1\" >0.041987</td>\n",
       "      <td id=\"T_91a44_row1_col2\" class=\"data row1 col2\" >0.030862</td>\n",
       "      <td id=\"T_91a44_row1_col3\" class=\"data row1 col3\" >0.000116</td>\n",
       "      <td id=\"T_91a44_row1_col4\" class=\"data row1 col4\" >0.019555</td>\n",
       "      <td id=\"T_91a44_row1_col5\" class=\"data row1 col5\" >0.039141</td>\n",
       "    </tr>\n",
       "    <tr>\n",
       "      <th id=\"T_91a44_level0_row2\" class=\"row_heading level0 row2\" >Precision@2</th>\n",
       "      <td id=\"T_91a44_row2_col0\" class=\"data row2 col0\" >0.063681</td>\n",
       "      <td id=\"T_91a44_row2_col1\" class=\"data row2 col1\" >0.069063</td>\n",
       "      <td id=\"T_91a44_row2_col2\" class=\"data row2 col2\" >0.054688</td>\n",
       "      <td id=\"T_91a44_row2_col3\" class=\"data row2 col3\" >0.000469</td>\n",
       "      <td id=\"T_91a44_row2_col4\" class=\"data row2 col4\" >0.025390</td>\n",
       "      <td id=\"T_91a44_row2_col5\" class=\"data row2 col5\" >0.068408</td>\n",
       "    </tr>\n",
       "    <tr>\n",
       "      <th id=\"T_91a44_level0_row3\" class=\"row_heading level0 row3\" >Recall@2</th>\n",
       "      <td id=\"T_91a44_row3_col0\" class=\"data row3 col0\" >0.064597</td>\n",
       "      <td id=\"T_91a44_row3_col1\" class=\"data row3 col1\" >0.069557</td>\n",
       "      <td id=\"T_91a44_row3_col2\" class=\"data row3 col2\" >0.053593</td>\n",
       "      <td id=\"T_91a44_row3_col3\" class=\"data row3 col3\" >0.000301</td>\n",
       "      <td id=\"T_91a44_row3_col4\" class=\"data row3 col4\" >0.028291</td>\n",
       "      <td id=\"T_91a44_row3_col5\" class=\"data row3 col5\" >0.067837</td>\n",
       "    </tr>\n",
       "    <tr>\n",
       "      <th id=\"T_91a44_level0_row4\" class=\"row_heading level0 row4\" >Precision@3</th>\n",
       "      <td id=\"T_91a44_row4_col0\" class=\"data row4 col0\" >0.059233</td>\n",
       "      <td id=\"T_91a44_row4_col1\" class=\"data row4 col1\" >0.059227</td>\n",
       "      <td id=\"T_91a44_row4_col2\" class=\"data row4 col2\" >0.050804</td>\n",
       "      <td id=\"T_91a44_row4_col3\" class=\"data row4 col3\" >0.000313</td>\n",
       "      <td id=\"T_91a44_row4_col4\" class=\"data row4 col4\" >0.020193</td>\n",
       "      <td id=\"T_91a44_row4_col5\" class=\"data row4 col5\" >0.061027</td>\n",
       "    </tr>\n",
       "    <tr>\n",
       "      <th id=\"T_91a44_level0_row5\" class=\"row_heading level0 row5\" >Recall@3</th>\n",
       "      <td id=\"T_91a44_row5_col0\" class=\"data row5 col0\" >0.088080</td>\n",
       "      <td id=\"T_91a44_row5_col1\" class=\"data row5 col1\" >0.087536</td>\n",
       "      <td id=\"T_91a44_row5_col2\" class=\"data row5 col2\" >0.073736</td>\n",
       "      <td id=\"T_91a44_row5_col3\" class=\"data row5 col3\" >0.000301</td>\n",
       "      <td id=\"T_91a44_row5_col4\" class=\"data row5 col4\" >0.032985</td>\n",
       "      <td id=\"T_91a44_row5_col5\" class=\"data row5 col5\" >0.089641</td>\n",
       "    </tr>\n",
       "    <tr>\n",
       "      <th id=\"T_91a44_level0_row6\" class=\"row_heading level0 row6\" >Precision@4</th>\n",
       "      <td id=\"T_91a44_row6_col0\" class=\"data row6 col0\" >0.057348</td>\n",
       "      <td id=\"T_91a44_row6_col1\" class=\"data row6 col1\" >0.052577</td>\n",
       "      <td id=\"T_91a44_row6_col2\" class=\"data row6 col2\" >0.047118</td>\n",
       "      <td id=\"T_91a44_row6_col3\" class=\"data row6 col3\" >0.000241</td>\n",
       "      <td id=\"T_91a44_row6_col4\" class=\"data row6 col4\" >0.016964</td>\n",
       "      <td id=\"T_91a44_row6_col5\" class=\"data row6 col5\" >0.055219</td>\n",
       "    </tr>\n",
       "    <tr>\n",
       "      <th id=\"T_91a44_level0_row7\" class=\"row_heading level0 row7\" >Recall@4</th>\n",
       "      <td id=\"T_91a44_row7_col0\" class=\"data row7 col0\" >0.112881</td>\n",
       "      <td id=\"T_91a44_row7_col1\" class=\"data row7 col1\" >0.102227</td>\n",
       "      <td id=\"T_91a44_row7_col2\" class=\"data row7 col2\" >0.090174</td>\n",
       "      <td id=\"T_91a44_row7_col3\" class=\"data row7 col3\" >0.000306</td>\n",
       "      <td id=\"T_91a44_row7_col4\" class=\"data row7 col4\" >0.036404</td>\n",
       "      <td id=\"T_91a44_row7_col5\" class=\"data row7 col5\" >0.106709</td>\n",
       "    </tr>\n",
       "    <tr>\n",
       "      <th id=\"T_91a44_level0_row8\" class=\"row_heading level0 row8\" >Precision@5</th>\n",
       "      <td id=\"T_91a44_row8_col0\" class=\"data row8 col0\" >0.051035</td>\n",
       "      <td id=\"T_91a44_row8_col1\" class=\"data row8 col1\" >0.046967</td>\n",
       "      <td id=\"T_91a44_row8_col2\" class=\"data row8 col2\" >0.043480</td>\n",
       "      <td id=\"T_91a44_row8_col3\" class=\"data row8 col3\" >0.000200</td>\n",
       "      <td id=\"T_91a44_row8_col4\" class=\"data row8 col4\" >0.014681</td>\n",
       "      <td id=\"T_91a44_row8_col5\" class=\"data row8 col5\" >0.050380</td>\n",
       "    </tr>\n",
       "    <tr>\n",
       "      <th id=\"T_91a44_level0_row9\" class=\"row_heading level0 row9\" >Recall@5</th>\n",
       "      <td id=\"T_91a44_row9_col0\" class=\"data row9 col0\" >0.124184</td>\n",
       "      <td id=\"T_91a44_row9_col1\" class=\"data row9 col1\" >0.112856</td>\n",
       "      <td id=\"T_91a44_row9_col2\" class=\"data row9 col2\" >0.102644</td>\n",
       "      <td id=\"T_91a44_row9_col3\" class=\"data row9 col3\" >0.000319</td>\n",
       "      <td id=\"T_91a44_row9_col4\" class=\"data row9 col4\" >0.039087</td>\n",
       "      <td id=\"T_91a44_row9_col5\" class=\"data row9 col5\" >0.120754</td>\n",
       "    </tr>\n",
       "    <tr>\n",
       "      <th id=\"T_91a44_level0_row10\" class=\"row_heading level0 row10\" >Precision@6</th>\n",
       "      <td id=\"T_91a44_row10_col0\" class=\"data row10 col0\" >0.045992</td>\n",
       "      <td id=\"T_91a44_row10_col1\" class=\"data row10 col1\" >0.042082</td>\n",
       "      <td id=\"T_91a44_row10_col2\" class=\"data row10 col2\" >0.040395</td>\n",
       "      <td id=\"T_91a44_row10_col3\" class=\"data row10 col3\" >0.000181</td>\n",
       "      <td id=\"T_91a44_row10_col4\" class=\"data row10 col4\" >0.013000</td>\n",
       "      <td id=\"T_91a44_row10_col5\" class=\"data row10 col5\" >0.046061</td>\n",
       "    </tr>\n",
       "    <tr>\n",
       "      <th id=\"T_91a44_level0_row11\" class=\"row_heading level0 row11\" >Recall@6</th>\n",
       "      <td id=\"T_91a44_row11_col0\" class=\"data row11 col0\" >0.132959</td>\n",
       "      <td id=\"T_91a44_row11_col1\" class=\"data row11 col1\" >0.120069</td>\n",
       "      <td id=\"T_91a44_row11_col2\" class=\"data row11 col2\" >0.113111</td>\n",
       "      <td id=\"T_91a44_row11_col3\" class=\"data row11 col3\" >0.000333</td>\n",
       "      <td id=\"T_91a44_row11_col4\" class=\"data row11 col4\" >0.041045</td>\n",
       "      <td id=\"T_91a44_row11_col5\" class=\"data row11 col5\" >0.131263</td>\n",
       "    </tr>\n",
       "    <tr>\n",
       "      <th id=\"T_91a44_level0_row12\" class=\"row_heading level0 row12\" >Precision@7</th>\n",
       "      <td id=\"T_91a44_row12_col0\" class=\"data row12 col0\" >0.041242</td>\n",
       "      <td id=\"T_91a44_row12_col1\" class=\"data row12 col1\" >0.038367</td>\n",
       "      <td id=\"T_91a44_row12_col2\" class=\"data row12 col2\" >0.037674</td>\n",
       "      <td id=\"T_91a44_row12_col3\" class=\"data row12 col3\" >0.000157</td>\n",
       "      <td id=\"T_91a44_row12_col4\" class=\"data row12 col4\" >0.011733</td>\n",
       "      <td id=\"T_91a44_row12_col5\" class=\"data row12 col5\" >0.042163</td>\n",
       "    </tr>\n",
       "    <tr>\n",
       "      <th id=\"T_91a44_level0_row13\" class=\"row_heading level0 row13\" >Recall@7</th>\n",
       "      <td id=\"T_91a44_row13_col0\" class=\"data row13 col0\" >0.138390</td>\n",
       "      <td id=\"T_91a44_row13_col1\" class=\"data row13 col1\" >0.126667</td>\n",
       "      <td id=\"T_91a44_row13_col2\" class=\"data row13 col2\" >0.121868</td>\n",
       "      <td id=\"T_91a44_row13_col3\" class=\"data row13 col3\" >0.000335</td>\n",
       "      <td id=\"T_91a44_row13_col4\" class=\"data row13 col4\" >0.042902</td>\n",
       "      <td id=\"T_91a44_row13_col5\" class=\"data row13 col5\" >0.139241</td>\n",
       "    </tr>\n",
       "    <tr>\n",
       "      <th id=\"T_91a44_level0_row14\" class=\"row_heading level0 row14\" >Precision@8</th>\n",
       "      <td id=\"T_91a44_row14_col0\" class=\"data row14 col0\" >0.037793</td>\n",
       "      <td id=\"T_91a44_row14_col1\" class=\"data row14 col1\" >0.035321</td>\n",
       "      <td id=\"T_91a44_row14_col2\" class=\"data row14 col2\" >0.035453</td>\n",
       "      <td id=\"T_91a44_row14_col3\" class=\"data row14 col3\" >0.000180</td>\n",
       "      <td id=\"T_91a44_row14_col4\" class=\"data row14 col4\" >0.010762</td>\n",
       "      <td id=\"T_91a44_row14_col5\" class=\"data row14 col5\" >0.039121</td>\n",
       "    </tr>\n",
       "    <tr>\n",
       "      <th id=\"T_91a44_level0_row15\" class=\"row_heading level0 row15\" >Recall@8</th>\n",
       "      <td id=\"T_91a44_row15_col0\" class=\"data row15 col0\" >0.144335</td>\n",
       "      <td id=\"T_91a44_row15_col1\" class=\"data row15 col1\" >0.132484</td>\n",
       "      <td id=\"T_91a44_row15_col2\" class=\"data row15 col2\" >0.129697</td>\n",
       "      <td id=\"T_91a44_row15_col3\" class=\"data row15 col3\" >0.000454</td>\n",
       "      <td id=\"T_91a44_row15_col4\" class=\"data row15 col4\" >0.044511</td>\n",
       "      <td id=\"T_91a44_row15_col5\" class=\"data row15 col5\" >0.146610</td>\n",
       "    </tr>\n",
       "    <tr>\n",
       "      <th id=\"T_91a44_level0_row16\" class=\"row_heading level0 row16\" >Precision@9</th>\n",
       "      <td id=\"T_91a44_row16_col0\" class=\"data row16 col0\" >0.035072</td>\n",
       "      <td id=\"T_91a44_row16_col1\" class=\"data row16 col1\" >0.032969</td>\n",
       "      <td id=\"T_91a44_row16_col2\" class=\"data row16 col2\" >0.033502</td>\n",
       "      <td id=\"T_91a44_row16_col3\" class=\"data row16 col3\" >0.000208</td>\n",
       "      <td id=\"T_91a44_row16_col4\" class=\"data row16 col4\" >0.009963</td>\n",
       "      <td id=\"T_91a44_row16_col5\" class=\"data row16 col5\" >0.036604</td>\n",
       "    </tr>\n",
       "    <tr>\n",
       "      <th id=\"T_91a44_level0_row17\" class=\"row_heading level0 row17\" >Recall@9</th>\n",
       "      <td id=\"T_91a44_row17_col0\" class=\"data row17 col0\" >0.150372</td>\n",
       "      <td id=\"T_91a44_row17_col1\" class=\"data row17 col1\" >0.138183</td>\n",
       "      <td id=\"T_91a44_row17_col2\" class=\"data row17 col2\" >0.136660</td>\n",
       "      <td id=\"T_91a44_row17_col3\" class=\"data row17 col3\" >0.000638</td>\n",
       "      <td id=\"T_91a44_row17_col4\" class=\"data row17 col4\" >0.046022</td>\n",
       "      <td id=\"T_91a44_row17_col5\" class=\"data row17 col5\" >0.153480</td>\n",
       "    </tr>\n",
       "    <tr>\n",
       "      <th id=\"T_91a44_level0_row18\" class=\"row_heading level0 row18\" >Precision@10</th>\n",
       "      <td id=\"T_91a44_row18_col0\" class=\"data row18 col0\" >0.032803</td>\n",
       "      <td id=\"T_91a44_row18_col1\" class=\"data row18 col1\" >0.031006</td>\n",
       "      <td id=\"T_91a44_row18_col2\" class=\"data row18 col2\" >0.031806</td>\n",
       "      <td id=\"T_91a44_row18_col3\" class=\"data row18 col3\" >0.000213</td>\n",
       "      <td id=\"T_91a44_row18_col4\" class=\"data row18 col4\" >0.009332</td>\n",
       "      <td id=\"T_91a44_row18_col5\" class=\"data row18 col5\" >0.034550</td>\n",
       "    </tr>\n",
       "    <tr>\n",
       "      <th id=\"T_91a44_level0_row19\" class=\"row_heading level0 row19\" >Recall@10</th>\n",
       "      <td id=\"T_91a44_row19_col0\" class=\"data row19 col0\" >0.156070</td>\n",
       "      <td id=\"T_91a44_row19_col1\" class=\"data row19 col1\" >0.143592</td>\n",
       "      <td id=\"T_91a44_row19_col2\" class=\"data row19 col2\" >0.143242</td>\n",
       "      <td id=\"T_91a44_row19_col3\" class=\"data row19 col3\" >0.000716</td>\n",
       "      <td id=\"T_91a44_row19_col4\" class=\"data row19 col4\" >0.047547</td>\n",
       "      <td id=\"T_91a44_row19_col5\" class=\"data row19 col5\" >0.160327</td>\n",
       "    </tr>\n",
       "    <tr>\n",
       "      <th id=\"T_91a44_level0_row20\" class=\"row_heading level0 row20\" >MAP@1</th>\n",
       "      <td id=\"T_91a44_row20_col0\" class=\"data row20 col0\" >0.035863</td>\n",
       "      <td id=\"T_91a44_row20_col1\" class=\"data row20 col1\" >0.041987</td>\n",
       "      <td id=\"T_91a44_row20_col2\" class=\"data row20 col2\" >0.030862</td>\n",
       "      <td id=\"T_91a44_row20_col3\" class=\"data row20 col3\" >0.000116</td>\n",
       "      <td id=\"T_91a44_row20_col4\" class=\"data row20 col4\" >0.019555</td>\n",
       "      <td id=\"T_91a44_row20_col5\" class=\"data row20 col5\" >0.039141</td>\n",
       "    </tr>\n",
       "    <tr>\n",
       "      <th id=\"T_91a44_level0_row21\" class=\"row_heading level0 row21\" >MAP@2</th>\n",
       "      <td id=\"T_91a44_row21_col0\" class=\"data row21 col0\" >0.050787</td>\n",
       "      <td id=\"T_91a44_row21_col1\" class=\"data row21 col1\" >0.056462</td>\n",
       "      <td id=\"T_91a44_row21_col2\" class=\"data row21 col2\" >0.042728</td>\n",
       "      <td id=\"T_91a44_row21_col3\" class=\"data row21 col3\" >0.000208</td>\n",
       "      <td id=\"T_91a44_row21_col4\" class=\"data row21 col4\" >0.024110</td>\n",
       "      <td id=\"T_91a44_row21_col5\" class=\"data row21 col5\" >0.054191</td>\n",
       "    </tr>\n",
       "    <tr>\n",
       "      <th id=\"T_91a44_level0_row22\" class=\"row_heading level0 row22\" >MAP@3</th>\n",
       "      <td id=\"T_91a44_row22_col0\" class=\"data row22 col0\" >0.059216</td>\n",
       "      <td id=\"T_91a44_row22_col1\" class=\"data row22 col1\" >0.062989</td>\n",
       "      <td id=\"T_91a44_row22_col2\" class=\"data row22 col2\" >0.049904</td>\n",
       "      <td id=\"T_91a44_row22_col3\" class=\"data row22 col3\" >0.000208</td>\n",
       "      <td id=\"T_91a44_row22_col4\" class=\"data row22 col4\" >0.025784</td>\n",
       "      <td id=\"T_91a44_row22_col5\" class=\"data row22 col5\" >0.062064</td>\n",
       "    </tr>\n",
       "    <tr>\n",
       "      <th id=\"T_91a44_level0_row23\" class=\"row_heading level0 row23\" >MAP@4</th>\n",
       "      <td id=\"T_91a44_row23_col0\" class=\"data row23 col0\" >0.066049</td>\n",
       "      <td id=\"T_91a44_row23_col1\" class=\"data row23 col1\" >0.067080</td>\n",
       "      <td id=\"T_91a44_row23_col2\" class=\"data row23 col2\" >0.054404</td>\n",
       "      <td id=\"T_91a44_row23_col3\" class=\"data row23 col3\" >0.000210</td>\n",
       "      <td id=\"T_91a44_row23_col4\" class=\"data row23 col4\" >0.026693</td>\n",
       "      <td id=\"T_91a44_row23_col5\" class=\"data row23 col5\" >0.066816</td>\n",
       "    </tr>\n",
       "    <tr>\n",
       "      <th id=\"T_91a44_level0_row24\" class=\"row_heading level0 row24\" >MAP@5</th>\n",
       "      <td id=\"T_91a44_row24_col0\" class=\"data row24 col0\" >0.068720</td>\n",
       "      <td id=\"T_91a44_row24_col1\" class=\"data row24 col1\" >0.069525</td>\n",
       "      <td id=\"T_91a44_row24_col2\" class=\"data row24 col2\" >0.057247</td>\n",
       "      <td id=\"T_91a44_row24_col3\" class=\"data row24 col3\" >0.000212</td>\n",
       "      <td id=\"T_91a44_row24_col4\" class=\"data row24 col4\" >0.027268</td>\n",
       "      <td id=\"T_91a44_row24_col5\" class=\"data row24 col5\" >0.070029</td>\n",
       "    </tr>\n",
       "    <tr>\n",
       "      <th id=\"T_91a44_level0_row25\" class=\"row_heading level0 row25\" >MAP@6</th>\n",
       "      <td id=\"T_91a44_row25_col0\" class=\"data row25 col0\" >0.070471</td>\n",
       "      <td id=\"T_91a44_row25_col1\" class=\"data row25 col1\" >0.070951</td>\n",
       "      <td id=\"T_91a44_row25_col2\" class=\"data row25 col2\" >0.059245</td>\n",
       "      <td id=\"T_91a44_row25_col3\" class=\"data row25 col3\" >0.000215</td>\n",
       "      <td id=\"T_91a44_row25_col4\" class=\"data row25 col4\" >0.027623</td>\n",
       "      <td id=\"T_91a44_row25_col5\" class=\"data row25 col5\" >0.072065</td>\n",
       "    </tr>\n",
       "    <tr>\n",
       "      <th id=\"T_91a44_level0_row26\" class=\"row_heading level0 row26\" >MAP@7</th>\n",
       "      <td id=\"T_91a44_row26_col0\" class=\"data row26 col0\" >0.071412</td>\n",
       "      <td id=\"T_91a44_row26_col1\" class=\"data row26 col1\" >0.072091</td>\n",
       "      <td id=\"T_91a44_row26_col2\" class=\"data row26 col2\" >0.060708</td>\n",
       "      <td id=\"T_91a44_row26_col3\" class=\"data row26 col3\" >0.000215</td>\n",
       "      <td id=\"T_91a44_row26_col4\" class=\"data row26 col4\" >0.027910</td>\n",
       "      <td id=\"T_91a44_row26_col5\" class=\"data row26 col5\" >0.073408</td>\n",
       "    </tr>\n",
       "    <tr>\n",
       "      <th id=\"T_91a44_level0_row27\" class=\"row_heading level0 row27\" >MAP@8</th>\n",
       "      <td id=\"T_91a44_row27_col0\" class=\"data row27 col0\" >0.072334</td>\n",
       "      <td id=\"T_91a44_row27_col1\" class=\"data row27 col1\" >0.072960</td>\n",
       "      <td id=\"T_91a44_row27_col2\" class=\"data row27 col2\" >0.061882</td>\n",
       "      <td id=\"T_91a44_row27_col3\" class=\"data row27 col3\" >0.000230</td>\n",
       "      <td id=\"T_91a44_row27_col4\" class=\"data row27 col4\" >0.028128</td>\n",
       "      <td id=\"T_91a44_row27_col5\" class=\"data row27 col5\" >0.074519</td>\n",
       "    </tr>\n",
       "    <tr>\n",
       "      <th id=\"T_91a44_level0_row28\" class=\"row_heading level0 row28\" >MAP@9</th>\n",
       "      <td id=\"T_91a44_row28_col0\" class=\"data row28 col0\" >0.073142</td>\n",
       "      <td id=\"T_91a44_row28_col1\" class=\"data row28 col1\" >0.073732</td>\n",
       "      <td id=\"T_91a44_row28_col2\" class=\"data row28 col2\" >0.062817</td>\n",
       "      <td id=\"T_91a44_row28_col3\" class=\"data row28 col3\" >0.000250</td>\n",
       "      <td id=\"T_91a44_row28_col4\" class=\"data row28 col4\" >0.028310</td>\n",
       "      <td id=\"T_91a44_row28_col5\" class=\"data row28 col5\" >0.075440</td>\n",
       "    </tr>\n",
       "    <tr>\n",
       "      <th id=\"T_91a44_level0_row29\" class=\"row_heading level0 row29\" >MAP@10</th>\n",
       "      <td id=\"T_91a44_row29_col0\" class=\"data row29 col0\" >0.073836</td>\n",
       "      <td id=\"T_91a44_row29_col1\" class=\"data row29 col1\" >0.074387</td>\n",
       "      <td id=\"T_91a44_row29_col2\" class=\"data row29 col2\" >0.063613</td>\n",
       "      <td id=\"T_91a44_row29_col3\" class=\"data row29 col3\" >0.000258</td>\n",
       "      <td id=\"T_91a44_row29_col4\" class=\"data row29 col4\" >0.028477</td>\n",
       "      <td id=\"T_91a44_row29_col5\" class=\"data row29 col5\" >0.076272</td>\n",
       "    </tr>\n",
       "  </tbody>\n",
       "</table>\n"
      ],
      "text/plain": [
       "<pandas.io.formats.style.Styler at 0x7fee6dab2fd0>"
      ]
     },
     "execution_count": 43,
     "metadata": {},
     "output_type": "execute_result"
    }
   ],
   "source": [
    "df_quality.style.highlight_max(color='lightgreen', axis=1)"
   ]
  },
  {
   "cell_type": "markdown",
   "metadata": {},
   "source": [
    "# Approximate Nearest Neighbors "
   ]
  },
  {
   "cell_type": "code",
   "execution_count": 44,
   "metadata": {},
   "outputs": [
    {
     "name": "stderr",
     "output_type": "stream",
     "text": [
      "Your CPU supports instructions that this binary was not compiled to use: AVX2\n",
      "For maximum performance, you can install NMSLIB from sources \n",
      "pip install --no-binary :all: nmslib\n"
     ]
    }
   ],
   "source": [
    "import nmslib"
   ]
  },
  {
   "cell_type": "markdown",
   "metadata": {},
   "source": [
    "# HNSW algorithm parameters\n",
    "\n",
    "## Search parameters:\n",
    "* ```ef``` - the size of the dynamic list for the nearest neighbors (used during the search). Higher ```ef```\n",
    "leads to more accurate but slower search. ```ef``` cannot be set lower than the number of queried nearest neighbors\n",
    "```k```. The value ```ef``` of can be anything between ```k``` and the size of the dataset.\n",
    "* ```k``` number of nearest neighbors to be returned as the result.\n",
    "The ```knn_query``` function returns two numpy arrays, containing labels and distances to the k found nearest \n",
    "elements for the queries. Note that in case the algorithm is not be able to find ```k``` neighbors to all of the queries,\n",
    "(this can be due to problems with graph or ```k```>size of the dataset) an exception is thrown.\n",
    "\n",
    "\n",
    "## Construction parameters:\n",
    "* ```M``` - the number of bi-directional links created for every new element during construction. Reasonable range for ```M``` \n",
    "is 2-100. Higher ```M``` work better on datasets with high intrinsic dimensionality and/or high recall, while low ```M``` work \n",
    "better for datasets with low intrinsic dimensionality and/or low recalls. The parameter also determines the algorithm's memory \n",
    "consumption, which is roughly ```M * 8-10``` bytes per stored element.  \n",
    "As an example for ```dim```=4 random vectors optimal ```M``` for search is somewhere around 6, while for high dimensional datasets \n",
    "(word embeddings, good face descriptors), higher ```M``` are required (e.g. ```M```=48-64) for optimal performance at high recall. \n",
    "The range ```M```=12-48 is ok for the most of the use cases. When ```M``` is changed one has to update the other parameters. \n",
    "Nonetheless, ef and ef_construction parameters can be roughly estimated by assuming that ```M```*```ef_{construction}``` is \n",
    "a constant.\n",
    "\n",
    "* ```ef_construction``` - the parameter has the same meaning as ```ef```, but controls the index_time/index_accuracy. Bigger \n",
    "ef_construction leads to longer construction, but better index quality. At some point, increasing ef_construction does\n",
    "not improve the quality of the index. One way to check if the selection of ef_construction was ok is to measure a recall \n",
    "for M nearest neighbor search when ```ef``` =```ef_construction```: if the recall is lower than 0.9, than there is room \n",
    "for improvement.\n",
    "* ```num_elements``` - defines the maximum number of elements in the index. The index can be extened by saving/loading(load_index\n",
    "function has a parameter which defines the new maximum number of elements).\n",
    "\n",
    "Еще источники: \n",
    "- [Nmslib Docs](https://github.com/nmslib/nmslib/blob/master/manual/methods.md)\n",
    "- [Pinecone Vector Indexes](https://www.pinecone.io/learn/vector-indexes/)"
   ]
  },
  {
   "cell_type": "markdown",
   "metadata": {},
   "source": [
    "<img src=\"https://d33wubrfki0l68.cloudfront.net/4c635fabb268a4af60109a506300a2dfda612063/d2535/images/similarity-search-indexes17.jpg\">"
   ]
  },
  {
   "cell_type": "markdown",
   "metadata": {},
   "source": [
    "<img src=\"https://d33wubrfki0l68.cloudfront.net/96d80cd46c2d12df99c044c860a8a5fb00cf6376/d59ca/images/similarity-search-indexes18.jpg\">"
   ]
  },
  {
   "cell_type": "code",
   "execution_count": 45,
   "metadata": {},
   "outputs": [],
   "source": [
    "import time"
   ]
  },
  {
   "cell_type": "code",
   "execution_count": 46,
   "metadata": {},
   "outputs": [],
   "source": [
    "user_embeddings, item_embeddings = model.get_vectors(dataset)"
   ]
  },
  {
   "cell_type": "code",
   "execution_count": 47,
   "metadata": {},
   "outputs": [
    {
     "data": {
      "text/plain": [
       "((756562, 34), (14019, 34))"
      ]
     },
     "execution_count": 47,
     "metadata": {},
     "output_type": "execute_result"
    }
   ],
   "source": [
    "user_embeddings.shape, item_embeddings.shape"
   ]
  },
  {
   "cell_type": "code",
   "execution_count": 48,
   "metadata": {},
   "outputs": [],
   "source": [
    "def augment_inner_product(factors):\n",
    "    normed_factors = np.linalg.norm(factors, axis=1)\n",
    "    max_norm = normed_factors.max()\n",
    "    \n",
    "    extra_dim = np.sqrt(max_norm ** 2 - normed_factors ** 2).reshape(-1, 1)\n",
    "    augmented_factors = np.append(factors, extra_dim, axis=1)\n",
    "    return max_norm, augmented_factors"
   ]
  },
  {
   "cell_type": "code",
   "execution_count": 49,
   "metadata": {},
   "outputs": [
    {
     "name": "stdout",
     "output_type": "stream",
     "text": [
      "pre shape:  (14019, 34)\n"
     ]
    },
    {
     "data": {
      "text/plain": [
       "(14019, 35)"
      ]
     },
     "execution_count": 49,
     "metadata": {},
     "output_type": "execute_result"
    }
   ],
   "source": [
    "print('pre shape: ', item_embeddings.shape)\n",
    "max_norm, augmented_item_embeddings = augment_inner_product(item_embeddings)\n",
    "augmented_item_embeddings.shape"
   ]
  },
  {
   "cell_type": "code",
   "execution_count": 50,
   "metadata": {},
   "outputs": [
    {
     "data": {
      "text/plain": [
       "(756562, 35)"
      ]
     },
     "execution_count": 50,
     "metadata": {},
     "output_type": "execute_result"
    }
   ],
   "source": [
    "extra_zero = np.zeros((user_embeddings.shape[0], 1))\n",
    "augmented_user_embeddings = np.append(user_embeddings, extra_zero, axis=1)\n",
    "augmented_user_embeddings.shape"
   ]
  },
  {
   "cell_type": "code",
   "execution_count": 51,
   "metadata": {},
   "outputs": [],
   "source": [
    "user_id = 30"
   ]
  },
  {
   "cell_type": "code",
   "execution_count": 52,
   "metadata": {},
   "outputs": [
    {
     "data": {
      "text/plain": [
       "array([-2.05896729e+02,  1.00000000e+00, -4.52711433e-02,  3.91230196e-01,\n",
       "        4.04265732e-01, -4.95160520e-01,  2.22277611e-01, -4.93303478e-01,\n",
       "       -3.73352468e-02,  1.99019402e-01,  1.68944001e-01,  1.06457457e-01,\n",
       "       -5.36034182e-02, -2.60553062e-01,  4.19317544e-01, -1.66068971e-03,\n",
       "       -2.99279541e-01, -3.29282790e-01, -3.25635701e-01, -2.32122898e-01,\n",
       "        1.45212173e-01,  5.44523180e-01, -2.62969434e-01, -1.23370670e-01,\n",
       "       -5.34298480e-01, -1.21053249e-01,  1.40258759e-01, -1.00327849e-01,\n",
       "       -1.89747423e-01,  5.76154925e-02,  1.94223195e-01,  2.62569904e-01,\n",
       "       -2.33748466e-01, -1.12916067e-01])"
      ]
     },
     "execution_count": 52,
     "metadata": {},
     "output_type": "execute_result"
    }
   ],
   "source": [
    "user_embeddings[user_id]"
   ]
  },
  {
   "cell_type": "code",
   "execution_count": 53,
   "metadata": {},
   "outputs": [
    {
     "data": {
      "text/plain": [
       "array([-2.05896729e+02,  1.00000000e+00, -4.52711433e-02,  3.91230196e-01,\n",
       "        4.04265732e-01, -4.95160520e-01,  2.22277611e-01, -4.93303478e-01,\n",
       "       -3.73352468e-02,  1.99019402e-01,  1.68944001e-01,  1.06457457e-01,\n",
       "       -5.36034182e-02, -2.60553062e-01,  4.19317544e-01, -1.66068971e-03,\n",
       "       -2.99279541e-01, -3.29282790e-01, -3.25635701e-01, -2.32122898e-01,\n",
       "        1.45212173e-01,  5.44523180e-01, -2.62969434e-01, -1.23370670e-01,\n",
       "       -5.34298480e-01, -1.21053249e-01,  1.40258759e-01, -1.00327849e-01,\n",
       "       -1.89747423e-01,  5.76154925e-02,  1.94223195e-01,  2.62569904e-01,\n",
       "       -2.33748466e-01, -1.12916067e-01,  0.00000000e+00])"
      ]
     },
     "execution_count": 53,
     "metadata": {},
     "output_type": "execute_result"
    }
   ],
   "source": [
    "augmented_user_embeddings[user_id]"
   ]
  },
  {
   "cell_type": "code",
   "execution_count": 54,
   "metadata": {},
   "outputs": [],
   "source": [
    "item_id = 0"
   ]
  },
  {
   "cell_type": "code",
   "execution_count": 55,
   "metadata": {},
   "outputs": [
    {
     "data": {
      "text/plain": [
       "array([ 1.        , -1.48405325,  0.23708403, -0.11246382,  0.14794403,\n",
       "       -0.34387285,  0.72653121,  0.81500947, -0.13408449, -1.05674577,\n",
       "        0.21708079, -0.02391037, -0.27358592,  0.15148595, -0.00224125,\n",
       "        0.63105565,  0.92966682,  0.19560455,  0.00708316, -1.04372263,\n",
       "        0.85816073, -0.97662985, -0.27525479,  0.30821079, -0.51743782,\n",
       "       -1.08208537, -0.57330936,  0.21116838, -0.12294419,  0.42426503,\n",
       "        0.70090687, -1.09553933, -0.80954003, -0.09136926])"
      ]
     },
     "execution_count": 55,
     "metadata": {},
     "output_type": "execute_result"
    }
   ],
   "source": [
    "item_embeddings[item_id]"
   ]
  },
  {
   "cell_type": "code",
   "execution_count": 56,
   "metadata": {},
   "outputs": [
    {
     "data": {
      "text/plain": [
       "array([ 1.00000000e+00, -1.48405325e+00,  2.37084031e-01, -1.12463817e-01,\n",
       "        1.47944033e-01, -3.43872845e-01,  7.26531208e-01,  8.15009475e-01,\n",
       "       -1.34084493e-01, -1.05674577e+00,  2.17080787e-01, -2.39103660e-02,\n",
       "       -2.73585916e-01,  1.51485950e-01, -2.24125385e-03,  6.31055653e-01,\n",
       "        9.29666817e-01,  1.95604548e-01,  7.08316267e-03, -1.04372263e+00,\n",
       "        8.58160734e-01, -9.76629853e-01, -2.75254786e-01,  3.08210790e-01,\n",
       "       -5.17437816e-01, -1.08208537e+00, -5.73309362e-01,  2.11168379e-01,\n",
       "       -1.22944191e-01,  4.24265027e-01,  7.00906873e-01, -1.09553933e+00,\n",
       "       -8.09540033e-01, -9.13692564e-02,  4.74953720e+00])"
      ]
     },
     "execution_count": 56,
     "metadata": {},
     "output_type": "execute_result"
    }
   ],
   "source": [
    "augmented_item_embeddings[item_id]"
   ]
  },
  {
   "cell_type": "code",
   "execution_count": 57,
   "metadata": {},
   "outputs": [
    {
     "name": "stdout",
     "output_type": "stream",
     "text": [
      "Index-time parameters {'M': 48, 'indexThreadQty': 4, 'efConstruction': 100, 'post': 0}\n"
     ]
    }
   ],
   "source": [
    "# Set index parameters\n",
    "# These are the most important ones\n",
    "M = 48\n",
    "efC = 100\n",
    "\n",
    "num_threads = 4\n",
    "index_time_params = {'M': M, 'indexThreadQty': num_threads, 'efConstruction': efC, 'post' : 0}\n",
    "print('Index-time parameters', index_time_params)"
   ]
  },
  {
   "cell_type": "code",
   "execution_count": 58,
   "metadata": {},
   "outputs": [],
   "source": [
    "# Number of neighbors \n",
    "K=10"
   ]
  },
  {
   "cell_type": "code",
   "execution_count": 59,
   "metadata": {},
   "outputs": [],
   "source": [
    "# Space name should correspond to the space name \n",
    "# used for brute-force search\n",
    "space_name='negdotprod'"
   ]
  },
  {
   "cell_type": "code",
   "execution_count": 60,
   "metadata": {},
   "outputs": [
    {
     "data": {
      "text/plain": [
       "14019"
      ]
     },
     "execution_count": 60,
     "metadata": {},
     "output_type": "execute_result"
    }
   ],
   "source": [
    "# Intitialize the library, specify the space, the type of the vector and add data points \n",
    "index = nmslib.init(method='hnsw', space=space_name, data_type=nmslib.DataType.DENSE_VECTOR) \n",
    "index.addDataPointBatch(augmented_item_embeddings) "
   ]
  },
  {
   "cell_type": "code",
   "execution_count": 61,
   "metadata": {},
   "outputs": [
    {
     "data": {
      "text/plain": [
       "<nmslib.FloatIndex method='hnsw' space='negdotprod' at 0x600001c89800>"
      ]
     },
     "execution_count": 61,
     "metadata": {},
     "output_type": "execute_result"
    }
   ],
   "source": [
    "index"
   ]
  },
  {
   "cell_type": "code",
   "execution_count": 62,
   "metadata": {},
   "outputs": [
    {
     "name": "stdout",
     "output_type": "stream",
     "text": [
      "Index-time parameters {'M': 48, 'indexThreadQty': 4, 'efConstruction': 100}\n",
      "Indexing time = 0.202522\n"
     ]
    }
   ],
   "source": [
    "# Create an index\n",
    "start = time.time()\n",
    "index_time_params = {'M': M, 'indexThreadQty': num_threads, 'efConstruction': efC}\n",
    "index.createIndex(index_time_params) \n",
    "end = time.time() \n",
    "print('Index-time parameters', index_time_params)\n",
    "print('Indexing time = %f' % (end-start))"
   ]
  },
  {
   "cell_type": "code",
   "execution_count": 63,
   "metadata": {},
   "outputs": [
    {
     "name": "stdout",
     "output_type": "stream",
     "text": [
      "Setting query-time parameters {'efSearch': 100}\n"
     ]
    }
   ],
   "source": [
    "# Setting query-time parameters\n",
    "efS = 100\n",
    "query_time_params = {'efSearch': efS}\n",
    "print('Setting query-time parameters', query_time_params)\n",
    "index.setQueryTimeParams(query_time_params)"
   ]
  },
  {
   "cell_type": "code",
   "execution_count": 64,
   "metadata": {},
   "outputs": [],
   "source": [
    "query_matrix = augmented_user_embeddings[:1000, :]"
   ]
  },
  {
   "cell_type": "code",
   "execution_count": 65,
   "metadata": {},
   "outputs": [
    {
     "name": "stdout",
     "output_type": "stream",
     "text": [
      "kNN time total=0.008626 (sec), per query=0.000009 (sec), per query adjusted for thread number=0.000035 (sec)\n"
     ]
    }
   ],
   "source": [
    "# Querying\n",
    "query_qty = query_matrix.shape[0]\n",
    "start = time.time() \n",
    "nbrs = index.knnQueryBatch(query_matrix, k = K, num_threads = num_threads)\n",
    "end = time.time() \n",
    "print('kNN time total=%f (sec), per query=%f (sec), per query adjusted for thread number=%f (sec)' % \n",
    "      (end-start, float(end-start)/query_qty, num_threads*float(end-start)/query_qty)) "
   ]
  },
  {
   "cell_type": "code",
   "execution_count": 66,
   "metadata": {},
   "outputs": [
    {
     "data": {
      "text/plain": [
       "(array([ 8867, 12982,  3527, 11758,  8287,  3174,  2256,  4153, 10348,\n",
       "          118], dtype=int32),\n",
       " array([184.05742, 184.178  , 184.39885, 184.52432, 184.53716, 184.6088 ,\n",
       "        185.01271, 185.10115, 185.10686, 185.11636], dtype=float32))"
      ]
     },
     "execution_count": 66,
     "metadata": {},
     "output_type": "execute_result"
    }
   ],
   "source": [
    "nbrs[0]"
   ]
  },
  {
   "cell_type": "code",
   "execution_count": 67,
   "metadata": {},
   "outputs": [
    {
     "data": {
      "text/plain": [
       "array([184.05742, 184.178  , 184.39885, 184.52432, 184.53716, 184.6088 ,\n",
       "       185.01271, 185.10115, 185.10686, 185.11636], dtype=float32)"
      ]
     },
     "execution_count": 67,
     "metadata": {},
     "output_type": "execute_result"
    }
   ],
   "source": [
    "nbrs[0][1]"
   ]
  },
  {
   "cell_type": "code",
   "execution_count": 68,
   "metadata": {},
   "outputs": [],
   "source": [
    "def recommend_all(query_factors, index_factors, topn=10):\n",
    "    output = query_factors.dot(index_factors.T)\n",
    "    argpartition_indices = np.argpartition(output, -topn)[:, -topn:]\n",
    "\n",
    "    x_indices = np.repeat(np.arange(output.shape[0]), topn)\n",
    "    y_indices = argpartition_indices.flatten()\n",
    "    top_value = output[x_indices, y_indices].reshape(output.shape[0], topn)\n",
    "    top_indices = np.argsort(top_value)[:, ::-1]\n",
    "\n",
    "    y_indices = top_indices.flatten()\n",
    "    top_indices = argpartition_indices[x_indices, y_indices]\n",
    "    labels = top_indices.reshape(-1, topn)\n",
    "    distances = output[x_indices, top_indices].reshape(-1, topn)\n",
    "    return labels, distances"
   ]
  },
  {
   "cell_type": "code",
   "execution_count": 69,
   "metadata": {},
   "outputs": [
    {
     "data": {
      "text/plain": [
       "(array([[ 8867, 12982,  3527, 11758,  8287,  3174,  2256,  4153, 10348,\n",
       "           118]]),\n",
       " array([[-184.05740336, -184.17797718, -184.39885122, -184.52432216,\n",
       "         -184.53716474, -184.60879525, -185.01268947, -185.10115671,\n",
       "         -185.10684388, -185.11636774]]))"
      ]
     },
     "execution_count": 69,
     "metadata": {},
     "output_type": "execute_result"
    }
   ],
   "source": [
    "recommend_all(user_embeddings[[0], :], item_embeddings)"
   ]
  },
  {
   "cell_type": "code",
   "execution_count": 70,
   "metadata": {},
   "outputs": [
    {
     "data": {
      "text/plain": [
       "((1000, 34), (756562, 34))"
      ]
     },
     "execution_count": 70,
     "metadata": {},
     "output_type": "execute_result"
    }
   ],
   "source": [
    "item_embeddings[:1000, :].shape, user_embeddings.shape"
   ]
  },
  {
   "cell_type": "code",
   "execution_count": 71,
   "metadata": {},
   "outputs": [],
   "source": [
    "query_matrix_not_augmented = user_embeddings[:1000, :]"
   ]
  },
  {
   "cell_type": "code",
   "execution_count": 72,
   "metadata": {},
   "outputs": [
    {
     "name": "stdout",
     "output_type": "stream",
     "text": [
      "206 ms ± 10.2 ms per loop (mean ± std. dev. of 7 runs, 1 loop each)\n"
     ]
    }
   ],
   "source": [
    "%%timeit\n",
    "recommend_all(query_matrix_not_augmented, item_embeddings)"
   ]
  },
  {
   "cell_type": "code",
   "execution_count": 73,
   "metadata": {},
   "outputs": [
    {
     "name": "stdout",
     "output_type": "stream",
     "text": [
      "7.29 ms ± 103 µs per loop (mean ± std. dev. of 7 runs, 100 loops each)\n"
     ]
    }
   ],
   "source": [
    "%%timeit\n",
    "index.knnQueryBatch(query_matrix, k = K, num_threads = num_threads)"
   ]
  },
  {
   "cell_type": "code",
   "execution_count": 74,
   "metadata": {},
   "outputs": [],
   "source": [
    "import hnswlib"
   ]
  },
  {
   "cell_type": "code",
   "execution_count": 75,
   "metadata": {},
   "outputs": [
    {
     "name": "stdout",
     "output_type": "stream",
     "text": [
      "CPU times: user 952 ms, sys: 47.7 ms, total: 1e+03 ms\n",
      "Wall time: 94.4 ms\n"
     ]
    }
   ],
   "source": [
    "%%time\n",
    "max_elements, dim = augmented_item_embeddings.shape\n",
    "hnsw = hnswlib.Index(\"ip\", dim) # possible options for space are l2, cosine or ip\n",
    "\n",
    "# Initing index - the maximum number of elements should be known beforehand\n",
    "hnsw.init_index(max_elements, M, efC)\n",
    "\n",
    "# Element insertion (can be called several times)\n",
    "hnsw.add_items(augmented_item_embeddings)"
   ]
  },
  {
   "cell_type": "code",
   "execution_count": 76,
   "metadata": {},
   "outputs": [],
   "source": [
    "# Controlling the recall by setting ef, should always be > k\n",
    "hnsw.set_ef(efS)"
   ]
  },
  {
   "cell_type": "code",
   "execution_count": 77,
   "metadata": {},
   "outputs": [],
   "source": [
    "label, distance = hnsw.knn_query(query_matrix, k=k)"
   ]
  },
  {
   "cell_type": "code",
   "execution_count": 78,
   "metadata": {},
   "outputs": [
    {
     "data": {
      "text/plain": [
       "array([[ 8867, 12982,  3527, ...,  4153, 10348,   118],\n",
       "       [ 8867, 12982,  3527, ...,  4153,   118, 12243],\n",
       "       [ 8287, 11758, 13721, ...,  3174,  3809, 10330],\n",
       "       ...,\n",
       "       [ 8287, 11758,  8867, ..., 12139, 12982,  6492],\n",
       "       [ 8867, 11758,  8287, ..., 12512,  4153,  6667],\n",
       "       [12982,  8867,  3527, ..., 13772,  8513,  4153]], dtype=uint64)"
      ]
     },
     "execution_count": 78,
     "metadata": {},
     "output_type": "execute_result"
    }
   ],
   "source": [
    "label"
   ]
  },
  {
   "cell_type": "code",
   "execution_count": 79,
   "metadata": {},
   "outputs": [
    {
     "data": {
      "text/plain": [
       "array([[-184.0574 , -184.17798, -184.39886, ..., -185.10114, -185.10686,\n",
       "        -185.11635],\n",
       "       [-220.61137, -220.6664 , -220.91142, ..., -221.55711, -221.60637,\n",
       "        -221.63803],\n",
       "       [-198.92917, -198.95955, -199.00185, ..., -199.3266 , -199.36307,\n",
       "        -199.36728],\n",
       "       ...,\n",
       "       [-200.17957, -200.48221, -200.48912, ..., -201.06464, -201.19824,\n",
       "        -201.22412],\n",
       "       [-219.26947, -219.31493, -219.50241, ..., -220.13098, -220.14204,\n",
       "        -220.14986],\n",
       "       [-191.45169, -191.6257 , -191.84825, ..., -192.61856, -192.62114,\n",
       "        -192.67528]], dtype=float32)"
      ]
     },
     "execution_count": 79,
     "metadata": {},
     "output_type": "execute_result"
    }
   ],
   "source": [
    "1 - distance"
   ]
  },
  {
   "cell_type": "code",
   "execution_count": 80,
   "metadata": {},
   "outputs": [
    {
     "data": {
      "text/plain": [
       "-184.05740336207296"
      ]
     },
     "execution_count": 80,
     "metadata": {},
     "output_type": "execute_result"
    }
   ],
   "source": [
    "item_embeddings[8867].dot(user_embeddings[0])"
   ]
  },
  {
   "cell_type": "code",
   "execution_count": 81,
   "metadata": {},
   "outputs": [
    {
     "name": "stdout",
     "output_type": "stream",
     "text": [
      "[[ 8867 12982  3527 ...  4153 10348   118]\n",
      " [ 8867 12982  3527 ...  4153   118 12243]\n",
      " [ 8287 11758 13721 ...  3174  3809 10330]\n",
      " ...\n",
      " [ 8287 11758  8867 ... 12139 12982  6492]\n",
      " [ 8867 11758  8287 ... 12512  4153  6667]\n",
      " [12982  8867  3527 ... 13772  8513  4153]]\n",
      "[[-184.05740336 -184.17797718 -184.39885122 ... -185.10115671\n",
      "  -185.10684388 -185.11636774]\n",
      " [-220.61137902 -220.66641107 -220.91140402 ... -221.55709346\n",
      "  -221.6063776  -221.63805658]\n",
      " [-198.92916239 -198.95951994 -199.00185253 ... -199.32658814\n",
      "  -199.36309606 -199.36727971]\n",
      " ...\n",
      " [-200.17957133 -200.48221844 -200.48913154 ... -201.06461744\n",
      "  -201.19825035 -201.22410638]\n",
      " [-219.26946139 -219.31492795 -219.50240637 ... -220.13098585\n",
      "  -220.142046   -220.14982973]\n",
      " [-191.45166778 -191.6257109  -191.8482294  ... -192.61855672\n",
      "  -192.62113107 -192.67528727]]\n"
     ]
    }
   ],
   "source": [
    "labels, distances = recommend_all(user_embeddings[:1000, :], item_embeddings)\n",
    "print(labels)\n",
    "print(distances)"
   ]
  },
  {
   "cell_type": "markdown",
   "metadata": {},
   "source": [
    "# Домашнее задание\n",
    "\n",
    "Домашнее задание состоит из нескольких блоков.\n",
    "\n",
    "\n",
    "## Эксперименты в ipynb ноутбуках (11 баллов)\n",
    "- Необходимо будет перебрать $N$ моделей $(N \\geq 2)$ матричной факторизации и перебрать у них $K$ гиперпараметров $(K \\geq 2)$ **(5 баллов)**\n",
    "    - Для перебора гиперпараметров можно использовать [`Optuna`](https://github.com/optuna/optuna), [`Hyperopt`](https://github.com/hyperopt/hyperopt)\n",
    "- Воспользоваться методом приближенного поиска соседей для выдачи рекомендаций. **(2 балла)**\n",
    "    - Можно использовать любые удобные: [`Annoy`](https://github.com/spotify/annoy), [`nmslib`](https://github.com/nmslib/nmslib) и.т.д\n",
    "- Добавить 3 \"аватаров\" (искусственных пользователей) и посмотреть рекомендации итоговой модели на них. Объяснить почему добавили именно таких пользователей. **(2 балла)**\n",
    "- Придумать как можно обработать рекомендации для холодных пользователей. **(2 балла)**\n",
    "\n",
    "Примечание: за невоспроизводимый код в ноутбуках (например, нарушен порядок выполнения ячеек, вызываются переменные, которые нигде не были объявлены ранее и.т.п) будут штрафы на усмотрение проверяющего.\n",
    "\n",
    "\n",
    "## Реализация итоговой модели в сервисе (9 баллов)\n",
    "- Пробитие бейзлайна $MAP@10 \\geq 0.074921$ **(6 баллов)**\n",
    "- Код сервиса соответствует критериям читаемости и воспроизводимости **(3 балла)**\n",
    "\n",
    "\n",
    "\n"
   ]
  },
  {
   "cell_type": "code",
   "execution_count": null,
   "metadata": {},
   "outputs": [],
   "source": []
  }
 ],
 "metadata": {
  "kernelspec": {
   "display_name": "Python 3 (ipykernel)",
   "language": "python",
   "name": "python3"
  },
  "language_info": {
   "codemirror_mode": {
    "name": "ipython",
    "version": 3
   },
   "file_extension": ".py",
   "mimetype": "text/x-python",
   "name": "python",
   "nbconvert_exporter": "python",
   "pygments_lexer": "ipython3",
   "version": "3.8.10"
  }
 },
 "nbformat": 4,
 "nbformat_minor": 4
}
