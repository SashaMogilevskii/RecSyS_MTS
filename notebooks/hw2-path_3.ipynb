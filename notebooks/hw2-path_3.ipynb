{
 "cells": [
  {
   "cell_type": "code",
   "execution_count": 1,
   "id": "14dec809",
   "metadata": {
    "ExecuteTime": {
     "end_time": "2022-11-16T13:16:59.822474Z",
     "start_time": "2022-11-16T13:16:58.134477Z"
    }
   },
   "outputs": [],
   "source": [
    "from itertools import product\n",
    "import pandas as pd\n",
    "import numpy as np\n",
    "import numba as nb\n",
    "import requests\n",
    "from tqdm.auto import tqdm\n",
    "from rectools import Columns\n",
    "from matplotlib import pyplot as plt"
   ]
  },
  {
   "cell_type": "code",
   "execution_count": 2,
   "id": "e3551b5e",
   "metadata": {
    "ExecuteTime": {
     "end_time": "2022-11-16T13:16:59.838475Z",
     "start_time": "2022-11-16T13:16:59.825476Z"
    }
   },
   "outputs": [],
   "source": [
    "np.random.seed(23)"
   ]
  },
  {
   "cell_type": "markdown",
   "source": [
    "# Метрики"
   ],
   "metadata": {
    "collapsed": false
   }
  },
  {
   "cell_type": "markdown",
   "id": "17c1fea1",
   "metadata": {},
   "source": [
    "## Get KION dataset"
   ]
  },
  {
   "cell_type": "code",
   "execution_count": 3,
   "id": "ecf8a18a",
   "metadata": {
    "ExecuteTime": {
     "end_time": "2022-11-16T13:17:11.023473Z",
     "start_time": "2022-11-16T13:17:11.010473Z"
    }
   },
   "outputs": [],
   "source": [
    "url = 'https://github.com/irsafilo/KION_DATASET/raw/f69775be31fa5779907cf0a92ddedb70037fb5ae/data_original.zip'"
   ]
  },
  {
   "cell_type": "code",
   "execution_count": 4,
   "id": "0db2a489",
   "metadata": {
    "ExecuteTime": {
     "end_time": "2022-11-16T13:17:18.301478Z",
     "start_time": "2022-11-16T13:17:11.026473Z"
    }
   },
   "outputs": [
    {
     "data": {
      "application/vnd.jupyter.widget-view+json": {
       "model_id": "0e8a84517fd54679b64ab7ec5a11001a",
       "version_major": 2,
       "version_minor": 0
      },
      "text/plain": [
       "kion dataset download:   0%|          | 0.00/78.8M [00:00<?, ?iB/s]"
      ]
     },
     "metadata": {},
     "output_type": "display_data"
    }
   ],
   "source": [
    "req = requests.get(url, stream=True)\n",
    "\n",
    "with open('kion.zip', 'wb') as fd:\n",
    "    total_size_in_bytes = int(req.headers.get('Content-Length', 0))\n",
    "    progress_bar = tqdm(desc='kion dataset download', total=total_size_in_bytes, unit='iB', unit_scale=True)\n",
    "    for chunk in req.iter_content(chunk_size=2 ** 20):\n",
    "        progress_bar.update(len(chunk))\n",
    "        fd.write(chunk)"
   ]
  },
  {
   "cell_type": "code",
   "execution_count": 5,
   "id": "a8517ae2",
   "metadata": {
    "ExecuteTime": {
     "end_time": "2022-11-16T13:17:18.316478Z",
     "start_time": "2022-11-16T13:17:18.306479Z"
    }
   },
   "outputs": [],
   "source": [
    "#!unzip kion.zip"
   ]
  },
  {
   "cell_type": "code",
   "execution_count": 6,
   "id": "e7970f36",
   "metadata": {
    "ExecuteTime": {
     "end_time": "2022-11-16T13:17:19.311474Z",
     "start_time": "2022-11-16T13:17:18.319478Z"
    }
   },
   "outputs": [],
   "source": [
    "import zipfile as zf\n",
    "\n",
    "files = zf.ZipFile('kion.zip','r')\n",
    "files.extractall()\n",
    "files.close()"
   ]
  },
  {
   "cell_type": "markdown",
   "id": "d636a7d5",
   "metadata": {},
   "source": [
    "## Read data"
   ]
  },
  {
   "cell_type": "code",
   "execution_count": 7,
   "id": "8b021111",
   "metadata": {
    "ExecuteTime": {
     "end_time": "2022-11-16T13:17:02.540473Z",
     "start_time": "2022-11-16T13:16:59.841479Z"
    }
   },
   "outputs": [],
   "source": [
    "interactions = pd.read_csv('data_original/interactions.csv')\n",
    "\n",
    "interactions.rename(\n",
    "    columns={\n",
    "        'track_id': Columns.Item,\n",
    "        'last_watch_dt': Columns.Datetime,\n",
    "        'total_dur': Columns.Weight\n",
    "    },\n",
    "    inplace=True)\n",
    "\n",
    "interactions[Columns.Datetime] = pd.to_datetime(interactions[Columns.Datetime])"
   ]
  },
  {
   "cell_type": "code",
   "execution_count": 8,
   "id": "1170099f",
   "metadata": {
    "ExecuteTime": {
     "end_time": "2022-11-16T13:17:03.522473Z",
     "start_time": "2022-11-16T13:17:02.544478Z"
    }
   },
   "outputs": [],
   "source": [
    "users = pd.read_csv('data_original/users.csv')\n",
    "items = pd.read_csv('data_original/items.csv')"
   ]
  },
  {
   "cell_type": "code",
   "execution_count": 9,
   "id": "ebc85847",
   "metadata": {
    "ExecuteTime": {
     "end_time": "2022-11-16T13:17:03.553474Z",
     "start_time": "2022-11-16T13:17:03.525477Z"
    }
   },
   "outputs": [
    {
     "data": {
      "text/html": [
       "<div>\n",
       "<style scoped>\n",
       "    .dataframe tbody tr th:only-of-type {\n",
       "        vertical-align: middle;\n",
       "    }\n",
       "\n",
       "    .dataframe tbody tr th {\n",
       "        vertical-align: top;\n",
       "    }\n",
       "\n",
       "    .dataframe thead th {\n",
       "        text-align: right;\n",
       "    }\n",
       "</style>\n",
       "<table border=\"1\" class=\"dataframe\">\n",
       "  <thead>\n",
       "    <tr style=\"text-align: right;\">\n",
       "      <th></th>\n",
       "      <th>user_id</th>\n",
       "      <th>item_id</th>\n",
       "      <th>datetime</th>\n",
       "      <th>weight</th>\n",
       "      <th>watched_pct</th>\n",
       "    </tr>\n",
       "  </thead>\n",
       "  <tbody>\n",
       "    <tr>\n",
       "      <th>0</th>\n",
       "      <td>176549</td>\n",
       "      <td>9506</td>\n",
       "      <td>2021-05-11</td>\n",
       "      <td>4250</td>\n",
       "      <td>72.0</td>\n",
       "    </tr>\n",
       "    <tr>\n",
       "      <th>1</th>\n",
       "      <td>699317</td>\n",
       "      <td>1659</td>\n",
       "      <td>2021-05-29</td>\n",
       "      <td>8317</td>\n",
       "      <td>100.0</td>\n",
       "    </tr>\n",
       "    <tr>\n",
       "      <th>2</th>\n",
       "      <td>656683</td>\n",
       "      <td>7107</td>\n",
       "      <td>2021-05-09</td>\n",
       "      <td>10</td>\n",
       "      <td>0.0</td>\n",
       "    </tr>\n",
       "    <tr>\n",
       "      <th>3</th>\n",
       "      <td>864613</td>\n",
       "      <td>7638</td>\n",
       "      <td>2021-07-05</td>\n",
       "      <td>14483</td>\n",
       "      <td>100.0</td>\n",
       "    </tr>\n",
       "    <tr>\n",
       "      <th>4</th>\n",
       "      <td>964868</td>\n",
       "      <td>9506</td>\n",
       "      <td>2021-04-30</td>\n",
       "      <td>6725</td>\n",
       "      <td>100.0</td>\n",
       "    </tr>\n",
       "    <tr>\n",
       "      <th>5476246</th>\n",
       "      <td>648596</td>\n",
       "      <td>12225</td>\n",
       "      <td>2021-08-13</td>\n",
       "      <td>76</td>\n",
       "      <td>0.0</td>\n",
       "    </tr>\n",
       "    <tr>\n",
       "      <th>5476247</th>\n",
       "      <td>546862</td>\n",
       "      <td>9673</td>\n",
       "      <td>2021-04-13</td>\n",
       "      <td>2308</td>\n",
       "      <td>49.0</td>\n",
       "    </tr>\n",
       "    <tr>\n",
       "      <th>5476248</th>\n",
       "      <td>697262</td>\n",
       "      <td>15297</td>\n",
       "      <td>2021-08-20</td>\n",
       "      <td>18307</td>\n",
       "      <td>63.0</td>\n",
       "    </tr>\n",
       "    <tr>\n",
       "      <th>5476249</th>\n",
       "      <td>384202</td>\n",
       "      <td>16197</td>\n",
       "      <td>2021-04-19</td>\n",
       "      <td>6203</td>\n",
       "      <td>100.0</td>\n",
       "    </tr>\n",
       "    <tr>\n",
       "      <th>5476250</th>\n",
       "      <td>319709</td>\n",
       "      <td>4436</td>\n",
       "      <td>2021-08-15</td>\n",
       "      <td>3921</td>\n",
       "      <td>45.0</td>\n",
       "    </tr>\n",
       "  </tbody>\n",
       "</table>\n",
       "</div>"
      ],
      "text/plain": [
       "         user_id  item_id   datetime  weight  watched_pct\n",
       "0         176549     9506 2021-05-11    4250         72.0\n",
       "1         699317     1659 2021-05-29    8317        100.0\n",
       "2         656683     7107 2021-05-09      10          0.0\n",
       "3         864613     7638 2021-07-05   14483        100.0\n",
       "4         964868     9506 2021-04-30    6725        100.0\n",
       "5476246   648596    12225 2021-08-13      76          0.0\n",
       "5476247   546862     9673 2021-04-13    2308         49.0\n",
       "5476248   697262    15297 2021-08-20   18307         63.0\n",
       "5476249   384202    16197 2021-04-19    6203        100.0\n",
       "5476250   319709     4436 2021-08-15    3921         45.0"
      ]
     },
     "execution_count": 9,
     "metadata": {},
     "output_type": "execute_result"
    }
   ],
   "source": [
    "def headtail(df):\n",
    "    return pd.concat([df.head(), df.tail()])\n",
    "\n",
    "headtail(interactions)"
   ]
  },
  {
   "cell_type": "code",
   "execution_count": 10,
   "id": "5cc82806",
   "metadata": {
    "ExecuteTime": {
     "end_time": "2022-11-16T13:17:03.569476Z",
     "start_time": "2022-11-16T13:17:03.556474Z"
    }
   },
   "outputs": [
    {
     "name": "stdout",
     "output_type": "stream",
     "text": [
      "<class 'pandas.core.frame.DataFrame'>\n",
      "RangeIndex: 5476251 entries, 0 to 5476250\n",
      "Data columns (total 5 columns):\n",
      " #   Column       Dtype         \n",
      "---  ------       -----         \n",
      " 0   user_id      int64         \n",
      " 1   item_id      int64         \n",
      " 2   datetime     datetime64[ns]\n",
      " 3   weight       int64         \n",
      " 4   watched_pct  float64       \n",
      "dtypes: datetime64[ns](1), float64(1), int64(3)\n",
      "memory usage: 208.9 MB\n"
     ]
    }
   ],
   "source": [
    "interactions.info(memory_usage='deep')"
   ]
  },
  {
   "cell_type": "markdown",
   "id": "ff9a7f8e",
   "metadata": {},
   "source": [
    "Выделим небольшой кусок из данных, чтобы не слишком страдать"
   ]
  },
  {
   "cell_type": "code",
   "execution_count": 11,
   "id": "5b28d22e",
   "metadata": {
    "ExecuteTime": {
     "end_time": "2022-11-16T13:17:03.617474Z",
     "start_time": "2022-11-16T13:17:03.571473Z"
    }
   },
   "outputs": [
    {
     "data": {
      "text/html": [
       "<div>\n",
       "<style scoped>\n",
       "    .dataframe tbody tr th:only-of-type {\n",
       "        vertical-align: middle;\n",
       "    }\n",
       "\n",
       "    .dataframe tbody tr th {\n",
       "        vertical-align: top;\n",
       "    }\n",
       "\n",
       "    .dataframe thead th {\n",
       "        text-align: right;\n",
       "    }\n",
       "</style>\n",
       "<table border=\"1\" class=\"dataframe\">\n",
       "  <thead>\n",
       "    <tr style=\"text-align: right;\">\n",
       "      <th></th>\n",
       "      <th>user_id</th>\n",
       "      <th>item_id</th>\n",
       "    </tr>\n",
       "  </thead>\n",
       "  <tbody>\n",
       "    <tr>\n",
       "      <th>0</th>\n",
       "      <td>70720</td>\n",
       "      <td>4880</td>\n",
       "    </tr>\n",
       "    <tr>\n",
       "      <th>1</th>\n",
       "      <td>57607</td>\n",
       "      <td>4151</td>\n",
       "    </tr>\n",
       "    <tr>\n",
       "      <th>2</th>\n",
       "      <td>57607</td>\n",
       "      <td>10440</td>\n",
       "    </tr>\n",
       "    <tr>\n",
       "      <th>3</th>\n",
       "      <td>70720</td>\n",
       "      <td>4881</td>\n",
       "    </tr>\n",
       "    <tr>\n",
       "      <th>4</th>\n",
       "      <td>403227</td>\n",
       "      <td>6353</td>\n",
       "    </tr>\n",
       "    <tr>\n",
       "      <th>5</th>\n",
       "      <td>403227</td>\n",
       "      <td>1736</td>\n",
       "    </tr>\n",
       "    <tr>\n",
       "      <th>6</th>\n",
       "      <td>70720</td>\n",
       "      <td>6327</td>\n",
       "    </tr>\n",
       "    <tr>\n",
       "      <th>7</th>\n",
       "      <td>57607</td>\n",
       "      <td>13865</td>\n",
       "    </tr>\n",
       "    <tr>\n",
       "      <th>8</th>\n",
       "      <td>403227</td>\n",
       "      <td>5336</td>\n",
       "    </tr>\n",
       "    <tr>\n",
       "      <th>9</th>\n",
       "      <td>403227</td>\n",
       "      <td>181</td>\n",
       "    </tr>\n",
       "  </tbody>\n",
       "</table>\n",
       "</div>"
      ],
      "text/plain": [
       "   user_id  item_id\n",
       "0    70720     4880\n",
       "1    57607     4151\n",
       "2    57607    10440\n",
       "3    70720     4881\n",
       "4   403227     6353\n",
       "5   403227     1736\n",
       "6    70720     6327\n",
       "7    57607    13865\n",
       "8   403227     5336\n",
       "9   403227      181"
      ]
     },
     "execution_count": 11,
     "metadata": {},
     "output_type": "execute_result"
    }
   ],
   "source": [
    "sample_users = [57607, 403227, 70720]\n",
    "df = interactions[interactions[Columns.User].isin(sample_users)].reset_index(drop=True)\n",
    "del df[Columns.Datetime], df[Columns.Weight], df['watched_pct']\n",
    "df"
   ]
  },
  {
   "cell_type": "code",
   "execution_count": 12,
   "id": "c1923b07",
   "metadata": {
    "ExecuteTime": {
     "end_time": "2022-11-16T13:17:03.632473Z",
     "start_time": "2022-11-16T13:17:03.620473Z"
    }
   },
   "outputs": [
    {
     "name": "stdout",
     "output_type": "stream",
     "text": [
      "Users [ 70720  57607 403227]\n",
      "Items [ 4880  4151 10440  4881  6353  1736  6327 13865  5336   181]\n"
     ]
    }
   ],
   "source": [
    "print('Users', df[Columns.User].unique())\n",
    "sample_items = df[Columns.Item].unique()\n",
    "print('Items', sample_items)"
   ]
  },
  {
   "cell_type": "markdown",
   "id": "66107dd0",
   "metadata": {},
   "source": [
    "## Naive vs Numba vs Pandas"
   ]
  },
  {
   "cell_type": "code",
   "execution_count": 13,
   "id": "b641c46e",
   "metadata": {
    "ExecuteTime": {
     "end_time": "2022-11-16T17:04:48.907677Z",
     "start_time": "2022-11-16T17:04:48.887676Z"
    }
   },
   "outputs": [
    {
     "data": {
      "text/html": [
       "<div>\n",
       "<style scoped>\n",
       "    .dataframe tbody tr th:only-of-type {\n",
       "        vertical-align: middle;\n",
       "    }\n",
       "\n",
       "    .dataframe tbody tr th {\n",
       "        vertical-align: top;\n",
       "    }\n",
       "\n",
       "    .dataframe thead th {\n",
       "        text-align: right;\n",
       "    }\n",
       "</style>\n",
       "<table border=\"1\" class=\"dataframe\">\n",
       "  <thead>\n",
       "    <tr style=\"text-align: right;\">\n",
       "      <th></th>\n",
       "      <th>user_id</th>\n",
       "      <th>item_id</th>\n",
       "    </tr>\n",
       "  </thead>\n",
       "  <tbody>\n",
       "    <tr>\n",
       "      <th>0</th>\n",
       "      <td>70720</td>\n",
       "      <td>4880</td>\n",
       "    </tr>\n",
       "    <tr>\n",
       "      <th>1</th>\n",
       "      <td>57607</td>\n",
       "      <td>4151</td>\n",
       "    </tr>\n",
       "    <tr>\n",
       "      <th>2</th>\n",
       "      <td>57607</td>\n",
       "      <td>10440</td>\n",
       "    </tr>\n",
       "    <tr>\n",
       "      <th>3</th>\n",
       "      <td>70720</td>\n",
       "      <td>4881</td>\n",
       "    </tr>\n",
       "    <tr>\n",
       "      <th>4</th>\n",
       "      <td>403227</td>\n",
       "      <td>6353</td>\n",
       "    </tr>\n",
       "    <tr>\n",
       "      <th>5</th>\n",
       "      <td>403227</td>\n",
       "      <td>1736</td>\n",
       "    </tr>\n",
       "    <tr>\n",
       "      <th>6</th>\n",
       "      <td>70720</td>\n",
       "      <td>6327</td>\n",
       "    </tr>\n",
       "    <tr>\n",
       "      <th>7</th>\n",
       "      <td>57607</td>\n",
       "      <td>13865</td>\n",
       "    </tr>\n",
       "    <tr>\n",
       "      <th>8</th>\n",
       "      <td>403227</td>\n",
       "      <td>5336</td>\n",
       "    </tr>\n",
       "    <tr>\n",
       "      <th>9</th>\n",
       "      <td>403227</td>\n",
       "      <td>181</td>\n",
       "    </tr>\n",
       "  </tbody>\n",
       "</table>\n",
       "</div>"
      ],
      "text/plain": [
       "   user_id  item_id\n",
       "0    70720     4880\n",
       "1    57607     4151\n",
       "2    57607    10440\n",
       "3    70720     4881\n",
       "4   403227     6353\n",
       "5   403227     1736\n",
       "6    70720     6327\n",
       "7    57607    13865\n",
       "8   403227     5336\n",
       "9   403227      181"
      ]
     },
     "execution_count": 13,
     "metadata": {},
     "output_type": "execute_result"
    }
   ],
   "source": [
    "df"
   ]
  },
  {
   "cell_type": "code",
   "execution_count": 14,
   "id": "003c90fd",
   "metadata": {
    "ExecuteTime": {
     "end_time": "2022-11-16T13:17:19.763472Z",
     "start_time": "2022-11-16T13:17:19.751472Z"
    }
   },
   "outputs": [],
   "source": [
    "def generate_subsample(users_count, top_k):\n",
    "    users = np.random.choice(interactions[Columns.User].unique(), users_count, replace=False)\n",
    "    df = interactions[interactions[Columns.User].isin(users)].reset_index(drop=True)\n",
    "    del df[Columns.Datetime], df[Columns.Weight], df['watched_pct']\n",
    "\n",
    "    recs = np.random.choice(df[Columns.Item], size=(users_count, top_k))\n",
    "    return df, users, recs"
   ]
  },
  {
   "cell_type": "code",
   "execution_count": 15,
   "id": "cd795c2a",
   "metadata": {
    "ExecuteTime": {
     "end_time": "2022-11-16T13:17:04.190474Z",
     "start_time": "2022-11-16T13:17:04.178474Z"
    }
   },
   "outputs": [],
   "source": [
    "def mrr_naive(target, users, recs):\n",
    "    mrr = []\n",
    "    for i, user in enumerate(users):\n",
    "        r = 0\n",
    "        user_target = target[target[:, 0] == user][:, 1]\n",
    "        for j in range(len(recs[i])):\n",
    "            if recs[i][j] in user_target:\n",
    "                r = j + 1\n",
    "                break\n",
    "        if r == 0:\n",
    "            mrr.append(0)\n",
    "        else:\n",
    "            mrr.append(1 / r)\n",
    "    return sum(mrr) / len(users)"
   ]
  },
  {
   "cell_type": "code",
   "execution_count": 16,
   "id": "6e9013f4",
   "metadata": {
    "ExecuteTime": {
     "end_time": "2022-11-16T13:17:04.270475Z",
     "start_time": "2022-11-16T13:17:04.208473Z"
    }
   },
   "outputs": [],
   "source": [
    "@nb.njit(cache=True, parallel=True)\n",
    "def mrr_numba(target, users, recs):\n",
    "    mrr = np.zeros(len(users))\n",
    "    for i in nb.prange(len(users)):\n",
    "        user = users[i]\n",
    "        r = 0\n",
    "        user_target = target[target[:, 0] == user][:, 1]\n",
    "        for j in nb.prange(len(recs[i])):\n",
    "            if recs[i][j] in user_target:\n",
    "                r = j + 1\n",
    "                break\n",
    "        if r == 0:\n",
    "            mrr[i] = 0\n",
    "        else:\n",
    "            mrr[i] = 1 / r\n",
    "    return mrr.mean()"
   ]
  },
  {
   "cell_type": "code",
   "execution_count": 17,
   "id": "eb34dfeb",
   "metadata": {
    "ExecuteTime": {
     "end_time": "2022-11-16T13:17:04.950473Z",
     "start_time": "2022-11-16T13:17:04.938474Z"
    }
   },
   "outputs": [],
   "source": [
    "def mrr_pandas(df, users, recs, k):\n",
    "    df_recs = pd.DataFrame({\n",
    "        Columns.User: np.repeat(users, k),\n",
    "        Columns.Item: recs.ravel()\n",
    "    })\n",
    "    df_recs[Columns.Rank] = df_recs.groupby(Columns.User).cumcount() + 1\n",
    "    df_recs = df.merge(df_recs, how='left', left_on=Columns.UserItem, right_on=Columns.UserItem)\n",
    "    rank = df_recs.groupby(Columns.User)[Columns.Rank].agg('min')\n",
    "\n",
    "    mrr = (1/rank).sum() / len(rank)\n",
    "    return mrr"
   ]
  },
  {
   "cell_type": "code",
   "execution_count": 18,
   "id": "2f7c561e",
   "metadata": {},
   "outputs": [
    {
     "name": "stdout",
     "output_type": "stream",
     "text": [
      "Users:  100  Top k:  10\n",
      "Users:  100  Top k:  50\n",
      "Users:  100  Top k:  100\n",
      "Users:  1000  Top k:  10\n",
      "Users:  1000  Top k:  50\n",
      "Users:  1000  Top k:  100\n",
      "Users:  10000  Top k:  10\n",
      "Users:  10000  Top k:  50\n",
      "Users:  10000  Top k:  100\n",
      "Users:  100000  Top k:  10\n",
      "Users:  100000  Top k:  50\n",
      "Users:  100000  Top k:  100\n"
     ]
    }
   ],
   "source": [
    "users_count_list = [100, 1000, 10000, 100000]\n",
    "top_k_list = [10, 50, 100]\n",
    "data = {'users': [], 'top_k': [], 'naive': [], 'numba': [], 'pandas': []}\n",
    "for user_count, top_k in product(users_count_list, top_k_list):\n",
    "    print(\"Users: \", user_count, \" Top k: \", top_k)"
   ]
  },
  {
   "cell_type": "code",
   "execution_count": 19,
   "id": "fd976a60",
   "metadata": {
    "scrolled": true
   },
   "outputs": [
    {
     "name": "stdout",
     "output_type": "stream",
     "text": [
      "Users:  100  Top k:  10\n",
      "Naive calculating...\n",
      "3.91 ms ± 1.35 ms per loop (mean ± std. dev. of 7 runs, 10 loops each)\n",
      "The slowest run took 284.67 times longer than the fastest. This could mean that an intermediate result is being cached.\n",
      "2.14 ms ± 5.12 ms per loop (mean ± std. dev. of 7 runs, 10 loops each)\n",
      "Numba calculating...\n",
      "55.2 µs ± 4.61 µs per loop (mean ± std. dev. of 7 runs, 10 loops each)\n",
      "Pandas calculating...\n",
      "3.45 ms ± 215 µs per loop (mean ± std. dev. of 7 runs, 10 loops each)\n",
      "Users:  100  Top k:  50\n",
      "Naive calculating...\n",
      "8.06 ms ± 179 µs per loop (mean ± std. dev. of 7 runs, 10 loops each)\n",
      "Numba calculating...\n",
      "78.2 µs ± 9.32 µs per loop (mean ± std. dev. of 7 runs, 10 loops each)\n",
      "Pandas calculating...\n",
      "3.64 ms ± 163 µs per loop (mean ± std. dev. of 7 runs, 10 loops each)\n",
      "Users:  100  Top k:  100\n",
      "Naive calculating...\n",
      "11.7 ms ± 146 µs per loop (mean ± std. dev. of 7 runs, 10 loops each)\n",
      "Numba calculating...\n",
      "86.9 µs ± 10.6 µs per loop (mean ± std. dev. of 7 runs, 10 loops each)\n",
      "Pandas calculating...\n",
      "4.48 ms ± 360 µs per loop (mean ± std. dev. of 7 runs, 10 loops each)\n",
      "Users:  1000  Top k:  10\n",
      "Naive calculating...\n",
      "37 ms ± 590 µs per loop (mean ± std. dev. of 7 runs, 10 loops each)\n",
      "Numba calculating...\n",
      "3.96 ms ± 164 µs per loop (mean ± std. dev. of 7 runs, 10 loops each)\n",
      "Pandas calculating...\n",
      "4.9 ms ± 176 µs per loop (mean ± std. dev. of 7 runs, 10 loops each)\n",
      "Users:  1000  Top k:  50\n",
      "Naive calculating...\n",
      "89 ms ± 397 µs per loop (mean ± std. dev. of 7 runs, 10 loops each)\n",
      "Numba calculating...\n",
      "3.82 ms ± 159 µs per loop (mean ± std. dev. of 7 runs, 10 loops each)\n",
      "Pandas calculating...\n",
      "7.4 ms ± 144 µs per loop (mean ± std. dev. of 7 runs, 10 loops each)\n",
      "Users:  1000  Top k:  100\n",
      "Naive calculating...\n",
      "140 ms ± 604 µs per loop (mean ± std. dev. of 7 runs, 10 loops each)\n",
      "Numba calculating...\n",
      "3.67 ms ± 69.3 µs per loop (mean ± std. dev. of 7 runs, 10 loops each)\n",
      "Pandas calculating...\n",
      "11.1 ms ± 117 µs per loop (mean ± std. dev. of 7 runs, 10 loops each)\n",
      "Users:  10000  Top k:  10\n",
      "Naive calculating...\n",
      "1.25 s ± 1.6 ms per loop (mean ± std. dev. of 7 runs, 10 loops each)\n",
      "Numba calculating...\n",
      "395 ms ± 27 ms per loop (mean ± std. dev. of 7 runs, 10 loops each)\n",
      "Pandas calculating...\n",
      "20.4 ms ± 190 µs per loop (mean ± std. dev. of 7 runs, 10 loops each)\n",
      "Users:  10000  Top k:  50\n",
      "Naive calculating...\n",
      "1.83 s ± 8.85 ms per loop (mean ± std. dev. of 7 runs, 10 loops each)\n",
      "Numba calculating...\n",
      "421 ms ± 21.2 ms per loop (mean ± std. dev. of 7 runs, 10 loops each)\n",
      "Pandas calculating...\n",
      "57.3 ms ± 364 µs per loop (mean ± std. dev. of 7 runs, 10 loops each)\n",
      "Users:  10000  Top k:  100\n",
      "Naive calculating...\n",
      "2.24 s ± 3.3 ms per loop (mean ± std. dev. of 7 runs, 10 loops each)\n",
      "Numba calculating...\n",
      "389 ms ± 38 ms per loop (mean ± std. dev. of 7 runs, 10 loops each)\n",
      "Pandas calculating...\n",
      "120 ms ± 1.35 ms per loop (mean ± std. dev. of 7 runs, 10 loops each)\n",
      "Users:  100000  Top k:  10\n",
      "Naive calculating...\n",
      "1min 38s ± 468 ms per loop (mean ± std. dev. of 7 runs, 10 loops each)\n",
      "Numba calculating...\n",
      "38.5 s ± 259 ms per loop (mean ± std. dev. of 7 runs, 10 loops each)\n",
      "Pandas calculating...\n",
      "250 ms ± 2.15 ms per loop (mean ± std. dev. of 7 runs, 10 loops each)\n",
      "Users:  100000  Top k:  50\n",
      "Naive calculating...\n",
      "1min 44s ± 73.8 ms per loop (mean ± std. dev. of 7 runs, 10 loops each)\n",
      "Numba calculating...\n",
      "39 s ± 337 ms per loop (mean ± std. dev. of 7 runs, 10 loops each)\n",
      "Pandas calculating...\n",
      "1.04 s ± 11.7 ms per loop (mean ± std. dev. of 7 runs, 10 loops each)\n",
      "Users:  100000  Top k:  100\n",
      "Naive calculating...\n",
      "1min 49s ± 86.3 ms per loop (mean ± std. dev. of 7 runs, 10 loops each)\n",
      "Numba calculating...\n",
      "39 s ± 246 ms per loop (mean ± std. dev. of 7 runs, 10 loops each)\n",
      "Pandas calculating...\n",
      "1.97 s ± 26.5 ms per loop (mean ± std. dev. of 7 runs, 10 loops each)\n"
     ]
    }
   ],
   "source": [
    "users_count_list = [100, 1000, 10000, 100000]\n",
    "top_k_list = [10, 50, 100]\n",
    "data = {'users': [], 'top_k': [], 'naive': [], 'numba': [], 'pandas': []}\n",
    "for user_count, top_k in product(users_count_list, top_k_list):\n",
    "    print(\"Users: \", user_count, \" Top k: \", top_k)\n",
    "    df, users, recs = generate_subsample(user_count, top_k)\n",
    "    data['users'].append(user_count)\n",
    "    data['top_k'].append(top_k)\n",
    "\n",
    "    print(\"Naive calculating...\")\n",
    "    result_naive = %timeit -n 10 -o mrr_naive(df.values, users, recs)\n",
    "\n",
    "    if user_count == 100 and top_k == 10:\n",
    "        %timeit -n 10 -o mrr_numba(df.values, users, recs)     # warming-up\n",
    "    print(\"Numba calculating...\")\n",
    "    result_numba = %timeit -n 10 -o mrr_numba(df.values, users, recs)\n",
    "    print(\"Pandas calculating...\")\n",
    "    result_pandas = %timeit -n 10 -o mrr_pandas(df, users, recs, top_k)\n",
    "\n",
    "    data['naive'].append(np.mean(result_naive.all_runs))\n",
    "    data['numba'].append(np.mean(result_numba.all_runs))\n",
    "    data['pandas'].append(np.mean(result_pandas.all_runs))"
   ]
  },
  {
   "cell_type": "code",
   "execution_count": 20,
   "id": "27c930a0",
   "metadata": {
    "scrolled": false
   },
   "outputs": [
    {
     "data": {
      "text/html": [
       "<div>\n",
       "<style scoped>\n",
       "    .dataframe tbody tr th:only-of-type {\n",
       "        vertical-align: middle;\n",
       "    }\n",
       "\n",
       "    .dataframe tbody tr th {\n",
       "        vertical-align: top;\n",
       "    }\n",
       "\n",
       "    .dataframe thead th {\n",
       "        text-align: right;\n",
       "    }\n",
       "</style>\n",
       "<table border=\"1\" class=\"dataframe\">\n",
       "  <thead>\n",
       "    <tr style=\"text-align: right;\">\n",
       "      <th></th>\n",
       "      <th>users</th>\n",
       "      <th>top_k</th>\n",
       "      <th>naive</th>\n",
       "      <th>numba</th>\n",
       "      <th>pandas</th>\n",
       "    </tr>\n",
       "  </thead>\n",
       "  <tbody>\n",
       "    <tr>\n",
       "      <th>0</th>\n",
       "      <td>100</td>\n",
       "      <td>10</td>\n",
       "      <td>0.039061</td>\n",
       "      <td>0.000552</td>\n",
       "      <td>0.034500</td>\n",
       "    </tr>\n",
       "    <tr>\n",
       "      <th>1</th>\n",
       "      <td>100</td>\n",
       "      <td>50</td>\n",
       "      <td>0.080573</td>\n",
       "      <td>0.000782</td>\n",
       "      <td>0.036390</td>\n",
       "    </tr>\n",
       "    <tr>\n",
       "      <th>2</th>\n",
       "      <td>100</td>\n",
       "      <td>100</td>\n",
       "      <td>0.116636</td>\n",
       "      <td>0.000869</td>\n",
       "      <td>0.044772</td>\n",
       "    </tr>\n",
       "    <tr>\n",
       "      <th>3</th>\n",
       "      <td>1000</td>\n",
       "      <td>10</td>\n",
       "      <td>0.370410</td>\n",
       "      <td>0.039568</td>\n",
       "      <td>0.048975</td>\n",
       "    </tr>\n",
       "    <tr>\n",
       "      <th>4</th>\n",
       "      <td>1000</td>\n",
       "      <td>50</td>\n",
       "      <td>0.890298</td>\n",
       "      <td>0.038236</td>\n",
       "      <td>0.073963</td>\n",
       "    </tr>\n",
       "    <tr>\n",
       "      <th>5</th>\n",
       "      <td>1000</td>\n",
       "      <td>100</td>\n",
       "      <td>1.396278</td>\n",
       "      <td>0.036715</td>\n",
       "      <td>0.111090</td>\n",
       "    </tr>\n",
       "    <tr>\n",
       "      <th>6</th>\n",
       "      <td>10000</td>\n",
       "      <td>10</td>\n",
       "      <td>12.469248</td>\n",
       "      <td>3.950357</td>\n",
       "      <td>0.204412</td>\n",
       "    </tr>\n",
       "    <tr>\n",
       "      <th>7</th>\n",
       "      <td>10000</td>\n",
       "      <td>50</td>\n",
       "      <td>18.268735</td>\n",
       "      <td>4.207087</td>\n",
       "      <td>0.572581</td>\n",
       "    </tr>\n",
       "    <tr>\n",
       "      <th>8</th>\n",
       "      <td>10000</td>\n",
       "      <td>100</td>\n",
       "      <td>22.407984</td>\n",
       "      <td>3.887054</td>\n",
       "      <td>1.203879</td>\n",
       "    </tr>\n",
       "    <tr>\n",
       "      <th>9</th>\n",
       "      <td>100000</td>\n",
       "      <td>10</td>\n",
       "      <td>982.295030</td>\n",
       "      <td>384.617979</td>\n",
       "      <td>2.502535</td>\n",
       "    </tr>\n",
       "    <tr>\n",
       "      <th>10</th>\n",
       "      <td>100000</td>\n",
       "      <td>50</td>\n",
       "      <td>1044.300481</td>\n",
       "      <td>390.148317</td>\n",
       "      <td>10.385360</td>\n",
       "    </tr>\n",
       "    <tr>\n",
       "      <th>11</th>\n",
       "      <td>100000</td>\n",
       "      <td>100</td>\n",
       "      <td>1096.303739</td>\n",
       "      <td>390.333297</td>\n",
       "      <td>19.684208</td>\n",
       "    </tr>\n",
       "  </tbody>\n",
       "</table>\n",
       "</div>"
      ],
      "text/plain": [
       "     users  top_k        naive       numba     pandas\n",
       "0      100     10     0.039061    0.000552   0.034500\n",
       "1      100     50     0.080573    0.000782   0.036390\n",
       "2      100    100     0.116636    0.000869   0.044772\n",
       "3     1000     10     0.370410    0.039568   0.048975\n",
       "4     1000     50     0.890298    0.038236   0.073963\n",
       "5     1000    100     1.396278    0.036715   0.111090\n",
       "6    10000     10    12.469248    3.950357   0.204412\n",
       "7    10000     50    18.268735    4.207087   0.572581\n",
       "8    10000    100    22.407984    3.887054   1.203879\n",
       "9   100000     10   982.295030  384.617979   2.502535\n",
       "10  100000     50  1044.300481  390.148317  10.385360\n",
       "11  100000    100  1096.303739  390.333297  19.684208"
      ]
     },
     "execution_count": 20,
     "metadata": {},
     "output_type": "execute_result"
    }
   ],
   "source": [
    "data = pd.DataFrame(data)\n",
    "data"
   ]
  },
  {
   "cell_type": "code",
   "execution_count": 21,
   "id": "e625075b",
   "metadata": {},
   "outputs": [],
   "source": [
    "users_groups = data.groupby('users')\n",
    "top_k_groups = data.groupby('top_k')"
   ]
  },
  {
   "cell_type": "code",
   "execution_count": 22,
   "id": "efed2b91",
   "metadata": {},
   "outputs": [
    {
     "name": "stdout",
     "output_type": "stream",
     "text": [
      "   users  top_k     naive     numba    pandas\n",
      "0    100     10  0.039061  0.000552  0.034500\n",
      "1    100     50  0.080573  0.000782  0.036390\n",
      "2    100    100  0.116636  0.000869  0.044772\n",
      "   users  top_k     naive     numba    pandas\n",
      "3   1000     10  0.370410  0.039568  0.048975\n",
      "4   1000     50  0.890298  0.038236  0.073963\n",
      "5   1000    100  1.396278  0.036715  0.111090\n",
      "   users  top_k      naive     numba    pandas\n",
      "6  10000     10  12.469248  3.950357  0.204412\n",
      "7  10000     50  18.268735  4.207087  0.572581\n",
      "8  10000    100  22.407984  3.887054  1.203879\n",
      "     users  top_k        naive       numba     pandas\n",
      "9   100000     10   982.295030  384.617979   2.502535\n",
      "10  100000     50  1044.300481  390.148317  10.385360\n",
      "11  100000    100  1096.303739  390.333297  19.684208\n"
     ]
    }
   ],
   "source": [
    "for i, (k, g) in enumerate(users_groups):\n",
    "    print(g)"
   ]
  },
  {
   "cell_type": "code",
   "execution_count": 23,
   "id": "65dc18bd",
   "metadata": {},
   "outputs": [
    {
     "data": {
      "image/png": "[encoded data removed]",
      "text/plain": [
       "<Figure size 2000x400 with 4 Axes>"
      ]
     },
     "metadata": {},
     "output_type": "display_data"
    }
   ],
   "source": [
    "fig, axs = plt.subplots(1, 4, figsize=(20, 4))\n",
    "for i, (k, g) in enumerate(users_groups):\n",
    "    axs[i].plot(g['top_k'], g['naive'], label='Naive')\n",
    "    axs[i].plot(g['top_k'], g['numba'], label='Numba')\n",
    "    axs[i].plot(g['top_k'], g['pandas'], label='Pandas')\n",
    "    axs[i].set_xlabel('top k')\n",
    "    axs[i].set_ylabel('time (s)')\n",
    "    axs[i].set_title(f'Users {k}')\n",
    "    axs[i].legend()\n",
    "plt.show()"
   ]
  },
  {
   "cell_type": "markdown",
   "id": "fdae33c9",
   "metadata": {},
   "source": [
    "В силу того, что количество рекомендаций в целом не особенно большое, то изменение их числа скорее влияет на вычеслительные мощности при малом количестве юзеров. Чем больше юзеров, тем, как видно, разница между влияением разного количества рекомендаций несущественная. Но и разница в порядках чисел (количества рекомендаций и количества юзеров) явно очень большая."
   ]
  },
  {
   "cell_type": "code",
   "execution_count": 24,
   "id": "22e4718d",
   "metadata": {},
   "outputs": [
    {
     "data": {
      "image/png": "[encoded data removed]",
      "text/plain": [
       "<Figure size 2000x400 with 3 Axes>"
      ]
     },
     "metadata": {},
     "output_type": "display_data"
    }
   ],
   "source": [
    "fig, axs = plt.subplots(1, 3, figsize=(20, 4))\n",
    "for i, (k, g) in enumerate(top_k_groups):\n",
    "    axs[i].plot(g['users'], g['naive'], label='Naive')\n",
    "    axs[i].plot(g['users'], g['numba'], label='Numba')\n",
    "    axs[i].plot(g['users'], g['pandas'], label='Pandas')\n",
    "    axs[i].set_xlabel('users')\n",
    "    axs[i].set_ylabel('time (s)')\n",
    "    axs[i].set_title(f'Top k {k}')\n",
    "    axs[i].legend()\n",
    "plt.show()"
   ]
  },
  {
   "cell_type": "markdown",
   "id": "26f030ae",
   "metadata": {},
   "source": [
    "Это же можно увидеть и на графике при статичном количестве рекомендаций, по крайней мере на этих примерах видно, как линейно возрастает время расчета при любом топ рекомендаций с увеличением юзеров."
   ]
  },
  {
   "cell_type": "code",
   "execution_count": null,
   "id": "d93a6787",
   "metadata": {},
   "outputs": [],
   "source": []
  }
 ],
 "metadata": {
  "kernelspec": {
   "display_name": "Python 3 (ipykernel)",
   "language": "python",
   "name": "python3"
  },
  "language_info": {
   "codemirror_mode": {
    "name": "ipython",
    "version": 3
   },
   "file_extension": ".py",
   "mimetype": "text/x-python",
   "name": "python",
   "nbconvert_exporter": "python",
   "pygments_lexer": "ipython3",
   "version": "3.8.10"
  },
  "toc": {
   "base_numbering": 1,
   "nav_menu": {},
   "number_sections": true,
   "sideBar": true,
   "skip_h1_title": true,
   "title_cell": "Table of Contents",
   "title_sidebar": "Contents",
   "toc_cell": false,
   "toc_position": {
    "height": "calc(100% - 180px)",
    "left": "10px",
    "top": "150px",
    "width": "221px"
   },
   "toc_section_display": true,
   "toc_window_display": true
  }
 },
 "nbformat": 4,
 "nbformat_minor": 5
}
