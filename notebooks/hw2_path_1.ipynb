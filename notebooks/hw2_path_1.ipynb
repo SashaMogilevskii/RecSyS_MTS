{
 "metadata": {
  "kernelspec": {
   "language": "python",
   "display_name": "Python 3",
   "name": "python3"
  },
  "language_info": {
   "name": "python",
   "version": "3.7.12",
   "mimetype": "text/x-python",
   "codemirror_mode": {
    "name": "ipython",
    "version": 3
   },
   "pygments_lexer": "ipython3",
   "nbconvert_exporter": "python",
   "file_extension": ".py"
  }
 },
 "nbformat_minor": 4,
 "nbformat": 4,
 "cells": [
  {
   "cell_type": "markdown",
   "source": [
    "<div style=\"border-width:1; border-radius: 15px; border-style: solid; border-color: rgb(10, 10, 10); background-color: #91D6EF; text-align: center;font: 14pt 'Candara';font-weight:bold;\"><h1>Import lib</h1></div>"
   ],
   "metadata": {}
  },
  {
   "cell_type": "code",
   "source": [
    "import os\n",
    "import sys\n",
    "\n",
    "import numpy as np\n",
    "import gc\n",
    "import pandas as pd\n",
    "\n",
    "from tqdm.notebook import tqdm\n",
    "from sklearn.model_selection import KFold"
   ],
   "metadata": {
    "execution": {
     "iopub.status.busy": "2022-12-03T13:34:23.422212Z",
     "iopub.execute_input": "2022-12-03T13:34:23.422636Z",
     "iopub.status.idle": "2022-12-03T13:34:24.112658Z",
     "shell.execute_reply.started": "2022-12-03T13:34:23.422605Z",
     "shell.execute_reply": "2022-12-03T13:34:24.111469Z"
    },
    "trusted": true
   },
   "execution_count": 2,
   "outputs": []
  },
  {
   "cell_type": "code",
   "source": [
    "# If the library is not installed - unlock the field (for download from google disk)\n",
    "!{sys.executable} -m pip install gdown"
   ],
   "metadata": {
    "collapsed": false,
    "jupyter": {
     "outputs_hidden": false
    },
    "execution": {
     "iopub.status.busy": "2022-12-03T13:34:24.117583Z",
     "iopub.execute_input": "2022-12-03T13:34:24.117944Z",
     "iopub.status.idle": "2022-12-03T13:34:37.886512Z",
     "shell.execute_reply.started": "2022-12-03T13:34:24.117912Z",
     "shell.execute_reply": "2022-12-03T13:34:37.884700Z"
    },
    "trusted": true
   },
   "execution_count": 3,
   "outputs": [
    {
     "name": "stdout",
     "text": "Collecting gdown\n  Downloading gdown-4.5.4-py3-none-any.whl (14 kB)\nRequirement already satisfied: filelock in /opt/conda/lib/python3.7/site-packages (from gdown) (3.7.1)\nRequirement already satisfied: six in /opt/conda/lib/python3.7/site-packages (from gdown) (1.15.0)\nRequirement already satisfied: beautifulsoup4 in /opt/conda/lib/python3.7/site-packages (from gdown) (4.11.1)\nRequirement already satisfied: tqdm in /opt/conda/lib/python3.7/site-packages (from gdown) (4.64.0)\nRequirement already satisfied: requests[socks] in /opt/conda/lib/python3.7/site-packages (from gdown) (2.28.1)\nRequirement already satisfied: soupsieve>1.2 in /opt/conda/lib/python3.7/site-packages (from beautifulsoup4->gdown) (2.3.1)\nRequirement already satisfied: certifi>=2017.4.17 in /opt/conda/lib/python3.7/site-packages (from requests[socks]->gdown) (2022.9.24)\nRequirement already satisfied: charset-normalizer<3,>=2 in /opt/conda/lib/python3.7/site-packages (from requests[socks]->gdown) (2.1.0)\nRequirement already satisfied: urllib3<1.27,>=1.21.1 in /opt/conda/lib/python3.7/site-packages (from requests[socks]->gdown) (1.26.12)\nRequirement already satisfied: idna<4,>=2.5 in /opt/conda/lib/python3.7/site-packages (from requests[socks]->gdown) (3.3)\nRequirement already satisfied: PySocks!=1.5.7,>=1.5.6 in /opt/conda/lib/python3.7/site-packages (from requests[socks]->gdown) (1.7.1)\nInstalling collected packages: gdown\nSuccessfully installed gdown-4.5.4\n\u001B[33mWARNING: Running pip as the 'root' user can result in broken permissions and conflicting behaviour with the system package manager. It is recommended to use a virtual environment instead: https://pip.pypa.io/warnings/venv\u001B[0m\u001B[33m\n\u001B[0m",
     "output_type": "stream"
    }
   ]
  },
  {
   "cell_type": "markdown",
   "source": [
    "<div style=\"border-width:1; border-radius: 15px; border-style: solid; border-color: rgb(10, 10, 10); background-color: #91D6EF; text-align: center;font: 14pt 'Candara';font-weight:bold;\"><h1>Load data</h1></div>"
   ],
   "metadata": {}
  },
  {
   "cell_type": "code",
   "source": [
    "# Download lides_data.zip\n",
    "!gdown --id 1CqOrYqsj_wb4NKNBNF7Cc_cZ9WuF7T9Q"
   ],
   "metadata": {
    "collapsed": false,
    "jupyter": {
     "outputs_hidden": false
    },
    "execution": {
     "iopub.status.busy": "2022-12-03T13:34:37.889036Z",
     "iopub.execute_input": "2022-12-03T13:34:37.889653Z",
     "iopub.status.idle": "2022-12-03T13:34:42.967707Z",
     "shell.execute_reply.started": "2022-12-03T13:34:37.889588Z",
     "shell.execute_reply": "2022-12-03T13:34:42.965711Z"
    },
    "trusted": true
   },
   "execution_count": 4,
   "outputs": [
    {
     "name": "stdout",
     "text": "/opt/conda/lib/python3.7/site-packages/gdown/cli.py:125: FutureWarning: Option `--id` was deprecated in version 4.3.1 and will be removed in 5.0. You don't need to pass it anymore to use a file ID.\n  category=FutureWarning,\nDownloading...\nFrom: https://drive.google.com/uc?id=1CqOrYqsj_wb4NKNBNF7Cc_cZ9WuF7T9Q\nTo: /kaggle/working/likes_data.zip\n100%|█████████████████████████████████████████| 362M/362M [00:02<00:00, 167MB/s]\n",
     "output_type": "stream"
    }
   ]
  },
  {
   "cell_type": "code",
   "source": [
    "# Unzip lides_data.zip\n",
    "!unzip likes_data.zip"
   ],
   "metadata": {
    "collapsed": false,
    "jupyter": {
     "outputs_hidden": false
    },
    "execution": {
     "iopub.status.busy": "2022-12-03T13:34:42.971080Z",
     "iopub.execute_input": "2022-12-03T13:34:42.971587Z",
     "iopub.status.idle": "2022-12-03T13:34:53.290155Z",
     "shell.execute_reply.started": "2022-12-03T13:34:42.971543Z",
     "shell.execute_reply": "2022-12-03T13:34:53.289154Z"
    },
    "trusted": true
   },
   "execution_count": 5,
   "outputs": [
    {
     "name": "stdout",
     "text": "Archive:  likes_data.zip\n  inflating: test                    \n  inflating: __MACOSX/._test         \n  inflating: track_artists.csv       \n  inflating: train                   \n  inflating: __MACOSX/._train        \n",
     "output_type": "stream"
    }
   ]
  },
  {
   "cell_type": "markdown",
   "source": [
    "<div style=\"border-width:1; border-radius: 15px; border-style: solid; border-color: rgb(10, 10, 10); background-color: #91D6EF; text-align: center;font: 14pt 'Candara';font-weight:bold;\"><h1>Task 1</h1></div>"
   ],
   "metadata": {}
  },
  {
   "cell_type": "markdown",
   "source": [
    "## Промежуточная задача - преобразовать данные в pandas.DataFrame вида {user, item, order}, где order - порядковый номер с конца (0 - самый \"свежий\" лайк, чем больше order, тем позже был поставлен лайк)"
   ],
   "metadata": {}
  },
  {
   "cell_type": "code",
   "source": [
    "# Create df from data\n",
    "columns_user_id = []\n",
    "columns_items_id = []\n",
    "\n",
    "with open('train') as f:\n",
    "\n",
    "    lines = f.readlines()\n",
    "\n",
    "    for user, line in enumerate(tqdm(range(len(lines)))):\n",
    "        items_likes = [int(i) for i in lines[line].strip().split(' ')][::-1]\n",
    "        user_id = [user] * len(items_likes)\n",
    "        columns_user_id.extend(user_id)\n",
    "        columns_items_id.extend(items_likes)\n",
    "\n",
    "df = pd.DataFrame({\n",
    "    'user_id': columns_user_id,\n",
    "    'items_id': columns_items_id\n",
    "})"
   ],
   "metadata": {
    "execution": {
     "iopub.status.busy": "2022-12-03T13:34:53.292261Z",
     "iopub.execute_input": "2022-12-03T13:34:53.293403Z",
     "iopub.status.idle": "2022-12-03T13:36:27.317122Z",
     "shell.execute_reply.started": "2022-12-03T13:34:53.293352Z",
     "shell.execute_reply": "2022-12-03T13:36:27.314078Z"
    },
    "trusted": true
   },
   "execution_count": 6,
   "outputs": [
    {
     "output_type": "display_data",
     "data": {
      "text/plain": "  0%|          | 0/1160084 [00:00<?, ?it/s]",
      "application/vnd.jupyter.widget-view+json": {
       "version_major": 2,
       "version_minor": 0,
       "model_id": "092dd194580a427587634e5cf0a3e354"
      }
     },
     "metadata": {}
    }
   ]
  },
  {
   "cell_type": "code",
   "source": [
    "df.head()"
   ],
   "metadata": {
    "execution": {
     "iopub.status.busy": "2022-12-03T13:36:27.320714Z",
     "iopub.execute_input": "2022-12-03T13:36:27.321223Z",
     "iopub.status.idle": "2022-12-03T13:36:27.358527Z",
     "shell.execute_reply.started": "2022-12-03T13:36:27.321179Z",
     "shell.execute_reply": "2022-12-03T13:36:27.357102Z"
    },
    "trusted": true
   },
   "execution_count": 7,
   "outputs": [
    {
     "execution_count": 7,
     "output_type": "execute_result",
     "data": {
      "text/plain": "   user_id  items_id\n0        0    388242\n1        0    278503\n2        0    102795\n3        0    470957\n4        0    159637",
      "text/html": "<div>\n<style scoped>\n    .dataframe tbody tr th:only-of-type {\n        vertical-align: middle;\n    }\n\n    .dataframe tbody tr th {\n        vertical-align: top;\n    }\n\n    .dataframe thead th {\n        text-align: right;\n    }\n</style>\n<table border=\"1\" class=\"dataframe\">\n  <thead>\n    <tr style=\"text-align: right;\">\n      <th></th>\n      <th>user_id</th>\n      <th>items_id</th>\n    </tr>\n  </thead>\n  <tbody>\n    <tr>\n      <th>0</th>\n      <td>0</td>\n      <td>388242</td>\n    </tr>\n    <tr>\n      <th>1</th>\n      <td>0</td>\n      <td>278503</td>\n    </tr>\n    <tr>\n      <th>2</th>\n      <td>0</td>\n      <td>102795</td>\n    </tr>\n    <tr>\n      <th>3</th>\n      <td>0</td>\n      <td>470957</td>\n    </tr>\n    <tr>\n      <th>4</th>\n      <td>0</td>\n      <td>159637</td>\n    </tr>\n  </tbody>\n</table>\n</div>"
     },
     "metadata": {}
    }
   ]
  },
  {
   "cell_type": "code",
   "source": [
    "df['order'] = df.groupby('user_id').cumcount()\n",
    "df.head()"
   ],
   "metadata": {
    "execution": {
     "iopub.status.busy": "2022-12-03T13:36:27.360611Z",
     "iopub.execute_input": "2022-12-03T13:36:27.362117Z",
     "iopub.status.idle": "2022-12-03T13:36:35.811187Z",
     "shell.execute_reply.started": "2022-12-03T13:36:27.362051Z",
     "shell.execute_reply": "2022-12-03T13:36:35.809987Z"
    },
    "trusted": true
   },
   "execution_count": 8,
   "outputs": [
    {
     "execution_count": 8,
     "output_type": "execute_result",
     "data": {
      "text/plain": "   user_id  items_id  order\n0        0    388242      0\n1        0    278503      1\n2        0    102795      2\n3        0    470957      3\n4        0    159637      4",
      "text/html": "<div>\n<style scoped>\n    .dataframe tbody tr th:only-of-type {\n        vertical-align: middle;\n    }\n\n    .dataframe tbody tr th {\n        vertical-align: top;\n    }\n\n    .dataframe thead th {\n        text-align: right;\n    }\n</style>\n<table border=\"1\" class=\"dataframe\">\n  <thead>\n    <tr style=\"text-align: right;\">\n      <th></th>\n      <th>user_id</th>\n      <th>items_id</th>\n      <th>order</th>\n    </tr>\n  </thead>\n  <tbody>\n    <tr>\n      <th>0</th>\n      <td>0</td>\n      <td>388242</td>\n      <td>0</td>\n    </tr>\n    <tr>\n      <th>1</th>\n      <td>0</td>\n      <td>278503</td>\n      <td>1</td>\n    </tr>\n    <tr>\n      <th>2</th>\n      <td>0</td>\n      <td>102795</td>\n      <td>2</td>\n    </tr>\n    <tr>\n      <th>3</th>\n      <td>0</td>\n      <td>470957</td>\n      <td>3</td>\n    </tr>\n    <tr>\n      <th>4</th>\n      <td>0</td>\n      <td>159637</td>\n      <td>4</td>\n    </tr>\n  </tbody>\n</table>\n</div>"
     },
     "metadata": {}
    }
   ]
  },
  {
   "cell_type": "code",
   "source": [
    "df.to_csv('data.csv', index=False)"
   ],
   "metadata": {
    "execution": {
     "iopub.status.busy": "2022-12-03T13:36:35.813059Z",
     "iopub.execute_input": "2022-12-03T13:36:35.813519Z",
     "iopub.status.idle": "2022-12-03T13:39:23.471066Z",
     "shell.execute_reply.started": "2022-12-03T13:36:35.813484Z",
     "shell.execute_reply": "2022-12-03T13:39:23.469129Z"
    },
    "trusted": true
   },
   "execution_count": 9,
   "outputs": []
  },
  {
   "cell_type": "markdown",
   "source": [
    "<div style=\"border-width:1; border-radius: 15px; border-style: solid; border-color: rgb(10, 10, 10); background-color: #91D6EF; text-align: center;font: 14pt 'Candara';font-weight:bold;\"><h1>Task 2</h1></div>"
   ],
   "metadata": {}
  },
  {
   "cell_type": "markdown",
   "source": [
    "# Итоговая задача - построить схему валидации для данного соревнования с учетом особенностей сорвенования\n",
    "\n",
    "## Между train и test не должно быть общих пользователей\n",
    "## Количество фолдов задается через параметр класса n_folds\n",
    "## В test должно быть не более p последних треков (параметр класса p)"
   ],
   "metadata": {}
  },
  {
   "cell_type": "code",
   "source": [
    "class UsersKFoldPOut():\n",
    "\n",
    "    def __init__(self, n_folds: int, p: int, random_seed: int=23):\n",
    "        self.n_folds = n_folds\n",
    "        self.p = p\n",
    "        self.rd_seed = random_seed\n",
    "\n",
    "    def split(self, df: pd.DataFrame):\n",
    "\n",
    "        list_users = df['user_id'].unique()\n",
    "        kf = KFold(n_splits=self.n_folds,\n",
    "                   shuffle=True,\n",
    "                   random_state=self.rd_seed)\n",
    "\n",
    "        for train_index, test_index in kf.split(list_users):\n",
    "            # Kfold возвращает индексы юзеров. Создадим списки с users_id\n",
    "            train_users, test_users = np.take(list_users, train_index), np.take(list_users, test_index)\n",
    "            # Получим наше разбитие на тренировочный и валидационный\n",
    "            mask_train = df['user_id'].isin(train_users)\n",
    "            mask_test = (df['user_id'].isin(test_users)) & (df['order'] < self.p)\n",
    "            yield mask_train, mask_test\n",
    "\n"
   ],
   "metadata": {
    "execution": {
     "iopub.status.busy": "2022-12-03T13:39:23.473826Z",
     "iopub.execute_input": "2022-12-03T13:39:23.474347Z",
     "iopub.status.idle": "2022-12-03T13:39:23.487338Z",
     "shell.execute_reply.started": "2022-12-03T13:39:23.474303Z",
     "shell.execute_reply": "2022-12-03T13:39:23.485514Z"
    },
    "trusted": true
   },
   "execution_count": 10,
   "outputs": []
  },
  {
   "cell_type": "code",
   "source": [
    "count_users = df['user_id'].nunique()\n",
    "print('Кол-во юзеров в начальном датафрейме', count_users)"
   ],
   "metadata": {
    "execution": {
     "iopub.status.busy": "2022-12-03T13:41:23.320873Z",
     "iopub.execute_input": "2022-12-03T13:41:23.321457Z",
     "iopub.status.idle": "2022-12-03T13:41:23.953711Z",
     "shell.execute_reply.started": "2022-12-03T13:41:23.321415Z",
     "shell.execute_reply": "2022-12-03T13:41:23.952051Z"
    },
    "trusted": true
   },
   "execution_count": 14,
   "outputs": [
    {
     "name": "stdout",
     "text": "Кол-во юзеров 1160084\n",
     "output_type": "stream"
    }
   ]
  },
  {
   "cell_type": "code",
   "source": [
    "p = 1\n",
    "cv = UsersKFoldPOut(n_folds=3, p=p)\n",
    "interactions = df\n",
    "for i, (train_mask, test_mask) in enumerate(cv.split(interactions)):\n",
    "\n",
    "    train = interactions[train_mask]\n",
    "    test = interactions[test_mask]\n",
    "\n",
    "    total_users = set(train['user_id'].unique()).intersection(test['user_id'].unique())\n",
    "    \n",
    "    \n",
    "    count_users_KFold = train['user_id'].nunique() + test['user_id'].nunique()\n",
    "\n",
    "    \n",
    "    # Проверка на отсуствие совпадений юзеров в train и val частях\n",
    "    check_1 = (\n",
    "        len(total_users) == 0,\n",
    "        f\"Users {total_users} in train and test\"\n",
    "    )\n",
    "    # Проверка на условие что кол-во значений не превышает p\n",
    "    check_2 = (\n",
    "        test['user_id'].values.max() <= p,\n",
    "        'More than p tracks for user in test'\n",
    "    )\n",
    "    \n",
    "    check_3 = (\n",
    "        count_users == count_users_KFold,\n",
    "        'Not all user used!'\n",
    "    )\n",
    "    assert check_1\n",
    "    assert check_2\n",
    "    assert check_3\n",
    "    \n",
    "    print(f'Fold#{i} | Train: {train.shape[0]}, Test: {test.shape[0]}')"
   ],
   "metadata": {
    "execution": {
     "iopub.status.busy": "2022-12-03T13:47:17.803616Z",
     "iopub.execute_input": "2022-12-03T13:47:17.804167Z",
     "iopub.status.idle": "2022-12-03T13:47:33.199812Z",
     "shell.execute_reply.started": "2022-12-03T13:47:17.804129Z",
     "shell.execute_reply": "2022-12-03T13:47:33.198380Z"
    },
    "trusted": true
   },
   "execution_count": 20,
   "outputs": [
    {
     "name": "stdout",
     "text": "Fold#0 | Train: 62769950, Test: 386695\nFold#1 | Train: 62749697, Test: 386695\nFold#2 | Train: 62857621, Test: 386694\n",
     "output_type": "stream"
    }
   ]
  },
  {
   "cell_type": "code",
   "source": [],
   "metadata": {},
   "execution_count": null,
   "outputs": []
  }
 ]
}
